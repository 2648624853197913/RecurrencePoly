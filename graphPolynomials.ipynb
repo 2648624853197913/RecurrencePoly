{
 "cells": [
  {
   "cell_type": "code",
   "execution_count": 1,
   "metadata": {},
   "outputs": [],
   "source": [
    "import IPython.display as disp\n",
    "import numpy as np\n",
    "import sympy as sp\n",
    "import networkx as nx\n",
    "import networkx.algorithms.isomorphism as iso\n",
    "import random\n",
    "import itertools\n",
    "import matplotlib.pyplot as plt\n",
    "import timeit\n",
    "import math\n",
    "from lovasz import *"
   ]
  },
  {
   "cell_type": "code",
   "execution_count": 2,
   "metadata": {},
   "outputs": [],
   "source": [
    "# functions to calculate graph polynomials\n",
    "\n",
    "# walk count sequence until length n\n",
    "def generate_walk_count(matrix, n=None, v=None, w=None):\n",
    "    if len(matrix.shape) != 2 or matrix.shape[0] != matrix.shape[1]:\n",
    "        print(\"not a square matrix\")\n",
    "        return\n",
    "    if n == None:\n",
    "        n = matrix.shape[0]\n",
    "    if v == None:\n",
    "        v = sp.ones(matrix.shape[0],1)\n",
    "    if w == None:\n",
    "        w = sp.ones(matrix.shape[0],1)\n",
    "    walk_count = []\n",
    "    walks = sp.eye(matrix.shape[0])\n",
    "    # the walk count r equals the sum over all elements in the adjacency matrix to the power r\n",
    "    walk_count.append((v.T*walks*w)[0,0])\n",
    "    for i in range(1,n):\n",
    "        walks = walks * matrix\n",
    "        walk_count.append((v.T*walks*w)[0,0])\n",
    "    return walk_count\n",
    "\n",
    "#closed walk count sequence until length n\n",
    "def generate_closed_walk_count(matrix, n):\n",
    "    walk_count = []\n",
    "    walks = sp.eye(matrix.shape[0])\n",
    "    # the closed walk count r equals the trace of the adjacency matrix to the power r\n",
    "    walk_count.append(sp.trace(walks))\n",
    "    for i in range(1,n+1):\n",
    "        walks = walks * matrix\n",
    "        walk_count.append(sp.trace(walks))\n",
    "    return walk_count\n",
    "\n",
    "# calculates how many walks the node v produces relative to the total walk count\n",
    "# importance is equal to the number of walks of length n-1 ending in v multiplied with the degree of v\n",
    "def relative_importance(g, v, n, part=None, weighted=True):\n",
    "    if part == None:\n",
    "        part = [[i] for i in range(g.shape[0])]\n",
    "    complete_partition(g, part)\n",
    "    size = g.shape[0]\n",
    "    g = partition(g, part)\n",
    "    card = sp.Matrix([len(p) for p in part]).T\n",
    "    #card = sp.Matrix([1 for p in part]).T\n",
    "    d = 1\n",
    "    if weighted:\n",
    "        d = sum(g[v, :])\n",
    "    rel_imp = [(d * card[v]) / sum(card)]\n",
    "    walks = g\n",
    "    for i in range(n-1):\n",
    "        imp = sum((card * walks)[:, v]) * d\n",
    "        rel_imp.append(imp / sum(card * walks))\n",
    "        walks = walks * g\n",
    "    return rel_imp\n",
    "\n",
    "# calculates the minimal polynomial of a graph\n",
    "def minimal_poly(matrix,x=sp.symbols(\"x\"), v=None, w=None):\n",
    "    if len(matrix.shape) != 2 or matrix.shape[0] != matrix.shape[1]:\n",
    "        print(\"not a square matrix\")\n",
    "        return\n",
    "    # calculate characteristic poly\n",
    "    charPoly = matrix.charpoly(x)\n",
    "    factors = sp.factor_list(charPoly.as_expr())\n",
    "    minPoly = 1\n",
    "    # multiply all factors of the characteristic polynomial\n",
    "    # sp.factor_list only returns irreducible factors without multiplicity\n",
    "    for i in range(len(factors[1])):\n",
    "        minPoly *= factors[1][i][0]\n",
    "    min_resid = residual(matrix, minPoly, v=v, w=w)\n",
    "    return minPoly.expand(), min_resid\n",
    "\n",
    "# returns the residual of a sequence relative to the given polynomial\n",
    "# in other words, the image of the given sequence under the mapping Z^\\infty \\to Z[x]/(f)\n",
    "def residual_seq(sequence, poly, x=sp.symbols(\"x\"), n=None):\n",
    "    d = sp.degree(poly)\n",
    "    if n == None:\n",
    "        n = d\n",
    "    while len(sequence) < d:\n",
    "        sequence.append(0)\n",
    "    coeffs = poly.as_poly().all_coeffs()\n",
    "    res = 0\n",
    "    for i in range(d):\n",
    "        coeff = sequence[i]\n",
    "        for j in range(1,i+1):\n",
    "            coeff += coeffs[j]*sequence[i-j]\n",
    "        res += coeff*x**(d-i-1)\n",
    "    return res\n",
    "\n",
    "#converts the given residual to a linear recurrent sequence of given length with respect to the given poly\n",
    "def residual_to_sequence(res, poly, var=None, n=None):\n",
    "    if n == None:\n",
    "        n = sp.degree(poly)\n",
    "    if var == None:\n",
    "        var = x\n",
    "    if sp.degree(res) >= sp.degree(poly):\n",
    "        print(\"too large degree\")\n",
    "        return\n",
    "    seq = []\n",
    "    leading = poly.coeff(var**(sp.degree(poly)))\n",
    "    for i in range(n):\n",
    "        s = 0\n",
    "        for k in range(min(i, sp.degree(poly))):\n",
    "            c = 0\n",
    "            if k < sp.degree(poly) - 1:\n",
    "                c = poly.coeff(var**(sp.degree(poly) - k - 1))\n",
    "            elif k == sp.degree(poly) - 1:\n",
    "                c = poly.subs(x,0)\n",
    "            s += c * seq[i - k - 1]\n",
    "        c = 0\n",
    "        if i < sp.degree(poly) - 1:\n",
    "            c = res.coeff(var**(sp.degree(poly) - i - 1))\n",
    "        elif i == sp.degree(poly) - 1:\n",
    "            c = res.subs(x,0)\n",
    "        seq.append((c - s)/leading)\n",
    "    return seq    \n",
    "            \n",
    "\n",
    "# wrapper around the residual for matrices instead of sequences\n",
    "def residual(matrix, poly=None, x=sp.symbols(\"x\"), v=None, w=None):\n",
    "    if poly == None:\n",
    "        poly = matrix.charpoly(x).as_expr()\n",
    "    walk_count = generate_walk_count(matrix, sp.degree(poly), v=v, w=w)\n",
    "    return residual_seq(walk_count, poly, x)\n",
    "\n",
    "#same for closed walks\n",
    "def residual_closed(matrix, poly, x=sp.symbols(\"x\")):\n",
    "    closed_walk_count = generate_closed_walk_count(matrix, sp.degree(poly))\n",
    "    return residual_seq(closed_walk_count, poly, x)\n",
    "\n",
    "#returns a matrix consisting of the residuals of the given graph\n",
    "def residuals_matrix(g, expanded=False):\n",
    "    cp_tmp = g.charpoly(x).as_expr()\n",
    "    n_tmp = sp.shape(g)[0]\n",
    "    res = sp.zeros(n_tmp, n_tmp)\n",
    "    for i in range(n_tmp):\n",
    "        for j in range(n_tmp):\n",
    "            r_ = residual(g, cp_tmp, x=x, v=e_(n_tmp,i), w=e_(n_tmp,j)).factor()\n",
    "            if expanded:\n",
    "                r_ = r_.expand()\n",
    "            res[i,j] = r_\n",
    "    return res\n",
    "\n",
    "# computes the recurrence polynomial of the given graph\n",
    "# the recurrence polynomial consists of all factors of the characteristic polynomial\n",
    "# which are not contained in the residual of the graphs walk count relative to its characteristic polynomial\n",
    "def recurrence_poly(matrix, x=sp.symbols(\"x\"), v=None, w=None, char_resid=None):\n",
    "    char_poly = matrix.charpoly(x).as_expr()\n",
    "    if char_resid == None:\n",
    "        char_resid = residual(matrix, char_poly, x=x, v=v, w=w)\n",
    "    if char_resid == 0:\n",
    "        return x ** 0, 0 * x\n",
    "    d = sp.degree(char_poly)\n",
    "    resid_factors = sp.factor_list(char_resid)\n",
    "    rec_poly = char_poly\n",
    "    rec_resid = char_resid\n",
    "    for fac in resid_factors[1]:\n",
    "        if sp.rem(char_poly, fac[0]) == 0:\n",
    "            quotient = sp.gcd(char_poly, fac[0]**fac[1])\n",
    "            rec_poly = sp.quo(rec_poly, quotient)\n",
    "            rec_resid = sp.quo(rec_resid, quotient)\n",
    "    return rec_poly, rec_resid\n",
    "\n",
    "# recurrence poly for closed walks\n",
    "def recurrence_closed(matrix, x=sp.symbols(\"x\")):\n",
    "    return recurrence_poly(matrix, x=x, char_resid=residual_closed(matrix, matrix.charpoly(x).as_expr()))\n",
    "\n",
    "# does what its name says...\n",
    "# produces latex code\n",
    "def pretty_poly_print(poly, name=None):\n",
    "    if name != None:\n",
    "        prefix = \"\\\\text{\" + name + \": }\"\n",
    "    else:\n",
    "        prefix = \"\"\n",
    "    string = prefix + sp.latex(poly.expand())\n",
    "    if not (poly.is_constant() or poly.as_poly().is_irreducible) or (not poly.is_constant() and sp.factor_list(poly.as_expr())[0] > 1):\n",
    "        string += \" = \" + sp.latex(poly.factor())\n",
    "    disp.display(disp.Math(string))\n",
    "\n",
    "# displays the characteristic polynomial, minimal polynomial, minimal residual,\n",
    "# recurrence polynomial, residual relative to recurrence polynomial\n",
    "# can show roots of the polynomials, can draw the graph\n",
    "def analyze(matrix,x=sp.symbols(\"x\"), show_graph=True, show_roots=False, draw_method=nx.draw_networkx, v=None, w=None):\n",
    "    if show_graph:\n",
    "        G = nx.from_numpy_matrix(np.matrix(matrix).astype(int))\n",
    "        draw_method(G)\n",
    "        plt.show()\n",
    "    char_poly = matrix.charpoly(x).as_expr()\n",
    "    char_resid = residual(matrix, char_poly, x=x, v=v, w=w)\n",
    "    min_poly, min_resid = minimal_poly(matrix, x, v=v, w=w)\n",
    "    rec_poly, rec_resid = recurrence_poly(matrix, x, v=v, w=w)\n",
    "    walk_count = generate_walk_count(matrix, sp.degree(min_poly), v=v, w=w)\n",
    "    walk_count_str = \"\\\\text{walk count sequence: \" + str(walk_count[0])\n",
    "    for i in range(1,len(walk_count)):\n",
    "        walk_count_str += \", \" + str(walk_count[i])\n",
    "    walk_count_str += \"}, \\\\ldots\"\n",
    "    disp.display(disp.Math(walk_count_str))\n",
    "    n = matrix.shape[0]\n",
    "    avg_deg = round(float(1 / n * sum([sum(matrix[i,:]) for i in range(n)])),6)\n",
    "    disp.display(disp.Math(\"\\\\text{average degree: }\" + str(avg_deg)))\n",
    "    pretty_poly_print(char_poly, \"characteristic polynomial\")\n",
    "    prefix = \"\" if v == None and w == None else \"local \"\n",
    "    pretty_poly_print(char_resid, prefix + \"characteristic residual\")\n",
    "    #pretty_poly_print(min_poly, \"minimal polynomial\")\n",
    "    pretty_poly_print(rec_poly, prefix + \"recurrence polynomial\")\n",
    "    if show_roots:\n",
    "        disp.display(disp.Math(\"\\\\text{recurrence roots: }\"\n",
    "                               + sp.latex(sp.roots(rec_poly))))\n",
    "    #prefix = \"graph\" if v == None and w == None else \"local\"\n",
    "    #pretty_poly_print(rec_resid, prefix + \" residual\")\n",
    "    if show_roots:\n",
    "        disp.display(disp.Math(\"\\\\text{residual roots: }\"\n",
    "                               + sp.latex(sp.roots(rec_resid))))\n",
    "        \n",
    "def matching_poly(g):\n",
    "    f = open(\"tempfile.sage\",\"w\")\n",
    "    g_str = str(g)\n",
    "    f.write(\"g = Graph(\"+g_str+\")\\n\")\n",
    "    f.write(\"print(g.matching_polynomial())\\n\")\n",
    "    #f.write(\"g.matching_polynomial()\")\n",
    "    f.close()\n",
    "    p = !sage tempfile.sage\n",
    "    !rm tempfile.sage\n",
    "    !rm tempfile.sage.py\n",
    "    return sp.parse_expr(p[0].replace('^', '**'))\n",
    "\n",
    "#i-th unit vector of length n\n",
    "def e_(n,i):\n",
    "    e_i = sp.zeros(n,1)\n",
    "    e_i[i,0] = 1\n",
    "    return e_i\n",
    "\n",
    "def deg(g, i):\n",
    "    return (e_(g.shape[0],i).T*g*sp.ones(g.shape[0],1))[0,0]\n",
    "        \n",
    "def analyze_uv(matrix, u, v, x=sp.symbols(\"x\"), show_graph=True, show_roots=False, draw_method=nx.draw_networkx):\n",
    "    e_u = e_(matrix.shape[0],u)\n",
    "    e_v = e_(matrix.shape[0],v)\n",
    "    analyze(matrix, x=x, show_graph=show_graph, show_roots=show_roots, draw_method=draw_method, v=e_u, w=e_v)"
   ]
  },
  {
   "cell_type": "code",
   "execution_count": 3,
   "metadata": {
    "scrolled": true
   },
   "outputs": [],
   "source": [
    "# graph sandbox\n",
    "\n",
    "# empty graph with n vertices\n",
    "def empty(n):\n",
    "    if n < 1:\n",
    "        return\n",
    "    return sp.zeros(n)\n",
    "\n",
    "# path\n",
    "def path(n):\n",
    "    if n < 2:\n",
    "        return\n",
    "    p_n = sp.zeros(n)\n",
    "    for i in range(n-1):\n",
    "        p_n[i,i+1] = 1\n",
    "        p_n[i+1,i] = 1\n",
    "    return p_n\n",
    "\n",
    "# circle\n",
    "# alternatively circulant(n,1)\n",
    "def circle(n):\n",
    "    if n < 2:\n",
    "        return\n",
    "    p_n = sp.zeros(n)\n",
    "    for i in range(n):\n",
    "        p_n[i,(i+1)%n] = 1\n",
    "        p_n[(i+1)%n,i] = 1\n",
    "    return p_n\n",
    "\n",
    "# circulant graph\n",
    "def circulant(n, neighbors):\n",
    "    if n < 2:\n",
    "        return\n",
    "    cg = sp.zeros(n)\n",
    "    for i in range(n):\n",
    "        for j in neighbors:\n",
    "            cg[i, (i + j) % n] = 1\n",
    "            cg[(i + j) % n, i] = 1\n",
    "            cg[i, (i - j) % n] = 1\n",
    "            cg[(i - j) % n, i] = 1\n",
    "    return cg\n",
    "\n",
    "# complete graph\n",
    "def complete(n):\n",
    "    if n < 2:\n",
    "        return\n",
    "    k_n = sp.ones(n) - sp.eye(n)\n",
    "    return k_n\n",
    "\n",
    "# star graph with n nodes\n",
    "# equivalently gen_star(n-1,1)\n",
    "def star(n):\n",
    "    if n < 2:\n",
    "        return\n",
    "    s_n = sp.zeros(n)\n",
    "    for i in range(n-1):\n",
    "        s_n[i,n-1] = 1\n",
    "        s_n[n-1,i] = 1\n",
    "    return s_n\n",
    "\n",
    "# more general star, each star arm has length k\n",
    "# graph consists of one center node with n arms of length k\n",
    "def gen_star(n, k):\n",
    "    if n < 1 or k < 1:\n",
    "        return\n",
    "    m = n * k + 1\n",
    "    g_nk = sp.zeros(m)\n",
    "    for i in range(n):\n",
    "        g_nk[i * k, m - 1] = 1\n",
    "        g_nk[m - 1, i * k] = 1\n",
    "        for j in range(1, k):\n",
    "            g_nk[i * k + j, i * k + j - 1] = 1\n",
    "            g_nk[i * k + j - 1, i * k + j] = 1\n",
    "    return g_nk\n",
    "\n",
    "# a customized star graph where the length of each arm is given explicitely\n",
    "def custom_star(arm_lengths):\n",
    "    arm_lengths = [l for l in arm_lengths if l > 0]\n",
    "    n = sum(arm_lengths) + 1\n",
    "    csg = sp.zeros(n)\n",
    "    start = 0\n",
    "    for l in arm_lengths:\n",
    "        csg[n - 1, start] = 1\n",
    "        csg[start, n - 1] = 1\n",
    "        for i in range(l - 1):\n",
    "            csg[start + i, start + i + 1] = 1\n",
    "            csg[start + i + 1, start + i] = 1\n",
    "        start += l\n",
    "    return csg\n",
    "\n",
    "# wheel with n nodes\n",
    "# a star graph where the outer vertices are connected toa cycle\n",
    "def wheel(n):\n",
    "    if n < 2:\n",
    "        return\n",
    "    w_n = star(n)\n",
    "    for i in range(n-1):\n",
    "        w_n[i, (i + 1) % (n - 1)] = 1\n",
    "        w_n[(i + 1) % (n - 1), i] = 1\n",
    "    return w_n\n",
    "\n",
    "# grid with n * m nodes\n",
    "# could be product(path(n),path(m))\n",
    "def grid(n,m):\n",
    "    if n < 2 or m < 2: # else use a path...\n",
    "        return\n",
    "    g_nm = sp.zeros(n*m)\n",
    "    for i in range(n):\n",
    "        for j in range(m):\n",
    "            if i < n-1:\n",
    "                g_nm[j * n + i, j * n + i + 1] = 1\n",
    "                g_nm[j * n + i + 1, j * n + i] = 1\n",
    "            if j < m-1:\n",
    "                g_nm[j * n + i, (j + 1) * n + i] = 1\n",
    "                g_nm[(j + 1) * n + i, j * n + i] = 1\n",
    "    return g_nm\n",
    "\n",
    "# complete bipartite graph\n",
    "def complete_bipartite(n, m):\n",
    "    bg = sp.zeros(n + m)\n",
    "    for i in range (n):\n",
    "        for j in range(m):\n",
    "            bg[i, n + j] = 1\n",
    "            bg[n + j, i] = 1\n",
    "    return bg\n",
    "\n",
    "# complete binary trees of height h\n",
    "def complete_binary_tree(h):\n",
    "    n = 2**h - 1\n",
    "    cb = sp.zeros(n)\n",
    "    for i in range(h - 1):\n",
    "        for j in range(2**i):\n",
    "            current_node = 2**i + j\n",
    "            cb[current_node - 1, 2 * current_node - 1] = 1\n",
    "            cb[2 * current_node - 1, current_node - 1] = 1\n",
    "            cb[current_node - 1, 2 * current_node] = 1\n",
    "            cb[2 * current_node, current_node - 1] = 1\n",
    "    return cb\n",
    "\n",
    "# hypercube of dimension d\n",
    "def hypercube(d):\n",
    "    hc = empty(1)\n",
    "    while d > 0:\n",
    "        hc = product(hc, path(2))\n",
    "        d -= 1\n",
    "    return hc\n",
    "\n",
    "# a graph with 6n nodes that has exactly the cyclic group Z/n as automorphisms for n > 1\n",
    "def cyclic_group_graph(n):\n",
    "    if n < 2:\n",
    "        return\n",
    "    cg_n = sp.zeros(6 * n)\n",
    "    for i in range(n):\n",
    "        node = 6 * i\n",
    "        cg_n[node, node + 1] = 1\n",
    "        cg_n[node + 1, node] = 1\n",
    "        cg_n[node + 1, node + 2] = 1\n",
    "        cg_n[node + 2, node + 1] = 1\n",
    "        cg_n[node + 1, node + 3] = 1\n",
    "        cg_n[node + 3, node + 1] = 1\n",
    "        cg_n[node + 3, node + 4] = 1\n",
    "        cg_n[node + 4, node + 3] = 1\n",
    "        cg_n[node + 4, node + 5] = 1\n",
    "        cg_n[node + 5, node + 4] = 1\n",
    "        cg_n[node + 3, (node + 6) % (6 * n)] = 1\n",
    "        cg_n[(node + 6) % (6 * n), node + 3] = 1\n",
    "    return cg_n\n",
    "\n",
    "# smallest graph with automorphism group Z/3\n",
    "def smallest_cyclic_group_graph():\n",
    "    return sp.Matrix([\n",
    "        [0,1,1,1,0,0,1,0,1],\n",
    "        [1,0,1,0,0,0,0,0,0],\n",
    "        [1,1,0,1,0,0,0,0,0],\n",
    "        [1,0,1,0,1,1,1,0,0],\n",
    "        [0,0,0,1,0,1,0,0,0],\n",
    "        [0,0,0,1,1,0,1,0,0],\n",
    "        [1,0,0,1,0,1,0,1,1],\n",
    "        [0,0,0,0,0,0,1,0,1],\n",
    "        [1,0,0,0,0,0,1,1,0]\n",
    "    ])\n",
    "    \n",
    "\n",
    "# disjoint union of two graphs\n",
    "def union(g1, g2):\n",
    "    n1 = sp.shape(g1)[0]\n",
    "    n2 = sp.shape(g2)[0]\n",
    "    n = n1 + n2\n",
    "    du = sp.zeros(n)\n",
    "    for i in range(n1):\n",
    "        for j in range(n1):\n",
    "            du[i,j] = g1[i,j]\n",
    "    for i in range(n2):\n",
    "        for j in range(n2):\n",
    "            du[n1 + i, n1 + j] = g2[i,j]\n",
    "    return du\n",
    "\n",
    "# cartesian product of two graphs\n",
    "def product(g1, g2):\n",
    "    n1 = sp.shape(g1)[0]\n",
    "    n2 = sp.shape(g2)[0]\n",
    "    n = n1 * n2\n",
    "    cp = sp.zeros(n)\n",
    "    for i in range(n1):\n",
    "        for j in range(n2):\n",
    "            for k in range(i + 1, n1):\n",
    "                if g1[i,k] == 1:\n",
    "                    cp[j * n1 + i, j * n1 + k] = 1\n",
    "                    cp[j * n1 + k, j * n1 + i] = 1\n",
    "            for k in range(j + 1, n2):\n",
    "                if g2[j,k] == 1:\n",
    "                    cp[j * n1 + i, k * n1 + i] = 1\n",
    "                    cp[k * n1 + i, j * n1 + i] = 1\n",
    "    return cp\n",
    "\n",
    "# strong product of two graphs. (u1, v1) is adjacent to (u2,v2) iff u1 = u2 and v1 ~ v2 or u1 ~ u2 and v1 = v2\n",
    "# or u1 ~ u2 and v1 ~ v2\n",
    "def strong_product(g1, g2):\n",
    "    n1 = sp.shape(g1)[0]\n",
    "    n2 = sp.shape(g2)[0]\n",
    "    n = n1 * n2\n",
    "    stp = sp.zeros(n)\n",
    "    for u1 in range(n1):\n",
    "        for u2 in range(n1):\n",
    "            for v1 in range(n2):\n",
    "                for v2 in range(n2):\n",
    "                    if u1 == u2 and g2[v1,v2] == 1 or g1[u1,u2] == 1 and v1 == v2 or g1[u1,u2] == 1 and g2[v1,v2] == 1:\n",
    "                        stp[v1 * n1 + u1, v2 * n1 + u2] = 1\n",
    "                        stp[v2 * n1 + u2, v1 * n1 + u1] = 1\n",
    "    return stp\n",
    "\n",
    "# k-th strong product of g with itself\n",
    "def strong_power(g, k):\n",
    "    n = g.shape[0]\n",
    "    pg = g.copy()\n",
    "    for i in range(k - 1):\n",
    "        pg = strong_product(pg, g)\n",
    "    return pg\n",
    "    \n",
    "\n",
    "# collapse two vertices of one graph\n",
    "def collapse(g, v1, v2):\n",
    "    if v1 == v2:\n",
    "        return\n",
    "    if v1 > v2:\n",
    "        tmp = v1\n",
    "        v1 = v2\n",
    "        v2 = tmp\n",
    "    n = sp.shape(g)[0]\n",
    "    jg = sp.zeros(n - 1)\n",
    "    for i in range (n - 1):\n",
    "        if i == v1: continue\n",
    "        real_i = i if i < v2 else i + 1\n",
    "        for j in range (i + 1, n - 1):\n",
    "            if j == v1:\n",
    "                continue\n",
    "            real_j = j if j < v2 else j + 1\n",
    "            jg[i, j] = g[real_i, real_j]\n",
    "            jg[j, i] = g[real_i, real_j]\n",
    "        if (g[real_i, v1] == 1 or g[real_i, v2] == 1):\n",
    "            jg[i, v1] = 1\n",
    "            jg[v1, i] = 1\n",
    "    return jg\n",
    "\n",
    "# more convenient collapse: collapse a list of tuples\n",
    "def collapse_list(g, join_nodes):\n",
    "    join_nodes = [tuple(sorted(t)) for t in join_nodes] # sort every single tuple ascending\n",
    "    join_nodes.sort(key = lambda t : -t[1]) # sort descending by second join node\n",
    "    for i in range (1, len(join_nodes)):\n",
    "        if join_nodes[i][1] == join_nodes[i - 1][1]:\n",
    "            join_nodes[i][1] = join_nodes[i - 1][0]\n",
    "    join_nodes.sort(key = lambda t : -t[1])\n",
    "    for t in join_nodes:\n",
    "        g = collapse(g, t[0], t[1])\n",
    "    return g\n",
    "\n",
    "# join two graphs\n",
    "# connect each vertex of g1 with each vertex of g2\n",
    "def join(g1, g2):\n",
    "    g = union(g1, g2)\n",
    "    n1 = g1.shape[0]\n",
    "    n2 = g2.shape[0]\n",
    "    for i in range (n1):\n",
    "        for j in range (n1, n1 + n2):\n",
    "            g[i, j] = 1\n",
    "            g[j, i] = 1\n",
    "    return g\n",
    "\n",
    "# graph with a cut edge\n",
    "# i.e. disjoint union of g1 and g2 adding an edge from u in g1 to v in g2\n",
    "def cut_edge(g1, g2, u, v):\n",
    "    g = union(g1, g2)\n",
    "    n1 = g1.shape[0]\n",
    "    g[u, n1 + v] = 1\n",
    "    g[n1 + v, u] = 1\n",
    "    return g\n",
    "\n",
    "# repeat a graph n times by transitively joining the vertices v1 of the next graph with v2 of the previous graph\n",
    "def repeat(g, n, v1, v2):\n",
    "    rg = g\n",
    "    m = sp.shape(g)[0]\n",
    "    for i in range (n - 1):\n",
    "        rg = union(rg, g)\n",
    "    join_nodes = [(v2 + i * m, v1 + ((i + 1) * m % (n * m))) for i in range (n)]\n",
    "    rg = collapse_list(rg, join_nodes)\n",
    "    return rg\n",
    "\n",
    "# complement of a graph\n",
    "def complement(g):\n",
    "    n = g.shape[0]\n",
    "    c = sp.zeros(n)\n",
    "    for i in range (n):\n",
    "        for j in range(i + 1, n):\n",
    "            c[i, j] = 1 - g[i, j]\n",
    "            c[j, i] = 1 - g[j, i]\n",
    "    return c\n",
    "\n",
    "# complement which complements also self-loops\n",
    "def full_complement(g):\n",
    "    n = g.shape[0]\n",
    "    return sp.ones(n) - g\n",
    "\n",
    "# tensor product oft two graphs, similar to usual product\n",
    "def tensor_product(g1, g2):\n",
    "    n1 = g1.shape[0]\n",
    "    n2 = g2.shape[0]\n",
    "    n = n1 * n2\n",
    "    g = sp.zeros(n)\n",
    "    for i in range(n1):\n",
    "        for j in range(n2):\n",
    "            for k in range(n1):\n",
    "                for l in range(n2):\n",
    "                    if g1[i, k] * g2[j, l] == 1:\n",
    "                        g[j * n1 + i, l * n1 + k] = 1\n",
    "                        g[l * n1 + k, j * n1 + i] = 1\n",
    "    return g\n",
    "\n",
    "# double cover of a graph\n",
    "def double_cover(g):\n",
    "    return tensor_product(g, path(2))\n",
    "\n",
    "# double cover from replacing an edge with a copy of g\n",
    "def double_cover_replace_edge(g, u, v):\n",
    "    if g[u,v] == 0 or u == v:\n",
    "        return\n",
    "    n = g.shape[0]\n",
    "    rg = union(g, g)\n",
    "    rg[u,v] = 0\n",
    "    rg[v,u] = 0\n",
    "    rg[u + n, v + n] = 0\n",
    "    rg[v + n, u + n] = 0\n",
    "    rg[u, v + n] = 1\n",
    "    rg[v + n, u] = 1\n",
    "    rg[u + n, v] = 1\n",
    "    rg[v, u + n] = 1\n",
    "    return rg\n",
    "\n",
    "def blowup_subgraph(g, nodes, k=2, permutation=None):\n",
    "    if k == 1:\n",
    "        return g.copy()\n",
    "    elif k < 1:\n",
    "        return\n",
    "    n = g.shape[0]\n",
    "    if permutation == None:\n",
    "        permutation = list(range(1, k))\n",
    "        permutation.append(0)\n",
    "    rg = g.copy()\n",
    "    for i in range(k - 1):\n",
    "        rg = union(rg, g)\n",
    "    for u in nodes:\n",
    "        for v in nodes:\n",
    "            for i in range(k):\n",
    "                rg[u + i * n, v + i * n] = 0\n",
    "                rg[v + i * n, u + i * n] = 0\n",
    "    for i in range(len(nodes)-1):\n",
    "        for j in range(i+1,len(nodes)):\n",
    "            for l in range(k):\n",
    "                u = nodes[i]\n",
    "                v = nodes[j]\n",
    "                rg[l * n + u, permutation[l] * n + v] = g[u,v]\n",
    "                rg[permutation[l] * n + v, l * n + u] = g[u,v]\n",
    "    return rg\n",
    "\n",
    "def blowup_edgeset(g, edges, k=2, permutation=None):\n",
    "    if k == 1:\n",
    "        return g.copy()\n",
    "    elif k < 1:\n",
    "        return\n",
    "    n = g.shape[0]\n",
    "    if permutation == None:\n",
    "        permutation = list(range(1, k))\n",
    "        permutation.append(0)\n",
    "    rg = g.copy()\n",
    "    for i in range(k - 1):\n",
    "        rg = union(rg, g)\n",
    "    for e in edges:\n",
    "        for i in range(k):\n",
    "            rg[e[0] + i * n, e[1] + i * n] = 0\n",
    "            rg[e[1] + i * n, e[0] + i * n] = 0\n",
    "    for e in edges:\n",
    "        for i in range(k):\n",
    "            rg[e[0] + i * n, e[1] + permutation[i] * n] = g[e[0], e[1]]\n",
    "            rg[e[1] + permutation[i] * n, e[0] + i * n] = g[e[0], e[1]]\n",
    "    return rg\n",
    "\n",
    "def complete_partition(g, part):\n",
    "    n = g.shape[0]\n",
    "    if len(part) == 0:\n",
    "        return [[i] for i in range(n)]\n",
    "    part = [set(l) for l in part if len(l) > 0]\n",
    "    if max([max(l) for l in part]) >= n or min([min(l) for l in part]) < 0:\n",
    "        return\n",
    "    for i in range(len(part)):\n",
    "        for j in range(i + 1, len(part)):\n",
    "            if len(part[i].intersection(part[j])) > 0:\n",
    "                return\n",
    "    \n",
    "    part_numbers = set.union(*part)\n",
    "    non_part_numbers = [[i] for i in range(n) if i not in part_numbers]\n",
    "    return part + non_part_numbers\n",
    "\n",
    "# computes the given equitable partition of the graph\n",
    "def partition(g, part):\n",
    "    complete_part = complete_partition(g, part)\n",
    "    n_p = len(complete_part)\n",
    "    g_p = sp.zeros(n_p)\n",
    "    \n",
    "    for (i, j) in itertools.product(range(n_p),range(n_p)):\n",
    "        p1 = complete_part[i]\n",
    "        p2 = complete_part[j]\n",
    "        edges = [sum([g[v, w] for w in p2]) for v in p1]\n",
    "        if len(set(edges)) > 1:\n",
    "            return\n",
    "        g_p[i, j] = edges[0]\n",
    "    return g_p\n",
    "\n",
    "# coarsest equitable partition\n",
    "def coarsest_partition(g):\n",
    "    n = g.shape[0]\n",
    "    parts = [list(range(n))]\n",
    "    changed = True\n",
    "    deg_vects = sp.zeros(n, len(parts))\n",
    "    while changed:\n",
    "        changed = False\n",
    "        deg_vects = sp.zeros(n, len(parts))\n",
    "        new_parts = []\n",
    "        for i in range(len(parts)):\n",
    "            for k in parts[i]:\n",
    "                for j in range(len(parts)):\n",
    "                    for l in parts[j]:\n",
    "                        deg_vects[k, j] += g[k, l]\n",
    "        \n",
    "        for i in range(len(parts)):\n",
    "            while len(parts[i]) > 0:\n",
    "                new_part = [parts[i][j] \n",
    "                            for j in range(len(parts[i])) \n",
    "                            if deg_vects.row(parts[i][j]) == deg_vects.row(parts[i][0])]\n",
    "                if len(new_part) < len(parts[i]):\n",
    "                    changed = True\n",
    "                new_parts.append(new_part.copy())\n",
    "                new_part.sort(key = lambda x: -x)\n",
    "                for j in new_part:\n",
    "                    parts[i].remove(j)\n",
    "        parts = new_parts\n",
    "    return parts\n",
    "\n",
    "#resolves simple loops by copying the graph and connecting all vertices with self loops\n",
    "def resolve_simple_loops(g):\n",
    "    n = g.shape[0]\n",
    "    g_res = sp.zeros(2 * n)\n",
    "    for i in range(n):\n",
    "        for j in range(i + 1, n):\n",
    "            g_res[i, j] = g[i, j]\n",
    "            g_res[j, i] = g[j, i]\n",
    "            g_res[n + i, n + j] = g[i, j]\n",
    "            g_res[n + j, n + i] = g[j, i]\n",
    "        g_res[i, n + i] = g[i, i]\n",
    "        g_res[n + i, i] = g[i, i]\n",
    "    return g_res\n",
    "\n",
    "# intersection of two partitions (not equitable in general!)\n",
    "def partition_intersect(part1, part2):\n",
    "    part = []\n",
    "    for p1 in part1:\n",
    "        for p2 in part2:\n",
    "            p = list(set(p1).intersection(set(p2)))\n",
    "            if len(p) > 0:\n",
    "                part.append(p)\n",
    "    return part\n",
    "\n",
    "# union of two partitions (equitable?)\n",
    "def partition_union(part1, part2):\n",
    "    part = part1 + part2\n",
    "    changed = True\n",
    "    while changed:\n",
    "        changed = False\n",
    "        for i in range(len(part)):\n",
    "            for j in range(i + 1, len(part)):\n",
    "                if (len(set(part[i]).intersection(part[j])) > 0):\n",
    "                    part[i] = list(set(part[i]).union(part[j]))\n",
    "                    del part[j]\n",
    "                    changed = True\n",
    "                    break\n",
    "            if changed:\n",
    "                break\n",
    "    return part\n",
    "            \n",
    "def partition_geq(g, p1, p2):\n",
    "    n = g.shape[0]\n",
    "    complete_p1 = complete_partition(g, p1)\n",
    "    complete_p2 = complete_partition(g, p2)\n",
    "    for part2 in p2:\n",
    "        for part1 in p1:\n",
    "            intersect_num = len(set(part1).intersection(set(part2)))\n",
    "            if not intersect_num in [0, len(part2)]:\n",
    "                return False\n",
    "    return True\n",
    "    \n",
    "def partition_cmp(g, p1, p2):\n",
    "    cmp1 = partition_geq(g, p1, p2)\n",
    "    cmp2 = partition_geq(g, p2, p1)\n",
    "    if cmp1 and cmp2:\n",
    "        return 0\n",
    "    elif cmp1:\n",
    "        return 1\n",
    "    elif cmp2:\n",
    "        return -1\n",
    "    else:\n",
    "        return None\n",
    "\n",
    "def remove_isolated(g):\n",
    "    g2 = g.copy()\n",
    "    done = False\n",
    "    while not done:\n",
    "        done = True\n",
    "        for i in range(g2.shape[0]):\n",
    "            if sum(g2[i,:]) == 0:\n",
    "                g2.row_del(i)\n",
    "                g2.col_del(i)\n",
    "                done = False\n",
    "                break\n",
    "    return g2\n",
    "\n",
    "def remove_node(g, node):\n",
    "    g2 = g.copy()\n",
    "    g2.row_del(node)\n",
    "    g2.col_del(node)\n",
    "    return g2\n",
    "\n",
    "def remove_nodes(g, nodes):\n",
    "    g2 = g.copy()\n",
    "    nodes.sort(key=lambda x: -x)\n",
    "    for node in nodes:\n",
    "        g2 = remove_node(g2, node)\n",
    "    return g2\n",
    "\n",
    "# induced subgraph\n",
    "def subgraph(g, nodes):\n",
    "    nodes_c = [i for i in range(g.shape[0]) if not i in nodes]\n",
    "    return remove_nodes(g, nodes_c)\n",
    "\n",
    "def add_edge(g, u, v):\n",
    "    g2 = g.copy()\n",
    "    g2[u,v] = 1\n",
    "    g2[v,u] = 1\n",
    "    return g2\n",
    "\n",
    "# frucht graph\n",
    "def frucht():\n",
    "    return sp.Matrix([[0,1,1,0,0,0,0,0,0,0,0,1],\n",
    "                      [1,0,1,0,0,0,0,0,0,1,0,0],\n",
    "                      [1,1,0,1,0,0,0,0,0,0,0,0],\n",
    "                      [0,0,1,0,1,1,0,0,0,0,0,0],\n",
    "                      [0,0,0,1,0,1,0,0,0,0,0,1],\n",
    "                      [0,0,0,1,1,0,1,0,0,0,0,0],\n",
    "                      [0,0,0,0,0,1,0,1,1,0,0,0],\n",
    "                      [0,0,0,0,0,0,1,0,1,0,1,0],\n",
    "                      [0,0,0,0,0,0,1,1,0,1,0,0],\n",
    "                      [0,1,0,0,0,0,0,0,1,0,1,0],\n",
    "                      [0,0,0,0,0,0,0,1,0,1,0,1],\n",
    "                      [1,0,0,0,1,0,0,0,0,0,1,0]])\n",
    "\n",
    "# petersen graph\n",
    "def petersen():\n",
    "    return sp.Matrix([[0,1,0,0,1,1,0,0,0,0],\n",
    "                      [1,0,1,0,0,0,1,0,0,0],\n",
    "                      [0,1,0,1,0,0,0,1,0,0],\n",
    "                      [0,0,1,0,1,0,0,0,1,0],\n",
    "                      [1,0,0,1,0,0,0,0,0,1],\n",
    "                      [1,0,0,0,0,0,0,1,1,0],\n",
    "                      [0,1,0,0,0,0,0,0,1,1],\n",
    "                      [0,0,1,0,0,1,0,0,0,1],\n",
    "                      [0,0,0,1,0,1,1,0,0,0],\n",
    "                      [0,0,0,0,1,0,1,1,0,0]])\n",
    "\n",
    "# mckay graph, graph with orbits \\neq equitable partition\n",
    "def mckay():\n",
    "    return cut_edge(cut_edge(complete(3),path(2),0,0),complete(3),4,0)\n",
    "\n",
    "# constructs the path tree rooted at v\n",
    "def path_tree(g, v, forbidden = []):\n",
    "    rg = empty(1)\n",
    "    n = sp.shape(g)[0]\n",
    "    subtrees = []\n",
    "    for i in range(n):\n",
    "        if i in forbidden or g[v,i] == 0:\n",
    "            continue\n",
    "        subtrees.append(path_tree(g, i, forbidden = forbidden + [v]))\n",
    "    for st in subtrees:\n",
    "        rg = cut_edge(rg, st, 0, 0)\n",
    "    return rg\n",
    "    \n",
    "\n",
    "# random graph with n vertices\n",
    "def random_graph(n, density = 0.5):\n",
    "    if n < 2:\n",
    "        return\n",
    "    rg = sp.zeros(n)\n",
    "    for i in range(n):\n",
    "        for j in range(i + 1, n):\n",
    "            if random.random() < density:\n",
    "                rg[i,j] = 1\n",
    "                rg[j,i] = 1\n",
    "    return rg\n",
    "\n",
    "def random_tree(n):\n",
    "    rt = sp.zeros(n)\n",
    "    for i in range(1, n):\n",
    "        nb = random.randrange(i)\n",
    "        rt[nb,i] = 1\n",
    "        rt[i,nb] = 1\n",
    "    return rt\n",
    "\n",
    "def write_metis(g, filename):\n",
    "    n = g.shape[0]\n",
    "    m = sum(g) // 2\n",
    "    with open(filename, \"w\") as f:\n",
    "        f.write(f\"{n} {m}\\n\")\n",
    "        for i in range(n):\n",
    "            nbs = \"\"\n",
    "            for j in range(n):\n",
    "                if g[i,j] == 1:\n",
    "                    nbs += str(j+1) + \" \"\n",
    "            f.write(nbs + \"\\n\")\n",
    "        f.close()"
   ]
  },
  {
   "cell_type": "code",
   "execution_count": 4,
   "metadata": {},
   "outputs": [],
   "source": [
    "# Knuth algorithm to list all m-partitions of list ns\n",
    "# not my implementation\n",
    "\n",
    "def algorithm_u(ns, m):\n",
    "    def visit(n, a):\n",
    "        ps = [[] for i in range(m)]\n",
    "        for j in range(n):\n",
    "            ps[a[j + 1]].append(ns[j])\n",
    "        return ps\n",
    "\n",
    "    def f(mu, nu, sigma, n, a):\n",
    "        if mu == 2:\n",
    "            yield visit(n, a)\n",
    "        else:\n",
    "            for v in f(mu - 1, nu - 1, (mu + sigma) % 2, n, a):\n",
    "                yield v\n",
    "        if nu == mu + 1:\n",
    "            a[mu] = mu - 1\n",
    "            yield visit(n, a)\n",
    "            while a[nu] > 0:\n",
    "                a[nu] = a[nu] - 1\n",
    "                yield visit(n, a)\n",
    "        elif nu > mu + 1:\n",
    "            if (mu + sigma) % 2 == 1:\n",
    "                a[nu - 1] = mu - 1\n",
    "            else:\n",
    "                a[mu] = mu - 1\n",
    "            if (a[nu] + sigma) % 2 == 1:\n",
    "                for v in b(mu, nu - 1, 0, n, a):\n",
    "                    yield v\n",
    "            else:\n",
    "                for v in f(mu, nu - 1, 0, n, a):\n",
    "                    yield v\n",
    "            while a[nu] > 0:\n",
    "                a[nu] = a[nu] - 1\n",
    "                if (a[nu] + sigma) % 2 == 1:\n",
    "                    for v in b(mu, nu - 1, 0, n, a):\n",
    "                        yield v\n",
    "                else:\n",
    "                    for v in f(mu, nu - 1, 0, n, a):\n",
    "                        yield v\n",
    "\n",
    "    def b(mu, nu, sigma, n, a):\n",
    "        if nu == mu + 1:\n",
    "            while a[nu] < mu - 1:\n",
    "                yield visit(n, a)\n",
    "                a[nu] = a[nu] + 1\n",
    "            yield visit(n, a)\n",
    "            a[mu] = 0\n",
    "        elif nu > mu + 1:\n",
    "            if (a[nu] + sigma) % 2 == 1:\n",
    "                for v in f(mu, nu - 1, 0, n, a):\n",
    "                    yield v\n",
    "            else:\n",
    "                for v in b(mu\n",
    "                           , nu - 1, 0, n, a):\n",
    "                    yield v\n",
    "            while a[nu] < mu - 1:\n",
    "                a[nu] = a[nu] + 1\n",
    "                if (a[nu] + sigma) % 2 == 1:\n",
    "                    for v in f(mu, nu - 1, 0, n, a):\n",
    "                        yield v\n",
    "                else:\n",
    "                    for v in b(mu, nu - 1, 0, n, a):\n",
    "                        yield v\n",
    "            if (mu + sigma) % 2 == 1:\n",
    "                a[nu - 1] = 0\n",
    "            else:\n",
    "                a[mu] = 0\n",
    "        if mu == 2:\n",
    "            yield visit(n, a)\n",
    "        else:\n",
    "            for v in b(mu - 1, nu - 1, (mu + sigma) % 2, n, a):\n",
    "                yield v\n",
    "\n",
    "    n = len(ns)\n",
    "    a = [0] * (n + 1)\n",
    "    for j in range(1, m + 1):\n",
    "        a[n - m + j] = j - 1\n",
    "    return f(m, n, 0, n, a)"
   ]
  },
  {
   "cell_type": "code",
   "execution_count": 5,
   "metadata": {},
   "outputs": [],
   "source": [
    "def equitable_partitions(g, k):\n",
    "    n = g.shape[0]\n",
    "    if k == 1:\n",
    "        partitions = [[list(range(n))]]\n",
    "    else:\n",
    "        partitions = list(algorithm_u(list(range(n)), k))\n",
    "    for part in partitions:\n",
    "        g_div = partition(g, part)\n",
    "        if not g_div == None:\n",
    "            yield part\n",
    "\n",
    "def equitable_partitions_iso(g, k):\n",
    "    partitions = list(equitable_partitions(g, k))\n",
    "    em = iso.numerical_edge_match(\"weight\", 1)\n",
    "    while len(partitions) > 0:\n",
    "        iso_class = [partitions[0]]\n",
    "        delete_idx = [0]\n",
    "        a1 = np.array(partition(g, partitions[0])).astype(int)\n",
    "        g1 = nx.from_numpy_array(a1, create_using=nx.DiGraph)\n",
    "        for i in range(1, len(partitions)):\n",
    "            part = partitions[i]\n",
    "            a2 = np.array(partition(g, part)).astype(int)\n",
    "            g2 = nx.from_numpy_array(a2, create_using=nx.DiGraph)\n",
    "            if nx.is_isomorphic(g1,g2, edge_match=em):\n",
    "                iso_class.append(part)\n",
    "                delete_idx.append(i)\n",
    "        yield iso_class\n",
    "        delete_idx.reverse()\n",
    "        for i in delete_idx:\n",
    "            del partitions[i]\n",
    "    \n",
    "def all_equitable_partitions(g):\n",
    "    n = g.shape[0]\n",
    "    min_k = len(coarsest_partition(g))\n",
    "    for k in range(min_k, n + 1):\n",
    "        for part in equitable_partitions(g, k):\n",
    "            yield part\n",
    "    \n",
    "def all_equitable_partitions_iso(g):\n",
    "    n = g.shape[0]\n",
    "    min_k = len(coarsest_partition(g))\n",
    "    for k in range(min_k, n + 1):\n",
    "        for part in equitable_partitions_iso(g, k):\n",
    "            yield part\n",
    "    "
   ]
  },
  {
   "cell_type": "code",
   "execution_count": 6,
   "metadata": {},
   "outputs": [
    {
     "ename": "NameError",
     "evalue": "name 'g' is not defined",
     "output_type": "error",
     "traceback": [
      "\u001b[0;31m---------------------------------------------------------------------------\u001b[0m",
      "\u001b[0;31mNameError\u001b[0m                                 Traceback (most recent call last)",
      "\u001b[0;32m/tmp/ipykernel_2920/2752467882.py\u001b[0m in \u001b[0;36m<module>\u001b[0;34m\u001b[0m\n\u001b[1;32m     17\u001b[0m \u001b[0;31m#g = custom_star([2,2,2])\u001b[0m\u001b[0;34m\u001b[0m\u001b[0;34m\u001b[0m\u001b[0m\n\u001b[1;32m     18\u001b[0m \u001b[0;34m\u001b[0m\u001b[0m\n\u001b[0;32m---> 19\u001b[0;31m \u001b[0mall_eigenvects\u001b[0m \u001b[0;34m=\u001b[0m \u001b[0mg\u001b[0m\u001b[0;34m.\u001b[0m\u001b[0meigenvects\u001b[0m\u001b[0;34m(\u001b[0m\u001b[0;34m)\u001b[0m\u001b[0;34m\u001b[0m\u001b[0;34m\u001b[0m\u001b[0m\n\u001b[0m\u001b[1;32m     20\u001b[0m \u001b[0mall_eigenvects\u001b[0m\u001b[0;34m.\u001b[0m\u001b[0msort\u001b[0m\u001b[0;34m(\u001b[0m\u001b[0mkey\u001b[0m \u001b[0;34m=\u001b[0m \u001b[0;32mlambda\u001b[0m \u001b[0mx\u001b[0m \u001b[0;34m:\u001b[0m \u001b[0msp\u001b[0m\u001b[0;34m.\u001b[0m\u001b[0mre\u001b[0m\u001b[0;34m(\u001b[0m\u001b[0mx\u001b[0m\u001b[0;34m[\u001b[0m\u001b[0;36m0\u001b[0m\u001b[0;34m]\u001b[0m\u001b[0;34m.\u001b[0m\u001b[0mevalf\u001b[0m\u001b[0;34m(\u001b[0m\u001b[0;34m)\u001b[0m\u001b[0;34m)\u001b[0m\u001b[0;34m)\u001b[0m\u001b[0;34m\u001b[0m\u001b[0;34m\u001b[0m\u001b[0m\n\u001b[1;32m     21\u001b[0m \u001b[0mnon_main_eigenvects\u001b[0m \u001b[0;34m=\u001b[0m \u001b[0;34m[\u001b[0m\u001b[0mv\u001b[0m \u001b[0;32mfor\u001b[0m \u001b[0mv\u001b[0m \u001b[0;32min\u001b[0m \u001b[0mall_eigenvects\u001b[0m \u001b[0;32mif\u001b[0m \u001b[0mlen\u001b[0m\u001b[0;34m(\u001b[0m\u001b[0;34m[\u001b[0m\u001b[0mw\u001b[0m \u001b[0;32mfor\u001b[0m \u001b[0mw\u001b[0m \u001b[0;32min\u001b[0m \u001b[0mv\u001b[0m\u001b[0;34m[\u001b[0m\u001b[0;36m2\u001b[0m\u001b[0;34m]\u001b[0m \u001b[0;32mif\u001b[0m \u001b[0msum\u001b[0m\u001b[0;34m(\u001b[0m\u001b[0mw\u001b[0m\u001b[0;34m)\u001b[0m \u001b[0;34m!=\u001b[0m \u001b[0;36m0\u001b[0m\u001b[0;34m]\u001b[0m\u001b[0;34m)\u001b[0m \u001b[0;34m==\u001b[0m \u001b[0;36m0\u001b[0m\u001b[0;34m]\u001b[0m\u001b[0;34m\u001b[0m\u001b[0;34m\u001b[0m\u001b[0m\n",
      "\u001b[0;31mNameError\u001b[0m: name 'g' is not defined"
     ]
    }
   ],
   "source": [
    "def partitions_from_eigenvect(v):\n",
    "    for w in v[2]:\n",
    "        part = []\n",
    "        for i in range(len(w)):\n",
    "            found = False\n",
    "            for j in range(len(part)):\n",
    "                #if (abs(w[i]) == abs(w[part[j][0]])):\n",
    "                if (w[i] == w[part[j][0]]):\n",
    "                    found = True\n",
    "                    part[j].append(i)\n",
    "                    break\n",
    "            if not found:\n",
    "                part.append([i])\n",
    "        yield part\n",
    "\n",
    "\n",
    "#g = custom_star([2,2,2])\n",
    "\n",
    "all_eigenvects = g.eigenvects()\n",
    "all_eigenvects.sort(key = lambda x : sp.re(x[0].evalf()))\n",
    "non_main_eigenvects = [v for v in all_eigenvects if len([w for w in v[2] if sum(w) != 0]) == 0]\n",
    "main_eigenvects = [v for v in all_eigenvects[:-1] if len([w for w in v[2] if sum(w) != 0]) != 0]\n",
    "print(\"nonmain:\")\n",
    "print(non_main_eigenvects)\n",
    "print(\"main:\")\n",
    "print(main_eigenvects)\n",
    "print(\"largest:\")\n",
    "print(all_eigenvects[-1])\n",
    "partitions_nonmain = []\n",
    "partitions_main = []\n",
    "partition_largest = []\n",
    "\n",
    "for v in non_main_eigenvects:\n",
    "    for part in partitions_from_eigenvect(v):\n",
    "        partitions_nonmain.append(part)\n",
    "\n",
    "for v in main_eigenvects:\n",
    "    for part in partitions_from_eigenvect(v):\n",
    "        partitions_main.append(part)\n",
    "\n",
    "for part in partitions_from_eigenvect(all_eigenvects[-1]):\n",
    "    partition_largest.append(part)\n",
    "\n",
    "print()\n",
    "#print(\"nonmain:\", partitions_nonmain)\n",
    "print(\"main:\", partitions_main)\n",
    "print(\"largest:\", partition_largest)\n",
    "\n",
    "#analyze(partition(g, partitions_largest[0]))"
   ]
  },
  {
   "cell_type": "code",
   "execution_count": 7,
   "metadata": {},
   "outputs": [
    {
     "ename": "NameError",
     "evalue": "name 'g' is not defined",
     "output_type": "error",
     "traceback": [
      "\u001b[0;31m---------------------------------------------------------------------------\u001b[0m",
      "\u001b[0;31mNameError\u001b[0m                                 Traceback (most recent call last)",
      "\u001b[0;32m/tmp/ipykernel_2920/1241688723.py\u001b[0m in \u001b[0;36m<module>\u001b[0;34m\u001b[0m\n\u001b[1;32m     52\u001b[0m \u001b[0;31m#g = complete_binary_tree(3)\u001b[0m\u001b[0;34m\u001b[0m\u001b[0;34m\u001b[0m\u001b[0m\n\u001b[1;32m     53\u001b[0m \u001b[0;31m#apply_rho(partition(g, coarsest_partition(g)))\u001b[0m\u001b[0;34m\u001b[0m\u001b[0;34m\u001b[0m\u001b[0m\n\u001b[0;32m---> 54\u001b[0;31m \u001b[0mapply_rho\u001b[0m\u001b[0;34m(\u001b[0m\u001b[0mg\u001b[0m\u001b[0;34m)\u001b[0m\u001b[0;34m\u001b[0m\u001b[0;34m\u001b[0m\u001b[0m\n\u001b[0m",
      "\u001b[0;31mNameError\u001b[0m: name 'g' is not defined"
     ]
    }
   ],
   "source": [
    "def apply_rho(g, showKernel=False):\n",
    "    n = g.shape[0]\n",
    "    x = sp.symbols(\"x\")\n",
    "    rho_g = recurrence_poly(g,x)[0]\n",
    "    c = rho_g.subs(x,0)\n",
    "    rho_g = rho_g - c\n",
    "    mat = rho_g.subs(x, g) + c * sp.eye(n)\n",
    "    display(mat)\n",
    "    if showKernel:\n",
    "        print(\"kernel basis:\")\n",
    "        ns = mat.nullspace()\n",
    "        for v in ns:\n",
    "            display(v)\n",
    "        \n",
    "def card_matrix(g):\n",
    "    n = g.shape[0]\n",
    "    mat = sp.eye(n)\n",
    "    v = 0\n",
    "    stack = [v]\n",
    "    visited = [False] * n\n",
    "    parents = [-1] * n\n",
    "    while len(stack) > 0:\n",
    "        curr_node = stack.pop()\n",
    "        if visited[curr_node]:\n",
    "            continue\n",
    "        visited[curr_node] = True\n",
    "        p = curr_node\n",
    "        fac = 1\n",
    "        while parents[p] != -1:\n",
    "            fac *= g[parents[p], p] / g[p, parents[p]]\n",
    "            p = parents[p]\n",
    "        mat[v, curr_node] = fac\n",
    "        for i in range(n):\n",
    "            if (not visited[i]) and (g[curr_node, i] != 0):\n",
    "                parents[i] = curr_node\n",
    "                stack.append(i)\n",
    "    for v in range(1, n):\n",
    "        mat[v,:] = 1 / mat[0, v] * mat[0, :]\n",
    "    return mat\n",
    "\n",
    "def partition_matrix(g, part):\n",
    "    part = complete_partition(g, part)\n",
    "    n = g.shape[0]\n",
    "    k = len(part)\n",
    "    p_mat = sp.zeros(n, k)\n",
    "    for i in range(k):\n",
    "        for v in part[i]:\n",
    "            p_mat[v, i] = 1\n",
    "    return p_mat\n",
    "        \n",
    "\n",
    "#g = complete_binary_tree(3)\n",
    "#apply_rho(partition(g, coarsest_partition(g)))\n",
    "apply_rho(g)"
   ]
  },
  {
   "cell_type": "code",
   "execution_count": 8,
   "metadata": {
    "scrolled": false
   },
   "outputs": [
    {
     "ename": "NameError",
     "evalue": "name 'g' is not defined",
     "output_type": "error",
     "traceback": [
      "\u001b[0;31m---------------------------------------------------------------------------\u001b[0m",
      "\u001b[0;31mNameError\u001b[0m                                 Traceback (most recent call last)",
      "\u001b[0;32m/tmp/ipykernel_2920/747737917.py\u001b[0m in \u001b[0;36m<module>\u001b[0;34m\u001b[0m\n\u001b[1;32m     49\u001b[0m \u001b[0mn\u001b[0m \u001b[0;34m=\u001b[0m \u001b[0;36m100\u001b[0m\u001b[0;34m\u001b[0m\u001b[0;34m\u001b[0m\u001b[0m\n\u001b[1;32m     50\u001b[0m \u001b[0;34m\u001b[0m\u001b[0m\n\u001b[0;32m---> 51\u001b[0;31m \u001b[0mgcs\u001b[0m \u001b[0;34m=\u001b[0m \u001b[0mg\u001b[0m\u001b[0;34m\u001b[0m\u001b[0;34m\u001b[0m\u001b[0m\n\u001b[0m\u001b[1;32m     52\u001b[0m \u001b[0mweighted\u001b[0m\u001b[0;34m=\u001b[0m\u001b[0;32mFalse\u001b[0m\u001b[0;34m\u001b[0m\u001b[0;34m\u001b[0m\u001b[0m\n\u001b[1;32m     53\u001b[0m \u001b[0mpart\u001b[0m \u001b[0;34m=\u001b[0m \u001b[0mcoarsest_partition\u001b[0m\u001b[0;34m(\u001b[0m\u001b[0mgcs\u001b[0m\u001b[0;34m)\u001b[0m\u001b[0;34m\u001b[0m\u001b[0;34m\u001b[0m\u001b[0m\n",
      "\u001b[0;31mNameError\u001b[0m: name 'g' is not defined"
     ]
    }
   ],
   "source": [
    "def discrete_base_alt(mat, bound=10):\n",
    "    n, k = mat.shape\n",
    "    base = sp.zeros(n, k)\n",
    "    for i in range(3, n):\n",
    "        for j in range(k):\n",
    "            nom = mat[i - 2, j] - mat[i - 1, j]\n",
    "            if nom == 0:\n",
    "                base[i, j] = mat[i, j] - mat[i - 1, j]\n",
    "            else:\n",
    "                if abs(mat[i, j] - mat[i - 1, j]) > abs(bound * nom):\n",
    "                    val = -bound if (mat[i, j] - mat[i - 1, j]) * nom < 0 else bound\n",
    "                else:\n",
    "                    val = (mat[i, j] - mat[i - 1, j]) / nom\n",
    "                base[i, j] = val\n",
    "    return base\n",
    "\n",
    "def plot_sp_mat(mat, size=(12,8)):\n",
    "    fig, ax = plt.subplots(figsize=size)\n",
    "    lines = ax.plot(mat)\n",
    "    ax.legend(iter(lines), list(range(mat.shape[1])))\n",
    "    plt.show()\n",
    "    \n",
    "def show_discrete_bases(mat, n, show_values=True, bound=10, precision=10):\n",
    "    bases = [mat]\n",
    "    if show_values:\n",
    "        print(f\"----------------------------------------base0----------------------------------------\")\n",
    "        display(bases[-1].evalf(precision))\n",
    "    for i in range(n):\n",
    "        bases.append(discrete_base_alt(bases[-1], bound=bound))\n",
    "        if show_values:\n",
    "            print(f\"----------------------------------------base{i+1}----------------------------------------\")\n",
    "            display(bases[-1].evalf(precision))\n",
    "    for i in range(n+1):\n",
    "        print(f\"----------------------------------------base{i}----------------------------------------\")\n",
    "        plot_sp_mat(bases[i])\n",
    "    return bases\n",
    "\n",
    "def kernel_dims(g, part=None, weighted=False, show_kernels=False):\n",
    "    if part == None:\n",
    "        part = [[i] for i in range(g.shape[0])]\n",
    "    dims = []\n",
    "    for i in range(1, len(part)+1):\n",
    "        mat = sp.Matrix([relative_importance(g, v, i, part, weighted=weighted) for v in range(n_parts)]).T\n",
    "        if show_kernels:\n",
    "            display(mat.nullspace())\n",
    "        dims.append(len(mat.nullspace()))\n",
    "    return dims\n",
    "        \n",
    "n = 100\n",
    "\n",
    "gcs = g\n",
    "weighted=False\n",
    "part = coarsest_partition(gcs)\n",
    "part = [[i] for i in range(gcs.shape[0])]\n",
    "n_parts = len(part)\n",
    "mat = sp.Matrix([relative_importance(gcs, v, n, part, weighted=weighted) for v in range(n_parts)]).T\n",
    "ker = mat.nullspace()\n",
    "display(ker)\n",
    "partition_ = sp.Matrix([[v[i,0] for i in range(v.shape[0])] for v in ker]).nullspace()\n",
    "partition_ = sp.Matrix([[v[i,0] for i in range(v.shape[0])] for v in partition_])\n",
    "display(partition_)\n",
    "display(kernel_dims(gcs, part=part, weighted=weighted))\n",
    "\n",
    "bases = show_discrete_bases(mat, 1, show_values=False)\n"
   ]
  },
  {
   "cell_type": "code",
   "execution_count": 9,
   "metadata": {},
   "outputs": [
    {
     "ename": "NameError",
     "evalue": "name 'bases' is not defined",
     "output_type": "error",
     "traceback": [
      "\u001b[0;31m---------------------------------------------------------------------------\u001b[0m",
      "\u001b[0;31mNameError\u001b[0m                                 Traceback (most recent call last)",
      "\u001b[0;32m/tmp/ipykernel_2920/1317851989.py\u001b[0m in \u001b[0;36m<module>\u001b[0;34m\u001b[0m\n\u001b[0;32m----> 1\u001b[0;31m \u001b[0mbases\u001b[0m\u001b[0;34m[\u001b[0m\u001b[0;36m0\u001b[0m\u001b[0;34m]\u001b[0m\u001b[0;34m[\u001b[0m\u001b[0;34m-\u001b[0m\u001b[0;36m1\u001b[0m\u001b[0;34m,\u001b[0m\u001b[0;34m:\u001b[0m\u001b[0;34m]\u001b[0m\u001b[0;34m.\u001b[0m\u001b[0mevalf\u001b[0m\u001b[0;34m(\u001b[0m\u001b[0;36m30\u001b[0m\u001b[0;34m)\u001b[0m\u001b[0;34m\u001b[0m\u001b[0;34m\u001b[0m\u001b[0m\n\u001b[0m",
      "\u001b[0;31mNameError\u001b[0m: name 'bases' is not defined"
     ]
    }
   ],
   "source": [
    "bases[0][-1,:].evalf(30)"
   ]
  },
  {
   "cell_type": "code",
   "execution_count": 10,
   "metadata": {},
   "outputs": [
    {
     "ename": "NameError",
     "evalue": "name 'g' is not defined",
     "output_type": "error",
     "traceback": [
      "\u001b[0;31m---------------------------------------------------------------------------\u001b[0m",
      "\u001b[0;31mNameError\u001b[0m                                 Traceback (most recent call last)",
      "\u001b[0;32m/tmp/ipykernel_2920/316520979.py\u001b[0m in \u001b[0;36m<module>\u001b[0;34m\u001b[0m\n\u001b[0;32m----> 1\u001b[0;31m \u001b[0mlargest_eigvec\u001b[0m \u001b[0;34m=\u001b[0m \u001b[0msp\u001b[0m\u001b[0;34m.\u001b[0m\u001b[0mre\u001b[0m\u001b[0;34m(\u001b[0m\u001b[0mg\u001b[0m\u001b[0;34m.\u001b[0m\u001b[0meigenvects\u001b[0m\u001b[0;34m(\u001b[0m\u001b[0;34m)\u001b[0m\u001b[0;34m[\u001b[0m\u001b[0;34m-\u001b[0m\u001b[0;36m1\u001b[0m\u001b[0;34m]\u001b[0m\u001b[0;34m[\u001b[0m\u001b[0;36m2\u001b[0m\u001b[0;34m]\u001b[0m\u001b[0;34m[\u001b[0m\u001b[0;36m0\u001b[0m\u001b[0;34m]\u001b[0m\u001b[0;34m.\u001b[0m\u001b[0mevalf\u001b[0m\u001b[0;34m(\u001b[0m\u001b[0;36m25\u001b[0m\u001b[0;34m)\u001b[0m\u001b[0;34m)\u001b[0m\u001b[0;34m\u001b[0m\u001b[0;34m\u001b[0m\u001b[0m\n\u001b[0m\u001b[1;32m      2\u001b[0m \u001b[0mlargest_eigvec\u001b[0m \u001b[0;34m/=\u001b[0m \u001b[0msum\u001b[0m\u001b[0;34m(\u001b[0m\u001b[0mlargest_eigvec\u001b[0m\u001b[0;34m)\u001b[0m\u001b[0;34m\u001b[0m\u001b[0;34m\u001b[0m\u001b[0m\n\u001b[1;32m      3\u001b[0m \u001b[0mlargest_eigenval\u001b[0m \u001b[0;34m=\u001b[0m \u001b[0msp\u001b[0m\u001b[0;34m.\u001b[0m\u001b[0mre\u001b[0m\u001b[0;34m(\u001b[0m\u001b[0mg\u001b[0m\u001b[0;34m.\u001b[0m\u001b[0meigenvects\u001b[0m\u001b[0;34m(\u001b[0m\u001b[0;34m)\u001b[0m\u001b[0;34m[\u001b[0m\u001b[0;34m-\u001b[0m\u001b[0;36m1\u001b[0m\u001b[0;34m]\u001b[0m\u001b[0;34m[\u001b[0m\u001b[0;36m0\u001b[0m\u001b[0;34m]\u001b[0m\u001b[0;34m.\u001b[0m\u001b[0mevalf\u001b[0m\u001b[0;34m(\u001b[0m\u001b[0;36m25\u001b[0m\u001b[0;34m)\u001b[0m\u001b[0;34m)\u001b[0m\u001b[0;34m\u001b[0m\u001b[0;34m\u001b[0m\u001b[0m\n\u001b[1;32m      4\u001b[0m \u001b[0mlargest_eigvec\u001b[0m\u001b[0;34m\u001b[0m\u001b[0;34m\u001b[0m\u001b[0m\n",
      "\u001b[0;31mNameError\u001b[0m: name 'g' is not defined"
     ]
    }
   ],
   "source": [
    "largest_eigvec = sp.re(g.eigenvects()[-1][2][0].evalf(25))\n",
    "largest_eigvec /= sum(largest_eigvec)\n",
    "largest_eigenval = sp.re(g.eigenvects()[-1][0].evalf(25))\n",
    "largest_eigvec"
   ]
  },
  {
   "cell_type": "code",
   "execution_count": 11,
   "metadata": {},
   "outputs": [
    {
     "ename": "NameError",
     "evalue": "name 'largest_eigvec' is not defined",
     "output_type": "error",
     "traceback": [
      "\u001b[0;31m---------------------------------------------------------------------------\u001b[0m",
      "\u001b[0;31mNameError\u001b[0m                                 Traceback (most recent call last)",
      "\u001b[0;32m/tmp/ipykernel_2920/2167429416.py\u001b[0m in \u001b[0;36m<module>\u001b[0;34m\u001b[0m\n\u001b[0;32m----> 1\u001b[0;31m \u001b[0mlargest_eigvec\u001b[0m\u001b[0;34m.\u001b[0m\u001b[0mT\u001b[0m\u001b[0;34m.\u001b[0m\u001b[0mnullspace\u001b[0m\u001b[0;34m(\u001b[0m\u001b[0;34m)\u001b[0m\u001b[0;34m\u001b[0m\u001b[0;34m\u001b[0m\u001b[0m\n\u001b[0m",
      "\u001b[0;31mNameError\u001b[0m: name 'largest_eigvec' is not defined"
     ]
    }
   ],
   "source": [
    "largest_eigvec.T.nullspace()"
   ]
  },
  {
   "cell_type": "code",
   "execution_count": 12,
   "metadata": {},
   "outputs": [],
   "source": [
    "def inv_subspace_poly(A, v=None, x=sp.symbols(\"x\")):\n",
    "    if v == None:\n",
    "        v = sp.Matrix([1]*g.shape[0])\n",
    "    n = A.shape[0]\n",
    "    subspace = v\n",
    "    for i in range(n):\n",
    "        kernel = subspace.nullspace()\n",
    "        if len(kernel) > 0:\n",
    "            ker = list(kernel[0])\n",
    "            p = 0\n",
    "            for j in range(len(ker)-1, -1, -1):\n",
    "                c = ker[-1-j]\n",
    "                p += c / ker[0] * x**j\n",
    "            return p\n",
    "        v = A * v\n",
    "        subspace = subspace.col_insert(0,v)\n",
    "    return g.charpoly(x).as_expr()\n",
    "\n",
    "def recurrence_degree(A):\n",
    "    A = np.array(A)\n",
    "    n = np.shape(A)[0]\n",
    "    k = n\n",
    "    v = np.ones(n, dtype=object)\n",
    "    B = np.eye(n, dtype=object)\n",
    "    \n",
    "    while k > 0:\n",
    "        w = np.zeros(k, dtype=object)\n",
    "        non_zero = -1\n",
    "        for i in range(k):\n",
    "            w_i = B[i].dot(v)\n",
    "            if w_i != 0:\n",
    "                if non_zero == -1:\n",
    "                    non_zero = i\n",
    "                w[i] = w_i\n",
    "        #print(B, v, w)\n",
    "        if non_zero == -1:\n",
    "            #print(B)\n",
    "            return n - k\n",
    "        v_nz = np.array(B[non_zero], dtype=object)\n",
    "        for i in range(k-1):\n",
    "            real_i = i\n",
    "            if i >= non_zero:\n",
    "                real_i += 1\n",
    "            #gcd = sp.igcd(w[non_zero], w[real_i])\n",
    "            #B[i] = w[non_zero] // gcd * B[real_i] - w[real_i] // gcd * v_nz\n",
    "            B[i] = B[real_i] - w[real_i] / w[non_zero] * v_nz\n",
    "        k -= 1\n",
    "        v = A.dot(v)\n",
    "        B = B[:-1]\n",
    "    return n"
   ]
  },
  {
   "cell_type": "code",
   "execution_count": 13,
   "metadata": {},
   "outputs": [],
   "source": [
    "def delta_rec(g, ind, v=None):\n",
    "    if v == None:\n",
    "        v = sp.ones(g.shape[0],1)\n",
    "    if len(ind) == 1:\n",
    "        return int((v.T*(g**ind[0])*v)[0,0])\n",
    "    ind = np.array(ind).astype(np.int32)\n",
    "    for i in range(len(ind)-1):\n",
    "        if ind[i] + 1 == ind[i+1]:\n",
    "            return 0\n",
    "    k=ind[-1]\n",
    "    ind = ind[:-1]\n",
    "    res = 0\n",
    "    for i in range(2**len(ind)):\n",
    "        index = np.array(list(np.binary_repr(i).zfill(len(ind)))).astype(np.int32)\n",
    "        l = np.sum(index)\n",
    "        #print(l,ind,index)\n",
    "        res += (-1)**l * delta(g,[k-l])*delta(g,ind+index)\n",
    "    return res\n",
    "    \n",
    "def delta(g, ind, already_computed = None):\n",
    "    if already_computed == None:\n",
    "        already_computed = {}\n",
    "    if tuple(ind) in already_computed:\n",
    "        return already_computed[tuple(ind)]\n",
    "    if len(ind) == 1:\n",
    "        v = sp.ones(g.shape[0],1)\n",
    "        v_i = int((v.T*(g**ind[0])*v)[0,0])\n",
    "        already_computed[tuple(ind)] = v_i\n",
    "        return v_i\n",
    "    ind = np.array(ind, dtype=object)\n",
    "    for i in range(len(ind)-1):\n",
    "        if ind[i] + 1 == ind[i+1]:\n",
    "            return 0\n",
    "    k=ind[-1]\n",
    "    ind = ind[:-1]\n",
    "    res = 0\n",
    "    for i in range(2**len(ind)):\n",
    "        index = np.array(list(np.binary_repr(i).zfill(len(ind)))).astype(np.int32).astype(object)\n",
    "        l = np.sum(index)\n",
    "        #print(l,ind,index)\n",
    "        res += (-1)**l * delta(g,[k-l],already_computed=already_computed) // 2 * delta(g,ind+index,already_computed=already_computed)\n",
    "    already_computed[tuple(np.append(ind,k))] = res\n",
    "    return res\n",
    "\n",
    "def delta_indices(k):\n",
    "    ind = [2*i for i in range(k)]\n",
    "    for i in range(k-1, -1, -1):\n",
    "        yield ind.copy()\n",
    "        ind[i] += 1\n",
    "    yield ind.copy()\n",
    "        \n",
    "def delta_coeffs(g, k, already_computed=None):\n",
    "    if already_computed == None:\n",
    "        already_computed = {}\n",
    "    for ind in delta_indices(k):\n",
    "        yield (-1)**sum(ind) * delta(g, ind, already_computed=already_computed)"
   ]
  },
  {
   "cell_type": "code",
   "execution_count": 14,
   "metadata": {
    "scrolled": false
   },
   "outputs": [],
   "source": [
    "def row_poly(cmat, row):\n",
    "    poly = 0 * x**0\n",
    "    for i in range(cmat.shape[1]):\n",
    "        poly += x**i * cmat[row, i]\n",
    "    return poly\n",
    "\n",
    "def poly_mat(poly):\n",
    "    n = sp.degree(poly)\n",
    "    polymat = sp.zeros(n + 1, n + 1)\n",
    "    for k in range(n + 1):\n",
    "        for i in range(k + 1):\n",
    "            if i < n:\n",
    "                polymat[k, k - i] = poly.coeff(x**(n - i))\n",
    "            else:\n",
    "                polymat[k, k - i] = poly.subs(x, 0)\n",
    "    return polymat\n",
    "\n",
    "def inv_poly(poly):\n",
    "    pm = poly_mat(poly)\n",
    "    return row_poly(pm.inv(), sp.degree(poly))\n",
    "\n",
    "def poly_to_seq(poly, k=None):\n",
    "    seq = []\n",
    "    d = sp.degree(poly)\n",
    "    if k == None:\n",
    "        k = n\n",
    "    for i in range(k):\n",
    "        if i == k - 1:\n",
    "            seq.append(poly.subs(x, 0))\n",
    "        else:\n",
    "            seq.append(poly.coeff(x**(k - 1 - i)))\n",
    "    return seq\n",
    "\n",
    "def recurrize (seq, poly, n=1):\n",
    "    seq_ = seq.copy()\n",
    "    for i in range(n):\n",
    "        seq_ = poly_to_seq(residual_seq(seq_, poly), k=len(seq))\n",
    "    return seq_\n",
    "\n",
    "def curry(seq1, seq2):\n",
    "    if len(seq1) != len(seq2):\n",
    "        print(\"sequences have unequal length!\")\n",
    "        return\n",
    "    poly = x**len(seq2)\n",
    "    for i in range(len(seq2)):\n",
    "        poly += seq2[i] * x**(len(seq2) - 1 - i)\n",
    "    return recurrize(seq1, poly)"
   ]
  },
  {
   "cell_type": "code",
   "execution_count": 15,
   "metadata": {},
   "outputs": [],
   "source": [
    "def threshold(mat, thresh = 10**(-10)):\n",
    "    for i in range(mat.shape[0]):\n",
    "        for j in range(mat.shape[1]):\n",
    "            if abs(sp.re(mat[i, j])) < thresh:\n",
    "                if abs(sp.im(mat[i, j])) < thresh:\n",
    "                    mat[i, j] = 0\n",
    "                else:\n",
    "                    mat[i, j] = sp.im(mat[i, j]) * sp.I\n",
    "            elif abs(sp.im(mat[i, j])) < thresh:\n",
    "                mat[i, j] = sp.re(mat[i, j])\n",
    "    return mat\n",
    "\n",
    "def apply_poly(poly, pmat):\n",
    "    constant = poly.subs(x,0)\n",
    "    if poly - constant != 0:\n",
    "        res = (poly-constant).subs(x,pmat)\n",
    "    else:\n",
    "        res = sp.zeros(pmat.shape[0], pmat.shape[0])\n",
    "    if constant != 0:\n",
    "        res += constant * sp.eye(pmat.shape[0])\n",
    "    return res\n",
    "\n",
    "def trunc_poly(poly, i, x=sp.symbols(\"x\")):\n",
    "    res = 0\n",
    "    d = sp.degree(poly)\n",
    "    for j in range(1, d - i + 1):\n",
    "        res += poly.coeff(x**(i + j)) * x**(j - 1)\n",
    "    return res"
   ]
  },
  {
   "cell_type": "code",
   "execution_count": 16,
   "metadata": {},
   "outputs": [],
   "source": [
    "def dfs(graph, start, end):\n",
    "    fringe = [(start, [])]\n",
    "    while fringe:\n",
    "        state, path = fringe.pop()\n",
    "        if len(path) > 2 and state == end:\n",
    "            yield path\n",
    "            continue\n",
    "        for next_state in graph[state]:\n",
    "            if next_state in path:\n",
    "                continue\n",
    "            fringe.append((next_state, path+[next_state]))\n",
    "\n",
    "def find_cycles(g):\n",
    "    ng = g.shape[0]\n",
    "    graph = {u : [v for v in range(ng) if g[u,v] == 1] for u in range(ng)}\n",
    "    cycles = [path  for node in range(n) for path in dfs(graph, node, node)]\n",
    "    i = 0\n",
    "    while i < len(cycles):\n",
    "        if cycles[i][0] != min(cycles[i]):\n",
    "            del cycles[i]\n",
    "        else:\n",
    "            c_rev = cycles[i].copy()\n",
    "            c_rev.reverse()\n",
    "            for j in range(i + 1, len(cycles)):\n",
    "                if cycles[j][1:] == c_rev[:-1] and cycles[j][0] == c_rev[-1]:\n",
    "                    del cycles[j]\n",
    "                    break\n",
    "            i += 1\n",
    "    return cycles\n",
    "\n",
    "def find_odd_cycles(g):\n",
    "    return [c for c in find_cycles(g) if len(c) % 2]\n",
    "\n",
    "def is_connected(g):\n",
    "    ng = g.shape[0]\n",
    "    stack = [0]\n",
    "    visited = [False for i in range(ng)]\n",
    "    while stack:\n",
    "        v = stack.pop()\n",
    "        if visited[v]:\n",
    "            continue\n",
    "        visited[v] = True\n",
    "        for nb in range(ng):\n",
    "            if g[v, nb] == 1 and not visited[nb]:\n",
    "                stack.append(nb)\n",
    "    u = 0\n",
    "    while u < ng and visited[u]:\n",
    "        u += 1\n",
    "    if u == ng:\n",
    "        return True\n",
    "    return False"
   ]
  },
  {
   "cell_type": "code",
   "execution_count": 17,
   "metadata": {
    "scrolled": false
   },
   "outputs": [
    {
     "data": {
      "image/png": "[encoded data removed]",
      "text/plain": [
       "<Figure size 432x288 with 1 Axes>"
      ]
     },
     "metadata": {},
     "output_type": "display_data"
    },
    {
     "data": {
      "text/latex": [
       "$\\displaystyle \\text{walk count sequence: 7, 18, 48, 126, 334, 880, 2330}, \\ldots$"
      ],
      "text/plain": [
       "<IPython.core.display.Math object>"
      ]
     },
     "metadata": {},
     "output_type": "display_data"
    },
    {
     "data": {
      "text/latex": [
       "$\\displaystyle \\text{average degree: }2.571429$"
      ],
      "text/plain": [
       "<IPython.core.display.Math object>"
      ]
     },
     "metadata": {},
     "output_type": "display_data"
    },
    {
     "data": {
      "text/latex": [
       "$\\displaystyle \\text{characteristic polynomial: }x^{7} - 9 x^{5} - 2 x^{4} + 19 x^{3} + 4 x^{2} - 8 x = x \\left(x^{2} + x - 1\\right) \\left(x^{4} - x^{3} - 7 x^{2} + 4 x + 8\\right)$"
      ],
      "text/plain": [
       "<IPython.core.display.Math object>"
      ]
     },
     "metadata": {},
     "output_type": "display_data"
    },
    {
     "data": {
      "text/latex": [
       "$\\displaystyle \\text{characteristic residual: }7 x^{6} + 18 x^{5} - 15 x^{4} - 50 x^{3} - x^{2} + 20 x = x \\left(x^{2} + x - 1\\right) \\left(7 x^{3} + 11 x^{2} - 19 x - 20\\right)$"
      ],
      "text/plain": [
       "<IPython.core.display.Math object>"
      ]
     },
     "metadata": {},
     "output_type": "display_data"
    },
    {
     "data": {
      "text/latex": [
       "$\\displaystyle \\text{recurrence polynomial: }x^{4} - x^{3} - 7 x^{2} + 4 x + 8$"
      ],
      "text/plain": [
       "<IPython.core.display.Math object>"
      ]
     },
     "metadata": {},
     "output_type": "display_data"
    }
   ],
   "source": [
    "n=7\n",
    "g = random_graph(n,0.5)\n",
    "#g = custom_star([2,2,2])\n",
    "n = g.shape[0]\n",
    "x=sp.symbols(\"x\")\n",
    "y=sp.symbols(\"y\")\n",
    "cp = g.charpoly(x).as_expr()\n",
    "cpmat = poly_mat(cp)\n",
    "cp_inv = inv_poly(cp)\n",
    "gc = complement(g)\n",
    "cp_c = gc.charpoly(x).as_expr()\n",
    "residuals = sp.Matrix([[residual(g, cp, x=x, v=e_(n,i), w=e_(n,j)).factor() for i in range(n)] for j in range(n)])\n",
    "residuals_c = sp.Matrix([[residual(gc, cp_c, x=x, v=e_(n,i), w=e_(n,j)).subs(x,-1-x).expand() for i in range(n)] for j in range(n)])\n",
    "residuals_expand = sp.Matrix([[residual(g, cp, x=x, v=e_(n,i), w=e_(n,j)).expand() for i in range(n)] for j in range(n)])\n",
    "analyze(g)"
   ]
  },
  {
   "cell_type": "code",
   "execution_count": 17,
   "metadata": {},
   "outputs": [
    {
     "ename": "KeyboardInterrupt",
     "evalue": "",
     "output_type": "error",
     "traceback": [
      "\u001b[0;31m---------------------------------------------------------------------------\u001b[0m",
      "\u001b[0;31mKeyError\u001b[0m                                  Traceback (most recent call last)",
      "\u001b[0;32m~/anaconda3/lib/python3.9/site-packages/sympy/core/assumptions.py\u001b[0m in \u001b[0;36mgetit\u001b[0;34m(self)\u001b[0m\n\u001b[1;32m    461\u001b[0m         \u001b[0;32mtry\u001b[0m\u001b[0;34m:\u001b[0m\u001b[0;34m\u001b[0m\u001b[0;34m\u001b[0m\u001b[0m\n\u001b[0;32m--> 462\u001b[0;31m             \u001b[0;32mreturn\u001b[0m \u001b[0mself\u001b[0m\u001b[0;34m.\u001b[0m\u001b[0m_assumptions\u001b[0m\u001b[0;34m[\u001b[0m\u001b[0mfact\u001b[0m\u001b[0;34m]\u001b[0m\u001b[0;34m\u001b[0m\u001b[0;34m\u001b[0m\u001b[0m\n\u001b[0m\u001b[1;32m    463\u001b[0m         \u001b[0;32mexcept\u001b[0m \u001b[0mKeyError\u001b[0m\u001b[0;34m:\u001b[0m\u001b[0;34m\u001b[0m\u001b[0;34m\u001b[0m\u001b[0m\n",
      "\u001b[0;31mKeyError\u001b[0m: 'extended_real'",
      "\nDuring handling of the above exception, another exception occurred:\n",
      "\u001b[0;31mKeyError\u001b[0m                                  Traceback (most recent call last)",
      "\u001b[0;32m~/anaconda3/lib/python3.9/site-packages/sympy/core/assumptions.py\u001b[0m in \u001b[0;36mgetit\u001b[0;34m(self)\u001b[0m\n\u001b[1;32m    461\u001b[0m         \u001b[0;32mtry\u001b[0m\u001b[0;34m:\u001b[0m\u001b[0;34m\u001b[0m\u001b[0;34m\u001b[0m\u001b[0m\n\u001b[0;32m--> 462\u001b[0;31m             \u001b[0;32mreturn\u001b[0m \u001b[0mself\u001b[0m\u001b[0;34m.\u001b[0m\u001b[0m_assumptions\u001b[0m\u001b[0;34m[\u001b[0m\u001b[0mfact\u001b[0m\u001b[0;34m]\u001b[0m\u001b[0;34m\u001b[0m\u001b[0;34m\u001b[0m\u001b[0m\n\u001b[0m\u001b[1;32m    463\u001b[0m         \u001b[0;32mexcept\u001b[0m \u001b[0mKeyError\u001b[0m\u001b[0;34m:\u001b[0m\u001b[0;34m\u001b[0m\u001b[0;34m\u001b[0m\u001b[0m\n",
      "\u001b[0;31mKeyError\u001b[0m: 'complex'",
      "\nDuring handling of the above exception, another exception occurred:\n",
      "\u001b[0;31mKeyboardInterrupt\u001b[0m                         Traceback (most recent call last)",
      "\u001b[0;32m/tmp/ipykernel_18343/1014942285.py\u001b[0m in \u001b[0;36m<module>\u001b[0;34m\u001b[0m\n\u001b[1;32m      1\u001b[0m \u001b[0mpoly\u001b[0m \u001b[0;34m=\u001b[0m \u001b[0mx\u001b[0m\u001b[0;34m**\u001b[0m\u001b[0;36m6\u001b[0m \u001b[0;34m-\u001b[0m \u001b[0;36m6\u001b[0m\u001b[0;34m*\u001b[0m\u001b[0mx\u001b[0m\u001b[0;34m**\u001b[0m\u001b[0;36m4\u001b[0m \u001b[0;34m+\u001b[0m \u001b[0;36m9\u001b[0m\u001b[0;34m*\u001b[0m\u001b[0mx\u001b[0m\u001b[0;34m**\u001b[0m\u001b[0;36m2\u001b[0m \u001b[0;34m-\u001b[0m \u001b[0;36m3\u001b[0m\u001b[0;34m\u001b[0m\u001b[0;34m\u001b[0m\u001b[0m\n\u001b[1;32m      2\u001b[0m \u001b[0md\u001b[0m \u001b[0;34m=\u001b[0m \u001b[0msp\u001b[0m\u001b[0;34m.\u001b[0m\u001b[0mdegree\u001b[0m\u001b[0;34m(\u001b[0m\u001b[0mpoly\u001b[0m\u001b[0;34m)\u001b[0m\u001b[0;34m\u001b[0m\u001b[0;34m\u001b[0m\u001b[0m\n\u001b[0;32m----> 3\u001b[0;31m \u001b[0mroots\u001b[0m \u001b[0;34m=\u001b[0m \u001b[0;34m[\u001b[0m\u001b[0msp\u001b[0m\u001b[0;34m.\u001b[0m\u001b[0mre\u001b[0m\u001b[0;34m(\u001b[0m\u001b[0mr\u001b[0m\u001b[0;34m.\u001b[0m\u001b[0mevalf\u001b[0m\u001b[0;34m(\u001b[0m\u001b[0;34m)\u001b[0m\u001b[0;34m)\u001b[0m \u001b[0;32mfor\u001b[0m \u001b[0mr\u001b[0m \u001b[0;32min\u001b[0m \u001b[0msp\u001b[0m\u001b[0;34m.\u001b[0m\u001b[0msolve\u001b[0m\u001b[0;34m(\u001b[0m\u001b[0mpoly\u001b[0m\u001b[0;34m,\u001b[0m\u001b[0mx\u001b[0m\u001b[0;34m)\u001b[0m\u001b[0;34m]\u001b[0m\u001b[0;34m\u001b[0m\u001b[0;34m\u001b[0m\u001b[0m\n\u001b[0m\u001b[1;32m      4\u001b[0m \u001b[0;34m\u001b[0m\u001b[0m\n\u001b[1;32m      5\u001b[0m \u001b[0mevs\u001b[0m \u001b[0;34m=\u001b[0m \u001b[0mg\u001b[0m\u001b[0;34m.\u001b[0m\u001b[0meigenvects\u001b[0m\u001b[0;34m(\u001b[0m\u001b[0;34m)\u001b[0m\u001b[0;34m\u001b[0m\u001b[0;34m\u001b[0m\u001b[0m\n",
      "\u001b[0;32m~/anaconda3/lib/python3.9/site-packages/sympy/solvers/solvers.py\u001b[0m in \u001b[0;36msolve\u001b[0;34m(f, *symbols, **flags)\u001b[0m\n\u001b[1;32m   1093\u001b[0m     \u001b[0;31m###########################################################################\u001b[0m\u001b[0;34m\u001b[0m\u001b[0;34m\u001b[0m\u001b[0m\n\u001b[1;32m   1094\u001b[0m     \u001b[0;32mif\u001b[0m \u001b[0mbare_f\u001b[0m\u001b[0;34m:\u001b[0m\u001b[0;34m\u001b[0m\u001b[0;34m\u001b[0m\u001b[0m\n\u001b[0;32m-> 1095\u001b[0;31m         \u001b[0msolution\u001b[0m \u001b[0;34m=\u001b[0m \u001b[0m_solve\u001b[0m\u001b[0;34m(\u001b[0m\u001b[0mf\u001b[0m\u001b[0;34m[\u001b[0m\u001b[0;36m0\u001b[0m\u001b[0;34m]\u001b[0m\u001b[0;34m,\u001b[0m \u001b[0;34m*\u001b[0m\u001b[0msymbols\u001b[0m\u001b[0;34m,\u001b[0m \u001b[0;34m**\u001b[0m\u001b[0mflags\u001b[0m\u001b[0;34m)\u001b[0m\u001b[0;34m\u001b[0m\u001b[0;34m\u001b[0m\u001b[0m\n\u001b[0m\u001b[1;32m   1096\u001b[0m     \u001b[0;32melse\u001b[0m\u001b[0;34m:\u001b[0m\u001b[0;34m\u001b[0m\u001b[0;34m\u001b[0m\u001b[0m\n\u001b[1;32m   1097\u001b[0m         \u001b[0msolution\u001b[0m \u001b[0;34m=\u001b[0m \u001b[0m_solve_system\u001b[0m\u001b[0;34m(\u001b[0m\u001b[0mf\u001b[0m\u001b[0;34m,\u001b[0m \u001b[0msymbols\u001b[0m\u001b[0;34m,\u001b[0m \u001b[0;34m**\u001b[0m\u001b[0mflags\u001b[0m\u001b[0;34m)\u001b[0m\u001b[0;34m\u001b[0m\u001b[0;34m\u001b[0m\u001b[0m\n",
      "\u001b[0;32m~/anaconda3/lib/python3.9/site-packages/sympy/solvers/solvers.py\u001b[0m in \u001b[0;36m_solve\u001b[0;34m(f, *symbols, **flags)\u001b[0m\n\u001b[1;32m   1619\u001b[0m                 solvers = {k: flags.get(k, True) for k in\n\u001b[1;32m   1620\u001b[0m                     ('cubics', 'quartics', 'quintics')}\n\u001b[0;32m-> 1621\u001b[0;31m                 \u001b[0msoln\u001b[0m \u001b[0;34m=\u001b[0m \u001b[0mroots\u001b[0m\u001b[0;34m(\u001b[0m\u001b[0mpoly\u001b[0m\u001b[0;34m,\u001b[0m \u001b[0;34m**\u001b[0m\u001b[0msolvers\u001b[0m\u001b[0;34m)\u001b[0m\u001b[0;34m\u001b[0m\u001b[0;34m\u001b[0m\u001b[0m\n\u001b[0m\u001b[1;32m   1622\u001b[0m                 \u001b[0;32mif\u001b[0m \u001b[0msum\u001b[0m\u001b[0;34m(\u001b[0m\u001b[0msoln\u001b[0m\u001b[0;34m.\u001b[0m\u001b[0mvalues\u001b[0m\u001b[0;34m(\u001b[0m\u001b[0;34m)\u001b[0m\u001b[0;34m)\u001b[0m \u001b[0;34m<\u001b[0m \u001b[0mdeg\u001b[0m\u001b[0;34m:\u001b[0m\u001b[0;34m\u001b[0m\u001b[0;34m\u001b[0m\u001b[0m\n\u001b[1;32m   1623\u001b[0m                     \u001b[0;31m# e.g. roots(32*x**5 + 400*x**4 + 2032*x**3 +\u001b[0m\u001b[0;34m\u001b[0m\u001b[0;34m\u001b[0m\u001b[0m\n",
      "\u001b[0;32m~/anaconda3/lib/python3.9/site-packages/sympy/polys/polyroots.py\u001b[0m in \u001b[0;36mroots\u001b[0;34m(f, auto, cubics, trig, quartics, quintics, multiple, filter, predicate, *gens, **flags)\u001b[0m\n\u001b[1;32m   1036\u001b[0m                                 \u001b[0m_update_dict\u001b[0m\u001b[0;34m(\u001b[0m\u001b[0mresult\u001b[0m\u001b[0;34m,\u001b[0m \u001b[0mr\u001b[0m\u001b[0;34m,\u001b[0m \u001b[0;36m1\u001b[0m\u001b[0;34m)\u001b[0m\u001b[0;34m\u001b[0m\u001b[0;34m\u001b[0m\u001b[0m\n\u001b[1;32m   1037\u001b[0m                     \u001b[0;32melse\u001b[0m\u001b[0;34m:\u001b[0m\u001b[0;34m\u001b[0m\u001b[0;34m\u001b[0m\u001b[0m\n\u001b[0;32m-> 1038\u001b[0;31m                         \u001b[0;32mfor\u001b[0m \u001b[0mcurrentroot\u001b[0m \u001b[0;32min\u001b[0m \u001b[0m_try_decompose\u001b[0m\u001b[0;34m(\u001b[0m\u001b[0mf\u001b[0m\u001b[0;34m)\u001b[0m\u001b[0;34m:\u001b[0m\u001b[0;34m\u001b[0m\u001b[0;34m\u001b[0m\u001b[0m\n\u001b[0m\u001b[1;32m   1039\u001b[0m                             \u001b[0m_update_dict\u001b[0m\u001b[0;34m(\u001b[0m\u001b[0mresult\u001b[0m\u001b[0;34m,\u001b[0m \u001b[0mcurrentroot\u001b[0m\u001b[0;34m,\u001b[0m \u001b[0;36m1\u001b[0m\u001b[0;34m)\u001b[0m\u001b[0;34m\u001b[0m\u001b[0;34m\u001b[0m\u001b[0m\n\u001b[1;32m   1040\u001b[0m                 \u001b[0;32melse\u001b[0m\u001b[0;34m:\u001b[0m\u001b[0;34m\u001b[0m\u001b[0;34m\u001b[0m\u001b[0m\n",
      "\u001b[0;32m~/anaconda3/lib/python3.9/site-packages/sympy/polys/polyroots.py\u001b[0m in \u001b[0;36m_try_decompose\u001b[0;34m(f)\u001b[0m\n\u001b[1;32m    935\u001b[0m                 \u001b[0mg\u001b[0m \u001b[0;34m=\u001b[0m \u001b[0mcurrentfactor\u001b[0m \u001b[0;34m-\u001b[0m \u001b[0mPoly\u001b[0m\u001b[0;34m(\u001b[0m\u001b[0mcurrentroot\u001b[0m\u001b[0;34m,\u001b[0m \u001b[0mf\u001b[0m\u001b[0;34m.\u001b[0m\u001b[0mgen\u001b[0m\u001b[0;34m)\u001b[0m\u001b[0;34m\u001b[0m\u001b[0;34m\u001b[0m\u001b[0m\n\u001b[1;32m    936\u001b[0m \u001b[0;34m\u001b[0m\u001b[0m\n\u001b[0;32m--> 937\u001b[0;31m                 \u001b[0;32mfor\u001b[0m \u001b[0mcurrentroot\u001b[0m \u001b[0;32min\u001b[0m \u001b[0m_try_heuristics\u001b[0m\u001b[0;34m(\u001b[0m\u001b[0mg\u001b[0m\u001b[0;34m)\u001b[0m\u001b[0;34m:\u001b[0m\u001b[0;34m\u001b[0m\u001b[0;34m\u001b[0m\u001b[0m\n\u001b[0m\u001b[1;32m    938\u001b[0m                     \u001b[0mroots\u001b[0m\u001b[0;34m.\u001b[0m\u001b[0mappend\u001b[0m\u001b[0;34m(\u001b[0m\u001b[0mcurrentroot\u001b[0m\u001b[0;34m)\u001b[0m\u001b[0;34m\u001b[0m\u001b[0;34m\u001b[0m\u001b[0m\n\u001b[1;32m    939\u001b[0m \u001b[0;34m\u001b[0m\u001b[0m\n",
      "\u001b[0;32m~/anaconda3/lib/python3.9/site-packages/sympy/polys/polyroots.py\u001b[0m in \u001b[0;36m_try_heuristics\u001b[0;34m(f)\u001b[0m\n\u001b[1;32m    951\u001b[0m                 \u001b[0;32mreturn\u001b[0m \u001b[0mlist\u001b[0m\u001b[0;34m(\u001b[0m\u001b[0mmap\u001b[0m\u001b[0;34m(\u001b[0m\u001b[0mcancel\u001b[0m\u001b[0;34m,\u001b[0m \u001b[0mroots_linear\u001b[0m\u001b[0;34m(\u001b[0m\u001b[0mf\u001b[0m\u001b[0;34m)\u001b[0m\u001b[0;34m)\u001b[0m\u001b[0;34m)\u001b[0m\u001b[0;34m\u001b[0m\u001b[0;34m\u001b[0m\u001b[0m\n\u001b[1;32m    952\u001b[0m             \u001b[0;32melse\u001b[0m\u001b[0;34m:\u001b[0m\u001b[0;34m\u001b[0m\u001b[0;34m\u001b[0m\u001b[0m\n\u001b[0;32m--> 953\u001b[0;31m                 \u001b[0;32mreturn\u001b[0m \u001b[0mroots_binomial\u001b[0m\u001b[0;34m(\u001b[0m\u001b[0mf\u001b[0m\u001b[0;34m)\u001b[0m\u001b[0;34m\u001b[0m\u001b[0;34m\u001b[0m\u001b[0m\n\u001b[0m\u001b[1;32m    954\u001b[0m \u001b[0;34m\u001b[0m\u001b[0m\n\u001b[1;32m    955\u001b[0m         \u001b[0mresult\u001b[0m \u001b[0;34m=\u001b[0m \u001b[0;34m[\u001b[0m\u001b[0;34m]\u001b[0m\u001b[0;34m\u001b[0m\u001b[0;34m\u001b[0m\u001b[0m\n",
      "\u001b[0;32m~/anaconda3/lib/python3.9/site-packages/sympy/polys/polyroots.py\u001b[0m in \u001b[0;36mroots_binomial\u001b[0;34m(f)\u001b[0m\n\u001b[1;32m    380\u001b[0m \u001b[0;34m\u001b[0m\u001b[0m\n\u001b[1;32m    381\u001b[0m     \u001b[0;32mif\u001b[0m \u001b[0malpha\u001b[0m\u001b[0;34m.\u001b[0m\u001b[0mis_number\u001b[0m\u001b[0;34m:\u001b[0m\u001b[0;34m\u001b[0m\u001b[0;34m\u001b[0m\u001b[0m\n\u001b[0;32m--> 382\u001b[0;31m         \u001b[0malpha\u001b[0m \u001b[0;34m=\u001b[0m \u001b[0malpha\u001b[0m\u001b[0;34m.\u001b[0m\u001b[0mexpand\u001b[0m\u001b[0;34m(\u001b[0m\u001b[0mcomplex\u001b[0m\u001b[0;34m=\u001b[0m\u001b[0;32mTrue\u001b[0m\u001b[0;34m)\u001b[0m\u001b[0;34m\u001b[0m\u001b[0;34m\u001b[0m\u001b[0m\n\u001b[0m\u001b[1;32m    383\u001b[0m \u001b[0;34m\u001b[0m\u001b[0m\n\u001b[1;32m    384\u001b[0m     \u001b[0;31m# define some parameters that will allow us to order the roots.\u001b[0m\u001b[0;34m\u001b[0m\u001b[0;34m\u001b[0m\u001b[0m\n",
      "\u001b[0;32m~/anaconda3/lib/python3.9/site-packages/sympy/core/cache.py\u001b[0m in \u001b[0;36mwrapper\u001b[0;34m(*args, **kwargs)\u001b[0m\n\u001b[1;32m     70\u001b[0m         \u001b[0;32mdef\u001b[0m \u001b[0mwrapper\u001b[0m\u001b[0;34m(\u001b[0m\u001b[0;34m*\u001b[0m\u001b[0margs\u001b[0m\u001b[0;34m,\u001b[0m \u001b[0;34m**\u001b[0m\u001b[0mkwargs\u001b[0m\u001b[0;34m)\u001b[0m\u001b[0;34m:\u001b[0m\u001b[0;34m\u001b[0m\u001b[0;34m\u001b[0m\u001b[0m\n\u001b[1;32m     71\u001b[0m             \u001b[0;32mtry\u001b[0m\u001b[0;34m:\u001b[0m\u001b[0;34m\u001b[0m\u001b[0;34m\u001b[0m\u001b[0m\n\u001b[0;32m---> 72\u001b[0;31m                 \u001b[0mretval\u001b[0m \u001b[0;34m=\u001b[0m \u001b[0mcfunc\u001b[0m\u001b[0;34m(\u001b[0m\u001b[0;34m*\u001b[0m\u001b[0margs\u001b[0m\u001b[0;34m,\u001b[0m \u001b[0;34m**\u001b[0m\u001b[0mkwargs\u001b[0m\u001b[0;34m)\u001b[0m\u001b[0;34m\u001b[0m\u001b[0;34m\u001b[0m\u001b[0m\n\u001b[0m\u001b[1;32m     73\u001b[0m             \u001b[0;32mexcept\u001b[0m \u001b[0mTypeError\u001b[0m \u001b[0;32mas\u001b[0m \u001b[0me\u001b[0m\u001b[0;34m:\u001b[0m\u001b[0;34m\u001b[0m\u001b[0;34m\u001b[0m\u001b[0m\n\u001b[1;32m     74\u001b[0m                 \u001b[0;32mif\u001b[0m \u001b[0;32mnot\u001b[0m \u001b[0me\u001b[0m\u001b[0;34m.\u001b[0m\u001b[0margs\u001b[0m \u001b[0;32mor\u001b[0m \u001b[0;32mnot\u001b[0m \u001b[0me\u001b[0m\u001b[0;34m.\u001b[0m\u001b[0margs\u001b[0m\u001b[0;34m[\u001b[0m\u001b[0;36m0\u001b[0m\u001b[0;34m]\u001b[0m\u001b[0;34m.\u001b[0m\u001b[0mstartswith\u001b[0m\u001b[0;34m(\u001b[0m\u001b[0;34m'unhashable type:'\u001b[0m\u001b[0;34m)\u001b[0m\u001b[0;34m:\u001b[0m\u001b[0;34m\u001b[0m\u001b[0;34m\u001b[0m\u001b[0m\n",
      "\u001b[0;32m~/anaconda3/lib/python3.9/site-packages/sympy/core/expr.py\u001b[0m in \u001b[0;36mexpand\u001b[0;34m(self, deep, modulus, power_base, power_exp, mul, log, multinomial, basic, **hints)\u001b[0m\n\u001b[1;32m   3620\u001b[0m             \u001b[0;32mif\u001b[0m \u001b[0muse_hint\u001b[0m\u001b[0;34m:\u001b[0m\u001b[0;34m\u001b[0m\u001b[0;34m\u001b[0m\u001b[0m\n\u001b[1;32m   3621\u001b[0m                 \u001b[0mhint\u001b[0m \u001b[0;34m=\u001b[0m \u001b[0;34m'_eval_expand_'\u001b[0m \u001b[0;34m+\u001b[0m \u001b[0mhint\u001b[0m\u001b[0;34m\u001b[0m\u001b[0;34m\u001b[0m\u001b[0m\n\u001b[0;32m-> 3622\u001b[0;31m                 \u001b[0mexpr\u001b[0m\u001b[0;34m,\u001b[0m \u001b[0mhit\u001b[0m \u001b[0;34m=\u001b[0m \u001b[0mExpr\u001b[0m\u001b[0;34m.\u001b[0m\u001b[0m_expand_hint\u001b[0m\u001b[0;34m(\u001b[0m\u001b[0mexpr\u001b[0m\u001b[0;34m,\u001b[0m \u001b[0mhint\u001b[0m\u001b[0;34m,\u001b[0m \u001b[0mdeep\u001b[0m\u001b[0;34m=\u001b[0m\u001b[0mdeep\u001b[0m\u001b[0;34m,\u001b[0m \u001b[0;34m**\u001b[0m\u001b[0mhints\u001b[0m\u001b[0;34m)\u001b[0m\u001b[0;34m\u001b[0m\u001b[0;34m\u001b[0m\u001b[0m\n\u001b[0m\u001b[1;32m   3623\u001b[0m \u001b[0;34m\u001b[0m\u001b[0m\n\u001b[1;32m   3624\u001b[0m         \u001b[0;32mwhile\u001b[0m \u001b[0;32mTrue\u001b[0m\u001b[0;34m:\u001b[0m\u001b[0;34m\u001b[0m\u001b[0;34m\u001b[0m\u001b[0m\n",
      "\u001b[0;32m~/anaconda3/lib/python3.9/site-packages/sympy/core/expr.py\u001b[0m in \u001b[0;36m_expand_hint\u001b[0;34m(expr, hint, deep, **hints)\u001b[0m\n\u001b[1;32m   3553\u001b[0m             \u001b[0msargs\u001b[0m \u001b[0;34m=\u001b[0m \u001b[0;34m[\u001b[0m\u001b[0;34m]\u001b[0m\u001b[0;34m\u001b[0m\u001b[0;34m\u001b[0m\u001b[0m\n\u001b[1;32m   3554\u001b[0m             \u001b[0;32mfor\u001b[0m \u001b[0marg\u001b[0m \u001b[0;32min\u001b[0m \u001b[0mexpr\u001b[0m\u001b[0;34m.\u001b[0m\u001b[0margs\u001b[0m\u001b[0;34m:\u001b[0m\u001b[0;34m\u001b[0m\u001b[0;34m\u001b[0m\u001b[0m\n\u001b[0;32m-> 3555\u001b[0;31m                 \u001b[0marg\u001b[0m\u001b[0;34m,\u001b[0m \u001b[0marghit\u001b[0m \u001b[0;34m=\u001b[0m \u001b[0mExpr\u001b[0m\u001b[0;34m.\u001b[0m\u001b[0m_expand_hint\u001b[0m\u001b[0;34m(\u001b[0m\u001b[0marg\u001b[0m\u001b[0;34m,\u001b[0m \u001b[0mhint\u001b[0m\u001b[0;34m,\u001b[0m \u001b[0;34m**\u001b[0m\u001b[0mhints\u001b[0m\u001b[0;34m)\u001b[0m\u001b[0;34m\u001b[0m\u001b[0;34m\u001b[0m\u001b[0m\n\u001b[0m\u001b[1;32m   3556\u001b[0m                 \u001b[0mhit\u001b[0m \u001b[0;34m|=\u001b[0m \u001b[0marghit\u001b[0m\u001b[0;34m\u001b[0m\u001b[0;34m\u001b[0m\u001b[0m\n\u001b[1;32m   3557\u001b[0m                 \u001b[0msargs\u001b[0m\u001b[0;34m.\u001b[0m\u001b[0mappend\u001b[0m\u001b[0;34m(\u001b[0m\u001b[0marg\u001b[0m\u001b[0;34m)\u001b[0m\u001b[0;34m\u001b[0m\u001b[0;34m\u001b[0m\u001b[0m\n",
      "\u001b[0;32m~/anaconda3/lib/python3.9/site-packages/sympy/core/expr.py\u001b[0m in \u001b[0;36m_expand_hint\u001b[0;34m(expr, hint, deep, **hints)\u001b[0m\n\u001b[1;32m   3553\u001b[0m             \u001b[0msargs\u001b[0m \u001b[0;34m=\u001b[0m \u001b[0;34m[\u001b[0m\u001b[0;34m]\u001b[0m\u001b[0;34m\u001b[0m\u001b[0;34m\u001b[0m\u001b[0m\n\u001b[1;32m   3554\u001b[0m             \u001b[0;32mfor\u001b[0m \u001b[0marg\u001b[0m \u001b[0;32min\u001b[0m \u001b[0mexpr\u001b[0m\u001b[0;34m.\u001b[0m\u001b[0margs\u001b[0m\u001b[0;34m:\u001b[0m\u001b[0;34m\u001b[0m\u001b[0;34m\u001b[0m\u001b[0m\n\u001b[0;32m-> 3555\u001b[0;31m                 \u001b[0marg\u001b[0m\u001b[0;34m,\u001b[0m \u001b[0marghit\u001b[0m \u001b[0;34m=\u001b[0m \u001b[0mExpr\u001b[0m\u001b[0;34m.\u001b[0m\u001b[0m_expand_hint\u001b[0m\u001b[0;34m(\u001b[0m\u001b[0marg\u001b[0m\u001b[0;34m,\u001b[0m \u001b[0mhint\u001b[0m\u001b[0;34m,\u001b[0m \u001b[0;34m**\u001b[0m\u001b[0mhints\u001b[0m\u001b[0;34m)\u001b[0m\u001b[0;34m\u001b[0m\u001b[0;34m\u001b[0m\u001b[0m\n\u001b[0m\u001b[1;32m   3556\u001b[0m                 \u001b[0mhit\u001b[0m \u001b[0;34m|=\u001b[0m \u001b[0marghit\u001b[0m\u001b[0;34m\u001b[0m\u001b[0;34m\u001b[0m\u001b[0m\n\u001b[1;32m   3557\u001b[0m                 \u001b[0msargs\u001b[0m\u001b[0;34m.\u001b[0m\u001b[0mappend\u001b[0m\u001b[0;34m(\u001b[0m\u001b[0marg\u001b[0m\u001b[0;34m)\u001b[0m\u001b[0;34m\u001b[0m\u001b[0;34m\u001b[0m\u001b[0m\n",
      "\u001b[0;32m~/anaconda3/lib/python3.9/site-packages/sympy/core/expr.py\u001b[0m in \u001b[0;36m_expand_hint\u001b[0;34m(expr, hint, deep, **hints)\u001b[0m\n\u001b[1;32m   3558\u001b[0m \u001b[0;34m\u001b[0m\u001b[0m\n\u001b[1;32m   3559\u001b[0m             \u001b[0;32mif\u001b[0m \u001b[0mhit\u001b[0m\u001b[0;34m:\u001b[0m\u001b[0;34m\u001b[0m\u001b[0;34m\u001b[0m\u001b[0m\n\u001b[0;32m-> 3560\u001b[0;31m                 \u001b[0mexpr\u001b[0m \u001b[0;34m=\u001b[0m \u001b[0mexpr\u001b[0m\u001b[0;34m.\u001b[0m\u001b[0mfunc\u001b[0m\u001b[0;34m(\u001b[0m\u001b[0;34m*\u001b[0m\u001b[0msargs\u001b[0m\u001b[0;34m)\u001b[0m\u001b[0;34m\u001b[0m\u001b[0;34m\u001b[0m\u001b[0m\n\u001b[0m\u001b[1;32m   3561\u001b[0m \u001b[0;34m\u001b[0m\u001b[0m\n\u001b[1;32m   3562\u001b[0m         \u001b[0;32mif\u001b[0m \u001b[0mhasattr\u001b[0m\u001b[0;34m(\u001b[0m\u001b[0mexpr\u001b[0m\u001b[0;34m,\u001b[0m \u001b[0mhint\u001b[0m\u001b[0;34m)\u001b[0m\u001b[0;34m:\u001b[0m\u001b[0;34m\u001b[0m\u001b[0;34m\u001b[0m\u001b[0m\n",
      "\u001b[0;32m~/anaconda3/lib/python3.9/site-packages/sympy/core/cache.py\u001b[0m in \u001b[0;36mwrapper\u001b[0;34m(*args, **kwargs)\u001b[0m\n\u001b[1;32m     70\u001b[0m         \u001b[0;32mdef\u001b[0m \u001b[0mwrapper\u001b[0m\u001b[0;34m(\u001b[0m\u001b[0;34m*\u001b[0m\u001b[0margs\u001b[0m\u001b[0;34m,\u001b[0m \u001b[0;34m**\u001b[0m\u001b[0mkwargs\u001b[0m\u001b[0;34m)\u001b[0m\u001b[0;34m:\u001b[0m\u001b[0;34m\u001b[0m\u001b[0;34m\u001b[0m\u001b[0m\n\u001b[1;32m     71\u001b[0m             \u001b[0;32mtry\u001b[0m\u001b[0;34m:\u001b[0m\u001b[0;34m\u001b[0m\u001b[0;34m\u001b[0m\u001b[0m\n\u001b[0;32m---> 72\u001b[0;31m                 \u001b[0mretval\u001b[0m \u001b[0;34m=\u001b[0m \u001b[0mcfunc\u001b[0m\u001b[0;34m(\u001b[0m\u001b[0;34m*\u001b[0m\u001b[0margs\u001b[0m\u001b[0;34m,\u001b[0m \u001b[0;34m**\u001b[0m\u001b[0mkwargs\u001b[0m\u001b[0;34m)\u001b[0m\u001b[0;34m\u001b[0m\u001b[0;34m\u001b[0m\u001b[0m\n\u001b[0m\u001b[1;32m     73\u001b[0m             \u001b[0;32mexcept\u001b[0m \u001b[0mTypeError\u001b[0m \u001b[0;32mas\u001b[0m \u001b[0me\u001b[0m\u001b[0;34m:\u001b[0m\u001b[0;34m\u001b[0m\u001b[0;34m\u001b[0m\u001b[0m\n\u001b[1;32m     74\u001b[0m                 \u001b[0;32mif\u001b[0m \u001b[0;32mnot\u001b[0m \u001b[0me\u001b[0m\u001b[0;34m.\u001b[0m\u001b[0margs\u001b[0m \u001b[0;32mor\u001b[0m \u001b[0;32mnot\u001b[0m \u001b[0me\u001b[0m\u001b[0;34m.\u001b[0m\u001b[0margs\u001b[0m\u001b[0;34m[\u001b[0m\u001b[0;36m0\u001b[0m\u001b[0;34m]\u001b[0m\u001b[0;34m.\u001b[0m\u001b[0mstartswith\u001b[0m\u001b[0;34m(\u001b[0m\u001b[0;34m'unhashable type:'\u001b[0m\u001b[0;34m)\u001b[0m\u001b[0;34m:\u001b[0m\u001b[0;34m\u001b[0m\u001b[0;34m\u001b[0m\u001b[0m\n",
      "\u001b[0;32m~/anaconda3/lib/python3.9/site-packages/sympy/core/function.py\u001b[0m in \u001b[0;36m__new__\u001b[0;34m(cls, *args, **options)\u001b[0m\n\u001b[1;32m    471\u001b[0m \u001b[0;34m\u001b[0m\u001b[0m\n\u001b[1;32m    472\u001b[0m         \u001b[0mevaluate\u001b[0m \u001b[0;34m=\u001b[0m \u001b[0moptions\u001b[0m\u001b[0;34m.\u001b[0m\u001b[0mget\u001b[0m\u001b[0;34m(\u001b[0m\u001b[0;34m'evaluate'\u001b[0m\u001b[0;34m,\u001b[0m \u001b[0mglobal_parameters\u001b[0m\u001b[0;34m.\u001b[0m\u001b[0mevaluate\u001b[0m\u001b[0;34m)\u001b[0m\u001b[0;34m\u001b[0m\u001b[0;34m\u001b[0m\u001b[0m\n\u001b[0;32m--> 473\u001b[0;31m         \u001b[0mresult\u001b[0m \u001b[0;34m=\u001b[0m \u001b[0msuper\u001b[0m\u001b[0;34m(\u001b[0m\u001b[0;34m)\u001b[0m\u001b[0;34m.\u001b[0m\u001b[0m__new__\u001b[0m\u001b[0;34m(\u001b[0m\u001b[0mcls\u001b[0m\u001b[0;34m,\u001b[0m \u001b[0;34m*\u001b[0m\u001b[0margs\u001b[0m\u001b[0;34m,\u001b[0m \u001b[0;34m**\u001b[0m\u001b[0moptions\u001b[0m\u001b[0;34m)\u001b[0m\u001b[0;34m\u001b[0m\u001b[0;34m\u001b[0m\u001b[0m\n\u001b[0m\u001b[1;32m    474\u001b[0m         \u001b[0;32mif\u001b[0m \u001b[0mevaluate\u001b[0m \u001b[0;32mand\u001b[0m \u001b[0misinstance\u001b[0m\u001b[0;34m(\u001b[0m\u001b[0mresult\u001b[0m\u001b[0;34m,\u001b[0m \u001b[0mcls\u001b[0m\u001b[0;34m)\u001b[0m \u001b[0;32mand\u001b[0m \u001b[0mresult\u001b[0m\u001b[0;34m.\u001b[0m\u001b[0margs\u001b[0m\u001b[0;34m:\u001b[0m\u001b[0;34m\u001b[0m\u001b[0;34m\u001b[0m\u001b[0m\n\u001b[1;32m    475\u001b[0m             \u001b[0mpr2\u001b[0m \u001b[0;34m=\u001b[0m \u001b[0mmin\u001b[0m\u001b[0;34m(\u001b[0m\u001b[0mcls\u001b[0m\u001b[0;34m.\u001b[0m\u001b[0m_should_evalf\u001b[0m\u001b[0;34m(\u001b[0m\u001b[0ma\u001b[0m\u001b[0;34m)\u001b[0m \u001b[0;32mfor\u001b[0m \u001b[0ma\u001b[0m \u001b[0;32min\u001b[0m \u001b[0mresult\u001b[0m\u001b[0;34m.\u001b[0m\u001b[0margs\u001b[0m\u001b[0;34m)\u001b[0m\u001b[0;34m\u001b[0m\u001b[0;34m\u001b[0m\u001b[0m\n",
      "\u001b[0;32m~/anaconda3/lib/python3.9/site-packages/sympy/core/cache.py\u001b[0m in \u001b[0;36mwrapper\u001b[0;34m(*args, **kwargs)\u001b[0m\n\u001b[1;32m     70\u001b[0m         \u001b[0;32mdef\u001b[0m \u001b[0mwrapper\u001b[0m\u001b[0;34m(\u001b[0m\u001b[0;34m*\u001b[0m\u001b[0margs\u001b[0m\u001b[0;34m,\u001b[0m \u001b[0;34m**\u001b[0m\u001b[0mkwargs\u001b[0m\u001b[0;34m)\u001b[0m\u001b[0;34m:\u001b[0m\u001b[0;34m\u001b[0m\u001b[0;34m\u001b[0m\u001b[0m\n\u001b[1;32m     71\u001b[0m             \u001b[0;32mtry\u001b[0m\u001b[0;34m:\u001b[0m\u001b[0;34m\u001b[0m\u001b[0;34m\u001b[0m\u001b[0m\n\u001b[0;32m---> 72\u001b[0;31m                 \u001b[0mretval\u001b[0m \u001b[0;34m=\u001b[0m \u001b[0mcfunc\u001b[0m\u001b[0;34m(\u001b[0m\u001b[0;34m*\u001b[0m\u001b[0margs\u001b[0m\u001b[0;34m,\u001b[0m \u001b[0;34m**\u001b[0m\u001b[0mkwargs\u001b[0m\u001b[0;34m)\u001b[0m\u001b[0;34m\u001b[0m\u001b[0;34m\u001b[0m\u001b[0m\n\u001b[0m\u001b[1;32m     73\u001b[0m             \u001b[0;32mexcept\u001b[0m \u001b[0mTypeError\u001b[0m \u001b[0;32mas\u001b[0m \u001b[0me\u001b[0m\u001b[0;34m:\u001b[0m\u001b[0;34m\u001b[0m\u001b[0;34m\u001b[0m\u001b[0m\n\u001b[1;32m     74\u001b[0m                 \u001b[0;32mif\u001b[0m \u001b[0;32mnot\u001b[0m \u001b[0me\u001b[0m\u001b[0;34m.\u001b[0m\u001b[0margs\u001b[0m \u001b[0;32mor\u001b[0m \u001b[0;32mnot\u001b[0m \u001b[0me\u001b[0m\u001b[0;34m.\u001b[0m\u001b[0margs\u001b[0m\u001b[0;34m[\u001b[0m\u001b[0;36m0\u001b[0m\u001b[0;34m]\u001b[0m\u001b[0;34m.\u001b[0m\u001b[0mstartswith\u001b[0m\u001b[0;34m(\u001b[0m\u001b[0;34m'unhashable type:'\u001b[0m\u001b[0;34m)\u001b[0m\u001b[0;34m:\u001b[0m\u001b[0;34m\u001b[0m\u001b[0;34m\u001b[0m\u001b[0m\n",
      "\u001b[0;32m~/anaconda3/lib/python3.9/site-packages/sympy/core/function.py\u001b[0m in \u001b[0;36m__new__\u001b[0;34m(cls, *args, **options)\u001b[0m\n\u001b[1;32m    283\u001b[0m \u001b[0;34m\u001b[0m\u001b[0m\n\u001b[1;32m    284\u001b[0m         \u001b[0;32mif\u001b[0m \u001b[0mevaluate\u001b[0m\u001b[0;34m:\u001b[0m\u001b[0;34m\u001b[0m\u001b[0;34m\u001b[0m\u001b[0m\n\u001b[0;32m--> 285\u001b[0;31m             \u001b[0mevaluated\u001b[0m \u001b[0;34m=\u001b[0m \u001b[0mcls\u001b[0m\u001b[0;34m.\u001b[0m\u001b[0meval\u001b[0m\u001b[0;34m(\u001b[0m\u001b[0;34m*\u001b[0m\u001b[0margs\u001b[0m\u001b[0;34m)\u001b[0m\u001b[0;34m\u001b[0m\u001b[0;34m\u001b[0m\u001b[0m\n\u001b[0m\u001b[1;32m    286\u001b[0m             \u001b[0;32mif\u001b[0m \u001b[0mevaluated\u001b[0m \u001b[0;32mis\u001b[0m \u001b[0;32mnot\u001b[0m \u001b[0;32mNone\u001b[0m\u001b[0;34m:\u001b[0m\u001b[0;34m\u001b[0m\u001b[0;34m\u001b[0m\u001b[0m\n\u001b[1;32m    287\u001b[0m                 \u001b[0;32mreturn\u001b[0m \u001b[0mevaluated\u001b[0m\u001b[0;34m\u001b[0m\u001b[0;34m\u001b[0m\u001b[0m\n",
      "\u001b[0;32m~/anaconda3/lib/python3.9/site-packages/sympy/functions/elementary/trigonometric.py\u001b[0m in \u001b[0;36meval\u001b[0;34m(cls, arg)\u001b[0m\n\u001b[1;32m    591\u001b[0m             \u001b[0;32mreturn\u001b[0m \u001b[0marg\u001b[0m\u001b[0;34m.\u001b[0m\u001b[0m_eval_func\u001b[0m\u001b[0;34m(\u001b[0m\u001b[0mcls\u001b[0m\u001b[0;34m)\u001b[0m\u001b[0;34m\u001b[0m\u001b[0;34m\u001b[0m\u001b[0m\n\u001b[1;32m    592\u001b[0m \u001b[0;34m\u001b[0m\u001b[0m\n\u001b[0;32m--> 593\u001b[0;31m         \u001b[0;32mif\u001b[0m \u001b[0marg\u001b[0m\u001b[0;34m.\u001b[0m\u001b[0mis_extended_real\u001b[0m \u001b[0;32mand\u001b[0m \u001b[0marg\u001b[0m\u001b[0;34m.\u001b[0m\u001b[0mis_finite\u001b[0m \u001b[0;32mis\u001b[0m \u001b[0;32mFalse\u001b[0m\u001b[0;34m:\u001b[0m\u001b[0;34m\u001b[0m\u001b[0;34m\u001b[0m\u001b[0m\n\u001b[0m\u001b[1;32m    594\u001b[0m             \u001b[0;32mreturn\u001b[0m \u001b[0mAccumBounds\u001b[0m\u001b[0;34m(\u001b[0m\u001b[0;34m-\u001b[0m\u001b[0;36m1\u001b[0m\u001b[0;34m,\u001b[0m \u001b[0;36m1\u001b[0m\u001b[0;34m)\u001b[0m\u001b[0;34m\u001b[0m\u001b[0;34m\u001b[0m\u001b[0m\n\u001b[1;32m    595\u001b[0m \u001b[0;34m\u001b[0m\u001b[0m\n",
      "\u001b[0;32m~/anaconda3/lib/python3.9/site-packages/sympy/core/assumptions.py\u001b[0m in \u001b[0;36mgetit\u001b[0;34m(self)\u001b[0m\n\u001b[1;32m    464\u001b[0m             \u001b[0;32mif\u001b[0m \u001b[0mself\u001b[0m\u001b[0;34m.\u001b[0m\u001b[0m_assumptions\u001b[0m \u001b[0;32mis\u001b[0m \u001b[0mself\u001b[0m\u001b[0;34m.\u001b[0m\u001b[0mdefault_assumptions\u001b[0m\u001b[0;34m:\u001b[0m\u001b[0;34m\u001b[0m\u001b[0;34m\u001b[0m\u001b[0m\n\u001b[1;32m    465\u001b[0m                 \u001b[0mself\u001b[0m\u001b[0;34m.\u001b[0m\u001b[0m_assumptions\u001b[0m \u001b[0;34m=\u001b[0m \u001b[0mself\u001b[0m\u001b[0;34m.\u001b[0m\u001b[0mdefault_assumptions\u001b[0m\u001b[0;34m.\u001b[0m\u001b[0mcopy\u001b[0m\u001b[0;34m(\u001b[0m\u001b[0;34m)\u001b[0m\u001b[0;34m\u001b[0m\u001b[0;34m\u001b[0m\u001b[0m\n\u001b[0;32m--> 466\u001b[0;31m             \u001b[0;32mreturn\u001b[0m \u001b[0m_ask\u001b[0m\u001b[0;34m(\u001b[0m\u001b[0mfact\u001b[0m\u001b[0;34m,\u001b[0m \u001b[0mself\u001b[0m\u001b[0;34m)\u001b[0m\u001b[0;34m\u001b[0m\u001b[0;34m\u001b[0m\u001b[0m\n\u001b[0m\u001b[1;32m    467\u001b[0m \u001b[0;34m\u001b[0m\u001b[0m\n\u001b[1;32m    468\u001b[0m     \u001b[0mgetit\u001b[0m\u001b[0;34m.\u001b[0m\u001b[0mfunc_name\u001b[0m \u001b[0;34m=\u001b[0m \u001b[0mas_property\u001b[0m\u001b[0;34m(\u001b[0m\u001b[0mfact\u001b[0m\u001b[0;34m)\u001b[0m\u001b[0;34m\u001b[0m\u001b[0;34m\u001b[0m\u001b[0m\n",
      "\u001b[0;32m~/anaconda3/lib/python3.9/site-packages/sympy/core/assumptions.py\u001b[0m in \u001b[0;36m_ask\u001b[0;34m(fact, obj)\u001b[0m\n\u001b[1;32m    507\u001b[0m         \u001b[0;32mpass\u001b[0m\u001b[0;34m\u001b[0m\u001b[0;34m\u001b[0m\u001b[0m\n\u001b[1;32m    508\u001b[0m     \u001b[0;32melse\u001b[0m\u001b[0;34m:\u001b[0m\u001b[0;34m\u001b[0m\u001b[0;34m\u001b[0m\u001b[0m\n\u001b[0;32m--> 509\u001b[0;31m         \u001b[0ma\u001b[0m \u001b[0;34m=\u001b[0m \u001b[0mevaluate\u001b[0m\u001b[0;34m(\u001b[0m\u001b[0mobj\u001b[0m\u001b[0;34m)\u001b[0m\u001b[0;34m\u001b[0m\u001b[0;34m\u001b[0m\u001b[0m\n\u001b[0m\u001b[1;32m    510\u001b[0m         \u001b[0;32mif\u001b[0m \u001b[0ma\u001b[0m \u001b[0;32mis\u001b[0m \u001b[0;32mnot\u001b[0m \u001b[0;32mNone\u001b[0m\u001b[0;34m:\u001b[0m\u001b[0;34m\u001b[0m\u001b[0;34m\u001b[0m\u001b[0m\n\u001b[1;32m    511\u001b[0m             \u001b[0massumptions\u001b[0m\u001b[0;34m.\u001b[0m\u001b[0mdeduce_all_facts\u001b[0m\u001b[0;34m(\u001b[0m\u001b[0;34m(\u001b[0m\u001b[0;34m(\u001b[0m\u001b[0mfact\u001b[0m\u001b[0;34m,\u001b[0m \u001b[0ma\u001b[0m\u001b[0;34m)\u001b[0m\u001b[0;34m,\u001b[0m\u001b[0;34m)\u001b[0m\u001b[0;34m)\u001b[0m\u001b[0;34m\u001b[0m\u001b[0;34m\u001b[0m\u001b[0m\n",
      "\u001b[0;32m~/anaconda3/lib/python3.9/site-packages/sympy/core/mul.py\u001b[0m in \u001b[0;36m_eval_is_extended_real\u001b[0;34m(self)\u001b[0m\n\u001b[1;32m   1408\u001b[0m \u001b[0;34m\u001b[0m\u001b[0m\n\u001b[1;32m   1409\u001b[0m     \u001b[0;32mdef\u001b[0m \u001b[0m_eval_is_extended_real\u001b[0m\u001b[0;34m(\u001b[0m\u001b[0mself\u001b[0m\u001b[0;34m)\u001b[0m\u001b[0;34m:\u001b[0m\u001b[0;34m\u001b[0m\u001b[0;34m\u001b[0m\u001b[0m\n\u001b[0;32m-> 1410\u001b[0;31m         \u001b[0;32mreturn\u001b[0m \u001b[0mself\u001b[0m\u001b[0;34m.\u001b[0m\u001b[0m_eval_real_imag\u001b[0m\u001b[0;34m(\u001b[0m\u001b[0;32mTrue\u001b[0m\u001b[0;34m)\u001b[0m\u001b[0;34m\u001b[0m\u001b[0;34m\u001b[0m\u001b[0m\n\u001b[0m\u001b[1;32m   1411\u001b[0m \u001b[0;34m\u001b[0m\u001b[0m\n\u001b[1;32m   1412\u001b[0m     \u001b[0;32mdef\u001b[0m \u001b[0m_eval_real_imag\u001b[0m\u001b[0;34m(\u001b[0m\u001b[0mself\u001b[0m\u001b[0;34m,\u001b[0m \u001b[0mreal\u001b[0m\u001b[0;34m)\u001b[0m\u001b[0;34m:\u001b[0m\u001b[0;34m\u001b[0m\u001b[0;34m\u001b[0m\u001b[0m\n",
      "\u001b[0;32m~/anaconda3/lib/python3.9/site-packages/sympy/core/mul.py\u001b[0m in \u001b[0;36m_eval_real_imag\u001b[0;34m(self, real)\u001b[0m\n\u001b[1;32m   1415\u001b[0m \u001b[0;34m\u001b[0m\u001b[0m\n\u001b[1;32m   1416\u001b[0m         \u001b[0;32mfor\u001b[0m \u001b[0mt\u001b[0m \u001b[0;32min\u001b[0m \u001b[0mself\u001b[0m\u001b[0;34m.\u001b[0m\u001b[0margs\u001b[0m\u001b[0;34m:\u001b[0m\u001b[0;34m\u001b[0m\u001b[0;34m\u001b[0m\u001b[0m\n\u001b[0;32m-> 1417\u001b[0;31m             \u001b[0;32mif\u001b[0m \u001b[0;34m(\u001b[0m\u001b[0mt\u001b[0m\u001b[0;34m.\u001b[0m\u001b[0mis_complex\u001b[0m \u001b[0;32mor\u001b[0m \u001b[0mt\u001b[0m\u001b[0;34m.\u001b[0m\u001b[0mis_infinite\u001b[0m\u001b[0;34m)\u001b[0m \u001b[0;32mis\u001b[0m \u001b[0;32mFalse\u001b[0m \u001b[0;32mand\u001b[0m \u001b[0mt\u001b[0m\u001b[0;34m.\u001b[0m\u001b[0mis_extended_real\u001b[0m \u001b[0;32mis\u001b[0m \u001b[0;32mFalse\u001b[0m\u001b[0;34m:\u001b[0m\u001b[0;34m\u001b[0m\u001b[0;34m\u001b[0m\u001b[0m\n\u001b[0m\u001b[1;32m   1418\u001b[0m                 \u001b[0;32mreturn\u001b[0m \u001b[0;32mFalse\u001b[0m\u001b[0;34m\u001b[0m\u001b[0;34m\u001b[0m\u001b[0m\n\u001b[1;32m   1419\u001b[0m             \u001b[0;32melif\u001b[0m \u001b[0mt\u001b[0m\u001b[0;34m.\u001b[0m\u001b[0mis_imaginary\u001b[0m\u001b[0;34m:\u001b[0m  \u001b[0;31m# I\u001b[0m\u001b[0;34m\u001b[0m\u001b[0;34m\u001b[0m\u001b[0m\n",
      "\u001b[0;32m~/anaconda3/lib/python3.9/site-packages/sympy/core/assumptions.py\u001b[0m in \u001b[0;36mgetit\u001b[0;34m(self)\u001b[0m\n\u001b[1;32m    464\u001b[0m             \u001b[0;32mif\u001b[0m \u001b[0mself\u001b[0m\u001b[0;34m.\u001b[0m\u001b[0m_assumptions\u001b[0m \u001b[0;32mis\u001b[0m \u001b[0mself\u001b[0m\u001b[0;34m.\u001b[0m\u001b[0mdefault_assumptions\u001b[0m\u001b[0;34m:\u001b[0m\u001b[0;34m\u001b[0m\u001b[0;34m\u001b[0m\u001b[0m\n\u001b[1;32m    465\u001b[0m                 \u001b[0mself\u001b[0m\u001b[0;34m.\u001b[0m\u001b[0m_assumptions\u001b[0m \u001b[0;34m=\u001b[0m \u001b[0mself\u001b[0m\u001b[0;34m.\u001b[0m\u001b[0mdefault_assumptions\u001b[0m\u001b[0;34m.\u001b[0m\u001b[0mcopy\u001b[0m\u001b[0;34m(\u001b[0m\u001b[0;34m)\u001b[0m\u001b[0;34m\u001b[0m\u001b[0;34m\u001b[0m\u001b[0m\n\u001b[0;32m--> 466\u001b[0;31m             \u001b[0;32mreturn\u001b[0m \u001b[0m_ask\u001b[0m\u001b[0;34m(\u001b[0m\u001b[0mfact\u001b[0m\u001b[0;34m,\u001b[0m \u001b[0mself\u001b[0m\u001b[0;34m)\u001b[0m\u001b[0;34m\u001b[0m\u001b[0;34m\u001b[0m\u001b[0m\n\u001b[0m\u001b[1;32m    467\u001b[0m \u001b[0;34m\u001b[0m\u001b[0m\n\u001b[1;32m    468\u001b[0m     \u001b[0mgetit\u001b[0m\u001b[0;34m.\u001b[0m\u001b[0mfunc_name\u001b[0m \u001b[0;34m=\u001b[0m \u001b[0mas_property\u001b[0m\u001b[0;34m(\u001b[0m\u001b[0mfact\u001b[0m\u001b[0;34m)\u001b[0m\u001b[0;34m\u001b[0m\u001b[0;34m\u001b[0m\u001b[0m\n",
      "\u001b[0;32m~/anaconda3/lib/python3.9/site-packages/sympy/core/assumptions.py\u001b[0m in \u001b[0;36m_ask\u001b[0;34m(fact, obj)\u001b[0m\n\u001b[1;32m    519\u001b[0m             \u001b[0;32mcontinue\u001b[0m\u001b[0;34m\u001b[0m\u001b[0;34m\u001b[0m\u001b[0m\n\u001b[1;32m    520\u001b[0m         \u001b[0;32mif\u001b[0m \u001b[0mpk\u001b[0m \u001b[0;32min\u001b[0m \u001b[0mhandler_map\u001b[0m\u001b[0;34m:\u001b[0m\u001b[0;34m\u001b[0m\u001b[0;34m\u001b[0m\u001b[0m\n\u001b[0;32m--> 521\u001b[0;31m             \u001b[0m_ask\u001b[0m\u001b[0;34m(\u001b[0m\u001b[0mpk\u001b[0m\u001b[0;34m,\u001b[0m \u001b[0mobj\u001b[0m\u001b[0;34m)\u001b[0m\u001b[0;34m\u001b[0m\u001b[0;34m\u001b[0m\u001b[0m\n\u001b[0m\u001b[1;32m    522\u001b[0m \u001b[0;34m\u001b[0m\u001b[0m\n\u001b[1;32m    523\u001b[0m             \u001b[0;31m# we might have found the value of fact\u001b[0m\u001b[0;34m\u001b[0m\u001b[0;34m\u001b[0m\u001b[0m\n",
      "\u001b[0;32m~/anaconda3/lib/python3.9/site-packages/sympy/core/assumptions.py\u001b[0m in \u001b[0;36m_ask\u001b[0;34m(fact, obj)\u001b[0m\n\u001b[1;32m    519\u001b[0m             \u001b[0;32mcontinue\u001b[0m\u001b[0;34m\u001b[0m\u001b[0;34m\u001b[0m\u001b[0m\n\u001b[1;32m    520\u001b[0m         \u001b[0;32mif\u001b[0m \u001b[0mpk\u001b[0m \u001b[0;32min\u001b[0m \u001b[0mhandler_map\u001b[0m\u001b[0;34m:\u001b[0m\u001b[0;34m\u001b[0m\u001b[0;34m\u001b[0m\u001b[0m\n\u001b[0;32m--> 521\u001b[0;31m             \u001b[0m_ask\u001b[0m\u001b[0;34m(\u001b[0m\u001b[0mpk\u001b[0m\u001b[0;34m,\u001b[0m \u001b[0mobj\u001b[0m\u001b[0;34m)\u001b[0m\u001b[0;34m\u001b[0m\u001b[0;34m\u001b[0m\u001b[0m\n\u001b[0m\u001b[1;32m    522\u001b[0m \u001b[0;34m\u001b[0m\u001b[0m\n\u001b[1;32m    523\u001b[0m             \u001b[0;31m# we might have found the value of fact\u001b[0m\u001b[0;34m\u001b[0m\u001b[0;34m\u001b[0m\u001b[0m\n",
      "\u001b[0;32m~/anaconda3/lib/python3.9/site-packages/sympy/core/assumptions.py\u001b[0m in \u001b[0;36m_ask\u001b[0;34m(fact, obj)\u001b[0m\n\u001b[1;32m    519\u001b[0m             \u001b[0;32mcontinue\u001b[0m\u001b[0;34m\u001b[0m\u001b[0;34m\u001b[0m\u001b[0m\n\u001b[1;32m    520\u001b[0m         \u001b[0;32mif\u001b[0m \u001b[0mpk\u001b[0m \u001b[0;32min\u001b[0m \u001b[0mhandler_map\u001b[0m\u001b[0;34m:\u001b[0m\u001b[0;34m\u001b[0m\u001b[0;34m\u001b[0m\u001b[0m\n\u001b[0;32m--> 521\u001b[0;31m             \u001b[0m_ask\u001b[0m\u001b[0;34m(\u001b[0m\u001b[0mpk\u001b[0m\u001b[0;34m,\u001b[0m \u001b[0mobj\u001b[0m\u001b[0;34m)\u001b[0m\u001b[0;34m\u001b[0m\u001b[0;34m\u001b[0m\u001b[0m\n\u001b[0m\u001b[1;32m    522\u001b[0m \u001b[0;34m\u001b[0m\u001b[0m\n\u001b[1;32m    523\u001b[0m             \u001b[0;31m# we might have found the value of fact\u001b[0m\u001b[0;34m\u001b[0m\u001b[0;34m\u001b[0m\u001b[0m\n",
      "\u001b[0;32m~/anaconda3/lib/python3.9/site-packages/sympy/core/assumptions.py\u001b[0m in \u001b[0;36m_ask\u001b[0;34m(fact, obj)\u001b[0m\n\u001b[1;32m    507\u001b[0m         \u001b[0;32mpass\u001b[0m\u001b[0;34m\u001b[0m\u001b[0;34m\u001b[0m\u001b[0m\n\u001b[1;32m    508\u001b[0m     \u001b[0;32melse\u001b[0m\u001b[0;34m:\u001b[0m\u001b[0;34m\u001b[0m\u001b[0;34m\u001b[0m\u001b[0m\n\u001b[0;32m--> 509\u001b[0;31m         \u001b[0ma\u001b[0m \u001b[0;34m=\u001b[0m \u001b[0mevaluate\u001b[0m\u001b[0;34m(\u001b[0m\u001b[0mobj\u001b[0m\u001b[0;34m)\u001b[0m\u001b[0;34m\u001b[0m\u001b[0;34m\u001b[0m\u001b[0m\n\u001b[0m\u001b[1;32m    510\u001b[0m         \u001b[0;32mif\u001b[0m \u001b[0ma\u001b[0m \u001b[0;32mis\u001b[0m \u001b[0;32mnot\u001b[0m \u001b[0;32mNone\u001b[0m\u001b[0;34m:\u001b[0m\u001b[0;34m\u001b[0m\u001b[0;34m\u001b[0m\u001b[0m\n\u001b[1;32m    511\u001b[0m             \u001b[0massumptions\u001b[0m\u001b[0;34m.\u001b[0m\u001b[0mdeduce_all_facts\u001b[0m\u001b[0;34m(\u001b[0m\u001b[0;34m(\u001b[0m\u001b[0;34m(\u001b[0m\u001b[0mfact\u001b[0m\u001b[0;34m,\u001b[0m \u001b[0ma\u001b[0m\u001b[0;34m)\u001b[0m\u001b[0;34m,\u001b[0m\u001b[0;34m)\u001b[0m\u001b[0;34m)\u001b[0m\u001b[0;34m\u001b[0m\u001b[0;34m\u001b[0m\u001b[0m\n",
      "\u001b[0;32m~/anaconda3/lib/python3.9/site-packages/sympy/core/expr.py\u001b[0m in \u001b[0;36m_eval_is_extended_negative\u001b[0;34m(self)\u001b[0m\n\u001b[1;32m    914\u001b[0m \u001b[0;34m\u001b[0m\u001b[0m\n\u001b[1;32m    915\u001b[0m     \u001b[0;32mdef\u001b[0m \u001b[0m_eval_is_extended_negative\u001b[0m\u001b[0;34m(\u001b[0m\u001b[0mself\u001b[0m\u001b[0;34m)\u001b[0m\u001b[0;34m:\u001b[0m\u001b[0;34m\u001b[0m\u001b[0;34m\u001b[0m\u001b[0m\n\u001b[0;32m--> 916\u001b[0;31m         \u001b[0;32mreturn\u001b[0m \u001b[0mself\u001b[0m\u001b[0;34m.\u001b[0m\u001b[0m_eval_is_extended_positive_negative\u001b[0m\u001b[0;34m(\u001b[0m\u001b[0mpositive\u001b[0m\u001b[0;34m=\u001b[0m\u001b[0;32mFalse\u001b[0m\u001b[0;34m)\u001b[0m\u001b[0;34m\u001b[0m\u001b[0;34m\u001b[0m\u001b[0m\n\u001b[0m\u001b[1;32m    917\u001b[0m \u001b[0;34m\u001b[0m\u001b[0m\n\u001b[1;32m    918\u001b[0m     \u001b[0;32mdef\u001b[0m \u001b[0m_eval_interval\u001b[0m\u001b[0;34m(\u001b[0m\u001b[0mself\u001b[0m\u001b[0;34m,\u001b[0m \u001b[0mx\u001b[0m\u001b[0;34m,\u001b[0m \u001b[0ma\u001b[0m\u001b[0;34m,\u001b[0m \u001b[0mb\u001b[0m\u001b[0;34m)\u001b[0m\u001b[0;34m:\u001b[0m\u001b[0;34m\u001b[0m\u001b[0;34m\u001b[0m\u001b[0m\n",
      "\u001b[0;32m~/anaconda3/lib/python3.9/site-packages/sympy/core/expr.py\u001b[0m in \u001b[0;36m_eval_is_extended_positive_negative\u001b[0;34m(self, positive)\u001b[0m\n\u001b[1;32m    877\u001b[0m             \u001b[0;31m# check to see that we can get a value\u001b[0m\u001b[0;34m\u001b[0m\u001b[0;34m\u001b[0m\u001b[0m\n\u001b[1;32m    878\u001b[0m             \u001b[0;32mtry\u001b[0m\u001b[0;34m:\u001b[0m\u001b[0;34m\u001b[0m\u001b[0;34m\u001b[0m\u001b[0m\n\u001b[0;32m--> 879\u001b[0;31m                 \u001b[0mn2\u001b[0m \u001b[0;34m=\u001b[0m \u001b[0mself\u001b[0m\u001b[0;34m.\u001b[0m\u001b[0m_eval_evalf\u001b[0m\u001b[0;34m(\u001b[0m\u001b[0;36m2\u001b[0m\u001b[0;34m)\u001b[0m\u001b[0;34m\u001b[0m\u001b[0;34m\u001b[0m\u001b[0m\n\u001b[0m\u001b[1;32m    880\u001b[0m             \u001b[0;31m# XXX: This shouldn't be caught here\u001b[0m\u001b[0;34m\u001b[0m\u001b[0;34m\u001b[0m\u001b[0m\n\u001b[1;32m    881\u001b[0m             \u001b[0;31m# Catches ValueError: hypsum() failed to converge to the requested\u001b[0m\u001b[0;34m\u001b[0m\u001b[0;34m\u001b[0m\u001b[0m\n",
      "\u001b[0;32m~/anaconda3/lib/python3.9/site-packages/sympy/core/function.py\u001b[0m in \u001b[0;36m_eval_evalf\u001b[0;34m(self, prec)\u001b[0m\n\u001b[1;32m    572\u001b[0m         \u001b[0;31m#     we be more intelligent about it?\u001b[0m\u001b[0;34m\u001b[0m\u001b[0;34m\u001b[0m\u001b[0m\n\u001b[1;32m    573\u001b[0m         \u001b[0;32mtry\u001b[0m\u001b[0;34m:\u001b[0m\u001b[0;34m\u001b[0m\u001b[0;34m\u001b[0m\u001b[0m\n\u001b[0;32m--> 574\u001b[0;31m             \u001b[0margs\u001b[0m \u001b[0;34m=\u001b[0m \u001b[0;34m[\u001b[0m\u001b[0marg\u001b[0m\u001b[0;34m.\u001b[0m\u001b[0m_to_mpmath\u001b[0m\u001b[0;34m(\u001b[0m\u001b[0mprec\u001b[0m \u001b[0;34m+\u001b[0m \u001b[0;36m5\u001b[0m\u001b[0;34m)\u001b[0m \u001b[0;32mfor\u001b[0m \u001b[0marg\u001b[0m \u001b[0;32min\u001b[0m \u001b[0margs\u001b[0m\u001b[0;34m]\u001b[0m\u001b[0;34m\u001b[0m\u001b[0;34m\u001b[0m\u001b[0m\n\u001b[0m\u001b[1;32m    575\u001b[0m             \u001b[0;32mdef\u001b[0m \u001b[0mbad\u001b[0m\u001b[0;34m(\u001b[0m\u001b[0mm\u001b[0m\u001b[0;34m)\u001b[0m\u001b[0;34m:\u001b[0m\u001b[0;34m\u001b[0m\u001b[0;34m\u001b[0m\u001b[0m\n\u001b[1;32m    576\u001b[0m                 \u001b[0;32mfrom\u001b[0m \u001b[0mmpmath\u001b[0m \u001b[0;32mimport\u001b[0m \u001b[0mmpf\u001b[0m\u001b[0;34m,\u001b[0m \u001b[0mmpc\u001b[0m\u001b[0;34m\u001b[0m\u001b[0;34m\u001b[0m\u001b[0m\n",
      "\u001b[0;32m~/anaconda3/lib/python3.9/site-packages/sympy/core/function.py\u001b[0m in \u001b[0;36m<listcomp>\u001b[0;34m(.0)\u001b[0m\n\u001b[1;32m    572\u001b[0m         \u001b[0;31m#     we be more intelligent about it?\u001b[0m\u001b[0;34m\u001b[0m\u001b[0;34m\u001b[0m\u001b[0m\n\u001b[1;32m    573\u001b[0m         \u001b[0;32mtry\u001b[0m\u001b[0;34m:\u001b[0m\u001b[0;34m\u001b[0m\u001b[0;34m\u001b[0m\u001b[0m\n\u001b[0;32m--> 574\u001b[0;31m             \u001b[0margs\u001b[0m \u001b[0;34m=\u001b[0m \u001b[0;34m[\u001b[0m\u001b[0marg\u001b[0m\u001b[0;34m.\u001b[0m\u001b[0m_to_mpmath\u001b[0m\u001b[0;34m(\u001b[0m\u001b[0mprec\u001b[0m \u001b[0;34m+\u001b[0m \u001b[0;36m5\u001b[0m\u001b[0;34m)\u001b[0m \u001b[0;32mfor\u001b[0m \u001b[0marg\u001b[0m \u001b[0;32min\u001b[0m \u001b[0margs\u001b[0m\u001b[0;34m]\u001b[0m\u001b[0;34m\u001b[0m\u001b[0;34m\u001b[0m\u001b[0m\n\u001b[0m\u001b[1;32m    575\u001b[0m             \u001b[0;32mdef\u001b[0m \u001b[0mbad\u001b[0m\u001b[0;34m(\u001b[0m\u001b[0mm\u001b[0m\u001b[0;34m)\u001b[0m\u001b[0;34m:\u001b[0m\u001b[0;34m\u001b[0m\u001b[0;34m\u001b[0m\u001b[0m\n\u001b[1;32m    576\u001b[0m                 \u001b[0;32mfrom\u001b[0m \u001b[0mmpmath\u001b[0m \u001b[0;32mimport\u001b[0m \u001b[0mmpf\u001b[0m\u001b[0;34m,\u001b[0m \u001b[0mmpc\u001b[0m\u001b[0;34m\u001b[0m\u001b[0;34m\u001b[0m\u001b[0m\n",
      "\u001b[0;32m~/anaconda3/lib/python3.9/site-packages/sympy/core/evalf.py\u001b[0m in \u001b[0;36m_to_mpmath\u001b[0;34m(self, prec, allow_ints)\u001b[0m\n\u001b[1;32m   1562\u001b[0m             \u001b[0;32mreturn\u001b[0m \u001b[0mmake_mpf\u001b[0m\u001b[0;34m(\u001b[0m\u001b[0mself\u001b[0m\u001b[0;34m.\u001b[0m\u001b[0m_as_mpf_val\u001b[0m\u001b[0;34m(\u001b[0m\u001b[0mprec\u001b[0m\u001b[0;34m)\u001b[0m\u001b[0;34m)\u001b[0m\u001b[0;34m\u001b[0m\u001b[0;34m\u001b[0m\u001b[0m\n\u001b[1;32m   1563\u001b[0m         \u001b[0;32mtry\u001b[0m\u001b[0;34m:\u001b[0m\u001b[0;34m\u001b[0m\u001b[0;34m\u001b[0m\u001b[0m\n\u001b[0;32m-> 1564\u001b[0;31m             \u001b[0mre\u001b[0m\u001b[0;34m,\u001b[0m \u001b[0mim\u001b[0m\u001b[0;34m,\u001b[0m \u001b[0m_\u001b[0m\u001b[0;34m,\u001b[0m \u001b[0m_\u001b[0m \u001b[0;34m=\u001b[0m \u001b[0mevalf\u001b[0m\u001b[0;34m(\u001b[0m\u001b[0mself\u001b[0m\u001b[0;34m,\u001b[0m \u001b[0mprec\u001b[0m\u001b[0;34m,\u001b[0m \u001b[0;34m{\u001b[0m\u001b[0;34m}\u001b[0m\u001b[0;34m)\u001b[0m\u001b[0;34m\u001b[0m\u001b[0;34m\u001b[0m\u001b[0m\n\u001b[0m\u001b[1;32m   1565\u001b[0m             \u001b[0;32mif\u001b[0m \u001b[0mim\u001b[0m\u001b[0;34m:\u001b[0m\u001b[0;34m\u001b[0m\u001b[0;34m\u001b[0m\u001b[0m\n\u001b[1;32m   1566\u001b[0m                 \u001b[0;32mif\u001b[0m \u001b[0;32mnot\u001b[0m \u001b[0mre\u001b[0m\u001b[0;34m:\u001b[0m\u001b[0;34m\u001b[0m\u001b[0;34m\u001b[0m\u001b[0m\n",
      "\u001b[0;32m~/anaconda3/lib/python3.9/site-packages/sympy/core/evalf.py\u001b[0m in \u001b[0;36mevalf\u001b[0;34m(x, prec, options)\u001b[0m\n\u001b[1;32m   1364\u001b[0m     \u001b[0;32mtry\u001b[0m\u001b[0;34m:\u001b[0m\u001b[0;34m\u001b[0m\u001b[0;34m\u001b[0m\u001b[0m\n\u001b[1;32m   1365\u001b[0m         \u001b[0mrf\u001b[0m \u001b[0;34m=\u001b[0m \u001b[0mevalf_table\u001b[0m\u001b[0;34m[\u001b[0m\u001b[0mx\u001b[0m\u001b[0;34m.\u001b[0m\u001b[0mfunc\u001b[0m\u001b[0;34m]\u001b[0m\u001b[0;34m\u001b[0m\u001b[0;34m\u001b[0m\u001b[0m\n\u001b[0;32m-> 1366\u001b[0;31m         \u001b[0mr\u001b[0m \u001b[0;34m=\u001b[0m \u001b[0mrf\u001b[0m\u001b[0;34m(\u001b[0m\u001b[0mx\u001b[0m\u001b[0;34m,\u001b[0m \u001b[0mprec\u001b[0m\u001b[0;34m,\u001b[0m \u001b[0moptions\u001b[0m\u001b[0;34m)\u001b[0m\u001b[0;34m\u001b[0m\u001b[0;34m\u001b[0m\u001b[0m\n\u001b[0m\u001b[1;32m   1367\u001b[0m     \u001b[0;32mexcept\u001b[0m \u001b[0mKeyError\u001b[0m\u001b[0;34m:\u001b[0m\u001b[0;34m\u001b[0m\u001b[0;34m\u001b[0m\u001b[0m\n\u001b[1;32m   1368\u001b[0m         \u001b[0;31m# Fall back to ordinary evalf if possible\u001b[0m\u001b[0;34m\u001b[0m\u001b[0;34m\u001b[0m\u001b[0m\n",
      "\u001b[0;32m~/anaconda3/lib/python3.9/site-packages/sympy/core/evalf.py\u001b[0m in \u001b[0;36mevalf_add\u001b[0;34m(v, prec, options)\u001b[0m\n\u001b[1;32m    532\u001b[0m         \u001b[0moptions\u001b[0m\u001b[0;34m[\u001b[0m\u001b[0;34m'maxprec'\u001b[0m\u001b[0;34m]\u001b[0m \u001b[0;34m=\u001b[0m \u001b[0mmin\u001b[0m\u001b[0;34m(\u001b[0m\u001b[0moldmaxprec\u001b[0m\u001b[0;34m,\u001b[0m \u001b[0;36m2\u001b[0m\u001b[0;34m*\u001b[0m\u001b[0mprec\u001b[0m\u001b[0;34m)\u001b[0m\u001b[0;34m\u001b[0m\u001b[0;34m\u001b[0m\u001b[0m\n\u001b[1;32m    533\u001b[0m \u001b[0;34m\u001b[0m\u001b[0m\n\u001b[0;32m--> 534\u001b[0;31m         \u001b[0mterms\u001b[0m \u001b[0;34m=\u001b[0m \u001b[0;34m[\u001b[0m\u001b[0mevalf\u001b[0m\u001b[0;34m(\u001b[0m\u001b[0marg\u001b[0m\u001b[0;34m,\u001b[0m \u001b[0mprec\u001b[0m \u001b[0;34m+\u001b[0m \u001b[0;36m10\u001b[0m\u001b[0;34m,\u001b[0m \u001b[0moptions\u001b[0m\u001b[0;34m)\u001b[0m \u001b[0;32mfor\u001b[0m \u001b[0marg\u001b[0m \u001b[0;32min\u001b[0m \u001b[0mv\u001b[0m\u001b[0;34m.\u001b[0m\u001b[0margs\u001b[0m\u001b[0;34m]\u001b[0m\u001b[0;34m\u001b[0m\u001b[0;34m\u001b[0m\u001b[0m\n\u001b[0m\u001b[1;32m    535\u001b[0m         re, re_acc = add_terms(\n\u001b[1;32m    536\u001b[0m             [a[0::2] for a in terms if a[0]], prec, target_prec)\n",
      "\u001b[0;32m~/anaconda3/lib/python3.9/site-packages/sympy/core/evalf.py\u001b[0m in \u001b[0;36m<listcomp>\u001b[0;34m(.0)\u001b[0m\n\u001b[1;32m    532\u001b[0m         \u001b[0moptions\u001b[0m\u001b[0;34m[\u001b[0m\u001b[0;34m'maxprec'\u001b[0m\u001b[0;34m]\u001b[0m \u001b[0;34m=\u001b[0m \u001b[0mmin\u001b[0m\u001b[0;34m(\u001b[0m\u001b[0moldmaxprec\u001b[0m\u001b[0;34m,\u001b[0m \u001b[0;36m2\u001b[0m\u001b[0;34m*\u001b[0m\u001b[0mprec\u001b[0m\u001b[0;34m)\u001b[0m\u001b[0;34m\u001b[0m\u001b[0;34m\u001b[0m\u001b[0m\n\u001b[1;32m    533\u001b[0m \u001b[0;34m\u001b[0m\u001b[0m\n\u001b[0;32m--> 534\u001b[0;31m         \u001b[0mterms\u001b[0m \u001b[0;34m=\u001b[0m \u001b[0;34m[\u001b[0m\u001b[0mevalf\u001b[0m\u001b[0;34m(\u001b[0m\u001b[0marg\u001b[0m\u001b[0;34m,\u001b[0m \u001b[0mprec\u001b[0m \u001b[0;34m+\u001b[0m \u001b[0;36m10\u001b[0m\u001b[0;34m,\u001b[0m \u001b[0moptions\u001b[0m\u001b[0;34m)\u001b[0m \u001b[0;32mfor\u001b[0m \u001b[0marg\u001b[0m \u001b[0;32min\u001b[0m \u001b[0mv\u001b[0m\u001b[0;34m.\u001b[0m\u001b[0margs\u001b[0m\u001b[0;34m]\u001b[0m\u001b[0;34m\u001b[0m\u001b[0;34m\u001b[0m\u001b[0m\n\u001b[0m\u001b[1;32m    535\u001b[0m         re, re_acc = add_terms(\n\u001b[1;32m    536\u001b[0m             [a[0::2] for a in terms if a[0]], prec, target_prec)\n",
      "\u001b[0;32m~/anaconda3/lib/python3.9/site-packages/sympy/core/evalf.py\u001b[0m in \u001b[0;36mevalf\u001b[0;34m(x, prec, options)\u001b[0m\n\u001b[1;32m   1364\u001b[0m     \u001b[0;32mtry\u001b[0m\u001b[0;34m:\u001b[0m\u001b[0;34m\u001b[0m\u001b[0;34m\u001b[0m\u001b[0m\n\u001b[1;32m   1365\u001b[0m         \u001b[0mrf\u001b[0m \u001b[0;34m=\u001b[0m \u001b[0mevalf_table\u001b[0m\u001b[0;34m[\u001b[0m\u001b[0mx\u001b[0m\u001b[0;34m.\u001b[0m\u001b[0mfunc\u001b[0m\u001b[0;34m]\u001b[0m\u001b[0;34m\u001b[0m\u001b[0;34m\u001b[0m\u001b[0m\n\u001b[0;32m-> 1366\u001b[0;31m         \u001b[0mr\u001b[0m \u001b[0;34m=\u001b[0m \u001b[0mrf\u001b[0m\u001b[0;34m(\u001b[0m\u001b[0mx\u001b[0m\u001b[0;34m,\u001b[0m \u001b[0mprec\u001b[0m\u001b[0;34m,\u001b[0m \u001b[0moptions\u001b[0m\u001b[0;34m)\u001b[0m\u001b[0;34m\u001b[0m\u001b[0;34m\u001b[0m\u001b[0m\n\u001b[0m\u001b[1;32m   1367\u001b[0m     \u001b[0;32mexcept\u001b[0m \u001b[0mKeyError\u001b[0m\u001b[0;34m:\u001b[0m\u001b[0;34m\u001b[0m\u001b[0;34m\u001b[0m\u001b[0m\n\u001b[1;32m   1368\u001b[0m         \u001b[0;31m# Fall back to ordinary evalf if possible\u001b[0m\u001b[0;34m\u001b[0m\u001b[0;34m\u001b[0m\u001b[0m\n",
      "\u001b[0;32m~/anaconda3/lib/python3.9/site-packages/sympy/core/evalf.py\u001b[0m in \u001b[0;36mevalf_mul\u001b[0;34m(v, prec, options)\u001b[0m\n\u001b[1;32m    572\u001b[0m     \u001b[0;32mfrom\u001b[0m \u001b[0msympy\u001b[0m\u001b[0;34m.\u001b[0m\u001b[0mcore\u001b[0m\u001b[0;34m.\u001b[0m\u001b[0mnumbers\u001b[0m \u001b[0;32mimport\u001b[0m \u001b[0mFloat\u001b[0m\u001b[0;34m\u001b[0m\u001b[0;34m\u001b[0m\u001b[0m\n\u001b[1;32m    573\u001b[0m     \u001b[0;32mfor\u001b[0m \u001b[0marg\u001b[0m \u001b[0;32min\u001b[0m \u001b[0margs\u001b[0m\u001b[0;34m:\u001b[0m\u001b[0;34m\u001b[0m\u001b[0;34m\u001b[0m\u001b[0m\n\u001b[0;32m--> 574\u001b[0;31m         \u001b[0marg\u001b[0m \u001b[0;34m=\u001b[0m \u001b[0mevalf\u001b[0m\u001b[0;34m(\u001b[0m\u001b[0marg\u001b[0m\u001b[0;34m,\u001b[0m \u001b[0mprec\u001b[0m\u001b[0;34m,\u001b[0m \u001b[0moptions\u001b[0m\u001b[0;34m)\u001b[0m\u001b[0;34m\u001b[0m\u001b[0;34m\u001b[0m\u001b[0m\n\u001b[0m\u001b[1;32m    575\u001b[0m         \u001b[0;32mif\u001b[0m \u001b[0marg\u001b[0m\u001b[0;34m[\u001b[0m\u001b[0;36m0\u001b[0m\u001b[0;34m]\u001b[0m \u001b[0;32mis\u001b[0m \u001b[0;32mNone\u001b[0m\u001b[0;34m:\u001b[0m\u001b[0;34m\u001b[0m\u001b[0;34m\u001b[0m\u001b[0m\n\u001b[1;32m    576\u001b[0m             \u001b[0;32mcontinue\u001b[0m\u001b[0;34m\u001b[0m\u001b[0;34m\u001b[0m\u001b[0m\n",
      "\u001b[0;32m~/anaconda3/lib/python3.9/site-packages/sympy/core/evalf.py\u001b[0m in \u001b[0;36mevalf\u001b[0;34m(x, prec, options)\u001b[0m\n\u001b[1;32m   1364\u001b[0m     \u001b[0;32mtry\u001b[0m\u001b[0;34m:\u001b[0m\u001b[0;34m\u001b[0m\u001b[0;34m\u001b[0m\u001b[0m\n\u001b[1;32m   1365\u001b[0m         \u001b[0mrf\u001b[0m \u001b[0;34m=\u001b[0m \u001b[0mevalf_table\u001b[0m\u001b[0;34m[\u001b[0m\u001b[0mx\u001b[0m\u001b[0;34m.\u001b[0m\u001b[0mfunc\u001b[0m\u001b[0;34m]\u001b[0m\u001b[0;34m\u001b[0m\u001b[0;34m\u001b[0m\u001b[0m\n\u001b[0;32m-> 1366\u001b[0;31m         \u001b[0mr\u001b[0m \u001b[0;34m=\u001b[0m \u001b[0mrf\u001b[0m\u001b[0;34m(\u001b[0m\u001b[0mx\u001b[0m\u001b[0;34m,\u001b[0m \u001b[0mprec\u001b[0m\u001b[0;34m,\u001b[0m \u001b[0moptions\u001b[0m\u001b[0;34m)\u001b[0m\u001b[0;34m\u001b[0m\u001b[0;34m\u001b[0m\u001b[0m\n\u001b[0m\u001b[1;32m   1367\u001b[0m     \u001b[0;32mexcept\u001b[0m \u001b[0mKeyError\u001b[0m\u001b[0;34m:\u001b[0m\u001b[0;34m\u001b[0m\u001b[0;34m\u001b[0m\u001b[0m\n\u001b[1;32m   1368\u001b[0m         \u001b[0;31m# Fall back to ordinary evalf if possible\u001b[0m\u001b[0;34m\u001b[0m\u001b[0;34m\u001b[0m\u001b[0m\n",
      "\u001b[0;32m~/anaconda3/lib/python3.9/site-packages/sympy/core/evalf.py\u001b[0m in \u001b[0;36mevalf_pow\u001b[0;34m(v, prec, options)\u001b[0m\n\u001b[1;32m    689\u001b[0m         \u001b[0;31m# base must be evaluated with increased precision if p is large\u001b[0m\u001b[0;34m\u001b[0m\u001b[0;34m\u001b[0m\u001b[0m\n\u001b[1;32m    690\u001b[0m         \u001b[0mprec\u001b[0m \u001b[0;34m+=\u001b[0m \u001b[0mint\u001b[0m\u001b[0;34m(\u001b[0m\u001b[0mmath\u001b[0m\u001b[0;34m.\u001b[0m\u001b[0mlog\u001b[0m\u001b[0;34m(\u001b[0m\u001b[0mabs\u001b[0m\u001b[0;34m(\u001b[0m\u001b[0mp\u001b[0m\u001b[0;34m)\u001b[0m\u001b[0;34m,\u001b[0m \u001b[0;36m2\u001b[0m\u001b[0;34m)\u001b[0m\u001b[0;34m)\u001b[0m\u001b[0;34m\u001b[0m\u001b[0;34m\u001b[0m\u001b[0m\n\u001b[0;32m--> 691\u001b[0;31m         \u001b[0mre\u001b[0m\u001b[0;34m,\u001b[0m \u001b[0mim\u001b[0m\u001b[0;34m,\u001b[0m \u001b[0mre_acc\u001b[0m\u001b[0;34m,\u001b[0m \u001b[0mim_acc\u001b[0m \u001b[0;34m=\u001b[0m \u001b[0mevalf\u001b[0m\u001b[0;34m(\u001b[0m\u001b[0mbase\u001b[0m\u001b[0;34m,\u001b[0m \u001b[0mprec\u001b[0m \u001b[0;34m+\u001b[0m \u001b[0;36m5\u001b[0m\u001b[0;34m,\u001b[0m \u001b[0moptions\u001b[0m\u001b[0;34m)\u001b[0m\u001b[0;34m\u001b[0m\u001b[0;34m\u001b[0m\u001b[0m\n\u001b[0m\u001b[1;32m    692\u001b[0m         \u001b[0;31m# Real to integer power\u001b[0m\u001b[0;34m\u001b[0m\u001b[0;34m\u001b[0m\u001b[0m\n\u001b[1;32m    693\u001b[0m         \u001b[0;32mif\u001b[0m \u001b[0mre\u001b[0m \u001b[0;32mand\u001b[0m \u001b[0;32mnot\u001b[0m \u001b[0mim\u001b[0m\u001b[0;34m:\u001b[0m\u001b[0;34m\u001b[0m\u001b[0;34m\u001b[0m\u001b[0m\n",
      "\u001b[0;32m~/anaconda3/lib/python3.9/site-packages/sympy/core/evalf.py\u001b[0m in \u001b[0;36mevalf\u001b[0;34m(x, prec, options)\u001b[0m\n\u001b[1;32m   1364\u001b[0m     \u001b[0;32mtry\u001b[0m\u001b[0;34m:\u001b[0m\u001b[0;34m\u001b[0m\u001b[0;34m\u001b[0m\u001b[0m\n\u001b[1;32m   1365\u001b[0m         \u001b[0mrf\u001b[0m \u001b[0;34m=\u001b[0m \u001b[0mevalf_table\u001b[0m\u001b[0;34m[\u001b[0m\u001b[0mx\u001b[0m\u001b[0;34m.\u001b[0m\u001b[0mfunc\u001b[0m\u001b[0;34m]\u001b[0m\u001b[0;34m\u001b[0m\u001b[0;34m\u001b[0m\u001b[0m\n\u001b[0;32m-> 1366\u001b[0;31m         \u001b[0mr\u001b[0m \u001b[0;34m=\u001b[0m \u001b[0mrf\u001b[0m\u001b[0;34m(\u001b[0m\u001b[0mx\u001b[0m\u001b[0;34m,\u001b[0m \u001b[0mprec\u001b[0m\u001b[0;34m,\u001b[0m \u001b[0moptions\u001b[0m\u001b[0;34m)\u001b[0m\u001b[0;34m\u001b[0m\u001b[0;34m\u001b[0m\u001b[0m\n\u001b[0m\u001b[1;32m   1367\u001b[0m     \u001b[0;32mexcept\u001b[0m \u001b[0mKeyError\u001b[0m\u001b[0;34m:\u001b[0m\u001b[0;34m\u001b[0m\u001b[0;34m\u001b[0m\u001b[0m\n\u001b[1;32m   1368\u001b[0m         \u001b[0;31m# Fall back to ordinary evalf if possible\u001b[0m\u001b[0;34m\u001b[0m\u001b[0;34m\u001b[0m\u001b[0m\n",
      "\u001b[0;32m~/anaconda3/lib/python3.9/site-packages/sympy/core/evalf.py\u001b[0m in \u001b[0;36mevalf_add\u001b[0;34m(v, prec, options)\u001b[0m\n\u001b[1;32m    532\u001b[0m         \u001b[0moptions\u001b[0m\u001b[0;34m[\u001b[0m\u001b[0;34m'maxprec'\u001b[0m\u001b[0;34m]\u001b[0m \u001b[0;34m=\u001b[0m \u001b[0mmin\u001b[0m\u001b[0;34m(\u001b[0m\u001b[0moldmaxprec\u001b[0m\u001b[0;34m,\u001b[0m \u001b[0;36m2\u001b[0m\u001b[0;34m*\u001b[0m\u001b[0mprec\u001b[0m\u001b[0;34m)\u001b[0m\u001b[0;34m\u001b[0m\u001b[0;34m\u001b[0m\u001b[0m\n\u001b[1;32m    533\u001b[0m \u001b[0;34m\u001b[0m\u001b[0m\n\u001b[0;32m--> 534\u001b[0;31m         \u001b[0mterms\u001b[0m \u001b[0;34m=\u001b[0m \u001b[0;34m[\u001b[0m\u001b[0mevalf\u001b[0m\u001b[0;34m(\u001b[0m\u001b[0marg\u001b[0m\u001b[0;34m,\u001b[0m \u001b[0mprec\u001b[0m \u001b[0;34m+\u001b[0m \u001b[0;36m10\u001b[0m\u001b[0;34m,\u001b[0m \u001b[0moptions\u001b[0m\u001b[0;34m)\u001b[0m \u001b[0;32mfor\u001b[0m \u001b[0marg\u001b[0m \u001b[0;32min\u001b[0m \u001b[0mv\u001b[0m\u001b[0;34m.\u001b[0m\u001b[0margs\u001b[0m\u001b[0;34m]\u001b[0m\u001b[0;34m\u001b[0m\u001b[0;34m\u001b[0m\u001b[0m\n\u001b[0m\u001b[1;32m    535\u001b[0m         re, re_acc = add_terms(\n\u001b[1;32m    536\u001b[0m             [a[0::2] for a in terms if a[0]], prec, target_prec)\n",
      "\u001b[0;32m~/anaconda3/lib/python3.9/site-packages/sympy/core/evalf.py\u001b[0m in \u001b[0;36m<listcomp>\u001b[0;34m(.0)\u001b[0m\n\u001b[1;32m    532\u001b[0m         \u001b[0moptions\u001b[0m\u001b[0;34m[\u001b[0m\u001b[0;34m'maxprec'\u001b[0m\u001b[0;34m]\u001b[0m \u001b[0;34m=\u001b[0m \u001b[0mmin\u001b[0m\u001b[0;34m(\u001b[0m\u001b[0moldmaxprec\u001b[0m\u001b[0;34m,\u001b[0m \u001b[0;36m2\u001b[0m\u001b[0;34m*\u001b[0m\u001b[0mprec\u001b[0m\u001b[0;34m)\u001b[0m\u001b[0;34m\u001b[0m\u001b[0;34m\u001b[0m\u001b[0m\n\u001b[1;32m    533\u001b[0m \u001b[0;34m\u001b[0m\u001b[0m\n\u001b[0;32m--> 534\u001b[0;31m         \u001b[0mterms\u001b[0m \u001b[0;34m=\u001b[0m \u001b[0;34m[\u001b[0m\u001b[0mevalf\u001b[0m\u001b[0;34m(\u001b[0m\u001b[0marg\u001b[0m\u001b[0;34m,\u001b[0m \u001b[0mprec\u001b[0m \u001b[0;34m+\u001b[0m \u001b[0;36m10\u001b[0m\u001b[0;34m,\u001b[0m \u001b[0moptions\u001b[0m\u001b[0;34m)\u001b[0m \u001b[0;32mfor\u001b[0m \u001b[0marg\u001b[0m \u001b[0;32min\u001b[0m \u001b[0mv\u001b[0m\u001b[0;34m.\u001b[0m\u001b[0margs\u001b[0m\u001b[0;34m]\u001b[0m\u001b[0;34m\u001b[0m\u001b[0;34m\u001b[0m\u001b[0m\n\u001b[0m\u001b[1;32m    535\u001b[0m         re, re_acc = add_terms(\n\u001b[1;32m    536\u001b[0m             [a[0::2] for a in terms if a[0]], prec, target_prec)\n",
      "\u001b[0;32m~/anaconda3/lib/python3.9/site-packages/sympy/core/evalf.py\u001b[0m in \u001b[0;36mevalf\u001b[0;34m(x, prec, options)\u001b[0m\n\u001b[1;32m   1364\u001b[0m     \u001b[0;32mtry\u001b[0m\u001b[0;34m:\u001b[0m\u001b[0;34m\u001b[0m\u001b[0;34m\u001b[0m\u001b[0m\n\u001b[1;32m   1365\u001b[0m         \u001b[0mrf\u001b[0m \u001b[0;34m=\u001b[0m \u001b[0mevalf_table\u001b[0m\u001b[0;34m[\u001b[0m\u001b[0mx\u001b[0m\u001b[0;34m.\u001b[0m\u001b[0mfunc\u001b[0m\u001b[0;34m]\u001b[0m\u001b[0;34m\u001b[0m\u001b[0;34m\u001b[0m\u001b[0m\n\u001b[0;32m-> 1366\u001b[0;31m         \u001b[0mr\u001b[0m \u001b[0;34m=\u001b[0m \u001b[0mrf\u001b[0m\u001b[0;34m(\u001b[0m\u001b[0mx\u001b[0m\u001b[0;34m,\u001b[0m \u001b[0mprec\u001b[0m\u001b[0;34m,\u001b[0m \u001b[0moptions\u001b[0m\u001b[0;34m)\u001b[0m\u001b[0;34m\u001b[0m\u001b[0;34m\u001b[0m\u001b[0m\n\u001b[0m\u001b[1;32m   1367\u001b[0m     \u001b[0;32mexcept\u001b[0m \u001b[0mKeyError\u001b[0m\u001b[0;34m:\u001b[0m\u001b[0;34m\u001b[0m\u001b[0;34m\u001b[0m\u001b[0m\n\u001b[1;32m   1368\u001b[0m         \u001b[0;31m# Fall back to ordinary evalf if possible\u001b[0m\u001b[0;34m\u001b[0m\u001b[0;34m\u001b[0m\u001b[0m\n",
      "\u001b[0;32m~/anaconda3/lib/python3.9/site-packages/sympy/core/evalf.py\u001b[0m in \u001b[0;36mevalf_mul\u001b[0;34m(v, prec, options)\u001b[0m\n\u001b[1;32m    610\u001b[0m         \u001b[0;32melif\u001b[0m \u001b[0mi\u001b[0m \u001b[0;34m==\u001b[0m \u001b[0mlast\u001b[0m \u001b[0;32mand\u001b[0m \u001b[0marg\u001b[0m \u001b[0;32mis\u001b[0m \u001b[0mS\u001b[0m\u001b[0;34m.\u001b[0m\u001b[0mOne\u001b[0m\u001b[0;34m:\u001b[0m\u001b[0;34m\u001b[0m\u001b[0;34m\u001b[0m\u001b[0m\n\u001b[1;32m    611\u001b[0m             \u001b[0;32mcontinue\u001b[0m\u001b[0;34m\u001b[0m\u001b[0;34m\u001b[0m\u001b[0m\n\u001b[0;32m--> 612\u001b[0;31m         \u001b[0mre\u001b[0m\u001b[0;34m,\u001b[0m \u001b[0mim\u001b[0m\u001b[0;34m,\u001b[0m \u001b[0mre_acc\u001b[0m\u001b[0;34m,\u001b[0m \u001b[0mim_acc\u001b[0m \u001b[0;34m=\u001b[0m \u001b[0mevalf\u001b[0m\u001b[0;34m(\u001b[0m\u001b[0marg\u001b[0m\u001b[0;34m,\u001b[0m \u001b[0mworking_prec\u001b[0m\u001b[0;34m,\u001b[0m \u001b[0moptions\u001b[0m\u001b[0;34m)\u001b[0m\u001b[0;34m\u001b[0m\u001b[0;34m\u001b[0m\u001b[0m\n\u001b[0m\u001b[1;32m    613\u001b[0m         \u001b[0;32mif\u001b[0m \u001b[0mre\u001b[0m \u001b[0;32mand\u001b[0m \u001b[0mim\u001b[0m\u001b[0;34m:\u001b[0m\u001b[0;34m\u001b[0m\u001b[0;34m\u001b[0m\u001b[0m\n\u001b[1;32m    614\u001b[0m             \u001b[0mcomplex_factors\u001b[0m\u001b[0;34m.\u001b[0m\u001b[0mappend\u001b[0m\u001b[0;34m(\u001b[0m\u001b[0;34m(\u001b[0m\u001b[0mre\u001b[0m\u001b[0;34m,\u001b[0m \u001b[0mim\u001b[0m\u001b[0;34m,\u001b[0m \u001b[0mre_acc\u001b[0m\u001b[0;34m,\u001b[0m \u001b[0mim_acc\u001b[0m\u001b[0;34m)\u001b[0m\u001b[0;34m)\u001b[0m\u001b[0;34m\u001b[0m\u001b[0;34m\u001b[0m\u001b[0m\n",
      "\u001b[0;32m~/anaconda3/lib/python3.9/site-packages/sympy/core/evalf.py\u001b[0m in \u001b[0;36mevalf\u001b[0;34m(x, prec, options)\u001b[0m\n\u001b[1;32m   1364\u001b[0m     \u001b[0;32mtry\u001b[0m\u001b[0;34m:\u001b[0m\u001b[0;34m\u001b[0m\u001b[0;34m\u001b[0m\u001b[0m\n\u001b[1;32m   1365\u001b[0m         \u001b[0mrf\u001b[0m \u001b[0;34m=\u001b[0m \u001b[0mevalf_table\u001b[0m\u001b[0;34m[\u001b[0m\u001b[0mx\u001b[0m\u001b[0;34m.\u001b[0m\u001b[0mfunc\u001b[0m\u001b[0;34m]\u001b[0m\u001b[0;34m\u001b[0m\u001b[0;34m\u001b[0m\u001b[0m\n\u001b[0;32m-> 1366\u001b[0;31m         \u001b[0mr\u001b[0m \u001b[0;34m=\u001b[0m \u001b[0mrf\u001b[0m\u001b[0;34m(\u001b[0m\u001b[0mx\u001b[0m\u001b[0;34m,\u001b[0m \u001b[0mprec\u001b[0m\u001b[0;34m,\u001b[0m \u001b[0moptions\u001b[0m\u001b[0;34m)\u001b[0m\u001b[0;34m\u001b[0m\u001b[0;34m\u001b[0m\u001b[0m\n\u001b[0m\u001b[1;32m   1367\u001b[0m     \u001b[0;32mexcept\u001b[0m \u001b[0mKeyError\u001b[0m\u001b[0;34m:\u001b[0m\u001b[0;34m\u001b[0m\u001b[0;34m\u001b[0m\u001b[0m\n\u001b[1;32m   1368\u001b[0m         \u001b[0;31m# Fall back to ordinary evalf if possible\u001b[0m\u001b[0;34m\u001b[0m\u001b[0;34m\u001b[0m\u001b[0m\n",
      "\u001b[0;32m~/anaconda3/lib/python3.9/site-packages/sympy/core/evalf.py\u001b[0m in \u001b[0;36mevalf_pow\u001b[0;34m(v, prec, options)\u001b[0m\n\u001b[1;32m    689\u001b[0m         \u001b[0;31m# base must be evaluated with increased precision if p is large\u001b[0m\u001b[0;34m\u001b[0m\u001b[0;34m\u001b[0m\u001b[0m\n\u001b[1;32m    690\u001b[0m         \u001b[0mprec\u001b[0m \u001b[0;34m+=\u001b[0m \u001b[0mint\u001b[0m\u001b[0;34m(\u001b[0m\u001b[0mmath\u001b[0m\u001b[0;34m.\u001b[0m\u001b[0mlog\u001b[0m\u001b[0;34m(\u001b[0m\u001b[0mabs\u001b[0m\u001b[0;34m(\u001b[0m\u001b[0mp\u001b[0m\u001b[0;34m)\u001b[0m\u001b[0;34m,\u001b[0m \u001b[0;36m2\u001b[0m\u001b[0;34m)\u001b[0m\u001b[0;34m)\u001b[0m\u001b[0;34m\u001b[0m\u001b[0;34m\u001b[0m\u001b[0m\n\u001b[0;32m--> 691\u001b[0;31m         \u001b[0mre\u001b[0m\u001b[0;34m,\u001b[0m \u001b[0mim\u001b[0m\u001b[0;34m,\u001b[0m \u001b[0mre_acc\u001b[0m\u001b[0;34m,\u001b[0m \u001b[0mim_acc\u001b[0m \u001b[0;34m=\u001b[0m \u001b[0mevalf\u001b[0m\u001b[0;34m(\u001b[0m\u001b[0mbase\u001b[0m\u001b[0;34m,\u001b[0m \u001b[0mprec\u001b[0m \u001b[0;34m+\u001b[0m \u001b[0;36m5\u001b[0m\u001b[0;34m,\u001b[0m \u001b[0moptions\u001b[0m\u001b[0;34m)\u001b[0m\u001b[0;34m\u001b[0m\u001b[0;34m\u001b[0m\u001b[0m\n\u001b[0m\u001b[1;32m    692\u001b[0m         \u001b[0;31m# Real to integer power\u001b[0m\u001b[0;34m\u001b[0m\u001b[0;34m\u001b[0m\u001b[0m\n\u001b[1;32m    693\u001b[0m         \u001b[0;32mif\u001b[0m \u001b[0mre\u001b[0m \u001b[0;32mand\u001b[0m \u001b[0;32mnot\u001b[0m \u001b[0mim\u001b[0m\u001b[0;34m:\u001b[0m\u001b[0;34m\u001b[0m\u001b[0;34m\u001b[0m\u001b[0m\n",
      "\u001b[0;32m~/anaconda3/lib/python3.9/site-packages/sympy/core/evalf.py\u001b[0m in \u001b[0;36mevalf\u001b[0;34m(x, prec, options)\u001b[0m\n\u001b[1;32m   1364\u001b[0m     \u001b[0;32mtry\u001b[0m\u001b[0;34m:\u001b[0m\u001b[0;34m\u001b[0m\u001b[0;34m\u001b[0m\u001b[0m\n\u001b[1;32m   1365\u001b[0m         \u001b[0mrf\u001b[0m \u001b[0;34m=\u001b[0m \u001b[0mevalf_table\u001b[0m\u001b[0;34m[\u001b[0m\u001b[0mx\u001b[0m\u001b[0;34m.\u001b[0m\u001b[0mfunc\u001b[0m\u001b[0;34m]\u001b[0m\u001b[0;34m\u001b[0m\u001b[0;34m\u001b[0m\u001b[0m\n\u001b[0;32m-> 1366\u001b[0;31m         \u001b[0mr\u001b[0m \u001b[0;34m=\u001b[0m \u001b[0mrf\u001b[0m\u001b[0;34m(\u001b[0m\u001b[0mx\u001b[0m\u001b[0;34m,\u001b[0m \u001b[0mprec\u001b[0m\u001b[0;34m,\u001b[0m \u001b[0moptions\u001b[0m\u001b[0;34m)\u001b[0m\u001b[0;34m\u001b[0m\u001b[0;34m\u001b[0m\u001b[0m\n\u001b[0m\u001b[1;32m   1367\u001b[0m     \u001b[0;32mexcept\u001b[0m \u001b[0mKeyError\u001b[0m\u001b[0;34m:\u001b[0m\u001b[0;34m\u001b[0m\u001b[0;34m\u001b[0m\u001b[0m\n\u001b[1;32m   1368\u001b[0m         \u001b[0;31m# Fall back to ordinary evalf if possible\u001b[0m\u001b[0;34m\u001b[0m\u001b[0;34m\u001b[0m\u001b[0m\n",
      "\u001b[0;32m~/anaconda3/lib/python3.9/site-packages/sympy/core/evalf.py\u001b[0m in \u001b[0;36mevalf_add\u001b[0;34m(v, prec, options)\u001b[0m\n\u001b[1;32m    536\u001b[0m             [a[0::2] for a in terms if a[0]], prec, target_prec)\n\u001b[1;32m    537\u001b[0m         im, im_acc = add_terms(\n\u001b[0;32m--> 538\u001b[0;31m             [a[1::2] for a in terms if a[1]], prec, target_prec)\n\u001b[0m\u001b[1;32m    539\u001b[0m         \u001b[0macc\u001b[0m \u001b[0;34m=\u001b[0m \u001b[0mcomplex_accuracy\u001b[0m\u001b[0;34m(\u001b[0m\u001b[0;34m(\u001b[0m\u001b[0mre\u001b[0m\u001b[0;34m,\u001b[0m \u001b[0mim\u001b[0m\u001b[0;34m,\u001b[0m \u001b[0mre_acc\u001b[0m\u001b[0;34m,\u001b[0m \u001b[0mim_acc\u001b[0m\u001b[0;34m)\u001b[0m\u001b[0;34m)\u001b[0m\u001b[0;34m\u001b[0m\u001b[0;34m\u001b[0m\u001b[0m\n\u001b[1;32m    540\u001b[0m         \u001b[0;32mif\u001b[0m \u001b[0macc\u001b[0m \u001b[0;34m>=\u001b[0m \u001b[0mtarget_prec\u001b[0m\u001b[0;34m:\u001b[0m\u001b[0;34m\u001b[0m\u001b[0;34m\u001b[0m\u001b[0m\n",
      "\u001b[0;31mKeyboardInterrupt\u001b[0m: "
     ]
    }
   ],
   "source": [
    "poly = x**6 - 6*x**4 + 9*x**2 - 3\n",
    "d = sp.degree(poly)\n",
    "roots = [sp.re(r.evalf()) for r in sp.solve(poly,x)]\n",
    "\n",
    "evs = g.eigenvects()\n",
    "eigvecs = [v[2][0] for v in evs]\n",
    "\n",
    "V = sp.Matrix([[trunc_poly(poly, i).subs(x, roots[j]) for i in range(d)] for j in range(d)])\n",
    "ev_i = []\n",
    "for r in roots:\n",
    "    for ev in g.eigenvects():\n",
    "        if abs(ev[0].evalf() - r) < 10**(-10):\n",
    "            ev_i.append(ev[2][0])\n",
    "\n",
    "V1 = V*V.T\n",
    "V1.simplify()\n",
    "display(V1)\n",
    "display(sum(V1))\n",
    "display(sp.trace(V1))"
   ]
  },
  {
   "cell_type": "code",
   "execution_count": null,
   "metadata": {},
   "outputs": [],
   "source": [
    "coeff = 0\n",
    "for i in range(d):\n",
    "    c = sp.re(((ev_i[i].T*ev_i[i])[0,0]*V1[i,i]/(poly.diff().subs(x,roots[i])**2)).evalf())\n",
    "    print(c)\n",
    "    coeff += c\n",
    "coeff"
   ]
  },
  {
   "cell_type": "code",
   "execution_count": null,
   "metadata": {},
   "outputs": [],
   "source": [
    "B_BT = sp.zeros(d,d)\n",
    "for i in range(d):\n",
    "    B_BT += sp.re(((ev_i[i].T*ev_i[i])[0,0]/(poly.diff().subs(x,roots[i])**2)).evalf()) * V[i,:].T*V[i,:]\n",
    "N = n - len([i for i in range(n) if len([v for v in ev_i if v[i] != 0]) == 0])\n",
    "print(N, \"of\", n, \"variables\")\n",
    "display(B_BT)\n",
    "print(np.sqrt(float(B_BT.det()))**(1/(N-d)))\n",
    "B_BT.eigenvects()"
   ]
  },
  {
   "cell_type": "code",
   "execution_count": 31,
   "metadata": {
    "scrolled": true
   },
   "outputs": [
    {
     "data": {
      "text/plain": [
       "[(-1/2 + sqrt(5)/2,\n",
       "  1,\n",
       "  [Matrix([\n",
       "   [ 1/2 - sqrt(5)/2],\n",
       "   [ 1/2 + sqrt(5)/2],\n",
       "   [-3/2 - sqrt(5)/2],\n",
       "   [               0],\n",
       "   [ 1/2 + sqrt(5)/2],\n",
       "   [              -1],\n",
       "   [               1]])]),\n",
       " (-sqrt(5)/2 - 1/2,\n",
       "  1,\n",
       "  [Matrix([\n",
       "   [ 1/2 + sqrt(5)/2],\n",
       "   [ 1/2 - sqrt(5)/2],\n",
       "   [-3/2 + sqrt(5)/2],\n",
       "   [               0],\n",
       "   [ 1/2 - sqrt(5)/2],\n",
       "   [              -1],\n",
       "   [               1]])]),\n",
       " (CRootOf(_lambda**5 - _lambda**4 - 10*_lambda**3 - 3*_lambda**2 + 9*_lambda + 2, 0),\n",
       "  1,\n",
       "  [Matrix([\n",
       "   [3*CRootOf(_lambda**5 - _lambda**4 - 10*_lambda**3 - 3*_lambda**2 + 9*_lambda + 2, 0)**3/2 - CRootOf(_lambda**5 - _lambda**4 - 10*_lambda**3 - 3*_lambda**2 + 9*_lambda + 2, 0)**4/2 - 3/2 - 3*CRootOf(_lambda**5 - _lambda**4 - 10*_lambda**3 - 3*_lambda**2 + 9*_lambda + 2, 0)/2 + 2*CRootOf(_lambda**5 - _lambda**4 - 10*_lambda**3 - 3*_lambda**2 + 9*_lambda + 2, 0)**2],\n",
       "   [        3*CRootOf(_lambda**5 - _lambda**4 - 10*_lambda**3 - 3*_lambda**2 + 9*_lambda + 2, 0)**3 - CRootOf(_lambda**5 - _lambda**4 - 10*_lambda**3 - 3*_lambda**2 + 9*_lambda + 2, 0)**4 - 2 - 4*CRootOf(_lambda**5 - _lambda**4 - 10*_lambda**3 - 3*_lambda**2 + 9*_lambda + 2, 0) + 4*CRootOf(_lambda**5 - _lambda**4 - 10*_lambda**3 - 3*_lambda**2 + 9*_lambda + 2, 0)**2],\n",
       "   [                                                                                              5*CRootOf(_lambda**5 - _lambda**4 - 10*_lambda**3 - 3*_lambda**2 + 9*_lambda + 2, 0)/2 - 1 + CRootOf(_lambda**5 - _lambda**4 - 10*_lambda**3 - 3*_lambda**2 + 9*_lambda + 2, 0)**4/2 - 2*CRootOf(_lambda**5 - _lambda**4 - 10*_lambda**3 - 3*_lambda**2 + 9*_lambda + 2, 0)**3],\n",
       "   [ -7*CRootOf(_lambda**5 - _lambda**4 - 10*_lambda**3 - 3*_lambda**2 + 9*_lambda + 2, 0)**2 + 7*CRootOf(_lambda**5 - _lambda**4 - 10*_lambda**3 - 3*_lambda**2 + 9*_lambda + 2, 0)/2 + 4 + 3*CRootOf(_lambda**5 - _lambda**4 - 10*_lambda**3 - 3*_lambda**2 + 9*_lambda + 2, 0)**4/2 - 4*CRootOf(_lambda**5 - _lambda**4 - 10*_lambda**3 - 3*_lambda**2 + 9*_lambda + 2, 0)**3],\n",
       "   [    5*CRootOf(_lambda**5 - _lambda**4 - 10*_lambda**3 - 3*_lambda**2 + 9*_lambda + 2, 0) - 2*CRootOf(_lambda**5 - _lambda**4 - 10*_lambda**3 - 3*_lambda**2 + 9*_lambda + 2, 0)**2 - 1/2 + CRootOf(_lambda**5 - _lambda**4 - 10*_lambda**3 - 3*_lambda**2 + 9*_lambda + 2, 0)**4 - 7*CRootOf(_lambda**5 - _lambda**4 - 10*_lambda**3 - 3*_lambda**2 + 9*_lambda + 2, 0)**3/2],\n",
       "   [    7*CRootOf(_lambda**5 - _lambda**4 - 10*_lambda**3 - 3*_lambda**2 + 9*_lambda + 2, 0)**3/2 - CRootOf(_lambda**5 - _lambda**4 - 10*_lambda**3 - 3*_lambda**2 + 9*_lambda + 2, 0)**4 + 1/2 - 4*CRootOf(_lambda**5 - _lambda**4 - 10*_lambda**3 - 3*_lambda**2 + 9*_lambda + 2, 0) + 2*CRootOf(_lambda**5 - _lambda**4 - 10*_lambda**3 - 3*_lambda**2 + 9*_lambda + 2, 0)**2],\n",
       "   [                                                                                                                                                                                                                                                                                                                                                                           1]])]),\n",
       " (CRootOf(_lambda**5 - _lambda**4 - 10*_lambda**3 - 3*_lambda**2 + 9*_lambda + 2, 1),\n",
       "  1,\n",
       "  [Matrix([\n",
       "   [3*CRootOf(_lambda**5 - _lambda**4 - 10*_lambda**3 - 3*_lambda**2 + 9*_lambda + 2, 1)**3/2 - 3/2 - CRootOf(_lambda**5 - _lambda**4 - 10*_lambda**3 - 3*_lambda**2 + 9*_lambda + 2, 1)**4/2 - 3*CRootOf(_lambda**5 - _lambda**4 - 10*_lambda**3 - 3*_lambda**2 + 9*_lambda + 2, 1)/2 + 2*CRootOf(_lambda**5 - _lambda**4 - 10*_lambda**3 - 3*_lambda**2 + 9*_lambda + 2, 1)**2],\n",
       "   [        3*CRootOf(_lambda**5 - _lambda**4 - 10*_lambda**3 - 3*_lambda**2 + 9*_lambda + 2, 1)**3 - CRootOf(_lambda**5 - _lambda**4 - 10*_lambda**3 - 3*_lambda**2 + 9*_lambda + 2, 1)**4 - 2 - 4*CRootOf(_lambda**5 - _lambda**4 - 10*_lambda**3 - 3*_lambda**2 + 9*_lambda + 2, 1) + 4*CRootOf(_lambda**5 - _lambda**4 - 10*_lambda**3 - 3*_lambda**2 + 9*_lambda + 2, 1)**2],\n",
       "   [                                                                                              5*CRootOf(_lambda**5 - _lambda**4 - 10*_lambda**3 - 3*_lambda**2 + 9*_lambda + 2, 1)/2 - 1 + CRootOf(_lambda**5 - _lambda**4 - 10*_lambda**3 - 3*_lambda**2 + 9*_lambda + 2, 1)**4/2 - 2*CRootOf(_lambda**5 - _lambda**4 - 10*_lambda**3 - 3*_lambda**2 + 9*_lambda + 2, 1)**3],\n",
       "   [ -7*CRootOf(_lambda**5 - _lambda**4 - 10*_lambda**3 - 3*_lambda**2 + 9*_lambda + 2, 1)**2 + 7*CRootOf(_lambda**5 - _lambda**4 - 10*_lambda**3 - 3*_lambda**2 + 9*_lambda + 2, 1)/2 + 3*CRootOf(_lambda**5 - _lambda**4 - 10*_lambda**3 - 3*_lambda**2 + 9*_lambda + 2, 1)**4/2 + 4 - 4*CRootOf(_lambda**5 - _lambda**4 - 10*_lambda**3 - 3*_lambda**2 + 9*_lambda + 2, 1)**3],\n",
       "   [    5*CRootOf(_lambda**5 - _lambda**4 - 10*_lambda**3 - 3*_lambda**2 + 9*_lambda + 2, 1) - 2*CRootOf(_lambda**5 - _lambda**4 - 10*_lambda**3 - 3*_lambda**2 + 9*_lambda + 2, 1)**2 - 1/2 + CRootOf(_lambda**5 - _lambda**4 - 10*_lambda**3 - 3*_lambda**2 + 9*_lambda + 2, 1)**4 - 7*CRootOf(_lambda**5 - _lambda**4 - 10*_lambda**3 - 3*_lambda**2 + 9*_lambda + 2, 1)**3/2],\n",
       "   [    7*CRootOf(_lambda**5 - _lambda**4 - 10*_lambda**3 - 3*_lambda**2 + 9*_lambda + 2, 1)**3/2 - CRootOf(_lambda**5 - _lambda**4 - 10*_lambda**3 - 3*_lambda**2 + 9*_lambda + 2, 1)**4 + 1/2 + 2*CRootOf(_lambda**5 - _lambda**4 - 10*_lambda**3 - 3*_lambda**2 + 9*_lambda + 2, 1)**2 - 4*CRootOf(_lambda**5 - _lambda**4 - 10*_lambda**3 - 3*_lambda**2 + 9*_lambda + 2, 1)],\n",
       "   [                                                                                                                                                                                                                                                                                                                                                                           1]])]),\n",
       " (CRootOf(_lambda**5 - _lambda**4 - 10*_lambda**3 - 3*_lambda**2 + 9*_lambda + 2, 2),\n",
       "  1,\n",
       "  [Matrix([\n",
       "   [-3/2 + 3*CRootOf(_lambda**5 - _lambda**4 - 10*_lambda**3 - 3*_lambda**2 + 9*_lambda + 2, 2)**3/2 - CRootOf(_lambda**5 - _lambda**4 - 10*_lambda**3 - 3*_lambda**2 + 9*_lambda + 2, 2)**4/2 + 2*CRootOf(_lambda**5 - _lambda**4 - 10*_lambda**3 - 3*_lambda**2 + 9*_lambda + 2, 2)**2 - 3*CRootOf(_lambda**5 - _lambda**4 - 10*_lambda**3 - 3*_lambda**2 + 9*_lambda + 2, 2)/2],\n",
       "   [        -2 + 3*CRootOf(_lambda**5 - _lambda**4 - 10*_lambda**3 - 3*_lambda**2 + 9*_lambda + 2, 2)**3 - CRootOf(_lambda**5 - _lambda**4 - 10*_lambda**3 - 3*_lambda**2 + 9*_lambda + 2, 2)**4 + 4*CRootOf(_lambda**5 - _lambda**4 - 10*_lambda**3 - 3*_lambda**2 + 9*_lambda + 2, 2)**2 - 4*CRootOf(_lambda**5 - _lambda**4 - 10*_lambda**3 - 3*_lambda**2 + 9*_lambda + 2, 2)],\n",
       "   [                                                                                              -1 + 5*CRootOf(_lambda**5 - _lambda**4 - 10*_lambda**3 - 3*_lambda**2 + 9*_lambda + 2, 2)/2 + CRootOf(_lambda**5 - _lambda**4 - 10*_lambda**3 - 3*_lambda**2 + 9*_lambda + 2, 2)**4/2 - 2*CRootOf(_lambda**5 - _lambda**4 - 10*_lambda**3 - 3*_lambda**2 + 9*_lambda + 2, 2)**3],\n",
       "   [   7*CRootOf(_lambda**5 - _lambda**4 - 10*_lambda**3 - 3*_lambda**2 + 9*_lambda + 2, 2)/2 - 7*CRootOf(_lambda**5 - _lambda**4 - 10*_lambda**3 - 3*_lambda**2 + 9*_lambda + 2, 2)**2 + 3*CRootOf(_lambda**5 - _lambda**4 - 10*_lambda**3 - 3*_lambda**2 + 9*_lambda + 2, 2)**4/2 - 4*CRootOf(_lambda**5 - _lambda**4 - 10*_lambda**3 - 3*_lambda**2 + 9*_lambda + 2, 2)**3 + 4],\n",
       "   [     5*CRootOf(_lambda**5 - _lambda**4 - 10*_lambda**3 - 3*_lambda**2 + 9*_lambda + 2, 2) - 1/2 - 2*CRootOf(_lambda**5 - _lambda**4 - 10*_lambda**3 - 3*_lambda**2 + 9*_lambda + 2, 2)**2 + CRootOf(_lambda**5 - _lambda**4 - 10*_lambda**3 - 3*_lambda**2 + 9*_lambda + 2, 2)**4 - 7*CRootOf(_lambda**5 - _lambda**4 - 10*_lambda**3 - 3*_lambda**2 + 9*_lambda + 2, 2)**3/2],\n",
       "   [     7*CRootOf(_lambda**5 - _lambda**4 - 10*_lambda**3 - 3*_lambda**2 + 9*_lambda + 2, 2)**3/2 - CRootOf(_lambda**5 - _lambda**4 - 10*_lambda**3 - 3*_lambda**2 + 9*_lambda + 2, 2)**4 + 2*CRootOf(_lambda**5 - _lambda**4 - 10*_lambda**3 - 3*_lambda**2 + 9*_lambda + 2, 2)**2 + 1/2 - 4*CRootOf(_lambda**5 - _lambda**4 - 10*_lambda**3 - 3*_lambda**2 + 9*_lambda + 2, 2)],\n",
       "   [                                                                                                                                                                                                                                                                                                                                                                            1]])]),\n",
       " (CRootOf(_lambda**5 - _lambda**4 - 10*_lambda**3 - 3*_lambda**2 + 9*_lambda + 2, 3),\n",
       "  1,\n",
       "  [Matrix([\n",
       "   [-3/2 - 3*CRootOf(_lambda**5 - _lambda**4 - 10*_lambda**3 - 3*_lambda**2 + 9*_lambda + 2, 3)/2 - CRootOf(_lambda**5 - _lambda**4 - 10*_lambda**3 - 3*_lambda**2 + 9*_lambda + 2, 3)**4/2 + 3*CRootOf(_lambda**5 - _lambda**4 - 10*_lambda**3 - 3*_lambda**2 + 9*_lambda + 2, 3)**3/2 + 2*CRootOf(_lambda**5 - _lambda**4 - 10*_lambda**3 - 3*_lambda**2 + 9*_lambda + 2, 3)**2],\n",
       "   [        -4*CRootOf(_lambda**5 - _lambda**4 - 10*_lambda**3 - 3*_lambda**2 + 9*_lambda + 2, 3) - 2 - CRootOf(_lambda**5 - _lambda**4 - 10*_lambda**3 - 3*_lambda**2 + 9*_lambda + 2, 3)**4 + 3*CRootOf(_lambda**5 - _lambda**4 - 10*_lambda**3 - 3*_lambda**2 + 9*_lambda + 2, 3)**3 + 4*CRootOf(_lambda**5 - _lambda**4 - 10*_lambda**3 - 3*_lambda**2 + 9*_lambda + 2, 3)**2],\n",
       "   [                                                                                              -2*CRootOf(_lambda**5 - _lambda**4 - 10*_lambda**3 - 3*_lambda**2 + 9*_lambda + 2, 3)**3 - 1 + CRootOf(_lambda**5 - _lambda**4 - 10*_lambda**3 - 3*_lambda**2 + 9*_lambda + 2, 3)**4/2 + 5*CRootOf(_lambda**5 - _lambda**4 - 10*_lambda**3 - 3*_lambda**2 + 9*_lambda + 2, 3)/2],\n",
       "   [  -7*CRootOf(_lambda**5 - _lambda**4 - 10*_lambda**3 - 3*_lambda**2 + 9*_lambda + 2, 3)**2 - 4*CRootOf(_lambda**5 - _lambda**4 - 10*_lambda**3 - 3*_lambda**2 + 9*_lambda + 2, 3)**3 + 3*CRootOf(_lambda**5 - _lambda**4 - 10*_lambda**3 - 3*_lambda**2 + 9*_lambda + 2, 3)**4/2 + 7*CRootOf(_lambda**5 - _lambda**4 - 10*_lambda**3 - 3*_lambda**2 + 9*_lambda + 2, 3)/2 + 4],\n",
       "   [    -7*CRootOf(_lambda**5 - _lambda**4 - 10*_lambda**3 - 3*_lambda**2 + 9*_lambda + 2, 3)**3/2 - 2*CRootOf(_lambda**5 - _lambda**4 - 10*_lambda**3 - 3*_lambda**2 + 9*_lambda + 2, 3)**2 - 1/2 + CRootOf(_lambda**5 - _lambda**4 - 10*_lambda**3 - 3*_lambda**2 + 9*_lambda + 2, 3)**4 + 5*CRootOf(_lambda**5 - _lambda**4 - 10*_lambda**3 - 3*_lambda**2 + 9*_lambda + 2, 3)],\n",
       "   [    -4*CRootOf(_lambda**5 - _lambda**4 - 10*_lambda**3 - 3*_lambda**2 + 9*_lambda + 2, 3) - CRootOf(_lambda**5 - _lambda**4 - 10*_lambda**3 - 3*_lambda**2 + 9*_lambda + 2, 3)**4 + 1/2 + 2*CRootOf(_lambda**5 - _lambda**4 - 10*_lambda**3 - 3*_lambda**2 + 9*_lambda + 2, 3)**2 + 7*CRootOf(_lambda**5 - _lambda**4 - 10*_lambda**3 - 3*_lambda**2 + 9*_lambda + 2, 3)**3/2],\n",
       "   [                                                                                                                                                                                                                                                                                                                                                                            1]])]),\n",
       " (CRootOf(_lambda**5 - _lambda**4 - 10*_lambda**3 - 3*_lambda**2 + 9*_lambda + 2, 4),\n",
       "  1,\n",
       "  [Matrix([\n",
       "   [-CRootOf(_lambda**5 - _lambda**4 - 10*_lambda**3 - 3*_lambda**2 + 9*_lambda + 2, 4)**4/2 - 3*CRootOf(_lambda**5 - _lambda**4 - 10*_lambda**3 - 3*_lambda**2 + 9*_lambda + 2, 4)/2 - 3/2 + 2*CRootOf(_lambda**5 - _lambda**4 - 10*_lambda**3 - 3*_lambda**2 + 9*_lambda + 2, 4)**2 + 3*CRootOf(_lambda**5 - _lambda**4 - 10*_lambda**3 - 3*_lambda**2 + 9*_lambda + 2, 4)**3/2],\n",
       "   [        -CRootOf(_lambda**5 - _lambda**4 - 10*_lambda**3 - 3*_lambda**2 + 9*_lambda + 2, 4)**4 - 4*CRootOf(_lambda**5 - _lambda**4 - 10*_lambda**3 - 3*_lambda**2 + 9*_lambda + 2, 4) - 2 + 4*CRootOf(_lambda**5 - _lambda**4 - 10*_lambda**3 - 3*_lambda**2 + 9*_lambda + 2, 4)**2 + 3*CRootOf(_lambda**5 - _lambda**4 - 10*_lambda**3 - 3*_lambda**2 + 9*_lambda + 2, 4)**3],\n",
       "   [                                                                                              -2*CRootOf(_lambda**5 - _lambda**4 - 10*_lambda**3 - 3*_lambda**2 + 9*_lambda + 2, 4)**3 - 1 + 5*CRootOf(_lambda**5 - _lambda**4 - 10*_lambda**3 - 3*_lambda**2 + 9*_lambda + 2, 4)/2 + CRootOf(_lambda**5 - _lambda**4 - 10*_lambda**3 - 3*_lambda**2 + 9*_lambda + 2, 4)**4/2],\n",
       "   [  -4*CRootOf(_lambda**5 - _lambda**4 - 10*_lambda**3 - 3*_lambda**2 + 9*_lambda + 2, 4)**3 - 7*CRootOf(_lambda**5 - _lambda**4 - 10*_lambda**3 - 3*_lambda**2 + 9*_lambda + 2, 4)**2 + 4 + 7*CRootOf(_lambda**5 - _lambda**4 - 10*_lambda**3 - 3*_lambda**2 + 9*_lambda + 2, 4)/2 + 3*CRootOf(_lambda**5 - _lambda**4 - 10*_lambda**3 - 3*_lambda**2 + 9*_lambda + 2, 4)**4/2],\n",
       "   [    -7*CRootOf(_lambda**5 - _lambda**4 - 10*_lambda**3 - 3*_lambda**2 + 9*_lambda + 2, 4)**3/2 - 2*CRootOf(_lambda**5 - _lambda**4 - 10*_lambda**3 - 3*_lambda**2 + 9*_lambda + 2, 4)**2 - 1/2 + 5*CRootOf(_lambda**5 - _lambda**4 - 10*_lambda**3 - 3*_lambda**2 + 9*_lambda + 2, 4) + CRootOf(_lambda**5 - _lambda**4 - 10*_lambda**3 - 3*_lambda**2 + 9*_lambda + 2, 4)**4],\n",
       "   [    -CRootOf(_lambda**5 - _lambda**4 - 10*_lambda**3 - 3*_lambda**2 + 9*_lambda + 2, 4)**4 - 4*CRootOf(_lambda**5 - _lambda**4 - 10*_lambda**3 - 3*_lambda**2 + 9*_lambda + 2, 4) + 1/2 + 2*CRootOf(_lambda**5 - _lambda**4 - 10*_lambda**3 - 3*_lambda**2 + 9*_lambda + 2, 4)**2 + 7*CRootOf(_lambda**5 - _lambda**4 - 10*_lambda**3 - 3*_lambda**2 + 9*_lambda + 2, 4)**3/2],\n",
       "   [                                                                                                                                                                                                                                                                                                                                                                            1]])])]"
      ]
     },
     "execution_count": 31,
     "metadata": {},
     "output_type": "execute_result"
    }
   ],
   "source": [
    "evs = g.eigenvects()\n",
    "eigvecs = [v[2][0] for v in evs]\n",
    "evs"
   ]
  },
  {
   "cell_type": "code",
   "execution_count": 72,
   "metadata": {
    "scrolled": false
   },
   "outputs": [
    {
     "name": "stdout",
     "output_type": "stream",
     "text": [
      "[22]\n",
      "[14, 15, 16, 17, 18, 20, 22]\n",
      "[13, 14, 15, 16, 17, 19, 22]\n",
      "[12, 14, 15, 16, 18, 19, 20, 22]\n",
      "[12, 13, 14, 15, 16, 18, 22]\n",
      "[11, 14, 15, 16, 20, 22]\n",
      "[11, 13, 14, 15, 17, 18, 19, 22]\n",
      "[11, 12, 14, 15, 17, 19, 20, 22]\n",
      "[11, 12, 13, 14, 15, 17, 22]\n",
      "[10, 14, 15, 18, 20, 22]\n",
      "[10, 13, 14, 15, 19, 22]\n",
      "[10, 12, 14, 16, 17, 18, 19, 20, 22]\n",
      "[10, 12, 13, 14, 16, 17, 18, 22]\n",
      "[10, 11, 14, 16, 17, 20, 22]\n",
      "[10, 11, 13, 14, 16, 18, 19, 22]\n",
      "[10, 11, 12, 14, 16, 19, 20, 22]\n",
      "[10, 11, 12, 13, 14, 16, 22]\n",
      "[9, 14, 17, 18, 20, 22]\n",
      "[9, 13, 14, 17, 19, 22]\n",
      "[9, 12, 14, 18, 19, 20, 22]\n",
      "[9, 12, 13, 14, 18, 22]\n",
      "[9, 11, 14, 20, 22]\n",
      "[9, 11, 13, 15, 16, 17, 18, 19, 22]\n",
      "[9, 11, 12, 15, 16, 17, 19, 20, 22]\n",
      "[9, 11, 12, 13, 15, 16, 17, 22]\n",
      "[9, 10, 15, 16, 18, 20, 22]\n"
     ]
    },
    {
     "ename": "KeyboardInterrupt",
     "evalue": "",
     "output_type": "error",
     "traceback": [
      "\u001b[0;31m---------------------------------------------------------------------------\u001b[0m",
      "\u001b[0;31mKeyboardInterrupt\u001b[0m                         Traceback (most recent call last)",
      "\u001b[0;32m/tmp/ipykernel_3642/2058215860.py\u001b[0m in \u001b[0;36m<module>\u001b[0;34m\u001b[0m\n\u001b[1;32m     14\u001b[0m         \u001b[0;32mfor\u001b[0m \u001b[0mv\u001b[0m \u001b[0;32min\u001b[0m \u001b[0mset1\u001b[0m\u001b[0;34m:\u001b[0m\u001b[0;34m\u001b[0m\u001b[0;34m\u001b[0m\u001b[0m\n\u001b[1;32m     15\u001b[0m             \u001b[0mr\u001b[0m \u001b[0;34m+=\u001b[0m \u001b[0mresiduals\u001b[0m\u001b[0;34m[\u001b[0m\u001b[0mu\u001b[0m\u001b[0;34m,\u001b[0m\u001b[0mv\u001b[0m\u001b[0;34m]\u001b[0m\u001b[0;34m\u001b[0m\u001b[0;34m\u001b[0m\u001b[0m\n\u001b[0;32m---> 16\u001b[0;31m     \u001b[0mrp\u001b[0m \u001b[0;34m=\u001b[0m \u001b[0;34m(\u001b[0m\u001b[0mp\u001b[0m \u001b[0;34m/\u001b[0m \u001b[0msp\u001b[0m\u001b[0;34m.\u001b[0m\u001b[0mgcd\u001b[0m\u001b[0;34m(\u001b[0m\u001b[0mp\u001b[0m\u001b[0;34m,\u001b[0m \u001b[0mr\u001b[0m\u001b[0;34m)\u001b[0m\u001b[0;34m)\u001b[0m\u001b[0;34m.\u001b[0m\u001b[0mexpand\u001b[0m\u001b[0;34m(\u001b[0m\u001b[0;34m)\u001b[0m\u001b[0;34m\u001b[0m\u001b[0;34m\u001b[0m\u001b[0m\n\u001b[0m\u001b[1;32m     17\u001b[0m     \u001b[0;32mif\u001b[0m \u001b[0msp\u001b[0m\u001b[0;34m.\u001b[0m\u001b[0mdegree\u001b[0m\u001b[0;34m(\u001b[0m\u001b[0mrp\u001b[0m\u001b[0;34m)\u001b[0m \u001b[0;34m==\u001b[0m \u001b[0;36m8\u001b[0m\u001b[0;34m:\u001b[0m\u001b[0;34m\u001b[0m\u001b[0;34m\u001b[0m\u001b[0m\n\u001b[1;32m     18\u001b[0m         \u001b[0mprint\u001b[0m\u001b[0;34m(\u001b[0m\u001b[0;34m\"found:\"\u001b[0m\u001b[0;34m,\u001b[0m \u001b[0mset1\u001b[0m\u001b[0;34m)\u001b[0m\u001b[0;34m\u001b[0m\u001b[0;34m\u001b[0m\u001b[0m\n",
      "\u001b[0;32m~/anaconda3/lib/python3.9/site-packages/sympy/polys/polytools.py\u001b[0m in \u001b[0;36mgcd\u001b[0;34m(f, g, *gens, **args)\u001b[0m\n\u001b[1;32m   5304\u001b[0m \u001b[0;34m\u001b[0m\u001b[0m\n\u001b[1;32m   5305\u001b[0m     \u001b[0;32mtry\u001b[0m\u001b[0;34m:\u001b[0m\u001b[0;34m\u001b[0m\u001b[0;34m\u001b[0m\u001b[0m\n\u001b[0;32m-> 5306\u001b[0;31m         \u001b[0;34m(\u001b[0m\u001b[0mF\u001b[0m\u001b[0;34m,\u001b[0m \u001b[0mG\u001b[0m\u001b[0;34m)\u001b[0m\u001b[0;34m,\u001b[0m \u001b[0mopt\u001b[0m \u001b[0;34m=\u001b[0m \u001b[0mparallel_poly_from_expr\u001b[0m\u001b[0;34m(\u001b[0m\u001b[0;34m(\u001b[0m\u001b[0mf\u001b[0m\u001b[0;34m,\u001b[0m \u001b[0mg\u001b[0m\u001b[0;34m)\u001b[0m\u001b[0;34m,\u001b[0m \u001b[0;34m*\u001b[0m\u001b[0mgens\u001b[0m\u001b[0;34m,\u001b[0m \u001b[0;34m**\u001b[0m\u001b[0margs\u001b[0m\u001b[0;34m)\u001b[0m\u001b[0;34m\u001b[0m\u001b[0;34m\u001b[0m\u001b[0m\n\u001b[0m\u001b[1;32m   5307\u001b[0m \u001b[0;34m\u001b[0m\u001b[0m\n\u001b[1;32m   5308\u001b[0m         \u001b[0;31m# gcd for domain Q[irrational] (purely algebraic irrational)\u001b[0m\u001b[0;34m\u001b[0m\u001b[0;34m\u001b[0m\u001b[0m\n",
      "\u001b[0;32m~/anaconda3/lib/python3.9/site-packages/sympy/polys/polytools.py\u001b[0m in \u001b[0;36mparallel_poly_from_expr\u001b[0;34m(exprs, *gens, **args)\u001b[0m\n\u001b[1;32m   4338\u001b[0m     \u001b[0;34m\"\"\"Construct polynomials from expressions. \"\"\"\u001b[0m\u001b[0;34m\u001b[0m\u001b[0;34m\u001b[0m\u001b[0m\n\u001b[1;32m   4339\u001b[0m     \u001b[0mopt\u001b[0m \u001b[0;34m=\u001b[0m \u001b[0moptions\u001b[0m\u001b[0;34m.\u001b[0m\u001b[0mbuild_options\u001b[0m\u001b[0;34m(\u001b[0m\u001b[0mgens\u001b[0m\u001b[0;34m,\u001b[0m \u001b[0margs\u001b[0m\u001b[0;34m)\u001b[0m\u001b[0;34m\u001b[0m\u001b[0;34m\u001b[0m\u001b[0m\n\u001b[0;32m-> 4340\u001b[0;31m     \u001b[0;32mreturn\u001b[0m \u001b[0m_parallel_poly_from_expr\u001b[0m\u001b[0;34m(\u001b[0m\u001b[0mexprs\u001b[0m\u001b[0;34m,\u001b[0m \u001b[0mopt\u001b[0m\u001b[0;34m)\u001b[0m\u001b[0;34m\u001b[0m\u001b[0;34m\u001b[0m\u001b[0m\n\u001b[0m\u001b[1;32m   4341\u001b[0m \u001b[0;34m\u001b[0m\u001b[0m\n\u001b[1;32m   4342\u001b[0m \u001b[0;34m\u001b[0m\u001b[0m\n",
      "\u001b[0;32m~/anaconda3/lib/python3.9/site-packages/sympy/polys/polytools.py\u001b[0m in \u001b[0;36m_parallel_poly_from_expr\u001b[0;34m(exprs, opt)\u001b[0m\n\u001b[1;32m   4377\u001b[0m \u001b[0;34m\u001b[0m\u001b[0m\n\u001b[1;32m   4378\u001b[0m                 \u001b[0;32mif\u001b[0m \u001b[0mopt\u001b[0m\u001b[0;34m.\u001b[0m\u001b[0mexpand\u001b[0m\u001b[0;34m:\u001b[0m\u001b[0;34m\u001b[0m\u001b[0;34m\u001b[0m\u001b[0m\n\u001b[0;32m-> 4379\u001b[0;31m                     \u001b[0mexpr\u001b[0m \u001b[0;34m=\u001b[0m \u001b[0mexpr\u001b[0m\u001b[0;34m.\u001b[0m\u001b[0mexpand\u001b[0m\u001b[0;34m(\u001b[0m\u001b[0;34m)\u001b[0m\u001b[0;34m\u001b[0m\u001b[0;34m\u001b[0m\u001b[0m\n\u001b[0m\u001b[1;32m   4380\u001b[0m         \u001b[0;32melse\u001b[0m\u001b[0;34m:\u001b[0m\u001b[0;34m\u001b[0m\u001b[0;34m\u001b[0m\u001b[0m\n\u001b[1;32m   4381\u001b[0m             \u001b[0mfailed\u001b[0m \u001b[0;34m=\u001b[0m \u001b[0;32mTrue\u001b[0m\u001b[0;34m\u001b[0m\u001b[0;34m\u001b[0m\u001b[0m\n",
      "\u001b[0;32m~/anaconda3/lib/python3.9/site-packages/sympy/core/cache.py\u001b[0m in \u001b[0;36mwrapper\u001b[0;34m(*args, **kwargs)\u001b[0m\n\u001b[1;32m     70\u001b[0m         \u001b[0;32mdef\u001b[0m \u001b[0mwrapper\u001b[0m\u001b[0;34m(\u001b[0m\u001b[0;34m*\u001b[0m\u001b[0margs\u001b[0m\u001b[0;34m,\u001b[0m \u001b[0;34m**\u001b[0m\u001b[0mkwargs\u001b[0m\u001b[0;34m)\u001b[0m\u001b[0;34m:\u001b[0m\u001b[0;34m\u001b[0m\u001b[0;34m\u001b[0m\u001b[0m\n\u001b[1;32m     71\u001b[0m             \u001b[0;32mtry\u001b[0m\u001b[0;34m:\u001b[0m\u001b[0;34m\u001b[0m\u001b[0;34m\u001b[0m\u001b[0m\n\u001b[0;32m---> 72\u001b[0;31m                 \u001b[0mretval\u001b[0m \u001b[0;34m=\u001b[0m \u001b[0mcfunc\u001b[0m\u001b[0;34m(\u001b[0m\u001b[0;34m*\u001b[0m\u001b[0margs\u001b[0m\u001b[0;34m,\u001b[0m \u001b[0;34m**\u001b[0m\u001b[0mkwargs\u001b[0m\u001b[0;34m)\u001b[0m\u001b[0;34m\u001b[0m\u001b[0;34m\u001b[0m\u001b[0m\n\u001b[0m\u001b[1;32m     73\u001b[0m             \u001b[0;32mexcept\u001b[0m \u001b[0mTypeError\u001b[0m \u001b[0;32mas\u001b[0m \u001b[0me\u001b[0m\u001b[0;34m:\u001b[0m\u001b[0;34m\u001b[0m\u001b[0;34m\u001b[0m\u001b[0m\n\u001b[1;32m     74\u001b[0m                 \u001b[0;32mif\u001b[0m \u001b[0;32mnot\u001b[0m \u001b[0me\u001b[0m\u001b[0;34m.\u001b[0m\u001b[0margs\u001b[0m \u001b[0;32mor\u001b[0m \u001b[0;32mnot\u001b[0m \u001b[0me\u001b[0m\u001b[0;34m.\u001b[0m\u001b[0margs\u001b[0m\u001b[0;34m[\u001b[0m\u001b[0;36m0\u001b[0m\u001b[0;34m]\u001b[0m\u001b[0;34m.\u001b[0m\u001b[0mstartswith\u001b[0m\u001b[0;34m(\u001b[0m\u001b[0;34m'unhashable type:'\u001b[0m\u001b[0;34m)\u001b[0m\u001b[0;34m:\u001b[0m\u001b[0;34m\u001b[0m\u001b[0;34m\u001b[0m\u001b[0m\n",
      "\u001b[0;32m~/anaconda3/lib/python3.9/site-packages/sympy/core/expr.py\u001b[0m in \u001b[0;36mexpand\u001b[0;34m(self, deep, modulus, power_base, power_exp, mul, log, multinomial, basic, **hints)\u001b[0m\n\u001b[1;32m   3620\u001b[0m             \u001b[0;32mif\u001b[0m \u001b[0muse_hint\u001b[0m\u001b[0;34m:\u001b[0m\u001b[0;34m\u001b[0m\u001b[0;34m\u001b[0m\u001b[0m\n\u001b[1;32m   3621\u001b[0m                 \u001b[0mhint\u001b[0m \u001b[0;34m=\u001b[0m \u001b[0;34m'_eval_expand_'\u001b[0m \u001b[0;34m+\u001b[0m \u001b[0mhint\u001b[0m\u001b[0;34m\u001b[0m\u001b[0;34m\u001b[0m\u001b[0m\n\u001b[0;32m-> 3622\u001b[0;31m                 \u001b[0mexpr\u001b[0m\u001b[0;34m,\u001b[0m \u001b[0mhit\u001b[0m \u001b[0;34m=\u001b[0m \u001b[0mExpr\u001b[0m\u001b[0;34m.\u001b[0m\u001b[0m_expand_hint\u001b[0m\u001b[0;34m(\u001b[0m\u001b[0mexpr\u001b[0m\u001b[0;34m,\u001b[0m \u001b[0mhint\u001b[0m\u001b[0;34m,\u001b[0m \u001b[0mdeep\u001b[0m\u001b[0;34m=\u001b[0m\u001b[0mdeep\u001b[0m\u001b[0;34m,\u001b[0m \u001b[0;34m**\u001b[0m\u001b[0mhints\u001b[0m\u001b[0;34m)\u001b[0m\u001b[0;34m\u001b[0m\u001b[0;34m\u001b[0m\u001b[0m\n\u001b[0m\u001b[1;32m   3623\u001b[0m \u001b[0;34m\u001b[0m\u001b[0m\n\u001b[1;32m   3624\u001b[0m         \u001b[0;32mwhile\u001b[0m \u001b[0;32mTrue\u001b[0m\u001b[0;34m:\u001b[0m\u001b[0;34m\u001b[0m\u001b[0;34m\u001b[0m\u001b[0m\n",
      "\u001b[0;32m~/anaconda3/lib/python3.9/site-packages/sympy/core/expr.py\u001b[0m in \u001b[0;36m_expand_hint\u001b[0;34m(expr, hint, deep, **hints)\u001b[0m\n\u001b[1;32m   3553\u001b[0m             \u001b[0msargs\u001b[0m \u001b[0;34m=\u001b[0m \u001b[0;34m[\u001b[0m\u001b[0;34m]\u001b[0m\u001b[0;34m\u001b[0m\u001b[0;34m\u001b[0m\u001b[0m\n\u001b[1;32m   3554\u001b[0m             \u001b[0;32mfor\u001b[0m \u001b[0marg\u001b[0m \u001b[0;32min\u001b[0m \u001b[0mexpr\u001b[0m\u001b[0;34m.\u001b[0m\u001b[0margs\u001b[0m\u001b[0;34m:\u001b[0m\u001b[0;34m\u001b[0m\u001b[0;34m\u001b[0m\u001b[0m\n\u001b[0;32m-> 3555\u001b[0;31m                 \u001b[0marg\u001b[0m\u001b[0;34m,\u001b[0m \u001b[0marghit\u001b[0m \u001b[0;34m=\u001b[0m \u001b[0mExpr\u001b[0m\u001b[0;34m.\u001b[0m\u001b[0m_expand_hint\u001b[0m\u001b[0;34m(\u001b[0m\u001b[0marg\u001b[0m\u001b[0;34m,\u001b[0m \u001b[0mhint\u001b[0m\u001b[0;34m,\u001b[0m \u001b[0;34m**\u001b[0m\u001b[0mhints\u001b[0m\u001b[0;34m)\u001b[0m\u001b[0;34m\u001b[0m\u001b[0;34m\u001b[0m\u001b[0m\n\u001b[0m\u001b[1;32m   3556\u001b[0m                 \u001b[0mhit\u001b[0m \u001b[0;34m|=\u001b[0m \u001b[0marghit\u001b[0m\u001b[0;34m\u001b[0m\u001b[0;34m\u001b[0m\u001b[0m\n\u001b[1;32m   3557\u001b[0m                 \u001b[0msargs\u001b[0m\u001b[0;34m.\u001b[0m\u001b[0mappend\u001b[0m\u001b[0;34m(\u001b[0m\u001b[0marg\u001b[0m\u001b[0;34m)\u001b[0m\u001b[0;34m\u001b[0m\u001b[0;34m\u001b[0m\u001b[0m\n",
      "\u001b[0;32m~/anaconda3/lib/python3.9/site-packages/sympy/core/expr.py\u001b[0m in \u001b[0;36m_expand_hint\u001b[0;34m(expr, hint, deep, **hints)\u001b[0m\n\u001b[1;32m   3553\u001b[0m             \u001b[0msargs\u001b[0m \u001b[0;34m=\u001b[0m \u001b[0;34m[\u001b[0m\u001b[0;34m]\u001b[0m\u001b[0;34m\u001b[0m\u001b[0;34m\u001b[0m\u001b[0m\n\u001b[1;32m   3554\u001b[0m             \u001b[0;32mfor\u001b[0m \u001b[0marg\u001b[0m \u001b[0;32min\u001b[0m \u001b[0mexpr\u001b[0m\u001b[0;34m.\u001b[0m\u001b[0margs\u001b[0m\u001b[0;34m:\u001b[0m\u001b[0;34m\u001b[0m\u001b[0;34m\u001b[0m\u001b[0m\n\u001b[0;32m-> 3555\u001b[0;31m                 \u001b[0marg\u001b[0m\u001b[0;34m,\u001b[0m \u001b[0marghit\u001b[0m \u001b[0;34m=\u001b[0m \u001b[0mExpr\u001b[0m\u001b[0;34m.\u001b[0m\u001b[0m_expand_hint\u001b[0m\u001b[0;34m(\u001b[0m\u001b[0marg\u001b[0m\u001b[0;34m,\u001b[0m \u001b[0mhint\u001b[0m\u001b[0;34m,\u001b[0m \u001b[0;34m**\u001b[0m\u001b[0mhints\u001b[0m\u001b[0;34m)\u001b[0m\u001b[0;34m\u001b[0m\u001b[0;34m\u001b[0m\u001b[0m\n\u001b[0m\u001b[1;32m   3556\u001b[0m                 \u001b[0mhit\u001b[0m \u001b[0;34m|=\u001b[0m \u001b[0marghit\u001b[0m\u001b[0;34m\u001b[0m\u001b[0;34m\u001b[0m\u001b[0m\n\u001b[1;32m   3557\u001b[0m                 \u001b[0msargs\u001b[0m\u001b[0;34m.\u001b[0m\u001b[0mappend\u001b[0m\u001b[0;34m(\u001b[0m\u001b[0marg\u001b[0m\u001b[0;34m)\u001b[0m\u001b[0;34m\u001b[0m\u001b[0;34m\u001b[0m\u001b[0m\n",
      "\u001b[0;32m~/anaconda3/lib/python3.9/site-packages/sympy/core/expr.py\u001b[0m in \u001b[0;36m_expand_hint\u001b[0;34m(expr, hint, deep, **hints)\u001b[0m\n\u001b[1;32m   3553\u001b[0m             \u001b[0msargs\u001b[0m \u001b[0;34m=\u001b[0m \u001b[0;34m[\u001b[0m\u001b[0;34m]\u001b[0m\u001b[0;34m\u001b[0m\u001b[0;34m\u001b[0m\u001b[0m\n\u001b[1;32m   3554\u001b[0m             \u001b[0;32mfor\u001b[0m \u001b[0marg\u001b[0m \u001b[0;32min\u001b[0m \u001b[0mexpr\u001b[0m\u001b[0;34m.\u001b[0m\u001b[0margs\u001b[0m\u001b[0;34m:\u001b[0m\u001b[0;34m\u001b[0m\u001b[0;34m\u001b[0m\u001b[0m\n\u001b[0;32m-> 3555\u001b[0;31m                 \u001b[0marg\u001b[0m\u001b[0;34m,\u001b[0m \u001b[0marghit\u001b[0m \u001b[0;34m=\u001b[0m \u001b[0mExpr\u001b[0m\u001b[0;34m.\u001b[0m\u001b[0m_expand_hint\u001b[0m\u001b[0;34m(\u001b[0m\u001b[0marg\u001b[0m\u001b[0;34m,\u001b[0m \u001b[0mhint\u001b[0m\u001b[0;34m,\u001b[0m \u001b[0;34m**\u001b[0m\u001b[0mhints\u001b[0m\u001b[0;34m)\u001b[0m\u001b[0;34m\u001b[0m\u001b[0;34m\u001b[0m\u001b[0m\n\u001b[0m\u001b[1;32m   3556\u001b[0m                 \u001b[0mhit\u001b[0m \u001b[0;34m|=\u001b[0m \u001b[0marghit\u001b[0m\u001b[0;34m\u001b[0m\u001b[0;34m\u001b[0m\u001b[0m\n\u001b[1;32m   3557\u001b[0m                 \u001b[0msargs\u001b[0m\u001b[0;34m.\u001b[0m\u001b[0mappend\u001b[0m\u001b[0;34m(\u001b[0m\u001b[0marg\u001b[0m\u001b[0;34m)\u001b[0m\u001b[0;34m\u001b[0m\u001b[0;34m\u001b[0m\u001b[0m\n",
      "\u001b[0;32m~/anaconda3/lib/python3.9/site-packages/sympy/core/expr.py\u001b[0m in \u001b[0;36m_expand_hint\u001b[0;34m(expr, hint, deep, **hints)\u001b[0m\n\u001b[1;32m   3553\u001b[0m             \u001b[0msargs\u001b[0m \u001b[0;34m=\u001b[0m \u001b[0;34m[\u001b[0m\u001b[0;34m]\u001b[0m\u001b[0;34m\u001b[0m\u001b[0;34m\u001b[0m\u001b[0m\n\u001b[1;32m   3554\u001b[0m             \u001b[0;32mfor\u001b[0m \u001b[0marg\u001b[0m \u001b[0;32min\u001b[0m \u001b[0mexpr\u001b[0m\u001b[0;34m.\u001b[0m\u001b[0margs\u001b[0m\u001b[0;34m:\u001b[0m\u001b[0;34m\u001b[0m\u001b[0;34m\u001b[0m\u001b[0m\n\u001b[0;32m-> 3555\u001b[0;31m                 \u001b[0marg\u001b[0m\u001b[0;34m,\u001b[0m \u001b[0marghit\u001b[0m \u001b[0;34m=\u001b[0m \u001b[0mExpr\u001b[0m\u001b[0;34m.\u001b[0m\u001b[0m_expand_hint\u001b[0m\u001b[0;34m(\u001b[0m\u001b[0marg\u001b[0m\u001b[0;34m,\u001b[0m \u001b[0mhint\u001b[0m\u001b[0;34m,\u001b[0m \u001b[0;34m**\u001b[0m\u001b[0mhints\u001b[0m\u001b[0;34m)\u001b[0m\u001b[0;34m\u001b[0m\u001b[0;34m\u001b[0m\u001b[0m\n\u001b[0m\u001b[1;32m   3556\u001b[0m                 \u001b[0mhit\u001b[0m \u001b[0;34m|=\u001b[0m \u001b[0marghit\u001b[0m\u001b[0;34m\u001b[0m\u001b[0;34m\u001b[0m\u001b[0m\n\u001b[1;32m   3557\u001b[0m                 \u001b[0msargs\u001b[0m\u001b[0;34m.\u001b[0m\u001b[0mappend\u001b[0m\u001b[0;34m(\u001b[0m\u001b[0marg\u001b[0m\u001b[0;34m)\u001b[0m\u001b[0;34m\u001b[0m\u001b[0;34m\u001b[0m\u001b[0m\n",
      "\u001b[0;31mKeyboardInterrupt\u001b[0m: "
     ]
    }
   ],
   "source": [
    "max_count = 500\n",
    "count = 0\n",
    "p = recurrence_poly(g)[0]\n",
    "for it1 in itertools.product(range(2), repeat = n):\n",
    "    set1 = [i for i in range(n) if it1[i] == 1]\n",
    "    if len(set1) == 0:\n",
    "        continue\n",
    "    if count == 0:\n",
    "        print(set1)\n",
    "    count = (count + 1) % max_count\n",
    "    \n",
    "    r = 0*x**0\n",
    "    for u in set1:\n",
    "        for v in set1:\n",
    "            r += residuals[u,v]\n",
    "    rp = (p / sp.gcd(p, r)).expand()\n",
    "    if sp.degree(rp) == 8:\n",
    "        print(\"found:\", set1)"
   ]
  },
  {
   "cell_type": "code",
   "execution_count": 20,
   "metadata": {
    "scrolled": false
   },
   "outputs": [
    {
     "data": {
      "text/latex": [
       "$\\displaystyle 7 x^{6} - 55 x^{4} - 32 x^{3} + 30 x^{2} + 16 x = x \\left(7 x^{5} - 55 x^{3} - 32 x^{2} + 30 x + 16\\right)$"
      ],
      "text/plain": [
       "<IPython.core.display.Math object>"
      ]
     },
     "metadata": {},
     "output_type": "display_data"
    },
    {
     "data": {
      "text/latex": [
       "$\\displaystyle 22 x^{5} + 24 x^{4} - 40 x^{3} - 40 x^{2} = 2 x^{2} \\left(11 x^{3} + 12 x^{2} - 20 x - 20\\right)$"
      ],
      "text/plain": [
       "<IPython.core.display.Math object>"
      ]
     },
     "metadata": {},
     "output_type": "display_data"
    },
    {
     "data": {
      "text/latex": [
       "$\\displaystyle - 55 x^{6} + 24 x^{5} + 565 x^{4} + 312 x^{3} - 330 x^{2} - 176 x = - x \\left(55 x^{5} - 24 x^{4} - 565 x^{3} - 312 x^{2} + 330 x + 176\\right)$"
      ],
      "text/plain": [
       "<IPython.core.display.Math object>"
      ]
     },
     "metadata": {},
     "output_type": "display_data"
    },
    {
     "data": {
      "text/latex": [
       "$\\displaystyle - 32 x^{6} - 40 x^{5} + 312 x^{4} + 476 x^{3} + 24 x^{2} - 128 x = - 4 x \\left(8 x^{5} + 10 x^{4} - 78 x^{3} - 119 x^{2} - 6 x + 32\\right)$"
      ],
      "text/plain": [
       "<IPython.core.display.Math object>"
      ]
     },
     "metadata": {},
     "output_type": "display_data"
    },
    {
     "data": {
      "text/latex": [
       "$\\displaystyle 30 x^{6} - 40 x^{5} - 330 x^{4} + 24 x^{3} + 428 x^{2} + 160 x = 2 x \\left(15 x^{5} - 20 x^{4} - 165 x^{3} + 12 x^{2} + 214 x + 80\\right)$"
      ],
      "text/plain": [
       "<IPython.core.display.Math object>"
      ]
     },
     "metadata": {},
     "output_type": "display_data"
    },
    {
     "data": {
      "text/latex": [
       "$\\displaystyle 16 x^{6} - 176 x^{4} - 128 x^{3} + 160 x^{2} + 128 x = 16 x \\left(x - 1\\right) \\left(x + 1\\right) \\left(x^{3} - 10 x - 8\\right)$"
      ],
      "text/plain": [
       "<IPython.core.display.Math object>"
      ]
     },
     "metadata": {},
     "output_type": "display_data"
    },
    {
     "data": {
      "text/latex": [
       "$\\displaystyle 0$"
      ],
      "text/plain": [
       "<IPython.core.display.Math object>"
      ]
     },
     "metadata": {},
     "output_type": "display_data"
    },
    {
     "data": {
      "text/latex": [
       "$\\displaystyle \\left[\\begin{matrix}7 & 0 & -55 & -32 & 30 & 16 & 0\\\\0 & 22 & 24 & -40 & -40 & 0 & 0\\\\-55 & 24 & 565 & 312 & -330 & -176 & 0\\\\-32 & -40 & 312 & 476 & 24 & -128 & 0\\\\30 & -40 & -330 & 24 & 428 & 160 & 0\\\\16 & 0 & -176 & -128 & 160 & 128 & 0\\\\0 & 0 & 0 & 0 & 0 & 0 & 0\\end{matrix}\\right]$"
      ],
      "text/plain": [
       "Matrix([\n",
       "[  7,   0,  -55,  -32,   30,   16, 0],\n",
       "[  0,  22,   24,  -40,  -40,    0, 0],\n",
       "[-55,  24,  565,  312, -330, -176, 0],\n",
       "[-32, -40,  312,  476,   24, -128, 0],\n",
       "[ 30, -40, -330,   24,  428,  160, 0],\n",
       "[ 16,   0, -176, -128,  160,  128, 0],\n",
       "[  0,   0,    0,    0,    0,    0, 0]])"
      ]
     },
     "metadata": {},
     "output_type": "display_data"
    }
   ],
   "source": [
    "coeff_mat = cpmat\n",
    "mat = sp.zeros(n,n)\n",
    "for k in range(n):\n",
    "    poly = row_poly(coeff_mat, k)\n",
    "    q,r = sp.div(poly*cp.diff(),cp)\n",
    "    for j in range(n-1):\n",
    "        mat[k, j] = r.coeff(x**(n-1-j))\n",
    "    mat[k, n-1] = r.subs(x,0)\n",
    "    pretty_poly_print(r)\n",
    "display(mat)"
   ]
  },
  {
   "cell_type": "code",
   "execution_count": 19,
   "metadata": {
    "scrolled": false
   },
   "outputs": [
    {
     "name": "stdout",
     "output_type": "stream",
     "text": [
      "g\n"
     ]
    },
    {
     "data": {
      "text/latex": [
       "$\\displaystyle \\left[\\begin{matrix}0 & 1 & 0 & 0 & 0 & 0 & 1\\\\1 & 0 & 0 & 0 & 0 & 0 & 0\\\\0 & 0 & 0 & 1 & 0 & 0 & 1\\\\0 & 0 & 1 & 0 & 0 & 0 & 0\\\\0 & 0 & 0 & 0 & 0 & 1 & 1\\\\0 & 0 & 0 & 0 & 1 & 0 & 0\\\\1 & 0 & 1 & 0 & 1 & 0 & 0\\end{matrix}\\right]$"
      ],
      "text/plain": [
       "Matrix([\n",
       "[0, 1, 0, 0, 0, 0, 1],\n",
       "[1, 0, 0, 0, 0, 0, 0],\n",
       "[0, 0, 0, 1, 0, 0, 1],\n",
       "[0, 0, 1, 0, 0, 0, 0],\n",
       "[0, 0, 0, 0, 0, 1, 1],\n",
       "[0, 0, 0, 0, 1, 0, 0],\n",
       "[1, 0, 1, 0, 1, 0, 0]])"
      ]
     },
     "metadata": {},
     "output_type": "display_data"
    },
    {
     "name": "stdout",
     "output_type": "stream",
     "text": [
      "pm\n"
     ]
    },
    {
     "data": {
      "text/latex": [
       "$\\displaystyle \\left[\\begin{matrix}\\frac{1}{2} & 1 & \\frac{1}{2} & 1 & \\frac{1}{2} & 1 & 0\\\\\\frac{1}{2} & 0 & \\frac{1}{2} & 0 & \\frac{1}{2} & 0 & 1\\end{matrix}\\right]$"
      ],
      "text/plain": [
       "Matrix([\n",
       "[1/2, 1, 1/2, 1, 1/2, 1, 0],\n",
       "[1/2, 0, 1/2, 0, 1/2, 0, 1]])"
      ]
     },
     "metadata": {},
     "output_type": "display_data"
    },
    {
     "name": "stdout",
     "output_type": "stream",
     "text": [
      "pma\n"
     ]
    },
    {
     "data": {
      "text/latex": [
       "$\\displaystyle \\left[\\begin{matrix}\\frac{1}{12} & \\frac{1}{4}\\\\\\frac{7}{24} & - \\frac{1}{8}\\\\\\frac{1}{12} & \\frac{1}{4}\\\\\\frac{7}{24} & - \\frac{1}{8}\\\\\\frac{1}{12} & \\frac{1}{4}\\\\\\frac{7}{24} & - \\frac{1}{8}\\\\- \\frac{1}{8} & \\frac{5}{8}\\end{matrix}\\right]$"
      ],
      "text/plain": [
       "Matrix([\n",
       "[1/12,  1/4],\n",
       "[7/24, -1/8],\n",
       "[1/12,  1/4],\n",
       "[7/24, -1/8],\n",
       "[1/12,  1/4],\n",
       "[7/24, -1/8],\n",
       "[-1/8,  5/8]])"
      ]
     },
     "metadata": {},
     "output_type": "display_data"
    },
    {
     "name": "stdout",
     "output_type": "stream",
     "text": [
      "pma*pm\n"
     ]
    },
    {
     "data": {
      "text/latex": [
       "$\\displaystyle \\left[\\begin{matrix}\\frac{1}{6} & \\frac{1}{12} & \\frac{1}{6} & \\frac{1}{12} & \\frac{1}{6} & \\frac{1}{12} & \\frac{1}{4}\\\\\\frac{1}{12} & \\frac{7}{24} & \\frac{1}{12} & \\frac{7}{24} & \\frac{1}{12} & \\frac{7}{24} & - \\frac{1}{8}\\\\\\frac{1}{6} & \\frac{1}{12} & \\frac{1}{6} & \\frac{1}{12} & \\frac{1}{6} & \\frac{1}{12} & \\frac{1}{4}\\\\\\frac{1}{12} & \\frac{7}{24} & \\frac{1}{12} & \\frac{7}{24} & \\frac{1}{12} & \\frac{7}{24} & - \\frac{1}{8}\\\\\\frac{1}{6} & \\frac{1}{12} & \\frac{1}{6} & \\frac{1}{12} & \\frac{1}{6} & \\frac{1}{12} & \\frac{1}{4}\\\\\\frac{1}{12} & \\frac{7}{24} & \\frac{1}{12} & \\frac{7}{24} & \\frac{1}{12} & \\frac{7}{24} & - \\frac{1}{8}\\\\\\frac{1}{4} & - \\frac{1}{8} & \\frac{1}{4} & - \\frac{1}{8} & \\frac{1}{4} & - \\frac{1}{8} & \\frac{5}{8}\\end{matrix}\\right]$"
      ],
      "text/plain": [
       "Matrix([\n",
       "[ 1/6, 1/12,  1/6, 1/12,  1/6, 1/12,  1/4],\n",
       "[1/12, 7/24, 1/12, 7/24, 1/12, 7/24, -1/8],\n",
       "[ 1/6, 1/12,  1/6, 1/12,  1/6, 1/12,  1/4],\n",
       "[1/12, 7/24, 1/12, 7/24, 1/12, 7/24, -1/8],\n",
       "[ 1/6, 1/12,  1/6, 1/12,  1/6, 1/12,  1/4],\n",
       "[1/12, 7/24, 1/12, 7/24, 1/12, 7/24, -1/8],\n",
       "[ 1/4, -1/8,  1/4, -1/8,  1/4, -1/8,  5/8]])"
      ]
     },
     "metadata": {},
     "output_type": "display_data"
    },
    {
     "name": "stdout",
     "output_type": "stream",
     "text": [
      "pm*g*pma\n"
     ]
    },
    {
     "data": {
      "text/latex": [
       "$\\displaystyle \\left[\\begin{matrix}\\frac{1}{2} & \\frac{3}{2}\\\\\\frac{1}{2} & \\frac{3}{2}\\end{matrix}\\right]$"
      ],
      "text/plain": [
       "Matrix([\n",
       "[1/2, 3/2],\n",
       "[1/2, 3/2]])"
      ]
     },
     "metadata": {},
     "output_type": "display_data"
    },
    {
     "data": {
      "text/latex": [
       "$\\displaystyle x^{2} - 2 x$"
      ],
      "text/plain": [
       "x**2 - 2*x"
      ]
     },
     "execution_count": 19,
     "metadata": {},
     "output_type": "execute_result"
    }
   ],
   "source": [
    "pm = partition_.copy()\n",
    "\n",
    "pma = pm.pinv()\n",
    "print(\"g\")\n",
    "display(g)\n",
    "print(\"pm\")\n",
    "display(pm)\n",
    "print(\"pma\")\n",
    "display(pma)\n",
    "print(\"pma*pm\")\n",
    "display(pma*pm)\n",
    "fiso_ = pma*pm\n",
    "print(\"pm*g*pma\")\n",
    "g_test = pm*g*pma\n",
    "display(g_test)\n",
    "g_test.charpoly(x=x).as_expr()"
   ]
  },
  {
   "cell_type": "code",
   "execution_count": 26,
   "metadata": {},
   "outputs": [
    {
     "data": {
      "text/latex": [
       "$\\displaystyle \\left[\\begin{matrix}\\frac{1}{3} & \\frac{1}{6} & \\frac{1}{3} & \\frac{1}{6} & \\frac{1}{3} & \\frac{1}{6} & \\frac{1}{2}\\\\\\frac{1}{6} & \\frac{1}{12} & \\frac{1}{6} & \\frac{1}{12} & \\frac{1}{6} & \\frac{1}{12} & \\frac{1}{4}\\\\\\frac{1}{3} & \\frac{1}{6} & \\frac{1}{3} & \\frac{1}{6} & \\frac{1}{3} & \\frac{1}{6} & \\frac{1}{2}\\\\\\frac{1}{6} & \\frac{1}{12} & \\frac{1}{6} & \\frac{1}{12} & \\frac{1}{6} & \\frac{1}{12} & \\frac{1}{4}\\\\\\frac{1}{3} & \\frac{1}{6} & \\frac{1}{3} & \\frac{1}{6} & \\frac{1}{3} & \\frac{1}{6} & \\frac{1}{2}\\\\\\frac{1}{6} & \\frac{1}{12} & \\frac{1}{6} & \\frac{1}{12} & \\frac{1}{6} & \\frac{1}{12} & \\frac{1}{4}\\\\\\frac{1}{2} & \\frac{1}{4} & \\frac{1}{2} & \\frac{1}{4} & \\frac{1}{2} & \\frac{1}{4} & \\frac{3}{4}\\end{matrix}\\right]$"
      ],
      "text/plain": [
       "Matrix([\n",
       "[1/3,  1/6, 1/3,  1/6, 1/3,  1/6, 1/2],\n",
       "[1/6, 1/12, 1/6, 1/12, 1/6, 1/12, 1/4],\n",
       "[1/3,  1/6, 1/3,  1/6, 1/3,  1/6, 1/2],\n",
       "[1/6, 1/12, 1/6, 1/12, 1/6, 1/12, 1/4],\n",
       "[1/3,  1/6, 1/3,  1/6, 1/3,  1/6, 1/2],\n",
       "[1/6, 1/12, 1/6, 1/12, 1/6, 1/12, 1/4],\n",
       "[1/2,  1/4, 1/2,  1/4, 1/2,  1/4, 3/4]])"
      ]
     },
     "execution_count": 26,
     "metadata": {},
     "output_type": "execute_result"
    }
   ],
   "source": [
    "g*fiso_"
   ]
  },
  {
   "cell_type": "code",
   "execution_count": 21,
   "metadata": {},
   "outputs": [
    {
     "data": {
      "text/latex": [
       "$\\displaystyle x^{6} \\left(x - 2\\right)$"
      ],
      "text/plain": [
       "x**6*(x - 2)"
      ]
     },
     "execution_count": 21,
     "metadata": {},
     "output_type": "execute_result"
    }
   ],
   "source": [
    "(fiso_*g).charpoly(x=x).as_expr().factor()"
   ]
  },
  {
   "cell_type": "code",
   "execution_count": 18,
   "metadata": {
    "scrolled": false
   },
   "outputs": [
    {
     "data": {
      "image/png": "[encoded data removed]",
      "text/plain": [
       "<Figure size 432x288 with 1 Axes>"
      ]
     },
     "metadata": {},
     "output_type": "display_data"
    },
    {
     "data": {
      "text/latex": [
       "$\\displaystyle \\text{walk count sequence: 49, 392, 3136, 25088, 200704, 1605632, 12845056, 102760448, 822083584, 6576668672}, \\ldots$"
      ],
      "text/plain": [
       "<IPython.core.display.Math object>"
      ]
     },
     "metadata": {},
     "output_type": "display_data"
    },
    {
     "data": {
      "text/latex": [
       "$\\displaystyle \\text{average degree: }8.0$"
      ],
      "text/plain": [
       "<IPython.core.display.Math object>"
      ]
     },
     "metadata": {},
     "output_type": "display_data"
    },
    {
     "data": {
      "text/latex": [
       "$\\displaystyle \\text{characteristic polynomial: }x^{49} - 196 x^{47} - 392 x^{46} + 16562 x^{45} + 65072 x^{44} - 731668 x^{43} - 4609976 x^{42} + 15132131 x^{41} + 176942528 x^{40} + 44809128 x^{39} - 3787569856 x^{38} - 10094697956 x^{37} + 37497387984 x^{36} + 233627965900 x^{35} + 98208215504 x^{34} - 2259223741187 x^{33} - 6214689140968 x^{32} + 3606039500140 x^{31} + 50902182592688 x^{30} + 93454613185710 x^{29} - 45823008254520 x^{28} - 482374152573320 x^{27} - 843305795597664 x^{26} - 403113291001673 x^{25} + 803792737366752 x^{24} + 1449167423494168 x^{23} + 532262826846464 x^{22} - 893266329251842 x^{21} - 1054756017012544 x^{20} - 51943258869068 x^{19} + 569286735473288 x^{18} + 276880712727101 x^{17} - 130217641243088 x^{16} - 136631800094636 x^{15} + 4023654999672 x^{14} + 35101103598372 x^{13} + 4659651881248 x^{12} - 5781621778016 x^{11} - 1196543398176 x^{10} + 676564161483 x^{9} + 148520780464 x^{8} - 59283367500 x^{7} - 10308039056 x^{6} + 3812632082 x^{5} + 343290472 x^{4} - 158839772 x^{3} - 132496 x^{2} + 3121937 x - 228488 = \\left(x - 8\\right) \\left(x^{3} - 3 x^{2} - 18 x + 13\\right)^{4} \\left(x^{3} - 3 x^{2} - 4 x - 1\\right)^{4} \\left(x^{3} + 4 x^{2} + 3 x - 1\\right)^{8}$"
      ],
      "text/plain": [
       "<IPython.core.display.Math object>"
      ]
     },
     "metadata": {},
     "output_type": "display_data"
    },
    {
     "data": {
      "text/latex": [
       "$\\displaystyle \\text{characteristic residual: }49 x^{48} + 392 x^{47} - 6468 x^{46} - 70952 x^{45} + 243922 x^{44} + 5139904 x^{43} + 5267500 x^{42} - 183748824 x^{41} - 728516173 x^{40} + 2842054488 x^{39} + 24932083176 x^{38} + 13865742464 x^{37} - 383714260132 x^{36} - 1232342069840 x^{35} + 1589033770380 x^{34} + 17524472722736 x^{33} + 29493818463725 x^{32} - 68569220197632 x^{31} - 371857826074196 x^{30} - 480655661551856 x^{29} + 734030753684942 x^{28} + 3626918625008056 x^{27} + 5379015523971768 x^{26} + 1710140207488608 x^{25} - 6071429599173113 x^{24} - 9185592662414056 x^{23} - 2475537548098216 x^{22} + 6276578130691008 x^{21} + 6442574912187806 x^{20} - 142445536112208 x^{19} - 3684783973481996 x^{18} - 1583221749664856 x^{17} + 901380926309101 x^{16} + 830382989561496 x^{15} - 51894288145196 x^{14} - 217995210177640 x^{13} - 24007605100892 x^{12} + 36262101374016 x^{11} + 6797343869344 x^{10} - 4251875555872 x^{9} - 863360534309 x^{8} + 370633968264 x^{7} + 60186738612 x^{6} - 23600004848 x^{5} - 1981066766 x^{4} + 972699000 x^{3} - 1556828 x^{2} - 18946928 x + 1399489 = 49 \\left(x^{3} - 3 x^{2} - 18 x + 13\\right)^{4} \\left(x^{3} - 3 x^{2} - 4 x - 1\\right)^{4} \\left(x^{3} + 4 x^{2} + 3 x - 1\\right)^{8}$"
      ],
      "text/plain": [
       "<IPython.core.display.Math object>"
      ]
     },
     "metadata": {},
     "output_type": "display_data"
    },
    {
     "data": {
      "text/latex": [
       "$\\displaystyle \\text{recurrence polynomial: }x - 8$"
      ],
      "text/plain": [
       "<IPython.core.display.Math object>"
      ]
     },
     "metadata": {},
     "output_type": "display_data"
    }
   ],
   "source": [
    "n=7\n",
    "#g = random_graph(n,0.5)\n",
    "g = remove_isolated(random_graph(n,0.9))\n",
    "#g = collapse(circle(9),0,5)\n",
    "g = strong_power(circle(n),2)\n",
    "#g = custom_star([2,2,2])\n",
    "#g = union(circle(4),empty(1))\n",
    "n = g.shape[0]\n",
    "edges = [(u,v) for u in range(n - 1) for v in range(u + 1, n) if g[u,v] == 1]\n",
    "x=sp.symbols(\"x\")\n",
    "y=sp.symbols(\"y\")\n",
    "cp = g.charpoly(x).as_expr()\n",
    "cpmat = poly_mat(cp)\n",
    "cp_inv = inv_poly(cp)\n",
    "gc = complement(g)\n",
    "cp_c = gc.charpoly(x).as_expr()\n",
    "#residuals = sp.Matrix([[residual(g, cp, x=x, v=e_(n,i), w=e_(n,j)).factor() for i in range(n)] for j in range(n)])\n",
    "#residuals_c = sp.Matrix([[residual(gc, cp_c, x=x, v=e_(n,i), w=e_(n,j)).subs(x,-1-x).expand() for i in range(n)] for j in range(n)])\n",
    "#residuals_expand = sp.Matrix([[residual(g, cp, x=x, v=e_(n,i), w=e_(n,j)).expand() for i in range(n)] for j in range(n)])\n",
    "analyze(g, draw_method=nx.draw_networkx)\n",
    "write_metis(g, \"graphs/g.graph\")"
   ]
  },
  {
   "cell_type": "code",
   "execution_count": 19,
   "metadata": {
    "scrolled": false
   },
   "outputs": [
    {
     "name": "stdout",
     "output_type": "stream",
     "text": [
      "     pcost       dcost       gap    pres   dres   k/t\n",
      " 0:  1.0000e+00  1.0000e+00  4e+01  6e+00  7e-16  1e+00\n",
      " 1:  7.8775e+00  7.8085e+00  3e+01  4e+00  3e-16  6e-01\n",
      " 2:  9.4788e+00  9.4724e+00  2e+00  3e-01  3e-16  5e-02\n",
      " 3:  1.0985e+01  1.0985e+01  4e-02  5e-03  5e-16  8e-04\n",
      " 4:  1.1007e+01  1.1007e+01  4e-04  5e-05  4e-16  8e-06\n",
      " 5:  1.1007e+01  1.1007e+01  4e-06  5e-07  6e-16  8e-08\n",
      " 6:  1.1007e+01  1.1007e+01  4e-08  5e-09  5e-16  8e-10\n",
      "Optimal solution found.\n"
     ]
    },
    {
     "data": {
      "text/plain": [
       "11.006915677222503"
      ]
     },
     "execution_count": 19,
     "metadata": {},
     "output_type": "execute_result"
    }
   ],
   "source": [
    "lovasz_theta(g)"
   ]
  },
  {
   "cell_type": "code",
   "execution_count": 20,
   "metadata": {
    "scrolled": true
   },
   "outputs": [
    {
     "name": "stdout",
     "output_type": "stream",
     "text": [
      "     pcost       dcost       gap    pres   dres   k/t\n",
      " 0:  1.0000e+00  1.0000e+00  9e+01  9e+00  9e-16  1e+00\n",
      " 1:  1.7018e+01  1.6982e+01  8e+01  8e+00  1e-15  8e-01\n",
      " 2:  2.7945e+01  2.7909e+01  4e+01  4e+00  5e-16  4e-01\n",
      " 3:  4.5324e+01  4.5321e+01  4e+00  4e-01  2e-15  4e-02\n",
      " 4:  4.8959e+01  4.8959e+01  5e-02  5e-03  2e-16  5e-04\n",
      " 5:  4.9000e+01  4.9000e+01  5e-04  5e-05  1e-15  5e-06\n",
      " 6:  4.9000e+01  4.9000e+01  5e-06  5e-07  1e-15  5e-08\n",
      " 7:  4.9000e+01  4.9000e+01  5e-08  5e-09  1e-13  5e-10\n",
      "Optimal solution found.\n"
     ]
    },
    {
     "data": {
      "text/plain": [
       "48.99999995906679"
      ]
     },
     "execution_count": 20,
     "metadata": {},
     "output_type": "execute_result"
    }
   ],
   "source": [
    "lovasz_theta(double_cover(g))"
   ]
  },
  {
   "cell_type": "code",
   "execution_count": 21,
   "metadata": {
    "scrolled": false
   },
   "outputs": [
    {
     "name": "stdout",
     "output_type": "stream",
     "text": [
      "     pcost       dcost       gap    pres   dres   k/t\n",
      " 0:  1.0000e+00  1.0000e+00  3e+02  2e+01  4e-15  1e+00\n",
      " 1:  1.9664e+01  1.9617e+01  3e+02  1e+01  3e-15  8e-01\n",
      " 2:  2.5009e+01  2.5004e+01  3e+01  2e+00  2e-16  9e-02\n",
      " 3:  3.5788e+01  3.5788e+01  2e+00  1e-01  4e-15  6e-03\n",
      " 4:  3.6508e+01  3.6508e+01  2e-02  1e-03  3e-16  6e-05\n",
      " 5:  3.6517e+01  3.6517e+01  2e-04  1e-05  2e-15  6e-07\n",
      " 6:  3.6517e+01  3.6517e+01  2e-06  1e-07  1e-15  6e-09\n",
      " 7:  3.6517e+01  3.6517e+01  2e-08  1e-09  1e-13  6e-11\n",
      "Optimal solution found.\n"
     ]
    },
    {
     "data": {
      "text/plain": [
       "36.51728326038751"
      ]
     },
     "execution_count": 21,
     "metadata": {},
     "output_type": "execute_result"
    }
   ],
   "source": [
    "lovasz_theta(strong_power(circle(7),3))"
   ]
  },
  {
   "cell_type": "code",
   "execution_count": 26,
   "metadata": {},
   "outputs": [],
   "source": [
    "write_metis(circle(7),\"graphs/c7.graph\")\n",
    "write_metis(strong_power(circle(7),2),\"graphs/c7_pow2.graph\")\n",
    "write_metis(strong_power(circle(7),3),\"graphs/c7_pow3.graph\")\n",
    "write_metis(strong_power(circle(7),4),\"graphs/c7_pow4.graph\")\n"
   ]
  },
  {
   "cell_type": "code",
   "execution_count": 27,
   "metadata": {},
   "outputs": [],
   "source": [
    "write_metis(double_cover(circle(7)),\"graphs/c7_dc.graph\")\n",
    "write_metis(double_cover(strong_power(circle(7),2)),\"graphs/c7_pow2_dc.graph\")\n",
    "write_metis(double_cover(strong_power(circle(7),3)),\"graphs/c7_pow3_dc.graph\")\n",
    "write_metis(double_cover(strong_power(circle(7),4)),\"graphs/c7_pow4_dc.graph\")\n"
   ]
  },
  {
   "cell_type": "code",
   "execution_count": 25,
   "metadata": {},
   "outputs": [
    {
     "data": {
      "text/plain": [
       "18.520259177452136"
      ]
     },
     "execution_count": 25,
     "metadata": {},
     "output_type": "execute_result"
    }
   ],
   "source": [
    "7**(3/2)"
   ]
  },
  {
   "cell_type": "code",
   "execution_count": 55,
   "metadata": {
    "scrolled": false
   },
   "outputs": [],
   "source": [
    "significant = []\n",
    "insignificant = []\n",
    "th = lovasz_theta(g)\n",
    "k = 3\n",
    "for tup in itertools.combinations(edges, k):\n",
    "    g_bl = blowup_edgeset(g,list(tup))\n",
    "    t = lovasz_theta(g_bl)\n",
    "    #write_metis(g_uv, f\"graphs/g_dc{u}{v}.graph\")\n",
    "    if t > 2 * th + 1e-5:\n",
    "        significant.append([tup, t])\n",
    "    else:\n",
    "        insignificant.append([tup, t])\n",
    "            "
   ]
  },
  {
   "cell_type": "code",
   "execution_count": 24,
   "metadata": {
    "scrolled": true
   },
   "outputs": [
    {
     "data": {
      "text/plain": [
       "[]"
      ]
     },
     "metadata": {},
     "output_type": "display_data"
    }
   ],
   "source": [
    "blow_set = []\n",
    "trash = []\n",
    "oc = find_odd_cycles(g)\n",
    "cycle_edges = [[(min(c[i],c[(i+1) % len(c)]),max(c[i],c[(i+1) % len(c)])) for i in range(len(c))] for c in oc]\n",
    "k = 2\n",
    "for tup in itertools.combinations(edges,k):\n",
    "    valid = True\n",
    "    covered = 0\n",
    "    for c in cycle_edges:\n",
    "        l = len(set(tup).intersection(set(c)))\n",
    "        if l % 2 == 0:\n",
    "            valid = False\n",
    "            break\n",
    "        covered += 1\n",
    "    if valid:\n",
    "        blow_set.append(tup)\n",
    "    #else:\n",
    "        #trash.append([tup, covered])\n",
    "display(blow_set)\n",
    "#trash.sort(key=lambda t: t[1], reverse=True)\n",
    "#display(trash)"
   ]
  },
  {
   "cell_type": "code",
   "execution_count": 22,
   "metadata": {
    "scrolled": false
   },
   "outputs": [
    {
     "data": {
      "text/plain": [
       "[[((6, 8),), 6.999999754855013]]"
      ]
     },
     "metadata": {},
     "output_type": "display_data"
    }
   ],
   "source": [
    "display(significant)"
   ]
  },
  {
   "cell_type": "code",
   "execution_count": 24,
   "metadata": {
    "scrolled": false
   },
   "outputs": [
    {
     "data": {
      "text/plain": [
       "[[((0, 1), (6, 8)), 6.999999960975442],\n",
       " [((0, 2), (4, 5)), 6.391738233561418],\n",
       " [((0, 2), (6, 8)), 6.472135727975956],\n",
       " [((0, 4), (4, 5)), 6.9999998523472735],\n",
       " [((0, 4), (6, 8)), 6.999999944030141],\n",
       " [((0, 7), (6, 7)), 6.999999937290386],\n",
       " [((0, 7), (6, 8)), 6.999999822152448],\n",
       " [((0, 7), (7, 8)), 6.999999843623276],\n",
       " [((0, 9), (6, 8)), 6.472135923770146],\n",
       " [((1, 2), (6, 8)), 6.999999794413013],\n",
       " [((1, 3), (6, 8)), 6.999999885466664],\n",
       " [((1, 4), (6, 8)), 6.999999798904479],\n",
       " [((1, 5), (6, 8)), 6.999999958178181],\n",
       " [((1, 6), (6, 8)), 6.999999740506555],\n",
       " [((1, 7), (6, 8)), 6.999999797841537],\n",
       " [((1, 8), (6, 8)), 6.999999706039069],\n",
       " [((1, 9), (6, 8)), 6.9999998105145185],\n",
       " [((2, 4), (3, 4)), 6.999999804023756],\n",
       " [((2, 4), (3, 5)), 6.4721356688900995],\n",
       " [((2, 4), (6, 8)), 6.999999795391529],\n",
       " [((2, 4), (6, 9)), 6.383506656609965],\n",
       " [((2, 4), (8, 9)), 6.999999862580186],\n",
       " [((2, 5), (6, 8)), 6.489175518256019],\n",
       " [((2, 6), (6, 8)), 6.392542061611517],\n",
       " [((2, 7), (6, 8)), 6.999999899648109],\n",
       " [((3, 4), (6, 8)), 6.999999953494581],\n",
       " [((3, 5), (6, 8)), 6.472135949077581],\n",
       " [((3, 6), (6, 9)), 6.392541949888725],\n",
       " [((3, 6), (8, 9)), 6.472135580704452],\n",
       " [((3, 7), (6, 8)), 6.999999818785658],\n",
       " [((3, 8), (6, 9)), 6.375388569402142],\n",
       " [((3, 8), (8, 9)), 6.999999928287251],\n",
       " [((4, 5), (6, 7)), 6.338044414410067],\n",
       " [((4, 5), (6, 8)), 6.9999998828916],\n",
       " [((4, 5), (7, 8)), 6.99999985401663],\n",
       " [((4, 6), (6, 8)), 6.999999966056977],\n",
       " [((5, 9), (6, 8)), 6.472135805940652],\n",
       " [((6, 7), (6, 8)), 6.999999862870451],\n",
       " [((6, 8), (7, 8)), 6.999999829680472],\n",
       " [((6, 8), (7, 9)), 6.999999949061509]]"
      ]
     },
     "metadata": {},
     "output_type": "display_data"
    }
   ],
   "source": [
    "display(significant)"
   ]
  },
  {
   "cell_type": "code",
   "execution_count": 27,
   "metadata": {
    "scrolled": true
   },
   "outputs": [
    {
     "data": {
      "text/plain": [
       "[[((0, 1), (0, 2), (4, 5)), 6.391738450357644],\n",
       " [((0, 1), (0, 2), (6, 8)), 6.472135847592802],\n",
       " [((0, 1), (0, 4), (4, 5)), 6.999999921739684],\n",
       " [((0, 1), (0, 4), (6, 8)), 6.999999814722708],\n",
       " [((0, 1), (0, 7), (6, 7)), 6.999999689450179],\n",
       " [((0, 1), (0, 7), (6, 8)), 6.999999906400924],\n",
       " [((0, 1), (0, 7), (7, 8)), 6.999999794160104],\n",
       " [((0, 1), (0, 9), (6, 8)), 6.472135925973175],\n",
       " [((0, 1), (1, 2), (6, 8)), 6.999999891831904],\n",
       " [((0, 1), (1, 3), (6, 8)), 6.999999827229605],\n",
       " [((0, 1), (1, 4), (6, 8)), 6.999999939564352],\n",
       " [((0, 1), (1, 5), (1, 6)), 6.99999994290871],\n",
       " [((0, 1), (1, 5), (1, 8)), 6.999999963436335],\n",
       " [((0, 1), (1, 5), (6, 8)), 6.999999914905379],\n",
       " [((0, 1), (1, 6), (6, 8)), 6.9999998274621476],\n",
       " [((0, 1), (1, 7), (6, 8)), 6.999999961923798],\n",
       " [((0, 1), (1, 8), (6, 8)), 6.999999942349713],\n",
       " [((0, 1), (1, 9), (6, 8)), 6.999999941223648],\n",
       " [((0, 1), (2, 4), (3, 4)), 6.999999701558028],\n",
       " [((0, 1), (2, 4), (3, 5)), 6.472135683272228],\n",
       " [((0, 1), (2, 4), (6, 8)), 6.999999817272092],\n",
       " [((0, 1), (2, 4), (6, 9)), 6.383506435191743],\n",
       " [((0, 1), (2, 4), (8, 9)), 6.999999823496572],\n",
       " [((0, 1), (2, 5), (6, 8)), 6.489175781632178],\n",
       " [((0, 1), (2, 6), (6, 8)), 6.39254193204241],\n",
       " [((0, 1), (2, 7), (6, 8)), 6.999999945722856],\n",
       " [((0, 1), (3, 4), (6, 8)), 6.999999843994573],\n",
       " [((0, 1), (3, 5), (6, 8)), 6.472135897494527],\n",
       " [((0, 1), (3, 6), (6, 9)), 6.392541850891661],\n",
       " [((0, 1), (3, 6), (8, 9)), 6.472135619579539],\n",
       " [((0, 1), (3, 7), (6, 8)), 6.999999939777284],\n",
       " [((0, 1), (3, 8), (6, 9)), 6.375388529195815],\n",
       " [((0, 1), (3, 8), (8, 9)), 6.999999908031184],\n",
       " [((0, 1), (4, 5), (6, 7)), 6.338044240160492],\n",
       " [((0, 1), (4, 5), (6, 8)), 6.999999886337234],\n",
       " [((0, 1), (4, 5), (7, 8)), 6.999999788700334],\n",
       " [((0, 1), (4, 6), (6, 8)), 6.9999998511452866],\n",
       " [((0, 1), (5, 9), (6, 8)), 6.472135737222231],\n",
       " [((0, 1), (6, 7), (6, 8)), 6.999999869119929],\n",
       " [((0, 1), (6, 8), (7, 8)), 6.999999872146544],\n",
       " [((0, 1), (6, 8), (7, 9)), 6.999999879772067],\n",
       " [((0, 2), (0, 4), (6, 8)), 6.472135897969127],\n",
       " [((0, 2), (0, 7), (4, 5)), 6.391738499326264],\n",
       " [((0, 2), (0, 7), (6, 8)), 6.472135887204858],\n",
       " [((0, 2), (0, 9), (4, 5)), 6.999999947479887],\n",
       " [((0, 2), (0, 9), (6, 7)), 6.999999929890097],\n",
       " [((0, 2), (0, 9), (6, 8)), 6.999999807444966],\n",
       " [((0, 2), (0, 9), (7, 8)), 6.999999950722542],\n",
       " [((0, 2), (1, 2), (4, 5)), 6.391738310956054],\n",
       " [((0, 2), (1, 2), (6, 8)), 6.472135896431753],\n",
       " [((0, 2), (1, 3), (4, 5)), 6.3917382398196745],\n",
       " [((0, 2), (1, 3), (6, 8)), 6.47213594523682],\n",
       " [((0, 2), (1, 4), (4, 5)), 6.391738272231543],\n",
       " [((0, 2), (1, 4), (6, 8)), 6.472135905595301],\n",
       " [((0, 2), (1, 5), (4, 5)), 6.391738286305995],\n",
       " [((0, 2), (1, 5), (6, 8)), 6.472135817824055],\n",
       " [((0, 2), (1, 6), (4, 5)), 6.391738416217996],\n",
       " [((0, 2), (1, 6), (6, 8)), 6.47213592501792],\n",
       " [((0, 2), (1, 7), (4, 5)), 6.39173829624182],\n",
       " [((0, 2), (1, 7), (6, 8)), 6.472135802494014],\n",
       " [((0, 2), (1, 8), (4, 5)), 6.391738413323074],\n",
       " [((0, 2), (1, 8), (6, 8)), 6.472135816095967],\n",
       " [((0, 2), (1, 9), (4, 5)), 6.3917381625654714],\n",
       " [((0, 2), (1, 9), (6, 8)), 6.472135874864511],\n",
       " [((0, 2), (2, 4), (6, 7)), 6.297917748970107],\n",
       " [((0, 2), (2, 4), (6, 8)), 6.472135884198712],\n",
       " [((0, 2), (2, 4), (7, 8)), 6.248256690908998],\n",
       " [((0, 2), (2, 5), (3, 4)), 6.9999996886544515],\n",
       " [((0, 2), (2, 5), (3, 5)), 6.472135810982363],\n",
       " [((0, 2), (2, 5), (6, 7)), 6.346439024872267],\n",
       " [((0, 2), (2, 5), (6, 8)), 6.417476268471514],\n",
       " [((0, 2), (2, 5), (6, 9)), 6.3843689969804265],\n",
       " [((0, 2), (2, 5), (7, 8)), 6.553906304654329],\n",
       " [((0, 2), (2, 5), (7, 9)), 6.99999996454429],\n",
       " [((0, 2), (2, 5), (8, 9)), 6.4142134728744695],\n",
       " [((0, 2), (2, 6), (4, 5)), 6.391738352108709],\n",
       " [((0, 2), (2, 6), (6, 8)), 6.472135874993147],\n",
       " [((0, 2), (2, 7), (4, 5)), 6.391738469327744],\n",
       " [((0, 2), (2, 7), (6, 8)), 6.472135874027426],\n",
       " [((0, 2), (3, 4), (3, 6)), 6.273331346826646],\n",
       " [((0, 2), (3, 4), (3, 8)), 6.403579989052638],\n",
       " [((0, 2), (3, 4), (6, 8)), 6.9999998259290335],\n",
       " [((0, 2), (3, 5), (3, 6)), 6.403580088759701],\n",
       " [((0, 2), (3, 5), (3, 8)), 6.281079278282498],\n",
       " [((0, 2), (3, 5), (6, 8)), 6.419994339539216],\n",
       " [((0, 2), (3, 6), (4, 5)), 6.555229113424092],\n",
       " [((0, 2), (3, 6), (6, 7)), 6.28068075982034],\n",
       " [((0, 2), (3, 6), (6, 9)), 6.472135805469071],\n",
       " [((0, 2), (3, 6), (7, 8)), 6.333379741388645],\n",
       " [((0, 2), (3, 6), (7, 9)), 6.3596117566880315],\n",
       " [((0, 2), (3, 6), (8, 9)), 6.366639294019812],\n",
       " [((0, 2), (3, 7), (4, 5)), 6.447944796245911],\n",
       " [((0, 2), (3, 7), (6, 8)), 6.4721357269446065],\n",
       " [((0, 2), (3, 7), (7, 9)), 6.412095934152564],\n",
       " [((0, 2), (3, 8), (4, 5)), 6.9999998215276875],\n",
       " [((0, 2), (3, 8), (6, 7)), 6.999999895621516],\n",
       " [((0, 2), (3, 8), (6, 9)), 6.472135763528837],\n",
       " [((0, 2), (3, 8), (7, 8)), 6.369312264643382],\n",
       " [((0, 2), (3, 8), (7, 9)), 6.9999999532539],\n",
       " [((0, 2), (3, 8), (8, 9)), 6.472135915081617],\n",
       " [((0, 2), (4, 5), (4, 6)), 6.391738487491002],\n",
       " [((0, 2), (4, 5), (5, 9)), 6.472135804441428],\n",
       " [((0, 2), (4, 5), (6, 7)), 6.420091399689099],\n",
       " [((0, 2), (4, 5), (6, 8)), 6.737057714859335],\n",
       " [((0, 2), (4, 5), (6, 9)), 6.391738313707908],\n",
       " [((0, 2), (4, 5), (7, 8)), 6.9999999400500865],\n",
       " [((0, 2), (4, 5), (7, 9)), 6.448881760953927],\n",
       " [((0, 2), (4, 5), (8, 9)), 6.426205684762943],\n",
       " [((0, 2), (4, 6), (6, 8)), 6.4721359450843305],\n",
       " [((0, 2), (5, 9), (6, 8)), 6.40903378872293],\n",
       " [((0, 2), (6, 7), (6, 8)), 6.472135831607744],\n",
       " [((0, 2), (6, 7), (7, 9)), 6.338131907990527],\n",
       " [((0, 2), (6, 8), (6, 9)), 6.342526723160208],\n",
       " [((0, 2), (6, 8), (7, 8)), 6.472135770585408],\n",
       " [((0, 2), (6, 8), (7, 9)), 6.999999652119765],\n",
       " [((0, 2), (6, 8), (8, 9)), 6.369312371882626],\n",
       " [((0, 2), (7, 8), (7, 9)), 6.338148347137816],\n",
       " [((0, 4), (0, 7), (4, 5)), 6.999999887078347],\n",
       " [((0, 4), (0, 7), (6, 7)), 6.999999704974948],\n",
       " [((0, 4), (0, 7), (6, 8)), 6.999999644013367],\n",
       " [((0, 4), (0, 7), (7, 8)), 6.9999999587549775],\n",
       " [((0, 4), (0, 9), (4, 5)), 6.39173849863545],\n",
       " [((0, 4), (0, 9), (6, 8)), 6.472135853952177],\n",
       " [((0, 4), (1, 2), (4, 5)), 6.9999998114729935],\n",
       " [((0, 4), (1, 2), (6, 8)), 6.999999975209285],\n",
       " [((0, 4), (1, 3), (4, 5)), 6.999999899181723],\n",
       " [((0, 4), (1, 3), (6, 8)), 6.999999709686314],\n",
       " [((0, 4), (1, 4), (4, 5)), 6.999999940386872],\n",
       " [((0, 4), (1, 4), (6, 8)), 6.999999890161731],\n",
       " [((0, 4), (1, 5), (4, 5)), 6.999999922510609],\n",
       " [((0, 4), (1, 5), (6, 8)), 6.999999671195981],\n",
       " [((0, 4), (1, 6), (4, 5)), 6.9999998712426805],\n",
       " [((0, 4), (1, 6), (6, 8)), 6.9999999569499325],\n",
       " [((0, 4), (1, 7), (4, 5)), 6.999999847988027],\n",
       " [((0, 4), (1, 7), (6, 8)), 6.999999955569535],\n",
       " [((0, 4), (1, 8), (4, 5)), 6.999999945917993],\n",
       " [((0, 4), (1, 8), (6, 8)), 6.999999747563859],\n",
       " [((0, 4), (1, 9), (4, 5)), 6.999999885500728],\n",
       " [((0, 4), (1, 9), (6, 8)), 6.999999643399845],\n",
       " [((0, 4), (2, 4), (6, 8)), 6.999999672093302],\n",
       " [((0, 4), (2, 5), (3, 4)), 6.391738484008924],\n",
       " [((0, 4), (2, 5), (3, 5)), 6.391738453105006],\n",
       " [((0, 4), (2, 5), (6, 8)), 6.510937330604015],\n",
       " [((0, 4), (2, 5), (6, 9)), 6.187398708837719],\n",
       " [((0, 4), (2, 5), (8, 9)), 6.214631526854344],\n",
       " [((0, 4), (2, 6), (4, 5)), 6.99999968251442],\n",
       " [((0, 4), (2, 6), (6, 8)), 6.392542003822213],\n",
       " [((0, 4), (2, 7), (4, 5)), 6.999999961637879],\n",
       " [((0, 4), (2, 7), (6, 8)), 6.999999893870408],\n",
       " [((0, 4), (3, 4), (3, 6)), 6.221296388765267],\n",
       " [((0, 4), (3, 4), (3, 8)), 6.414213549210387],\n",
       " [((0, 4), (3, 4), (6, 8)), 6.9999999314924235],\n",
       " [((0, 4), (3, 5), (3, 6)), 6.414213537660654],\n",
       " [((0, 4), (3, 5), (3, 8)), 6.221296253230165],\n",
       " [((0, 4), (3, 5), (6, 8)), 6.472135878748481],\n",
       " [((0, 4), (3, 6), (4, 5)), 6.999999949025796],\n",
       " [((0, 4), (3, 6), (6, 9)), 6.392541992914913],\n",
       " [((0, 4), (3, 6), (8, 9)), 6.472135847146626],\n",
       " [((0, 4), (3, 7), (4, 5)), 6.999999690449041],\n",
       " [((0, 4), (3, 7), (6, 8)), 6.999999888115642],\n",
       " [((0, 4), (3, 8), (4, 5)), 6.547419541695215],\n",
       " [((0, 4), (3, 8), (6, 9)), 6.375388664370424],\n",
       " [((0, 4), (3, 8), (8, 9)), 6.999999977348308],\n",
       " [((0, 4), (4, 5), (4, 6)), 6.999999794327629],\n",
       " [((0, 4), (4, 5), (5, 9)), 6.391738390258775],\n",
       " [((0, 4), (4, 5), (6, 7)), 6.999999899534728],\n",
       " [((0, 4), (4, 5), (6, 8)), 7.085544513173875],\n",
       " [((0, 4), (4, 5), (6, 9)), 6.999999805579674],\n",
       " [((0, 4), (4, 5), (7, 8)), 6.999999738431569],\n",
       " [((0, 4), (4, 5), (7, 9)), 6.999999834805185],\n",
       " [((0, 4), (4, 5), (8, 9)), 6.47213587691618],\n",
       " [((0, 4), (4, 6), (6, 8)), 6.999999716252572],\n",
       " [((0, 4), (5, 9), (6, 8)), 6.472135683615746],\n",
       " [((0, 4), (6, 7), (6, 8)), 6.999999931779415],\n",
       " [((0, 4), (6, 8), (7, 8)), 6.999999948064574],\n",
       " [((0, 4), (6, 8), (7, 9)), 6.999999862122476],\n",
       " [((0, 7), (0, 9), (6, 8)), 6.472135925998529],\n",
       " [((0, 7), (1, 2), (6, 7)), 6.999999785174375],\n",
       " [((0, 7), (1, 2), (6, 8)), 6.9999999540919635],\n",
       " [((0, 7), (1, 2), (7, 8)), 6.999999850164062],\n",
       " [((0, 7), (1, 3), (6, 7)), 6.999999914237754],\n",
       " [((0, 7), (1, 3), (6, 8)), 6.999999866061576],\n",
       " [((0, 7), (1, 3), (7, 8)), 6.999999790305955],\n",
       " [((0, 7), (1, 4), (6, 7)), 6.999999778221049],\n",
       " [((0, 7), (1, 4), (6, 8)), 6.999999735044683],\n",
       " [((0, 7), (1, 4), (7, 8)), 6.999999864978724],\n",
       " [((0, 7), (1, 5), (6, 7)), 6.999999976061191],\n",
       " [((0, 7), (1, 5), (6, 8)), 6.999999810843145],\n",
       " [((0, 7), (1, 5), (7, 8)), 6.999999854280411],\n",
       " [((0, 7), (1, 6), (6, 7)), 6.99999994910794],\n",
       " [((0, 7), (1, 6), (6, 8)), 6.9999999432611775],\n",
       " [((0, 7), (1, 6), (7, 8)), 6.99999970863893],\n",
       " [((0, 7), (1, 7), (6, 7)), 6.9999996854007955],\n",
       " [((0, 7), (1, 7), (6, 8)), 6.999999944890681],\n",
       " [((0, 7), (1, 7), (7, 8)), 6.9999998147922815],\n",
       " [((0, 7), (1, 8), (6, 7)), 6.999999762951032],\n",
       " [((0, 7), (1, 8), (6, 8)), 6.99999994562234],\n",
       " [((0, 7), (1, 8), (7, 8)), 6.999999800824935],\n",
       " [((0, 7), (1, 9), (6, 7)), 6.999999793583786],\n",
       " [((0, 7), (1, 9), (6, 8)), 6.9999997678219295],\n",
       " [((0, 7), (1, 9), (7, 8)), 6.999999687609917],\n",
       " [((0, 7), (2, 4), (3, 4)), 6.9999997516771],\n",
       " [((0, 7), (2, 4), (3, 5)), 6.4721356205714455],\n",
       " [((0, 7), (2, 4), (6, 7)), 6.999999735517748],\n",
       " [((0, 7), (2, 4), (6, 8)), 6.999999813295345],\n",
       " [((0, 7), (2, 4), (6, 9)), 6.383506431645616],\n",
       " [((0, 7), (2, 4), (7, 8)), 6.999999727639774],\n",
       " [((0, 7), (2, 4), (7, 9)), 6.347654506504288],\n",
       " [((0, 7), (2, 4), (8, 9)), 6.999999678403671],\n",
       " [((0, 7), (2, 5), (6, 7)), 6.479812730822813],\n",
       " [((0, 7), (2, 5), (6, 8)), 6.528473310729099],\n",
       " [((0, 7), (2, 5), (7, 8)), 6.503963099714725],\n",
       " [((0, 7), (2, 6), (6, 7)), 6.414213392368871],\n",
       " [((0, 7), (2, 6), (6, 8)), 6.659828425126075],\n",
       " [((0, 7), (2, 6), (7, 8)), 6.999999923611546],\n",
       " [((0, 7), (2, 7), (6, 8)), 6.999999918245128],\n",
       " [((0, 7), (3, 4), (6, 7)), 6.999999929509691],\n",
       " [((0, 7), (3, 4), (6, 8)), 6.999999796934398],\n",
       " [((0, 7), (3, 4), (7, 8)), 6.9999996693212365],\n",
       " [((0, 7), (3, 5), (6, 7)), 6.472135786008953],\n",
       " [((0, 7), (3, 5), (6, 8)), 6.4795677235331945],\n",
       " [((0, 7), (3, 5), (7, 8)), 6.47213574172415],\n",
       " [((0, 7), (3, 6), (6, 7)), 6.4416740741851495],\n",
       " [((0, 7), (3, 6), (6, 8)), 6.414213509844743],\n",
       " [((0, 7), (3, 6), (6, 9)), 6.392542034390533],\n",
       " [((0, 7), (3, 6), (7, 8)), 6.999999611220239],\n",
       " [((0, 7), (3, 6), (7, 9)), 6.161140277148274],\n",
       " [((0, 7), (3, 6), (8, 9)), 6.47213573462672],\n",
       " [((0, 7), (3, 7), (6, 7)), 6.267090262189799],\n",
       " [((0, 7), (3, 7), (6, 8)), 6.999999644315669],\n",
       " [((0, 7), (3, 7), (6, 9)), 6.177741650780115],\n",
       " [((0, 7), (3, 7), (7, 8)), 6.267090055656127],\n",
       " [((0, 7), (3, 7), (8, 9)), 6.4254585673523135],\n",
       " [((0, 7), (3, 8), (6, 7)), 6.99999976895883],\n",
       " [((0, 7), (3, 8), (6, 8)), 6.414213325452826],\n",
       " [((0, 7), (3, 8), (6, 9)), 6.382810151096687],\n",
       " [((0, 7), (3, 8), (7, 8)), 6.448417942332892],\n",
       " [((0, 7), (3, 8), (7, 9)), 6.319407217797596],\n",
       " [((0, 7), (3, 8), (8, 9)), 6.999999911677896],\n",
       " [((0, 7), (4, 5), (6, 7)), 6.99999993087589],\n",
       " [((0, 7), (4, 5), (6, 8)), 6.999999861929675],\n",
       " [((0, 7), (4, 5), (7, 8)), 6.9999999226293745],\n",
       " [((0, 7), (4, 6), (6, 7)), 6.99999994450596],\n",
       " [((0, 7), (4, 6), (6, 8)), 6.999999915400778],\n",
       " [((0, 7), (4, 6), (7, 8)), 6.9999998381543636],\n",
       " [((0, 7), (5, 9), (6, 7)), 6.472135678734027],\n",
       " [((0, 7), (5, 9), (6, 8)), 6.502050159313597],\n",
       " [((0, 7), (5, 9), (7, 8)), 6.472135843533961],\n",
       " [((0, 7), (6, 7), (6, 8)), 6.999999964460529],\n",
       " [((0, 7), (6, 7), (6, 9)), 6.414213519517152],\n",
       " [((0, 7), (6, 7), (7, 8)), 6.999999895657073],\n",
       " [((0, 7), (6, 7), (8, 9)), 6.999999670543766],\n",
       " [((0, 7), (6, 8), (6, 9)), 6.4142135047072095],\n",
       " [((0, 7), (6, 8), (7, 8)), 6.9999999030196305],\n",
       " [((0, 7), (6, 8), (7, 9)), 6.9999999492084495],\n",
       " [((0, 7), (6, 8), (8, 9)), 6.448417844650767],\n",
       " [((0, 7), (6, 9), (7, 8)), 6.9999998682175875],\n",
       " [((0, 7), (7, 8), (8, 9)), 6.414213338886936],\n",
       " [((0, 9), (1, 2), (6, 8)), 6.472135784050523],\n",
       " [((0, 9), (1, 3), (6, 8)), 6.472135848463967],\n",
       " [((0, 9), (1, 4), (6, 8)), 6.472135846636751],\n",
       " [((0, 9), (1, 5), (6, 8)), 6.4721359457429415],\n",
       " [((0, 9), (1, 6), (6, 8)), 6.472135914471584],\n",
       " [((0, 9), (1, 7), (6, 8)), 6.472135926251095],\n",
       " [((0, 9), (1, 8), (6, 8)), 6.472135935828484],\n",
       " [((0, 9), (1, 9), (6, 8)), 6.472135866043273],\n",
       " [((0, 9), (2, 4), (3, 4)), 6.391738373454048],\n",
       " [((0, 9), (2, 4), (3, 5)), 6.391738321183277],\n",
       " [((0, 9), (2, 4), (6, 8)), 6.47213592875713],\n",
       " [((0, 9), (2, 4), (6, 9)), 6.355945095601945],\n",
       " [((0, 9), (2, 4), (8, 9)), 6.355945196814115],\n",
       " [((0, 9), (2, 5), (6, 8)), 6.435980978569531],\n",
       " [((0, 9), (2, 6), (6, 8)), 6.535967701542848],\n",
       " [((0, 9), (2, 7), (6, 7)), 6.265518084896594],\n",
       " [((0, 9), (2, 7), (6, 8)), 6.6089490671292275],\n",
       " [((0, 9), (2, 7), (7, 8)), 6.417930154886238],\n",
       " [((0, 9), (3, 4), (6, 7)), 6.2987358600702885],\n",
       " [((0, 9), (3, 4), (6, 8)), 6.575983130824918],\n",
       " [((0, 9), (3, 4), (7, 8)), 6.344826729595798],\n",
       " [((0, 9), (3, 5), (6, 7)), 6.107436705933338],\n",
       " [((0, 9), (3, 5), (6, 8)), 6.463067550373536],\n",
       " [((0, 9), (3, 5), (7, 8)), 6.331019283914718],\n",
       " [((0, 9), (3, 6), (6, 8)), 6.199211720920475],\n",
       " [((0, 9), (3, 6), (6, 9)), 6.472135744318931],\n",
       " [((0, 9), (3, 6), (8, 9)), 6.352243089899634],\n",
       " [((0, 9), (3, 7), (6, 8)), 6.4721357174343925],\n",
       " [((0, 9), (3, 7), (6, 9)), 6.029095815636488],\n",
       " [((0, 9), (3, 7), (8, 9)), 6.044049985729165],\n",
       " [((0, 9), (3, 8), (6, 8)), 6.1993041000826],\n",
       " [((0, 9), (3, 8), (6, 9)), 6.4721356518869175],\n",
       " [((0, 9), (3, 8), (8, 9)), 6.472135874180141],\n",
       " [((0, 9), (4, 5), (6, 7)), 6.338044326727407],\n",
       " [((0, 9), (4, 5), (6, 8)), 6.729053692112052],\n",
       " [((0, 9), (4, 5), (7, 8)), 6.9999997595367685],\n",
       " [((0, 9), (4, 6), (6, 8)), 6.472135740252413],\n",
       " [((0, 9), (5, 9), (6, 8)), 6.375388638367547],\n",
       " [((0, 9), (6, 7), (6, 8)), 6.472135908007833],\n",
       " [((0, 9), (6, 7), (6, 9)), 6.110685710067255],\n",
       " [((0, 9), (6, 7), (8, 9)), 6.383105027093542],\n",
       " [((0, 9), (6, 8), (7, 8)), 6.472135840973212],\n",
       " [((0, 9), (6, 8), (7, 9)), 6.472135804390461],\n",
       " [((0, 9), (6, 9), (7, 8)), 6.39311501577668],\n",
       " [((0, 9), (7, 8), (8, 9)), 6.199304051606537],\n",
       " [((1, 2), (1, 3), (1, 9)), 6.999999933445528],\n",
       " [((1, 2), (1, 3), (6, 8)), 6.999999869163172],\n",
       " [((1, 2), (1, 4), (6, 8)), 6.999999925810814],\n",
       " [((1, 2), (1, 5), (6, 8)), 6.9999999535075075],\n",
       " [((1, 2), (1, 6), (6, 8)), 6.999999724427854],\n",
       " [((1, 2), (1, 7), (6, 8)), 6.999999932975304],\n",
       " [((1, 2), (1, 8), (6, 8)), 6.9999998409949775],\n",
       " [((1, 2), (1, 9), (6, 8)), 6.9999997591270535],\n",
       " [((1, 2), (2, 4), (3, 4)), 6.999999778335891],\n",
       " [((1, 2), (2, 4), (3, 5)), 6.472135780129407],\n",
       " [((1, 2), (2, 4), (6, 8)), 6.999999758497598],\n",
       " [((1, 2), (2, 4), (6, 9)), 6.383506618100102],\n",
       " [((1, 2), (2, 4), (8, 9)), 6.999999855928952],\n",
       " [((1, 2), (2, 5), (6, 8)), 6.489175618110373],\n",
       " [((1, 2), (2, 6), (6, 8)), 6.392542040858509],\n",
       " [((1, 2), (2, 7), (6, 8)), 6.999999955135519],\n",
       " [((1, 2), (3, 4), (6, 8)), 6.999999814306186],\n",
       " [((1, 2), (3, 5), (6, 8)), 6.472135938176768],\n",
       " [((1, 2), (3, 6), (6, 9)), 6.392542095460941],\n",
       " [((1, 2), (3, 6), (8, 9)), 6.472135603596176],\n",
       " [((1, 2), (3, 7), (6, 8)), 6.99999996394273],\n",
       " [((1, 2), (3, 8), (6, 9)), 6.375388595830944],\n",
       " [((1, 2), (3, 8), (8, 9)), 6.999999982133868],\n",
       " [((1, 2), (4, 5), (6, 7)), 6.338044310126021],\n",
       " [((1, 2), (4, 5), (6, 8)), 6.99999969871739],\n",
       " [((1, 2), (4, 5), (7, 8)), 6.999999861643274],\n",
       " [((1, 2), (4, 6), (6, 8)), 6.999999728241473],\n",
       " [((1, 2), (5, 9), (6, 8)), 6.472135917200893],\n",
       " [((1, 2), (6, 7), (6, 8)), 6.999999849946891],\n",
       " [((1, 2), (6, 8), (7, 8)), 6.999999894360306],\n",
       " [((1, 2), (6, 8), (7, 9)), 6.999999882427722],\n",
       " [((1, 3), (1, 4), (6, 8)), 6.999999853896388],\n",
       " [((1, 3), (1, 5), (6, 8)), 6.999999923031247],\n",
       " [((1, 3), (1, 6), (6, 8)), 6.999999768655152],\n",
       " [((1, 3), (1, 7), (6, 8)), 6.999999851155803],\n",
       " [((1, 3), (1, 8), (6, 8)), 6.9999998886538926],\n",
       " [((1, 3), (1, 9), (6, 8)), 6.999999850844968],\n",
       " [((1, 3), (2, 4), (3, 4)), 6.999999740044377],\n",
       " [((1, 3), (2, 4), (3, 5)), 6.4721358712685895],\n",
       " [((1, 3), (2, 4), (6, 8)), 6.999999862850577],\n",
       " [((1, 3), (2, 4), (6, 9)), 6.383506678666833],\n",
       " [((1, 3), (2, 4), (8, 9)), 6.999999740410358],\n",
       " [((1, 3), (2, 5), (6, 8)), 6.4891757419157745],\n",
       " [((1, 3), (2, 6), (6, 8)), 6.392541792157753],\n",
       " [((1, 3), (2, 7), (6, 8)), 6.999999955233087],\n",
       " [((1, 3), (3, 4), (6, 8)), 6.999999959203664],\n",
       " [((1, 3), (3, 5), (6, 8)), 6.472135921230196],\n",
       " [((1, 3), (3, 6), (6, 9)), 6.392541904809556],\n",
       " [((1, 3), (3, 6), (8, 9)), 6.4721358254725425],\n",
       " [((1, 3), (3, 7), (6, 8)), 6.9999997955355004],\n",
       " [((1, 3), (3, 8), (6, 9)), 6.375388605400143],\n",
       " [((1, 3), (3, 8), (8, 9)), 6.9999998869522],\n",
       " [((1, 3), (4, 5), (6, 7)), 6.338044177893021],\n",
       " [((1, 3), (4, 5), (6, 8)), 6.999999869244762],\n",
       " [((1, 3), (4, 5), (7, 8)), 6.999999799857529],\n",
       " [((1, 3), (4, 6), (6, 8)), 6.999999926615804],\n",
       " [((1, 3), (5, 9), (6, 8)), 6.472135770403535],\n",
       " [((1, 3), (6, 7), (6, 8)), 6.999999954644736],\n",
       " [((1, 3), (6, 8), (7, 8)), 6.999999928449354],\n",
       " [((1, 3), (6, 8), (7, 9)), 6.999999800904282],\n",
       " [((1, 4), (1, 5), (6, 8)), 6.999999956678616],\n",
       " [((1, 4), (1, 6), (6, 8)), 6.9999998150644],\n",
       " [((1, 4), (1, 7), (6, 8)), 6.999999926613009],\n",
       " [((1, 4), (1, 8), (6, 8)), 6.99999978060014],\n",
       " [((1, 4), (1, 9), (6, 8)), 6.999999962459161],\n",
       " [((1, 4), (2, 4), (3, 4)), 6.999999794327629],\n",
       " [((1, 4), (2, 4), (3, 5)), 6.472135650854285],\n",
       " [((1, 4), (2, 4), (6, 8)), 6.999999792239877],\n",
       " [((1, 4), (2, 4), (6, 9)), 6.38350661465127],\n",
       " [((1, 4), (2, 4), (8, 9)), 6.999999858115431],\n",
       " [((1, 4), (2, 5), (6, 8)), 6.489175617663331],\n",
       " [((1, 4), (2, 6), (6, 8)), 6.392541908814164],\n",
       " [((1, 4), (2, 7), (6, 8)), 6.99999993787266],\n",
       " [((1, 4), (3, 4), (6, 8)), 6.999999957461131],\n",
       " [((1, 4), (3, 5), (6, 8)), 6.472135900370603],\n",
       " [((1, 4), (3, 6), (6, 9)), 6.392542080069698],\n",
       " [((1, 4), (3, 6), (8, 9)), 6.4721356554377225],\n",
       " [((1, 4), (3, 7), (6, 8)), 6.999999934450178],\n",
       " [((1, 4), (3, 8), (6, 9)), 6.3753885449648156],\n",
       " [((1, 4), (3, 8), (8, 9)), 6.999999974139422],\n",
       " [((1, 4), (4, 5), (6, 7)), 6.338044223274575],\n",
       " [((1, 4), (4, 5), (6, 8)), 6.9999999395872265],\n",
       " [((1, 4), (4, 5), (7, 8)), 6.999999862366569],\n",
       " [((1, 4), (4, 6), (6, 8)), 6.999999713283699],\n",
       " [((1, 4), (5, 9), (6, 8)), 6.47213586655726],\n",
       " [((1, 4), (6, 7), (6, 8)), 6.999999793666899],\n",
       " [((1, 4), (6, 8), (7, 8)), 6.999999956766324],\n",
       " [((1, 4), (6, 8), (7, 9)), 6.999999784554556],\n",
       " [((1, 5), (1, 6), (6, 8)), 6.999999640797455],\n",
       " [((1, 5), (1, 7), (6, 8)), 6.9999999632907155],\n",
       " [((1, 5), (1, 8), (6, 8)), 6.9999999343574],\n",
       " [((1, 5), (1, 9), (6, 8)), 6.999999952402484],\n",
       " [((1, 5), (2, 4), (3, 4)), 6.999999646630694],\n",
       " [((1, 5), (2, 4), (3, 5)), 6.47213576333831],\n",
       " [((1, 5), (2, 4), (6, 8)), 6.99999980434823],\n",
       " [((1, 5), (2, 4), (6, 9)), 6.383506370198441],\n",
       " [((1, 5), (2, 4), (8, 9)), 6.999999874292926],\n",
       " [((1, 5), (2, 5), (6, 8)), 6.489175783838129],\n",
       " [((1, 5), (2, 6), (6, 8)), 6.392541852410723],\n",
       " [((1, 5), (2, 7), (6, 8)), 6.999999611579745],\n",
       " [((1, 5), (3, 4), (6, 8)), 6.999999867470403],\n",
       " [((1, 5), (3, 5), (6, 8)), 6.472135903190804],\n",
       " [((1, 5), (3, 6), (6, 9)), 6.392542105649603],\n",
       " [((1, 5), (3, 6), (8, 9)), 6.472135540868319],\n",
       " [((1, 5), (3, 7), (6, 8)), 6.999999963136714],\n",
       " [((1, 5), (3, 8), (6, 9)), 6.375388441285537],\n",
       " [((1, 5), (3, 8), (8, 9)), 6.9999998962847005],\n",
       " [((1, 5), (4, 5), (6, 7)), 6.3380443047677275],\n",
       " [((1, 5), (4, 5), (6, 8)), 6.999999884601319],\n",
       " [((1, 5), (4, 5), (7, 8)), 6.999999913986682],\n",
       " [((1, 5), (4, 6), (6, 8)), 6.999999867390329],\n",
       " [((1, 5), (5, 9), (6, 8)), 6.472135830635865],\n",
       " [((1, 5), (6, 7), (6, 8)), 6.999999848865227],\n",
       " [((1, 5), (6, 8), (7, 8)), 6.999999824681871],\n",
       " [((1, 5), (6, 8), (7, 9)), 6.999999805070898],\n",
       " [((1, 6), (1, 7), (6, 8)), 6.999999945972841],\n",
       " [((1, 6), (1, 8), (6, 8)), 6.999999693003441],\n",
       " [((1, 6), (1, 9), (6, 8)), 6.9999996063175445],\n",
       " [((1, 6), (2, 4), (3, 4)), 6.999999736616861],\n",
       " [((1, 6), (2, 4), (3, 5)), 6.472135870230769],\n",
       " [((1, 6), (2, 4), (6, 8)), 6.999999875417749],\n",
       " [((1, 6), (2, 4), (6, 9)), 6.383506593279657],\n",
       " [((1, 6), (2, 4), (8, 9)), 6.999999817516168],\n",
       " [((1, 6), (2, 5), (6, 8)), 6.4891757815731985],\n",
       " [((1, 6), (2, 6), (6, 8)), 6.392542089306672],\n",
       " [((1, 6), (2, 7), (6, 8)), 6.999999944029213],\n",
       " [((1, 6), (3, 4), (6, 8)), 6.999999955716705],\n",
       " [((1, 6), (3, 5), (6, 8)), 6.472135904612947],\n",
       " [((1, 6), (3, 6), (6, 9)), 6.392541952047522],\n",
       " [((1, 6), (3, 6), (8, 9)), 6.472135894599804],\n",
       " [((1, 6), (3, 7), (6, 8)), 6.999999640607663],\n",
       " [((1, 6), (3, 8), (6, 9)), 6.375388664730507],\n",
       " [((1, 6), (3, 8), (8, 9)), 6.999999921651203],\n",
       " [((1, 6), (4, 5), (6, 7)), 6.338044409964016],\n",
       " [((1, 6), (4, 5), (6, 8)), 6.999999835372844],\n",
       " [((1, 6), (4, 5), (7, 8)), 6.999999610668086],\n",
       " [((1, 6), (4, 6), (6, 8)), 6.999999744279536],\n",
       " [((1, 6), (5, 9), (6, 8)), 6.472135734905697],\n",
       " [((1, 6), (6, 7), (6, 8)), 6.999999918174266],\n",
       " [((1, 6), (6, 8), (7, 8)), 6.99999990146791],\n",
       " [((1, 6), (6, 8), (7, 9)), 6.999999921667605],\n",
       " [((1, 7), (1, 8), (6, 8)), 6.9999999591346596],\n",
       " [((1, 7), (1, 9), (6, 8)), 6.999999910359025],\n",
       " [((1, 7), (2, 4), (3, 4)), 6.999999747958416],\n",
       " [((1, 7), (2, 4), (3, 5)), 6.472135853596133],\n",
       " [((1, 7), (2, 4), (6, 8)), 6.999999931345838],\n",
       " [((1, 7), (2, 4), (6, 9)), 6.383506653908182],\n",
       " [((1, 7), (2, 4), (8, 9)), 6.999999745602103],\n",
       " [((1, 7), (2, 5), (6, 8)), 6.489175703632836],\n",
       " [((1, 7), (2, 6), (6, 8)), 6.392541963136607],\n",
       " [((1, 7), (2, 7), (6, 8)), 6.999999642738152],\n",
       " [((1, 7), (3, 4), (6, 8)), 6.999999892167244],\n",
       " [((1, 7), (3, 5), (6, 8)), 6.472135949676594],\n",
       " [((1, 7), (3, 6), (6, 9)), 6.392542101688316],\n",
       " [((1, 7), (3, 6), (8, 9)), 6.472135729533951],\n",
       " [((1, 7), (3, 7), (6, 8)), 6.999999908300263],\n",
       " [((1, 7), (3, 8), (6, 9)), 6.375388483748539],\n",
       " [((1, 7), (3, 8), (8, 9)), 6.999999894888643],\n",
       " [((1, 7), (4, 5), (6, 7)), 6.338044344301567],\n",
       " [((1, 7), (4, 5), (6, 8)), 6.999999696791607],\n",
       " [((1, 7), (4, 5), (7, 8)), 6.999999841842385],\n",
       " [((1, 7), (4, 6), (6, 8)), 6.999999719615884],\n",
       " [((1, 7), (5, 9), (6, 8)), 6.47213579239473],\n",
       " [((1, 7), (6, 7), (6, 8)), 6.999999658676295],\n",
       " [((1, 7), (6, 8), (7, 8)), 6.999999874767439],\n",
       " [((1, 7), (6, 8), (7, 9)), 6.999999846501169],\n",
       " [((1, 8), (1, 9), (6, 8)), 6.999999886382754],\n",
       " [((1, 8), (2, 4), (3, 4)), 6.999999779419757],\n",
       " [((1, 8), (2, 4), (3, 5)), 6.472135695874081],\n",
       " [((1, 8), (2, 4), (6, 8)), 6.999999711282005],\n",
       " [((1, 8), (2, 4), (6, 9)), 6.383506485709114],\n",
       " [((1, 8), (2, 4), (8, 9)), 6.999999868993838],\n",
       " [((1, 8), (2, 5), (6, 8)), 6.489175783537264],\n",
       " [((1, 8), (2, 6), (6, 8)), 6.392541802992758],\n",
       " [((1, 8), (2, 7), (6, 8)), 6.999999944445294],\n",
       " [((1, 8), (3, 4), (6, 8)), 6.9999999449329415],\n",
       " [((1, 8), (3, 5), (6, 8)), 6.472135928946952],\n",
       " [((1, 8), (3, 6), (6, 9)), 6.392541801874469],\n",
       " [((1, 8), (3, 6), (8, 9)), 6.472135625421656],\n",
       " [((1, 8), (3, 7), (6, 8)), 6.999999943472021],\n",
       " [((1, 8), (3, 8), (6, 9)), 6.375388645790659],\n",
       " [((1, 8), (3, 8), (8, 9)), 6.999999829680477],\n",
       " [((1, 8), (4, 5), (6, 7)), 6.33804419271669],\n",
       " [((1, 8), (4, 5), (6, 8)), 6.999999922262973],\n",
       " [((1, 8), (4, 5), (7, 8)), 6.99999983976446],\n",
       " [((1, 8), (4, 6), (6, 8)), 6.99999976258426],\n",
       " [((1, 8), (5, 9), (6, 8)), 6.472135731664532],\n",
       " [((1, 8), (6, 7), (6, 8)), 6.999999798247933],\n",
       " [((1, 8), (6, 8), (7, 8)), 6.99999992828725],\n",
       " [((1, 8), (6, 8), (7, 9)), 6.99999989572743],\n",
       " [((1, 9), (2, 4), (3, 4)), 6.999999786927984],\n",
       " [((1, 9), (2, 4), (3, 5)), 6.472135697755703],\n",
       " [((1, 9), (2, 4), (6, 8)), 6.999999746653564],\n",
       " [((1, 9), (2, 4), (6, 9)), 6.383506482755223],\n",
       " [((1, 9), (2, 4), (8, 9)), 6.999999874453919],\n",
       " [((1, 9), (2, 5), (6, 8)), 6.489175571469784],\n",
       " [((1, 9), (2, 6), (6, 8)), 6.392541997402866],\n",
       " [((1, 9), (2, 7), (6, 8)), 6.999999961335747],\n",
       " [((1, 9), (3, 4), (6, 8)), 6.9999998329681175],\n",
       " [((1, 9), (3, 5), (6, 8)), 6.472135900066562],\n",
       " [((1, 9), (3, 6), (6, 9)), 6.392541927168453],\n",
       " [((1, 9), (3, 6), (8, 9)), 6.472135787063564],\n",
       " [((1, 9), (3, 7), (6, 8)), 6.9999996498418104],\n",
       " [((1, 9), (3, 8), (6, 9)), 6.375388630530302],\n",
       " [((1, 9), (3, 8), (8, 9)), 6.999999872451724],\n",
       " [((1, 9), (4, 5), (6, 7)), 6.338044241745866],\n",
       " [((1, 9), (4, 5), (6, 8)), 6.999999707112602],\n",
       " [((1, 9), (4, 5), (7, 8)), 6.999999827989946],\n",
       " [((1, 9), (4, 6), (6, 8)), 6.99999989444478],\n",
       " [((1, 9), (5, 9), (6, 8)), 6.472135852948362],\n",
       " [((1, 9), (6, 7), (6, 8)), 6.999999763485148],\n",
       " [((1, 9), (6, 8), (7, 8)), 6.999999903965263],\n",
       " [((1, 9), (6, 8), (7, 9)), 6.9999998254583895],\n",
       " [((2, 4), (2, 5), (4, 5)), 6.391738483510178],\n",
       " [((2, 4), (2, 5), (6, 8)), 6.472135696149863],\n",
       " [((2, 4), (2, 6), (3, 4)), 6.999999671782968],\n",
       " [((2, 4), (2, 6), (3, 5)), 6.472135858796468],\n",
       " [((2, 4), (2, 6), (6, 8)), 6.417476130017321],\n",
       " [((2, 4), (2, 6), (6, 9)), 6.384368746102689],\n",
       " [((2, 4), (2, 6), (8, 9)), 6.390481995259054],\n",
       " [((2, 4), (2, 7), (3, 4)), 6.999999843482686],\n",
       " [((2, 4), (2, 7), (3, 5)), 6.472135874551709],\n",
       " [((2, 4), (2, 7), (6, 7)), 6.41421351964637],\n",
       " [((2, 4), (2, 7), (6, 8)), 6.999999891560869],\n",
       " [((2, 4), (2, 7), (6, 9)), 6.383506717098308],\n",
       " [((2, 4), (2, 7), (7, 8)), 6.999999883381816],\n",
       " [((2, 4), (2, 7), (7, 9)), 6.999999669117045],\n",
       " [((2, 4), (2, 7), (8, 9)), 6.9999998438565605],\n",
       " [((2, 4), (3, 4), (3, 6)), 6.999999947203641],\n",
       " [((2, 4), (3, 4), (3, 7)), 6.99999984614856],\n",
       " [((2, 4), (3, 4), (3, 8)), 6.9999998958536045],\n",
       " [((2, 4), (3, 4), (4, 6)), 6.999999940386872],\n",
       " [((2, 4), (3, 4), (5, 9)), 6.391738440110178],\n",
       " [((2, 4), (3, 4), (6, 7)), 6.999999846013819],\n",
       " [((2, 4), (3, 4), (6, 8)), 7.9999999091854415],\n",
       " [((2, 4), (3, 4), (6, 9)), 6.999999983689774],\n",
       " [((2, 4), (3, 4), (7, 8)), 6.999999966269228],\n",
       " [((2, 4), (3, 4), (7, 9)), 6.999999819128145],\n",
       " [((2, 4), (3, 4), (8, 9)), 6.999999777873861],\n",
       " [((2, 4), (3, 5), (3, 6)), 6.999999832415717],\n",
       " [((2, 4), (3, 5), (3, 7)), 6.4721358653665515],\n",
       " [((2, 4), (3, 5), (3, 8)), 6.999999896453466],\n",
       " [((2, 4), (3, 5), (4, 6)), 6.472135625891884],\n",
       " [((2, 4), (3, 5), (5, 9)), 6.391738503524047],\n",
       " [((2, 4), (3, 5), (6, 7)), 6.472135759125523],\n",
       " [((2, 4), (3, 5), (6, 8)), 7.000065844301911],\n",
       " [((2, 4), (3, 5), (6, 9)), 6.472135631178085],\n",
       " [((2, 4), (3, 5), (7, 8)), 6.472135923996537],\n",
       " [((2, 4), (3, 5), (7, 9)), 6.472135629327582],\n",
       " [((2, 4), (3, 5), (8, 9)), 6.999999840821779],\n",
       " [((2, 4), (3, 6), (4, 5)), 6.388979159748304],\n",
       " [((2, 4), (3, 6), (6, 8)), 6.999999851868699],\n",
       " [((2, 4), (3, 6), (6, 9)), 6.467128495082293],\n",
       " [((2, 4), (3, 6), (8, 9)), 6.999999876842315],\n",
       " [((2, 4), (3, 7), (6, 8)), 6.999999927404313],\n",
       " [((2, 4), (3, 7), (6, 9)), 6.383506700955412],\n",
       " [((2, 4), (3, 7), (8, 9)), 6.999999900769926],\n",
       " [((2, 4), (3, 8), (4, 5)), 6.298601090054679],\n",
       " [((2, 4), (3, 8), (6, 8)), 6.999999727252782],\n",
       " [((2, 4), (3, 8), (6, 9)), 6.3931151508904325],\n",
       " [((2, 4), (3, 8), (8, 9)), 6.999999847226157],\n",
       " [((2, 4), (4, 5), (6, 8)), 6.999999958717741],\n",
       " [((2, 4), (4, 6), (6, 8)), 6.999999773583391],\n",
       " [((2, 4), (4, 6), (6, 9)), 6.38008934162915],\n",
       " [((2, 4), (4, 6), (8, 9)), 6.425749245508948],\n",
       " [((2, 4), (5, 9), (6, 8)), 6.4721358391466515],\n",
       " [((2, 4), (5, 9), (6, 9)), 6.355945160333607],\n",
       " [((2, 4), (5, 9), (8, 9)), 6.355944977959044],\n",
       " [((2, 4), (6, 7), (6, 8)), 6.9999997398735605],\n",
       " [((2, 4), (6, 7), (6, 9)), 6.383506652239074],\n",
       " [((2, 4), (6, 7), (8, 9)), 6.999999871730259],\n",
       " [((2, 4), (6, 8), (7, 8)), 6.999999849938584],\n",
       " [((2, 4), (6, 8), (7, 9)), 6.999999675565659],\n",
       " [((2, 4), (6, 9), (7, 8)), 6.383506631505393],\n",
       " [((2, 4), (6, 9), (7, 9)), 6.383506679998954],\n",
       " [((2, 4), (7, 8), (8, 9)), 6.999999840801699],\n",
       " [((2, 4), (7, 9), (8, 9)), 6.9999998856207295],\n",
       " [((2, 5), (2, 6), (6, 8)), 6.472135828294991],\n",
       " [((2, 5), (2, 7), (6, 7)), 6.135488689160999],\n",
       " [((2, 5), (2, 7), (6, 8)), 6.482828781221241],\n",
       " [((2, 5), (2, 7), (7, 8)), 6.3683396971111454],\n",
       " [((2, 5), (3, 4), (6, 7)), 6.174755977922181],\n",
       " [((2, 5), (3, 4), (6, 8)), 6.9999999616916675],\n",
       " [((2, 5), (3, 4), (7, 8)), 6.384959411815282],\n",
       " [((2, 5), (3, 5), (6, 7)), 6.108076866228231],\n",
       " [((2, 5), (3, 5), (6, 8)), 6.613079971411629],\n",
       " [((2, 5), (3, 5), (7, 8)), 6.346411715700624],\n",
       " [((2, 5), (3, 6), (6, 8)), 6.201675429652993],\n",
       " [((2, 5), (3, 6), (6, 9)), 6.472135844547018],\n",
       " [((2, 5), (3, 6), (8, 9)), 6.472135876224967],\n",
       " [((2, 5), (3, 7), (6, 8)), 6.481864567801244],\n",
       " [((2, 5), (3, 7), (6, 9)), 6.020268771050888],\n",
       " [((2, 5), (3, 7), (8, 9)), 6.068102477723907],\n",
       " [((2, 5), (3, 8), (6, 8)), 6.206624748464666],\n",
       " [((2, 5), (3, 8), (6, 9)), 6.352242877300957],\n",
       " [((2, 5), (3, 8), (8, 9)), 6.4819361740887285],\n",
       " [((2, 5), (4, 5), (6, 8)), 6.472135931461426],\n",
       " [((2, 5), (4, 6), (6, 8)), 6.543756388351123],\n",
       " [((2, 5), (5, 9), (6, 8)), 6.472135943660994],\n",
       " [((2, 5), (6, 7), (6, 8)), 6.480594056433777],\n",
       " [((2, 5), (6, 7), (6, 9)), 6.068456508767556],\n",
       " [((2, 5), (6, 7), (8, 9)), 6.166784567292575],\n",
       " [((2, 5), (6, 8), (7, 8)), 6.4819360835208935],\n",
       " [((2, 5), (6, 8), (7, 9)), 6.999999921197453],\n",
       " [((2, 5), (6, 9), (7, 8)), 6.165992033781152],\n",
       " [((2, 5), (7, 8), (8, 9)), 6.206624597183339],\n",
       " [((2, 6), (2, 7), (6, 8)), 6.392542074081085],\n",
       " [((2, 6), (3, 4), (6, 8)), 6.999999914043618],\n",
       " [((2, 6), (3, 5), (6, 8)), 6.465554501240303],\n",
       " [((2, 6), (3, 6), (6, 9)), 6.999999955079027],\n",
       " [((2, 6), (3, 6), (8, 9)), 6.381977999425339],\n",
       " [((2, 6), (3, 7), (6, 8)), 6.392542079215425],\n",
       " [((2, 6), (3, 8), (6, 9)), 6.4721357602268865],\n",
       " [((2, 6), (3, 8), (8, 9)), 6.392541934155856],\n",
       " [((2, 6), (4, 5), (6, 7)), 6.338044235264666],\n",
       " [((2, 6), (4, 5), (6, 8)), 6.659828258461953],\n",
       " [((2, 6), (4, 5), (7, 8)), 6.999999802665124],\n",
       " [((2, 6), (4, 6), (6, 8)), 6.392541749774007],\n",
       " [((2, 6), (5, 9), (6, 8)), 6.3522430204813665],\n",
       " [((2, 6), (6, 7), (6, 8)), 6.3925420447466985],\n",
       " [((2, 6), (6, 8), (7, 8)), 6.392542010517716],\n",
       " [((2, 6), (6, 8), (7, 9)), 6.999999659286564],\n",
       " [((2, 7), (3, 4), (6, 8)), 6.99999979504523],\n",
       " [((2, 7), (3, 5), (6, 8)), 6.472135851852331],\n",
       " [((2, 7), (3, 6), (6, 7)), 6.118178401404908],\n",
       " [((2, 7), (3, 6), (6, 9)), 6.392541747014309],\n",
       " [((2, 7), (3, 6), (7, 8)), 6.393115001261381],\n",
       " [((2, 7), (3, 6), (7, 9)), 6.391738421071024],\n",
       " [((2, 7), (3, 6), (8, 9)), 6.472135903969972],\n",
       " [((2, 7), (3, 7), (6, 8)), 6.999999882107121],\n",
       " [((2, 7), (3, 7), (7, 9)), 6.999999924770799],\n",
       " [((2, 7), (3, 8), (6, 7)), 6.355581424164335],\n",
       " [((2, 7), (3, 8), (6, 9)), 6.378636448132413],\n",
       " [((2, 7), (3, 8), (7, 8)), 6.253275066362583],\n",
       " [((2, 7), (3, 8), (7, 9)), 6.391738489452615],\n",
       " [((2, 7), (3, 8), (8, 9)), 6.999999980185302],\n",
       " [((2, 7), (4, 5), (6, 7)), 6.243964987052888],\n",
       " [((2, 7), (4, 5), (6, 8)), 6.999999793874918],\n",
       " [((2, 7), (4, 5), (7, 8)), 6.486568609757494],\n",
       " [((2, 7), (4, 6), (6, 8)), 6.999999976431146],\n",
       " [((2, 7), (5, 9), (6, 8)), 6.561796717114276],\n",
       " [((2, 7), (6, 7), (6, 8)), 6.999999850207034],\n",
       " [((2, 7), (6, 7), (7, 9)), 6.267090185789019],\n",
       " [((2, 7), (6, 8), (6, 9)), 6.2555905953588065],\n",
       " [((2, 7), (6, 8), (7, 8)), 6.999999980770546],\n",
       " [((2, 7), (6, 8), (7, 9)), 6.999999827823329],\n",
       " [((2, 7), (6, 8), (8, 9)), 6.253275126184884],\n",
       " [((2, 7), (7, 8), (7, 9)), 6.267090100593892],\n",
       " [((3, 4), (3, 5), (6, 8)), 6.472135802950232],\n",
       " [((3, 4), (3, 6), (6, 7)), 6.118193793809859],\n",
       " [((3, 4), (3, 6), (6, 9)), 6.392542033988676],\n",
       " [((3, 4), (3, 6), (7, 8)), 6.35564974971447],\n",
       " [((3, 4), (3, 6), (7, 9)), 6.266913887857525],\n",
       " [((3, 4), (3, 6), (8, 9)), 6.47213572248428],\n",
       " [((3, 4), (3, 7), (6, 8)), 6.999999910259257],\n",
       " [((3, 4), (3, 7), (7, 9)), 6.999999910638074],\n",
       " [((3, 4), (3, 8), (6, 7)), 6.393115025651598],\n",
       " [((3, 4), (3, 8), (6, 9)), 6.375437221046936],\n",
       " [((3, 4), (3, 8), (7, 8)), 6.253274982468982],\n",
       " [((3, 4), (3, 8), (7, 9)), 6.266743988476047],\n",
       " [((3, 4), (3, 8), (8, 9)), 6.999999930234057],\n",
       " [((3, 4), (4, 5), (6, 8)), 6.999999934598339],\n",
       " [((3, 4), (4, 6), (6, 8)), 6.999999914969386],\n",
       " [((3, 4), (5, 9), (6, 8)), 6.550477601100078],\n",
       " [((3, 4), (6, 7), (6, 8)), 6.999999739419872],\n",
       " [((3, 4), (6, 7), (7, 9)), 6.266743683054517],\n",
       " [((3, 4), (6, 8), (6, 9)), 6.2556888970392945],\n",
       " [((3, 4), (6, 8), (7, 8)), 6.999999953935502],\n",
       " [((3, 4), (6, 8), (7, 9)), 6.999999701021123],\n",
       " [((3, 4), (6, 8), (8, 9)), 6.253275101523678],\n",
       " [((3, 4), (7, 8), (7, 9)), 6.266743908515549],\n",
       " [((3, 5), (3, 6), (6, 7)), 6.332227109841414],\n",
       " [((3, 5), (3, 6), (6, 9)), 6.375388499470637],\n",
       " [((3, 5), (3, 6), (7, 8)), 6.999999872226119],\n",
       " [((3, 5), (3, 6), (7, 9)), 6.999999748297761],\n",
       " [((3, 5), (3, 6), (8, 9)), 6.999999934365709],\n",
       " [((3, 5), (3, 7), (6, 8)), 6.47213583099649],\n",
       " [((3, 5), (3, 7), (7, 9)), 6.108219087740496],\n",
       " [((3, 5), (3, 8), (6, 7)), 6.291795037986282],\n",
       " [((3, 5), (3, 8), (6, 9)), 6.392541941484871],\n",
       " [((3, 5), (3, 8), (7, 8)), 6.34243822683482],\n",
       " [((3, 5), (3, 8), (7, 9)), 6.999999972097827],\n",
       " [((3, 5), (3, 8), (8, 9)), 6.472135819032688],\n",
       " [((3, 5), (4, 5), (6, 8)), 6.4721358920804795],\n",
       " [((3, 5), (4, 6), (6, 8)), 6.5543531236247],\n",
       " [((3, 5), (5, 9), (6, 8)), 6.472135769188362],\n",
       " [((3, 5), (6, 7), (6, 8)), 6.472135604400982],\n",
       " [((3, 5), (6, 7), (7, 9)), 6.25250167378906],\n",
       " [((3, 5), (6, 8), (6, 9)), 6.351278926412434],\n",
       " [((3, 5), (6, 8), (7, 8)), 6.472135915954949],\n",
       " [((3, 5), (6, 8), (7, 9)), 6.999999921727646],\n",
       " [((3, 5), (6, 8), (8, 9)), 6.342438244115635],\n",
       " [((3, 5), (7, 8), (7, 9)), 6.338876124321511],\n",
       " [((3, 6), (3, 7), (6, 9)), 6.392541864106836],\n",
       " [((3, 6), (3, 7), (8, 9)), 6.472135710683442],\n",
       " [((3, 6), (3, 8), (6, 8)), 6.4721358210898075],\n",
       " [((3, 6), (4, 5), (6, 7)), 6.351331750800861],\n",
       " [((3, 6), (4, 5), (6, 8)), 6.48947421992455],\n",
       " [((3, 6), (4, 5), (6, 9)), 6.450232885152026],\n",
       " [((3, 6), (4, 5), (7, 8)), 6.9999999210903185],\n",
       " [((3, 6), (4, 5), (7, 9)), 6.381737083202002],\n",
       " [((3, 6), (4, 5), (8, 9)), 6.4721357966056035],\n",
       " [((3, 6), (4, 6), (6, 9)), 6.392541792786132],\n",
       " [((3, 6), (4, 6), (8, 9)), 6.472135697191458],\n",
       " [((3, 6), (5, 9), (6, 9)), 6.352243234470492],\n",
       " [((3, 6), (5, 9), (8, 9)), 6.472135905660405],\n",
       " [((3, 6), (6, 7), (6, 9)), 6.3925419825160175],\n",
       " [((3, 6), (6, 7), (8, 9)), 6.472135846632272],\n",
       " [((3, 6), (6, 8), (7, 9)), 6.999999920936216],\n",
       " [((3, 6), (6, 9), (7, 8)), 6.3925417834773945],\n",
       " [((3, 6), (6, 9), (7, 9)), 6.392542104241298],\n",
       " [((3, 6), (7, 8), (8, 9)), 6.47213578688971],\n",
       " [((3, 6), (7, 9), (8, 9)), 6.472135938630221],\n",
       " [((3, 7), (3, 8), (6, 9)), 6.375388511826342],\n",
       " [((3, 7), (3, 8), (8, 9)), 6.999999957094014],\n",
       " [((3, 7), (4, 5), (6, 7)), 6.240270873891337],\n",
       " [((3, 7), (4, 5), (6, 8)), 6.99999969993289],\n",
       " [((3, 7), (4, 5), (6, 9)), 6.119831112017792],\n",
       " [((3, 7), (4, 5), (7, 8)), 6.380089116153371],\n",
       " [((3, 7), (4, 5), (7, 9)), 6.345646483280069],\n",
       " [((3, 7), (4, 5), (8, 9)), 6.219737474123805],\n",
       " [((3, 7), (4, 6), (6, 8)), 6.999999877113613],\n",
       " [((3, 7), (5, 9), (6, 8)), 6.472135648858977],\n",
       " [((3, 7), (6, 7), (6, 8)), 6.999999913453999],\n",
       " [((3, 7), (6, 8), (7, 8)), 6.999999928859315],\n",
       " [((3, 7), (6, 8), (7, 9)), 6.999999959835109],\n",
       " [((3, 7), (6, 9), (7, 9)), 6.121155400803789],\n",
       " [((3, 7), (7, 9), (8, 9)), 6.253275134555496],\n",
       " [((3, 8), (4, 5), (6, 7)), 6.304622906835906],\n",
       " [((3, 8), (4, 5), (6, 8)), 6.414213219048028],\n",
       " [((3, 8), (4, 5), (6, 9)), 6.3801240569724085],\n",
       " [((3, 8), (4, 5), (7, 8)), 6.47498484054282],\n",
       " [((3, 8), (4, 5), (7, 9)), 6.3357185952237876],\n",
       " [((3, 8), (4, 5), (8, 9)), 6.999999813133969],\n",
       " [((3, 8), (4, 6), (6, 9)), 6.385689010942422],\n",
       " [((3, 8), (4, 6), (8, 9)), 6.9999999340721555],\n",
       " [((3, 8), (5, 9), (6, 9)), 6.472135845013581],\n",
       " [((3, 8), (5, 9), (8, 9)), 6.4721358618824905],\n",
       " [((3, 8), (6, 7), (6, 9)), 6.375388629295273],\n",
       " [((3, 8), (6, 7), (8, 9)), 6.99999993317877],\n",
       " [((3, 8), (6, 8), (7, 9)), 6.999999672345853],\n",
       " [((3, 8), (6, 9), (7, 8)), 6.375388636825323],\n",
       " [((3, 8), (6, 9), (7, 9)), 6.376040457010513],\n",
       " [((3, 8), (7, 8), (8, 9)), 6.999999706039064],\n",
       " [((3, 8), (7, 9), (8, 9)), 6.999999939188719],\n",
       " [((4, 5), (4, 6), (6, 7)), 6.999999860371608],\n",
       " [((4, 5), (4, 6), (6, 8)), 6.999999927145743],\n",
       " [((4, 5), (4, 6), (7, 8)), 6.999999712634926],\n",
       " [((4, 5), (5, 9), (6, 7)), 6.108076681270037],\n",
       " [((4, 5), (5, 9), (6, 8)), 6.61308001646072],\n",
       " [((4, 5), (5, 9), (7, 8)), 6.346411703154669],\n",
       " [((4, 5), (6, 7), (6, 8)), 6.999999779303376],\n",
       " [((4, 5), (6, 7), (6, 9)), 6.338044411723731],\n",
       " [((4, 5), (6, 7), (7, 8)), 6.999999814935215],\n",
       " [((4, 5), (6, 7), (7, 9)), 6.270711293100487],\n",
       " [((4, 5), (6, 7), (8, 9)), 6.2973500833439315],\n",
       " [((4, 5), (6, 8), (6, 9)), 6.497786354865339],\n",
       " [((4, 5), (6, 8), (7, 8)), 6.999999751999909],\n",
       " [((4, 5), (6, 8), (7, 9)), 6.999999933640105],\n",
       " [((4, 5), (6, 8), (8, 9)), 6.474984986293231],\n",
       " [((4, 5), (6, 9), (7, 8)), 6.999999824575352],\n",
       " [((4, 5), (7, 8), (7, 9)), 6.383491707829724],\n",
       " [((4, 5), (7, 8), (8, 9)), 6.414213448600865],\n",
       " [((4, 6), (5, 9), (6, 8)), 6.543756308292519],\n",
       " [((4, 6), (6, 7), (6, 8)), 6.999999829928074],\n",
       " [((4, 6), (6, 8), (7, 8)), 6.9999999647963],\n",
       " [((4, 6), (6, 8), (7, 9)), 6.999999765168295],\n",
       " [((5, 9), (6, 7), (6, 8)), 6.472135646416845],\n",
       " [((5, 9), (6, 8), (7, 8)), 6.472135877551637],\n",
       " [((5, 9), (6, 8), (7, 9)), 6.472135932060822],\n",
       " [((6, 7), (6, 8), (7, 8)), 6.999999929451227],\n",
       " [((6, 7), (6, 8), (7, 9)), 6.999999694094206],\n",
       " [((6, 7), (6, 9), (7, 9)), 6.383104998416965],\n",
       " [((6, 7), (7, 9), (8, 9)), 6.340775821387834],\n",
       " [((6, 8), (6, 9), (8, 9)), 6.37538861504035],\n",
       " [((6, 8), (7, 8), (7, 9)), 6.999999847246016],\n",
       " [((6, 9), (7, 8), (7, 9)), 6.284932561166931],\n",
       " [((7, 8), (7, 9), (8, 9)), 6.9999996716364725]]"
      ]
     },
     "metadata": {},
     "output_type": "display_data"
    }
   ],
   "source": [
    "display(significant)"
   ]
  },
  {
   "cell_type": "code",
   "execution_count": 95,
   "metadata": {
    "scrolled": false
   },
   "outputs": [
    {
     "name": "stdout",
     "output_type": "stream",
     "text": [
      "min edge th: 3.9999996548309014 max edge th: 4.999999918142428\n",
      "2*th(g): 3.9999998342131757\n"
     ]
    }
   ],
   "source": [
    "min_th = n\n",
    "max_th = 0\n",
    "for e in edges:\n",
    "    g_ = g.copy()\n",
    "    g_[e[0],e[1]] = 0\n",
    "    g_[e[1],e[0]] = 0\n",
    "    #th1 = lovasz_theta(g_)\n",
    "    #g_ = remove_nodes(g, [e[0],e[1]])\n",
    "    #th2 = lovasz_theta(g_)\n",
    "    #print(e)\n",
    "    #print(th1, th2)\n",
    "    th3 = lovasz_theta(double_cover_replace_edge(g, e[0],e[1]))\n",
    "    if th3 < min_th:\n",
    "        min_th = th3\n",
    "    if th3 > max_th:\n",
    "        max_th = th3\n",
    "    #print(th1 + th2, th3)\n",
    "print(\"min edge th:\", min_th, \"max edge th:\", max_th)\n",
    "print(\"2*th(g):\", lovasz_theta(g)*2)"
   ]
  },
  {
   "cell_type": "code",
   "execution_count": 69,
   "metadata": {},
   "outputs": [
    {
     "data": {
      "text/plain": [
       "3.3176672071277107"
      ]
     },
     "execution_count": 69,
     "metadata": {},
     "output_type": "execute_result"
    }
   ],
   "source": [
    "k=3\n",
    "lovasz_theta(strong_power(circle(7),k))**(1/k)"
   ]
  },
  {
   "cell_type": "code",
   "execution_count": 324,
   "metadata": {},
   "outputs": [],
   "source": [
    "for e in edges:\n",
    "    write_metis(blowup_edgeset(g,[e]),f\"graphs/g_dc{e[0]}{e[1]}.graph\")"
   ]
  },
  {
   "cell_type": "code",
   "execution_count": 136,
   "metadata": {},
   "outputs": [
    {
     "data": {
      "image/png": "[encoded data removed]",
      "text/plain": [
       "<Figure size 432x288 with 1 Axes>"
      ]
     },
     "metadata": {},
     "output_type": "display_data"
    },
    {
     "data": {
      "text/latex": [
       "$\\displaystyle \\text{walk count sequence: 6, 24, 100, 410, 1692, 6964}, \\ldots$"
      ],
      "text/plain": [
       "<IPython.core.display.Math object>"
      ]
     },
     "metadata": {},
     "output_type": "display_data"
    },
    {
     "data": {
      "text/latex": [
       "$\\displaystyle \\text{average degree: }4.0$"
      ],
      "text/plain": [
       "<IPython.core.display.Math object>"
      ]
     },
     "metadata": {},
     "output_type": "display_data"
    },
    {
     "data": {
      "text/latex": [
       "$\\displaystyle \\text{characteristic polynomial: }x^{6} - 12 x^{4} - 20 x^{3} - 4 x^{2} + 8 x + 3 = \\left(x + 1\\right) \\left(x^{2} + x - 1\\right) \\left(x^{3} - 2 x^{2} - 8 x - 3\\right)$"
      ],
      "text/plain": [
       "<IPython.core.display.Math object>"
      ]
     },
     "metadata": {},
     "output_type": "display_data"
    },
    {
     "data": {
      "text/latex": [
       "$\\displaystyle \\text{characteristic residual: }6 x^{5} + 24 x^{4} + 28 x^{3} + 2 x^{2} - 12 x - 4 = 2 \\left(x + 1\\right) \\left(x^{2} + x - 1\\right) \\left(3 x^{2} + 6 x + 2\\right)$"
      ],
      "text/plain": [
       "<IPython.core.display.Math object>"
      ]
     },
     "metadata": {},
     "output_type": "display_data"
    },
    {
     "data": {
      "text/latex": [
       "$\\displaystyle \\text{recurrence polynomial: }x^{3} - 2 x^{2} - 8 x - 3$"
      ],
      "text/plain": [
       "<IPython.core.display.Math object>"
      ]
     },
     "metadata": {},
     "output_type": "display_data"
    }
   ],
   "source": [
    "analyze(g)"
   ]
  },
  {
   "cell_type": "code",
   "execution_count": 183,
   "metadata": {
    "scrolled": false
   },
   "outputs": [
    {
     "data": {
      "image/png": "[encoded data removed]",
      "text/plain": [
       "<Figure size 432x288 with 1 Axes>"
      ]
     },
     "metadata": {},
     "output_type": "display_data"
    },
    {
     "data": {
      "text/latex": [
       "$\\displaystyle \\text{walk count sequence: 2, -2, 4, -6, 10, -16}, \\ldots$"
      ],
      "text/plain": [
       "<IPython.core.display.Math object>"
      ]
     },
     "metadata": {},
     "output_type": "display_data"
    },
    {
     "data": {
      "text/latex": [
       "$\\displaystyle \\text{average degree: }3.666667$"
      ],
      "text/plain": [
       "<IPython.core.display.Math object>"
      ]
     },
     "metadata": {},
     "output_type": "display_data"
    },
    {
     "data": {
      "text/latex": [
       "$\\displaystyle \\text{characteristic polynomial: }x^{6} - 11 x^{4} - 12 x^{3} + 5 x^{2} + 4 x = x \\left(x^{2} + x - 1\\right) \\left(x^{3} - x^{2} - 9 x - 4\\right)$"
      ],
      "text/plain": [
       "<IPython.core.display.Math object>"
      ]
     },
     "metadata": {},
     "output_type": "display_data"
    },
    {
     "data": {
      "text/latex": [
       "$\\displaystyle \\text{local characteristic residual: }2 x^{5} - 2 x^{4} - 18 x^{3} - 8 x^{2} = 2 x^{2} \\left(x^{3} - x^{2} - 9 x - 4\\right)$"
      ],
      "text/plain": [
       "<IPython.core.display.Math object>"
      ]
     },
     "metadata": {},
     "output_type": "display_data"
    },
    {
     "data": {
      "text/latex": [
       "$\\displaystyle \\text{local recurrence polynomial: }x^{2} + x - 1$"
      ],
      "text/plain": [
       "<IPython.core.display.Math object>"
      ]
     },
     "metadata": {},
     "output_type": "display_data"
    }
   ],
   "source": [
    "set1 = [(1,-1),(2,1)]\n",
    "set2 = set1\n",
    "\n",
    "v = sp.zeros(n,1)\n",
    "w = sp.zeros(n,1)\n",
    "for u in set1:\n",
    "    v += u[1] * e_(n,u[0])\n",
    "for u in set2:\n",
    "    w += u[1] * e_(n,u[0])\n",
    "analyze(g,v=v,w=w)\n",
    "partres = residual(g, v=v,w=w)"
   ]
  },
  {
   "cell_type": "code",
   "execution_count": 38,
   "metadata": {
    "scrolled": false
   },
   "outputs": [
    {
     "name": "stdout",
     "output_type": "stream",
     "text": [
      "[2, 0, 4] [1, 3, 5, 6]\n"
     ]
    },
    {
     "data": {
      "text/latex": [
       "$\\displaystyle 6 x^{5} - 14 x^{3} + 7 x + 2$"
      ],
      "text/plain": [
       "6*x**5 - 14*x**3 + 7*x + 2"
      ]
     },
     "metadata": {},
     "output_type": "display_data"
    },
    {
     "data": {
      "text/latex": [
       "$\\displaystyle 6 \\left(x^{2} - x - 1\\right) \\left(x^{3} + x^{2} - 2 x - 1\\right)$"
      ],
      "text/plain": [
       "6*(x**2 - x - 1)*(x**3 + x**2 - 2*x - 1)"
      ]
     },
     "metadata": {},
     "output_type": "display_data"
    },
    {
     "data": {
      "text/latex": [
       "$\\displaystyle \\text{diff: }10 x^{3} - 11 x - 4$"
      ],
      "text/plain": [
       "<IPython.core.display.Math object>"
      ]
     },
     "metadata": {},
     "output_type": "display_data"
    }
   ],
   "source": [
    "num = random.randrange(1,n-1)\n",
    "S1 = random.sample(range(n),num)\n",
    "#S1 = [5,2]\n",
    "S2 = [i for i in range(n) if i not in S1]\n",
    "print(S1, S2)\n",
    "e_S1 = sp.zeros(n,1)\n",
    "e_S2 = sp.zeros(n,1)\n",
    "for i in S1:\n",
    "    e_S1 += e_(n,i)\n",
    "for i in S2:\n",
    "    e_S2 += e_(n,i)\n",
    "p_tmp = subgraph(g,S1).charpoly(x).as_expr() * subgraph(g, S2).charpoly(x).as_expr()\n",
    "inters = list(set(S1).intersection(S2))\n",
    "inters_poly = 1\n",
    "if len(inters) > 0:\n",
    "    inters_poly = subgraph(g, inters).charpoly(x).as_expr()\n",
    "p_tmp -= subgraph(g, list(set(S1) | set(S2))).charpoly(x).as_expr() * inters_poly\n",
    "display(p_tmp.factor())\n",
    "res = 0\n",
    "for i in S1:\n",
    "    for j in S2:\n",
    "        if g[i,j] == 1:\n",
    "            res += residuals[i,j]\n",
    "display(res.factor())\n",
    "pretty_poly_print(-res+p_tmp,\"diff\")"
   ]
  },
  {
   "cell_type": "code",
   "execution_count": 709,
   "metadata": {},
   "outputs": [
    {
     "data": {
      "text/latex": [
       "$\\displaystyle x^{6} + 8 x^{5} + 2 x^{4} - 17 x^{3} + 2 x^{2} + 5 x - 1 = \\left(x - 1\\right) \\left(x^{5} + 9 x^{4} + 11 x^{3} - 6 x^{2} - 4 x + 1\\right)$"
      ],
      "text/plain": [
       "<IPython.core.display.Math object>"
      ]
     },
     "metadata": {},
     "output_type": "display_data"
    },
    {
     "data": {
      "text/latex": [
       "$\\displaystyle x^{6} + 2 x^{5} - x^{3} - 2 x^{2} - x + 1 = \\left(x - 1\\right) \\left(x + 1\\right) \\left(x^{4} + 2 x^{3} + x^{2} + x - 1\\right)$"
      ],
      "text/plain": [
       "<IPython.core.display.Math object>"
      ]
     },
     "metadata": {},
     "output_type": "display_data"
    }
   ],
   "source": [
    "u = 0\n",
    "v = 1\n",
    "res = 0\n",
    "for i in range(n):\n",
    "    if g[v,i] == 1:\n",
    "        res += residuals[v,i] + (-1)**n*residuals_c[v,i]\n",
    "res += x * (residuals[u,v] + (-1)**n * residuals_c[u,v])\n",
    "pretty_poly_print(res)\n",
    "pretty_poly_print(sum([residuals[u,i] for i in range(n)]))"
   ]
  },
  {
   "cell_type": "code",
   "execution_count": 664,
   "metadata": {},
   "outputs": [
    {
     "data": {
      "text/latex": [
       "$\\displaystyle x^{6} + x^{5} y + x^{4} y^{2} - 9 x^{4} + x^{3} y^{3} - 9 x^{3} y - 6 x^{3} + x^{2} y^{4} - 9 x^{2} y^{2} - 6 x^{2} y + 11 x^{2} + x y^{5} - 9 x y^{3} - 6 x y^{2} + 11 x y + 4 x + y^{6} - 9 y^{4} - 6 y^{3} + 11 y^{2} + 4 y - 3$"
      ],
      "text/plain": [
       "x**6 + x**5*y + x**4*y**2 - 9*x**4 + x**3*y**3 - 9*x**3*y - 6*x**3 + x**2*y**4 - 9*x**2*y**2 - 6*x**2*y + 11*x**2 + x*y**5 - 9*x*y**3 - 6*x*y**2 + 11*x*y + 4*x + y**6 - 9*y**4 - 6*y**3 + 11*y**2 + 4*y - 3"
      ]
     },
     "metadata": {},
     "output_type": "display_data"
    }
   ],
   "source": [
    "pol = cp\n",
    "d = sp.degree(pol)\n",
    "res = 0\n",
    "for i in range(d):\n",
    "    res += trunc_poly(pol,i)*y**i\n",
    "display(res.factor())"
   ]
  },
  {
   "cell_type": "code",
   "execution_count": 648,
   "metadata": {},
   "outputs": [
    {
     "data": {
      "text/latex": [
       "$\\displaystyle \\left[\\begin{matrix}x^{6} - 7 x^{4} - 4 x^{3} + 6 x^{2} + 2 x - 1 & x \\left(2 x^{3} + 3 x^{2} - 2 x - 1\\right) & x^{4} + x^{3} - 2 x^{2} + 1 & x \\left(x^{4} + x^{3} - 2 x^{2} + 1\\right) & x \\left(x + 1\\right) \\left(x^{3} - 3 x + 1\\right) & \\left(x + 1\\right) \\left(x^{3} - 3 x + 1\\right) & x \\left(x + 2\\right) \\left(x^{2} + x - 1\\right)\\\\x \\left(2 x^{3} + 3 x^{2} - 2 x - 1\\right) & x^{2} \\left(x^{4} - 6 x^{2} - 2 x + 5\\right) & x \\left(x - 1\\right) \\left(x + 1\\right) \\left(x + 2\\right) & x^{2} \\left(x - 1\\right) \\left(x + 1\\right) \\left(x + 2\\right) & x^{2} \\left(x^{3} + x^{2} - x + 1\\right) & x \\left(x^{3} + x^{2} - x + 1\\right) & x \\left(x^{2} - 3\\right) \\left(x^{2} + x - 1\\right)\\\\x^{4} + x^{3} - 2 x^{2} + 1 & x \\left(x - 1\\right) \\left(x + 1\\right) \\left(x + 2\\right) & x^{6} - 8 x^{4} - 6 x^{3} + 7 x^{2} + 4 x - 1 & x \\left(x^{4} - 4 x^{2} + 2\\right) & x \\left(x + 1\\right) \\left(x^{2} + x - 1\\right) & \\left(x + 1\\right) \\left(x^{2} + x - 1\\right) & x \\left(x^{3} + x^{2} - 2 x - 1\\right)\\\\x \\left(x^{4} + x^{3} - 2 x^{2} + 1\\right) & x^{2} \\left(x - 1\\right) \\left(x + 1\\right) \\left(x + 2\\right) & x \\left(x^{4} - 4 x^{2} + 2\\right) & x^{2} \\left(x^{4} - 4 x^{2} + 2\\right) & x^{2} \\left(x + 1\\right) \\left(x^{2} + x - 1\\right) & x \\left(x + 1\\right) \\left(x^{2} + x - 1\\right) & x^{2} \\left(x^{3} + x^{2} - 2 x - 1\\right)\\\\x \\left(x + 1\\right) \\left(x^{3} - 3 x + 1\\right) & x^{2} \\left(x^{3} + x^{2} - x + 1\\right) & x \\left(x + 1\\right) \\left(x^{2} + x - 1\\right) & x^{2} \\left(x + 1\\right) \\left(x^{2} + x - 1\\right) & x^{2} \\left(x + 1\\right) \\left(x^{3} - x^{2} - 4 x + 2\\right) & x \\left(x + 1\\right) \\left(x^{3} - x^{2} - 4 x + 2\\right) & x^{2} \\left(2 x^{2} + 3 x - 1\\right)\\\\\\left(x + 1\\right) \\left(x^{3} - 3 x + 1\\right) & x \\left(x^{3} + x^{2} - x + 1\\right) & \\left(x + 1\\right) \\left(x^{2} + x - 1\\right) & x \\left(x + 1\\right) \\left(x^{2} + x - 1\\right) & x \\left(x + 1\\right) \\left(x^{3} - x^{2} - 4 x + 2\\right) & \\left(x^{2} + x - 1\\right) \\left(x^{4} - x^{3} - 6 x^{2} - x + 1\\right) & x \\left(2 x^{2} + 3 x - 1\\right)\\\\x \\left(x + 2\\right) \\left(x^{2} + x - 1\\right) & x \\left(x^{2} - 3\\right) \\left(x^{2} + x - 1\\right) & x \\left(x^{3} + x^{2} - 2 x - 1\\right) & x^{2} \\left(x^{3} + x^{2} - 2 x - 1\\right) & x^{2} \\left(2 x^{2} + 3 x - 1\\right) & x \\left(2 x^{2} + 3 x - 1\\right) & x^{2} \\left(x^{2} - x - 5\\right) \\left(x^{2} + x - 1\\right)\\end{matrix}\\right]$"
      ],
      "text/plain": [
       "Matrix([\n",
       "[x**6 - 7*x**4 - 4*x**3 + 6*x**2 + 2*x - 1,  x*(2*x**3 + 3*x**2 - 2*x - 1),                  x**4 + x**3 - 2*x**2 + 1, x*(x**4 + x**3 - 2*x**2 + 1),           x*(x + 1)*(x**3 - 3*x + 1),                      (x + 1)*(x**3 - 3*x + 1),           x*(x + 2)*(x**2 + x - 1)],\n",
       "[            x*(2*x**3 + 3*x**2 - 2*x - 1), x**2*(x**4 - 6*x**2 - 2*x + 5),                 x*(x - 1)*(x + 1)*(x + 2), x**2*(x - 1)*(x + 1)*(x + 2),           x**2*(x**3 + x**2 - x + 1),                       x*(x**3 + x**2 - x + 1),        x*(x**2 - 3)*(x**2 + x - 1)],\n",
       "[                 x**4 + x**3 - 2*x**2 + 1,      x*(x - 1)*(x + 1)*(x + 2), x**6 - 8*x**4 - 6*x**3 + 7*x**2 + 4*x - 1,        x*(x**4 - 4*x**2 + 2),             x*(x + 1)*(x**2 + x - 1),                        (x + 1)*(x**2 + x - 1),          x*(x**3 + x**2 - 2*x - 1)],\n",
       "[             x*(x**4 + x**3 - 2*x**2 + 1),   x**2*(x - 1)*(x + 1)*(x + 2),                     x*(x**4 - 4*x**2 + 2),     x**2*(x**4 - 4*x**2 + 2),          x**2*(x + 1)*(x**2 + x - 1),                      x*(x + 1)*(x**2 + x - 1),       x**2*(x**3 + x**2 - 2*x - 1)],\n",
       "[               x*(x + 1)*(x**3 - 3*x + 1),     x**2*(x**3 + x**2 - x + 1),                  x*(x + 1)*(x**2 + x - 1),  x**2*(x + 1)*(x**2 + x - 1), x**2*(x + 1)*(x**3 - x**2 - 4*x + 2),             x*(x + 1)*(x**3 - x**2 - 4*x + 2),            x**2*(2*x**2 + 3*x - 1)],\n",
       "[                 (x + 1)*(x**3 - 3*x + 1),        x*(x**3 + x**2 - x + 1),                    (x + 1)*(x**2 + x - 1),     x*(x + 1)*(x**2 + x - 1),    x*(x + 1)*(x**3 - x**2 - 4*x + 2), (x**2 + x - 1)*(x**4 - x**3 - 6*x**2 - x + 1),               x*(2*x**2 + 3*x - 1)],\n",
       "[                 x*(x + 2)*(x**2 + x - 1),    x*(x**2 - 3)*(x**2 + x - 1),                 x*(x**3 + x**2 - 2*x - 1), x**2*(x**3 + x**2 - 2*x - 1),              x**2*(2*x**2 + 3*x - 1),                          x*(2*x**2 + 3*x - 1), x**2*(x**2 - x - 5)*(x**2 + x - 1)]])"
      ]
     },
     "execution_count": 648,
     "metadata": {},
     "output_type": "execute_result"
    }
   ],
   "source": [
    "residuals"
   ]
  },
  {
   "cell_type": "code",
   "execution_count": 620,
   "metadata": {
    "scrolled": true
   },
   "outputs": [
    {
     "data": {
      "text/latex": [
       "$\\displaystyle \\text{left right: }72 x^{5} + 103 x^{4} - 155 x^{3} - 283 x^{2} - 79 x + 18 = \\left(x + 1\\right) \\left(72 x^{4} + 31 x^{3} - 186 x^{2} - 97 x + 18\\right)$"
      ],
      "text/plain": [
       "<IPython.core.display.Math object>"
      ]
     },
     "metadata": {},
     "output_type": "display_data"
    },
    {
     "data": {
      "text/latex": [
       "$\\displaystyle \\text{left left: }29 x^{6} + 12 x^{5} - 108 x^{4} - 54 x^{3} + 87 x^{2} + 42 x - 8 = \\left(x - 1\\right) \\left(x + 1\\right) \\left(29 x^{4} + 12 x^{3} - 79 x^{2} - 42 x + 8\\right)$"
      ],
      "text/plain": [
       "<IPython.core.display.Math object>"
      ]
     },
     "metadata": {},
     "output_type": "display_data"
    },
    {
     "data": {
      "text/latex": [
       "$\\displaystyle \\text{right right: }23 x^{6} + 22 x^{5} - 72 x^{4} - 76 x^{3} + 30 x^{2} + 38 x + 3 = \\left(x + 1\\right) \\left(23 x^{5} - x^{4} - 71 x^{3} - 5 x^{2} + 35 x + 3\\right)$"
      ],
      "text/plain": [
       "<IPython.core.display.Math object>"
      ]
     },
     "metadata": {},
     "output_type": "display_data"
    },
    {
     "data": {
      "text/latex": [
       "$\\displaystyle 667 x^{5} + 914 x^{4} - 1488 x^{3} - 2546 x^{2} - 637 x + 174 = \\left(x + 1\\right) \\left(667 x^{4} + 247 x^{3} - 1735 x^{2} - 811 x + 174\\right)$"
      ],
      "text/plain": [
       "<IPython.core.display.Math object>"
      ]
     },
     "metadata": {},
     "output_type": "display_data"
    }
   ],
   "source": [
    "left = sp.zeros(n,1)\n",
    "right = sp.zeros(n,1)\n",
    "for i in range(n):\n",
    "    for j in range(n):\n",
    "        if g[i,j] == 1 and i in S1 and j in S2:\n",
    "            left += e_(n,i)\n",
    "            right += e_(n,j)\n",
    "pretty_poly_print(residual(g,v=left,w=right), \"left right\")\n",
    "pretty_poly_print(residual(g,v=left,w=left), \"left left\")\n",
    "pretty_poly_print(residual(g, v=right, w=right), \"right right\")\n",
    "pretty_poly_print(((residual(g,v=left,w=left)*residual(g, v=right, w=right)-residual(g,v=left,w=right)**2)/cp).factor())"
   ]
  },
  {
   "cell_type": "code",
   "execution_count": 570,
   "metadata": {},
   "outputs": [
    {
     "data": {
      "text/latex": [
       "$\\displaystyle 10 x^{5} + 24 x^{4} + 4 x^{3} - 16 x^{2} - 6 x = 2 x \\left(x + 1\\right) \\left(5 x^{3} + 7 x^{2} - 5 x - 3\\right)$"
      ],
      "text/plain": [
       "<IPython.core.display.Math object>"
      ]
     },
     "metadata": {},
     "output_type": "display_data"
    }
   ],
   "source": [
    "nb1 = [i for i in S1 if len([j for j in S2 if g[i,j] == 1]) != 0]\n",
    "nb2 = [i - len(S1) for i in S2 if len([j for j in S1 if g[i,j] == 1]) != 0]\n",
    "g1 = subgraph(g, S1)\n",
    "g2 = subgraph(g, S2)\n",
    "e1 = sp.zeros(len(S1),1)\n",
    "for i in nb1:\n",
    "    e1 += e_(len(S1), i)\n",
    "e2 = sp.zeros(len(S2),1)\n",
    "for i in nb2:\n",
    "    e2 += e_(len(S2), i)\n",
    "\n",
    "pretty_poly_print(residual(g1,v=e1,w=e1)*residual(g2,v=e2,w=e2))"
   ]
  },
  {
   "cell_type": "code",
   "execution_count": 499,
   "metadata": {},
   "outputs": [
    {
     "data": {
      "text/latex": [
       "$\\displaystyle 5 x^{4} + 9 x^{3} - 4 x^{2} - 7 x - 1$"
      ],
      "text/plain": [
       "<IPython.core.display.Math object>"
      ]
     },
     "metadata": {},
     "output_type": "display_data"
    }
   ],
   "source": [
    "pretty_poly_print(residual(g,v=e_S1,w=e_S2))"
   ]
  },
  {
   "cell_type": "code",
   "execution_count": 429,
   "metadata": {},
   "outputs": [
    {
     "data": {
      "text/latex": [
       "$\\displaystyle \\left(x + 1\\right) \\left(7 x^{4} - 3 x^{3} - 14 x^{2} + 6 x + 2\\right)$"
      ],
      "text/plain": [
       "(x + 1)*(7*x**4 - 3*x**3 - 14*x**2 + 6*x + 2)"
      ]
     },
     "metadata": {},
     "output_type": "display_data"
    },
    {
     "data": {
      "text/latex": [
       "$\\displaystyle 7 x^{5} + 5 x^{4} - 27 x^{3} - 16 x^{2} + 16 x + 5$"
      ],
      "text/plain": [
       "7*x**5 + 5*x**4 - 27*x**3 - 16*x**2 + 16*x + 5"
      ]
     },
     "metadata": {},
     "output_type": "display_data"
    },
    {
     "data": {
      "text/latex": [
       "$\\displaystyle x \\left(7 x^{4} + 4 x^{3} - 21 x^{2} - 6 x + 13\\right)$"
      ],
      "text/plain": [
       "x*(7*x**4 + 4*x**3 - 21*x**2 - 6*x + 13)"
      ]
     },
     "metadata": {},
     "output_type": "display_data"
    },
    {
     "data": {
      "text/latex": [
       "$\\displaystyle - 4 x^{3} + 2 x^{2} + 5 x - 2$"
      ],
      "text/plain": [
       "-4*x**3 + 2*x**2 + 5*x - 2"
      ]
     },
     "metadata": {},
     "output_type": "display_data"
    }
   ],
   "source": [
    "part = [0,0,1,1,1,2,2]\n",
    "S1 = [i for i in range(n) if part[i] == 0]\n",
    "S2 = [i for i in range(n) if part[i] == 1]\n",
    "S3 = [i for i in range(n) if part[i] == 2]\n",
    "g1 = subgraph(g,S1)\n",
    "g2 = subgraph(g,S2)\n",
    "g3 = subgraph(g,S3)\n",
    "res0 = (g1.charpoly(x).as_expr() * g2.charpoly(x).as_expr() * g3.charpoly(x).as_expr() - cp).factor()\n",
    "display(res0)\n",
    "res = 0\n",
    "res2 = 0\n",
    "for i in range(n):\n",
    "    for j in range(n):\n",
    "        if g[i,j] == 0 or part[i] >= part[j]:\n",
    "            continue\n",
    "        res += residuals[i, j]\n",
    "        if part[i] == 0 and part[j] == 1:\n",
    "            res2 += residuals[i,j]\n",
    "        if part[i] == 0 and part[j] == 2:\n",
    "            res2 += residuals[i,j]\n",
    "res23 = 0\n",
    "S23 = list(set(S2) | set(S3))\n",
    "g23 = subgraph(g, S23)\n",
    "for i in S2:\n",
    "    for j in S3:\n",
    "        i_ = i - len(S1)\n",
    "        j_ = j - len(S1)\n",
    "        if g23[i_, j_] == 0:\n",
    "            continue\n",
    "        res23 += residual(g23, v=e_(len(S23),i_), w=e_(len(S23),j_))\n",
    "res2 += g1.charpoly(x).as_expr() * res23\n",
    "display(res.factor())\n",
    "display(res2.factor())\n",
    "display((res2-res0).factor())"
   ]
  },
  {
   "cell_type": "code",
   "execution_count": 705,
   "metadata": {
    "scrolled": false
   },
   "outputs": [
    {
     "name": "stdout",
     "output_type": "stream",
     "text": [
      "[0, 1, 4, 3] [2, 4]\n"
     ]
    },
    {
     "data": {
      "text/latex": [
       "$\\displaystyle x^{4} - 2 x^{2} = x^{2} \\left(x^{2} - 2\\right)$"
      ],
      "text/plain": [
       "<IPython.core.display.Math object>"
      ]
     },
     "metadata": {},
     "output_type": "display_data"
    }
   ],
   "source": [
    "num = random.randrange(1,n)\n",
    "S1 = random.sample(range(n),num)\n",
    "num = random.randrange(1,n)\n",
    "S2 = random.sample(range(n),num)\n",
    "S2 = list(set(S2) | (set(range(n)) - set(S1)))\n",
    "S1, S2 = [0,1,4,3],[2,4]\n",
    "print(S1, S2)\n",
    "e_S1 = sp.zeros(n,1)\n",
    "e_S2 = sp.zeros(n,1)\n",
    "for i in S1:\n",
    "    e_S1 += e_(n,i)\n",
    "for i in S2:\n",
    "    e_S2 += e_(n,i)\n",
    "p_tmp = subgraph(g,S1).charpoly(x).as_expr() * subgraph(g, S2).charpoly(x).as_expr()\n",
    "inters = list(set(S1).intersection(S2))\n",
    "inters_poly = 1\n",
    "if len(inters) > 0:\n",
    "    inters_poly = subgraph(g, inters).charpoly(x).as_expr()\n",
    "p_tmp -= subgraph(g, list(set(S1) | set(S2))).charpoly(x).as_expr() * inters_poly\n",
    "pretty_poly_print(p_tmp)"
   ]
  },
  {
   "cell_type": "code",
   "execution_count": 607,
   "metadata": {},
   "outputs": [
    {
     "data": {
      "text/latex": [
       "$\\displaystyle 6 x^{5} + 13 x^{4} - 9 x^{3} - 24 x^{2} + 5 x + 12$"
      ],
      "text/plain": [
       "<IPython.core.display.Math object>"
      ]
     },
     "metadata": {},
     "output_type": "display_data"
    }
   ],
   "source": [
    "res = 0\n",
    "for i in range(n):\n",
    "    for j in range(n):\n",
    "        if g[i,j] == 0:\n",
    "            continue\n",
    "        if i in S1 and j in S2:\n",
    "            res += residuals[i,j]\n",
    "pretty_poly_print(res)"
   ]
  },
  {
   "cell_type": "code",
   "execution_count": 21,
   "metadata": {},
   "outputs": [
    {
     "data": {
      "text/plain": [
       "(0, 3)"
      ]
     },
     "metadata": {},
     "output_type": "display_data"
    },
    {
     "data": {
      "text/latex": [
       "$\\displaystyle \\text{walk count sequence: 6, 12, 26, 56, 122}, \\ldots$"
      ],
      "text/plain": [
       "<IPython.core.display.Math object>"
      ]
     },
     "metadata": {},
     "output_type": "display_data"
    },
    {
     "data": {
      "text/latex": [
       "$\\displaystyle \\text{average degree: }2.0$"
      ],
      "text/plain": [
       "<IPython.core.display.Math object>"
      ]
     },
     "metadata": {},
     "output_type": "display_data"
    },
    {
     "data": {
      "text/latex": [
       "$\\displaystyle \\text{characteristic polynomial: }x^{6} - 6 x^{4} + 6 x^{2} = x^{2} \\left(x^{4} - 6 x^{2} + 6\\right)$"
      ],
      "text/plain": [
       "<IPython.core.display.Math object>"
      ]
     },
     "metadata": {},
     "output_type": "display_data"
    },
    {
     "data": {
      "text/latex": [
       "$\\displaystyle \\text{characteristic residual: }6 x^{5} + 12 x^{4} - 10 x^{3} - 16 x^{2} + 2 x = 2 x \\left(3 x^{4} + 6 x^{3} - 5 x^{2} - 8 x + 1\\right)$"
      ],
      "text/plain": [
       "<IPython.core.display.Math object>"
      ]
     },
     "metadata": {},
     "output_type": "display_data"
    },
    {
     "data": {
      "text/latex": [
       "$\\displaystyle \\text{recurrence polynomial: }x^{5} - 6 x^{3} + 6 x = x \\left(x^{4} - 6 x^{2} + 6\\right)$"
      ],
      "text/plain": [
       "<IPython.core.display.Math object>"
      ]
     },
     "metadata": {},
     "output_type": "display_data"
    },
    {
     "data": {
      "text/latex": [
       "$\\displaystyle x^{6} - 6 x^{4} + 6 x^{2}$"
      ],
      "text/plain": [
       "x**6 - 6*x**4 + 6*x**2"
      ]
     },
     "metadata": {},
     "output_type": "display_data"
    },
    {
     "data": {
      "text/latex": [
       "$\\displaystyle \\text{local res: }x^{4} + 3 x^{3} + 3 x^{2} - 3 x - 4 = \\left(x - 1\\right) \\left(x + 1\\right) \\left(x^{2} + 3 x + 4\\right)$"
      ],
      "text/plain": [
       "<IPython.core.display.Math object>"
      ]
     },
     "metadata": {},
     "output_type": "display_data"
    },
    {
     "data": {
      "text/latex": [
       "$\\displaystyle 6 x^{5} + 12 x^{4} - 10 x^{3} - 16 x^{2} + 2 x$"
      ],
      "text/plain": [
       "6*x**5 + 12*x**4 - 10*x**3 - 16*x**2 + 2*x"
      ]
     },
     "metadata": {},
     "output_type": "display_data"
    },
    {
     "data": {
      "image/png": "[encoded data removed]",
      "text/plain": [
       "<Figure size 432x288 with 1 Axes>"
      ]
     },
     "metadata": {},
     "output_type": "display_data"
    }
   ],
   "source": [
    "non_edges = [(v1,v2) for v1 in range(n-1) for v2 in range(v1+1,n) if g[v1,v2] == 0]\n",
    "edge = non_edges[random.randrange(len(non_edges))]\n",
    "v1 = edge[0]\n",
    "v2 = edge[1]\n",
    "display(edge)\n",
    "g1 = g.copy()\n",
    "g1[v1,v2] = 1\n",
    "g1[v2,v1] = 1\n",
    "analyze(g1)\n",
    "display((cp - remove_nodes(g,list(edge)).charpoly(x).as_expr() - 2 * residuals[v1,v2]).expand())\n",
    "pretty_poly_print(residuals[v1,v2] + (-1)**n * residuals_c[v1,v2],\"local res\")\n",
    "display((residual(g) - residual(remove_nodes(g,list(edge))) + 2 * (residuals[v1,v2] + (-1)**n * residuals_c[v1,v2])).expand())"
   ]
  },
  {
   "cell_type": "code",
   "execution_count": 22,
   "metadata": {},
   "outputs": [
    {
     "data": {
      "text/plain": [
       "(1, 4)"
      ]
     },
     "metadata": {},
     "output_type": "display_data"
    },
    {
     "data": {
      "text/latex": [
       "$\\displaystyle \\text{walk count sequence: 6, 8, 12, 18, 28, 44}, \\ldots$"
      ],
      "text/plain": [
       "<IPython.core.display.Math object>"
      ]
     },
     "metadata": {},
     "output_type": "display_data"
    },
    {
     "data": {
      "text/latex": [
       "$\\displaystyle \\text{average degree: }1.333333$"
      ],
      "text/plain": [
       "<IPython.core.display.Math object>"
      ]
     },
     "metadata": {},
     "output_type": "display_data"
    },
    {
     "data": {
      "text/latex": [
       "$\\displaystyle \\text{characteristic polynomial: }x^{6} - 4 x^{4} + 4 x^{2} - 1 = \\left(x - 1\\right) \\left(x + 1\\right) \\left(x^{2} - x - 1\\right) \\left(x^{2} + x - 1\\right)$"
      ],
      "text/plain": [
       "<IPython.core.display.Math object>"
      ]
     },
     "metadata": {},
     "output_type": "display_data"
    },
    {
     "data": {
      "text/latex": [
       "$\\displaystyle \\text{characteristic residual: }6 x^{5} + 8 x^{4} - 12 x^{3} - 14 x^{2} + 4 x + 4 = 2 \\left(x + 1\\right) \\left(x^{2} + x - 1\\right) \\left(3 x^{2} - 2 x - 2\\right)$"
      ],
      "text/plain": [
       "<IPython.core.display.Math object>"
      ]
     },
     "metadata": {},
     "output_type": "display_data"
    },
    {
     "data": {
      "text/latex": [
       "$\\displaystyle \\text{recurrence polynomial: }x^{3} - 2 x^{2} + 1 = \\left(x - 1\\right) \\left(x^{2} - x - 1\\right)$"
      ],
      "text/plain": [
       "<IPython.core.display.Math object>"
      ]
     },
     "metadata": {},
     "output_type": "display_data"
    },
    {
     "data": {
      "text/latex": [
       "$\\displaystyle x^{6} - 4 x^{4} + 4 x^{2} - 1$"
      ],
      "text/plain": [
       "x**6 - 4*x**4 + 4*x**2 - 1"
      ]
     },
     "metadata": {},
     "output_type": "display_data"
    },
    {
     "data": {
      "text/latex": [
       "$\\displaystyle 6 x^{5} + 8 x^{4} - 12 x^{3} - 14 x^{2} + 4 x + 4$"
      ],
      "text/plain": [
       "6*x**5 + 8*x**4 - 12*x**3 - 14*x**2 + 4*x + 4"
      ]
     },
     "metadata": {},
     "output_type": "display_data"
    },
    {
     "data": {
      "image/png": "[encoded data removed]",
      "text/plain": [
       "<Figure size 432x288 with 1 Axes>"
      ]
     },
     "metadata": {},
     "output_type": "display_data"
    }
   ],
   "source": [
    "edges = [(v1,v2) for v1 in range(n-1) for v2 in range(v1+1,n) if g[v1,v2] == 1]\n",
    "edge = edges[random.randrange(len(edges))]\n",
    "v1 = edge[0]\n",
    "v2 = edge[1]\n",
    "display(edge)\n",
    "g1 = g.copy()\n",
    "g1[v1,v2] = 0\n",
    "g1[v2,v1] = 0\n",
    "analyze(g1)\n",
    "display((cp - remove_nodes(g,list(edge)).charpoly(x).as_expr() + 2 * residuals[v1,v2]).expand())\n",
    "display((residual(g) - residual(remove_nodes(g,list(edge))) - 2 * (residuals[v1,v2] + (-1)**n * residuals_c[v1,v2])).expand())"
   ]
  },
  {
   "cell_type": "code",
   "execution_count": 23,
   "metadata": {},
   "outputs": [
    {
     "name": "stdout",
     "output_type": "stream",
     "text": [
      "collapse 0 1\n"
     ]
    },
    {
     "data": {
      "text/latex": [
       "$\\displaystyle \\text{walk count sequence: 5, 8, 14, 24, 42}, \\ldots$"
      ],
      "text/plain": [
       "<IPython.core.display.Math object>"
      ]
     },
     "metadata": {},
     "output_type": "display_data"
    },
    {
     "data": {
      "text/latex": [
       "$\\displaystyle \\text{average degree: }1.6$"
      ],
      "text/plain": [
       "<IPython.core.display.Math object>"
      ]
     },
     "metadata": {},
     "output_type": "display_data"
    },
    {
     "data": {
      "text/latex": [
       "$\\displaystyle \\text{characteristic polynomial: }x^{5} - 4 x^{3} + 3 x = x \\left(x - 1\\right) \\left(x + 1\\right) \\left(x^{2} - 3\\right)$"
      ],
      "text/plain": [
       "<IPython.core.display.Math object>"
      ]
     },
     "metadata": {},
     "output_type": "display_data"
    },
    {
     "data": {
      "text/latex": [
       "$\\displaystyle \\text{characteristic residual: }5 x^{4} + 8 x^{3} - 6 x^{2} - 8 x + 1 = \\left(x - 1\\right) \\left(x + 1\\right) \\left(5 x^{2} + 8 x - 1\\right)$"
      ],
      "text/plain": [
       "<IPython.core.display.Math object>"
      ]
     },
     "metadata": {},
     "output_type": "display_data"
    },
    {
     "data": {
      "text/latex": [
       "$\\displaystyle \\text{recurrence polynomial: }x^{3} - 3 x = x \\left(x^{2} - 3\\right)$"
      ],
      "text/plain": [
       "<IPython.core.display.Math object>"
      ]
     },
     "metadata": {},
     "output_type": "display_data"
    },
    {
     "data": {
      "image/png": "[encoded data removed]",
      "text/plain": [
       "<Figure size 432x288 with 1 Axes>"
      ]
     },
     "metadata": {},
     "output_type": "display_data"
    }
   ],
   "source": [
    "v1 = random.randrange(n)\n",
    "v2 = random.randrange(n)\n",
    "v1, v2 = [0,1]\n",
    "print(\"collapse\", v1, v2)\n",
    "\n",
    "g2 = collapse(g,v1,v2)\n",
    "analyze(g2)"
   ]
  },
  {
   "cell_type": "code",
   "execution_count": 114,
   "metadata": {},
   "outputs": [
    {
     "data": {
      "text/latex": [
       "$\\displaystyle 6 x^{10} - 42 x^{8} + 148 x^{6} + 132 x^{5} - 6 x^{4} - 40 x^{3} - 12 x^{2} + 16$"
      ],
      "text/plain": [
       "6*x**10 - 42*x**8 + 148*x**6 + 132*x**5 - 6*x**4 - 40*x**3 - 12*x**2 + 16"
      ]
     },
     "execution_count": 114,
     "metadata": {},
     "output_type": "execute_result"
    }
   ],
   "source": [
    "sum([residuals[i,j]**2 for i in range(n) for j in range(n)]).expand()"
   ]
  },
  {
   "cell_type": "code",
   "execution_count": 384,
   "metadata": {
    "scrolled": false
   },
   "outputs": [
    {
     "name": "stdout",
     "output_type": "stream",
     "text": [
      "v = 0\n"
     ]
    },
    {
     "data": {
      "text/latex": [
       "$\\displaystyle \\text{walk count sequence: 4, 6, 10, 16}, \\ldots$"
      ],
      "text/plain": [
       "<IPython.core.display.Math object>"
      ]
     },
     "metadata": {},
     "output_type": "display_data"
    },
    {
     "data": {
      "text/latex": [
       "$\\displaystyle \\text{average degree: }1.5$"
      ],
      "text/plain": [
       "<IPython.core.display.Math object>"
      ]
     },
     "metadata": {},
     "output_type": "display_data"
    },
    {
     "data": {
      "text/latex": [
       "$\\displaystyle \\text{characteristic polynomial: }x^{4} - 3 x^{2} + 1 = \\left(x^{2} - x - 1\\right) \\left(x^{2} + x - 1\\right)$"
      ],
      "text/plain": [
       "<IPython.core.display.Math object>"
      ]
     },
     "metadata": {},
     "output_type": "display_data"
    },
    {
     "data": {
      "text/latex": [
       "$\\displaystyle \\text{characteristic residual: }4 x^{3} + 6 x^{2} - 2 x - 2 = 2 \\left(2 x + 1\\right) \\left(x^{2} + x - 1\\right)$"
      ],
      "text/plain": [
       "<IPython.core.display.Math object>"
      ]
     },
     "metadata": {},
     "output_type": "display_data"
    },
    {
     "data": {
      "text/latex": [
       "$\\displaystyle \\text{recurrence polynomial: }x^{2} - x - 1$"
      ],
      "text/plain": [
       "<IPython.core.display.Math object>"
      ]
     },
     "metadata": {},
     "output_type": "display_data"
    },
    {
     "data": {
      "image/png": "[encoded data removed]",
      "text/plain": [
       "<Figure size 432x288 with 1 Axes>"
      ]
     },
     "metadata": {},
     "output_type": "display_data"
    },
    {
     "data": {
      "text/latex": [
       "$\\displaystyle \\text{walk count sequence: 6, 10, 24, 44, 102}, \\ldots$"
      ],
      "text/plain": [
       "<IPython.core.display.Math object>"
      ]
     },
     "metadata": {},
     "output_type": "display_data"
    },
    {
     "data": {
      "text/latex": [
       "$\\displaystyle \\text{average degree: }1.666667$"
      ],
      "text/plain": [
       "<IPython.core.display.Math object>"
      ]
     },
     "metadata": {},
     "output_type": "display_data"
    },
    {
     "data": {
      "text/latex": [
       "$\\displaystyle \\text{characteristic polynomial: }x^{6} - 5 x^{4} + 3 x^{2} = x^{2} \\left(x^{4} - 5 x^{2} + 3\\right)$"
      ],
      "text/plain": [
       "<IPython.core.display.Math object>"
      ]
     },
     "metadata": {},
     "output_type": "display_data"
    },
    {
     "data": {
      "text/latex": [
       "$\\displaystyle \\text{characteristic residual: }6 x^{5} + 10 x^{4} - 6 x^{3} - 6 x^{2} = 2 x^{2} \\left(3 x^{3} + 5 x^{2} - 3 x - 3\\right)$"
      ],
      "text/plain": [
       "<IPython.core.display.Math object>"
      ]
     },
     "metadata": {},
     "output_type": "display_data"
    },
    {
     "data": {
      "text/latex": [
       "$\\displaystyle \\text{recurrence polynomial: }x^{4} - 5 x^{2} + 3$"
      ],
      "text/plain": [
       "<IPython.core.display.Math object>"
      ]
     },
     "metadata": {},
     "output_type": "display_data"
    },
    {
     "data": {
      "image/png": "[encoded data removed]",
      "text/plain": [
       "<Figure size 432x288 with 1 Axes>"
      ]
     },
     "metadata": {},
     "output_type": "display_data"
    }
   ],
   "source": [
    "v = random.randrange(n)\n",
    "nb = [i for i in range(n) if g[v,i] == 1]\n",
    "print(\"v =\",v)\n",
    "\n",
    "g1 = union(g, empty(1))\n",
    "for i in nb:\n",
    "    g1[i,n] = 1\n",
    "    g1[n,i] = 1\n",
    "\n",
    "analyze(remove_node(g,v))\n",
    "plt.show()\n",
    "analyze(g1)"
   ]
  },
  {
   "cell_type": "code",
   "execution_count": 109,
   "metadata": {
    "scrolled": false
   },
   "outputs": [
    {
     "name": "stdout",
     "output_type": "stream",
     "text": [
      "[1]\n"
     ]
    },
    {
     "data": {
      "text/latex": [
       "$\\displaystyle \\text{walk count sequence: 9, 24, 74, 228, 706, 2184, 6762, 20930, 64798}, \\ldots$"
      ],
      "text/plain": [
       "<IPython.core.display.Math object>"
      ]
     },
     "metadata": {},
     "output_type": "display_data"
    },
    {
     "data": {
      "text/latex": [
       "$\\displaystyle \\text{average degree: }2.666667$"
      ],
      "text/plain": [
       "<IPython.core.display.Math object>"
      ]
     },
     "metadata": {},
     "output_type": "display_data"
    },
    {
     "data": {
      "text/latex": [
       "$\\displaystyle \\text{characteristic polynomial: }x^{9} - 12 x^{7} - 6 x^{6} + 37 x^{5} + 26 x^{4} - 29 x^{3} - 20 x^{2} + 3 x = x \\left(x - 1\\right) \\left(x + 1\\right) \\left(x^{6} - 11 x^{4} - 6 x^{3} + 26 x^{2} + 20 x - 3\\right)$"
      ],
      "text/plain": [
       "<IPython.core.display.Math object>"
      ]
     },
     "metadata": {},
     "output_type": "display_data"
    },
    {
     "data": {
      "text/latex": [
       "$\\displaystyle \\text{characteristic residual: }9 x^{8} + 24 x^{7} - 34 x^{6} - 114 x^{5} + 7 x^{4} + 126 x^{3} + 23 x^{2} - 30 x + 1 = \\left(x + 1\\right) \\left(9 x^{7} + 15 x^{6} - 49 x^{5} - 65 x^{4} + 72 x^{3} + 54 x^{2} - 31 x + 1\\right)$"
      ],
      "text/plain": [
       "<IPython.core.display.Math object>"
      ]
     },
     "metadata": {},
     "output_type": "display_data"
    },
    {
     "data": {
      "text/latex": [
       "$\\displaystyle \\text{recurrence polynomial: }x^{8} - x^{7} - 11 x^{6} + 5 x^{5} + 32 x^{4} - 6 x^{3} - 23 x^{2} + 3 x = x \\left(x - 1\\right) \\left(x^{6} - 11 x^{4} - 6 x^{3} + 26 x^{2} + 20 x - 3\\right)$"
      ],
      "text/plain": [
       "<IPython.core.display.Math object>"
      ]
     },
     "metadata": {},
     "output_type": "display_data"
    },
    {
     "data": {
      "image/png": "[encoded data removed]",
      "text/plain": [
       "<Figure size 432x288 with 1 Axes>"
      ]
     },
     "metadata": {},
     "output_type": "display_data"
    }
   ],
   "source": [
    "g1 = union(g, empty(1))\n",
    "num = random.randrange(2,n)\n",
    "num = 1\n",
    "nb = random.sample(range(n), num)\n",
    "print(nb)\n",
    "for i in nb:\n",
    "    g1[i,n] = 1\n",
    "    g1[n,i] = 1\n",
    "    \n",
    "analyze(g1)"
   ]
  },
  {
   "cell_type": "code",
   "execution_count": 197,
   "metadata": {},
   "outputs": [
    {
     "data": {
      "text/latex": [
       "$\\displaystyle \\text{r_S: }3 x^{5} + 2 x^{4} - 10 x^{3} - 2 x^{2} + 8 x - 2$"
      ],
      "text/plain": [
       "<IPython.core.display.Math object>"
      ]
     },
     "metadata": {},
     "output_type": "display_data"
    },
    {
     "data": {
      "text/latex": [
       "$\\displaystyle \\text{rc_Sc: }- 3 x^{5} - 11 x^{4} - 4 x^{3} + 14 x^{2} + 4 x - 4$"
      ],
      "text/plain": [
       "<IPython.core.display.Math object>"
      ]
     },
     "metadata": {},
     "output_type": "display_data"
    },
    {
     "data": {
      "text/latex": [
       "$\\displaystyle \\text{sum: }- 9 x^{4} - 14 x^{3} + 12 x^{2} + 12 x - 6$"
      ],
      "text/plain": [
       "<IPython.core.display.Math object>"
      ]
     },
     "metadata": {},
     "output_type": "display_data"
    }
   ],
   "source": [
    "res1 = 0\n",
    "for i in nb:\n",
    "    for j in nb:\n",
    "        res1 += residuals[i, j]\n",
    "pretty_poly_print(res1, \"r_S\")\n",
    "\n",
    "res2 = 0\n",
    "v1 = True\n",
    "if v1:\n",
    "    for i in range(n):\n",
    "        if i in nb:\n",
    "            continue\n",
    "        for j in range(n):\n",
    "            if j in nb:\n",
    "                continue\n",
    "            res2 += residuals_c[i, j]\n",
    "else:\n",
    "    for i in nb:\n",
    "        for j in nb:\n",
    "            res2 += residuals_c[i, j]\n",
    "pretty_poly_print(res2, \"rc_Sc\")\n",
    "pretty_poly_print(res1 + (-1)**n * res2, \"sum\")"
   ]
  },
  {
   "cell_type": "code",
   "execution_count": 282,
   "metadata": {},
   "outputs": [
    {
     "name": "stdout",
     "output_type": "stream",
     "text": [
      "0\n"
     ]
    },
    {
     "data": {
      "text/latex": [
       "$\\displaystyle x^{4} - 4 x^{2} - 2 x + 1$"
      ],
      "text/plain": [
       "x**4 - 4*x**2 - 2*x + 1"
      ]
     },
     "metadata": {},
     "output_type": "display_data"
    },
    {
     "data": {
      "text/latex": [
       "$\\displaystyle x^{5} - 4 x^{3} - 2 x^{2} + x$"
      ],
      "text/plain": [
       "x**5 - 4*x**3 - 2*x**2 + x"
      ]
     },
     "execution_count": 282,
     "metadata": {},
     "output_type": "execute_result"
    }
   ],
   "source": [
    "u = random.randrange(n)\n",
    "print(u)\n",
    "display(remove_node(g, u).charpoly(x).as_expr())\n",
    "res = cp\n",
    "for i in range(n):\n",
    "    if g[i,u] == 0:\n",
    "        continue\n",
    "    for j in range(n):\n",
    "        if g[j,u] == 0:\n",
    "            continue\n",
    "        if i < u:\n",
    "            v1 = i\n",
    "        else:\n",
    "            v1 = i - 1\n",
    "        if j < u:\n",
    "            v2 = j\n",
    "        else:\n",
    "            v2 = j - 1\n",
    "        r_ = residual(remove_node(g,u), v = e_(n-1, v1), w = e_(n-1, v2))\n",
    "        res += r_\n",
    "    cp_i = remove_nodes(g, [i,u]).charpoly(x).as_expr()\n",
    "    #res += (cp_i - cp_i.subs(x,0))/x\n",
    "res.expand()"
   ]
  },
  {
   "cell_type": "code",
   "execution_count": 550,
   "metadata": {},
   "outputs": [
    {
     "data": {
      "text/latex": [
       "$\\displaystyle x^{7} - 11 x^{5} + 30 x^{3} - 18 x = x \\left(x^{2} - 3\\right) \\left(x^{4} - 8 x^{2} + 6\\right)$"
      ],
      "text/plain": [
       "<IPython.core.display.Math object>"
      ]
     },
     "metadata": {},
     "output_type": "display_data"
    },
    {
     "data": {
      "text/latex": [
       "$\\displaystyle x^{10} \\left(x - 2\\right)^{2} \\left(x - 1\\right)^{5} \\left(x + 1\\right)^{5} \\left(x + 2\\right)^{2} \\left(x^{2} - 5\\right) \\left(x^{2} - 3\\right)^{2} \\left(x^{2} - 2\\right)^{4} \\left(x^{2} - x - 1\\right)^{5} \\left(x^{2} + x - 1\\right)^{5} \\left(x^{4} - 8 x^{2} + 6\\right) \\left(x^{4} - 6 x^{2} + 6\\right) \\left(x^{4} - 4 x^{2} + 2\\right) \\left(x^{6} - 8 x^{4} + 13 x^{2} - 3\\right)^{2}$"
      ],
      "text/plain": [
       "x**10*(x - 2)**2*(x - 1)**5*(x + 1)**5*(x + 2)**2*(x**2 - 5)*(x**2 - 3)**2*(x**2 - 2)**4*(x**2 - x - 1)**5*(x**2 + x - 1)**5*(x**4 - 8*x**2 + 6)*(x**4 - 6*x**2 + 6)*(x**4 - 4*x**2 + 2)*(x**6 - 8*x**4 + 13*x**2 - 3)**2"
      ]
     },
     "metadata": {},
     "output_type": "display_data"
    }
   ],
   "source": [
    "pretty_poly_print(matching_poly(g))\n",
    "display(path_tree(g,1).charpoly(x).as_expr().factor())"
   ]
  },
  {
   "cell_type": "code",
   "execution_count": 547,
   "metadata": {},
   "outputs": [
    {
     "data": {
      "text/latex": [
       "$\\displaystyle x^{6} \\left(x - 2\\right)^{2} \\left(x - 1\\right)^{6} \\left(x + 1\\right)^{6} \\left(x + 2\\right)^{2} \\left(x^{2} - 3\\right)^{3} \\left(x^{2} - 2\\right)^{3} \\left(x^{2} - x - 1\\right)^{4} \\left(x^{2} + x - 1\\right)^{4} \\left(x^{4} - 8 x^{2} + 6\\right) \\left(x^{4} - 5 x^{2} + 1\\right)^{3} \\left(x^{4} - 5 x^{2} + 5\\right)$"
      ],
      "text/plain": [
       "x**6*(x - 2)**2*(x - 1)**6*(x + 1)**6*(x + 2)**2*(x**2 - 3)**3*(x**2 - 2)**3*(x**2 - x - 1)**4*(x**2 + x - 1)**4*(x**4 - 8*x**2 + 6)*(x**4 - 5*x**2 + 1)**3*(x**4 - 5*x**2 + 5)"
      ]
     },
     "metadata": {},
     "output_type": "display_data"
    },
    {
     "data": {
      "text/plain": [
       "70"
      ]
     },
     "execution_count": 547,
     "metadata": {},
     "output_type": "execute_result"
    }
   ],
   "source": [
    "u=4\n",
    "display((path_tree(g,u).charpoly(x).as_expr()).factor())\n",
    "sp.shape(path_tree(g,u))[0]"
   ]
  },
  {
   "cell_type": "code",
   "execution_count": 31,
   "metadata": {},
   "outputs": [],
   "source": [
    "def p_adic(g, p=2, prec=1e-16, v=None, w=None):\n",
    "    ng = g.shape[0]\n",
    "    num = int(-np.log2(prec)/np.log(p))\n",
    "    res = 0\n",
    "    if v == None:\n",
    "        v = sp.ones(ng, 1)\n",
    "    if w == None:\n",
    "        w = sp.ones(ng, 1)\n",
    "    m = sp.eye(ng)\n",
    "    for i in range(1,num+1):\n",
    "        res += (int((v.T*m*w)[0,0])%p)*p**(-i)\n",
    "        m *= g\n",
    "    return res"
   ]
  },
  {
   "cell_type": "code",
   "execution_count": 35,
   "metadata": {
    "scrolled": false
   },
   "outputs": [
    {
     "data": {
      "image/png": "[encoded data removed]",
      "text/plain": [
       "<Figure size 432x288 with 1 Axes>"
      ]
     },
     "metadata": {},
     "output_type": "display_data"
    },
    {
     "data": {
      "text/latex": [
       "$\\displaystyle \\text{walk count sequence: 6, 10, 18, 32, 58, 104}, \\ldots$"
      ],
      "text/plain": [
       "<IPython.core.display.Math object>"
      ]
     },
     "metadata": {},
     "output_type": "display_data"
    },
    {
     "data": {
      "text/latex": [
       "$\\displaystyle \\text{average degree: }1.666667$"
      ],
      "text/plain": [
       "<IPython.core.display.Math object>"
      ]
     },
     "metadata": {},
     "output_type": "display_data"
    },
    {
     "data": {
      "text/latex": [
       "$\\displaystyle \\text{characteristic polynomial: }x^{6} - 5 x^{4} + 6 x^{2} - 1 = \\left(x^{3} - x^{2} - 2 x + 1\\right) \\left(x^{3} + x^{2} - 2 x - 1\\right)$"
      ],
      "text/plain": [
       "<IPython.core.display.Math object>"
      ]
     },
     "metadata": {},
     "output_type": "display_data"
    },
    {
     "data": {
      "text/latex": [
       "$\\displaystyle \\text{characteristic residual: }6 x^{5} + 10 x^{4} - 12 x^{3} - 18 x^{2} + 4 x + 4 = 2 \\left(3 x^{2} + 2 x - 2\\right) \\left(x^{3} + x^{2} - 2 x - 1\\right)$"
      ],
      "text/plain": [
       "<IPython.core.display.Math object>"
      ]
     },
     "metadata": {},
     "output_type": "display_data"
    },
    {
     "data": {
      "text/latex": [
       "$\\displaystyle \\text{recurrence polynomial: }x^{3} - x^{2} - 2 x + 1$"
      ],
      "text/plain": [
       "<IPython.core.display.Math object>"
      ]
     },
     "metadata": {},
     "output_type": "display_data"
    }
   ],
   "source": [
    "n = 6\n",
    "g = random_tree(n)\n",
    "#g = remove_isolated(random_graph(n,0.5))\n",
    "#g = path(n)\n",
    "n = g.shape[0]\n",
    "x=sp.symbols(\"x\")\n",
    "y=sp.symbols(\"y\")\n",
    "cp = g.charpoly(x).as_expr()\n",
    "cpmat = poly_mat(cp)\n",
    "cp_inv = inv_poly(cp)\n",
    "gc = complement(g)\n",
    "cp_c = gc.charpoly(x).as_expr()\n",
    "residuals = sp.Matrix([[residual(g, cp, x=x, v=e_(n,i), w=e_(n,j)).factor() for i in range(n)] for j in range(n)])\n",
    "residuals_c = sp.Matrix([[residual(gc, cp_c, x=x, v=e_(n,i), w=e_(n,j)).subs(x,-1-x).expand() for i in range(n)] for j in range(n)])\n",
    "residuals_expand = sp.Matrix([[residual(g, cp, x=x, v=e_(n,i), w=e_(n,j)).expand() for i in range(n)] for j in range(n)])\n",
    "analyze(g, draw_method=nx.draw_networkx)"
   ]
  },
  {
   "cell_type": "code",
   "execution_count": 49,
   "metadata": {},
   "outputs": [
    {
     "data": {
      "text/latex": [
       "$\\displaystyle \\operatorname{Poly}{\\left( x^{6} + x^{4} - 1, x, domain=\\mathbb{F}_{3} \\right)}$"
      ],
      "text/plain": [
       "Poly(x**6 + x**4 - 1, x, modulus=3)"
      ]
     },
     "execution_count": 49,
     "metadata": {},
     "output_type": "execute_result"
    }
   ],
   "source": [
    "sp.Poly(cp,domain=sp.GF(3))"
   ]
  },
  {
   "cell_type": "code",
   "execution_count": 43,
   "metadata": {},
   "outputs": [
    {
     "data": {
      "text/plain": [
       "[0, 1, 0, 2, 1, 2, 2, 2, 1, 0, 0, 2, 2, 0, 2]"
      ]
     },
     "execution_count": 43,
     "metadata": {},
     "output_type": "execute_result"
    }
   ],
   "source": [
    "[x % 3 for x in generate_walk_count(g, 15)]"
   ]
  },
  {
   "cell_type": "code",
   "execution_count": 44,
   "metadata": {},
   "outputs": [
    {
     "data": {
      "text/latex": [
       "$\\displaystyle x^{6} - 5 x^{4} + 6 x^{2} - 1$"
      ],
      "text/plain": [
       "x**6 - 5*x**4 + 6*x**2 - 1"
      ]
     },
     "execution_count": 44,
     "metadata": {},
     "output_type": "execute_result"
    }
   ],
   "source": [
    "cp"
   ]
  },
  {
   "cell_type": "code",
   "execution_count": 36,
   "metadata": {},
   "outputs": [
    {
     "data": {
      "text/plain": [
       "0.14393648268510764"
      ]
     },
     "execution_count": 36,
     "metadata": {},
     "output_type": "execute_result"
    }
   ],
   "source": [
    "p_adic(g,3)"
   ]
  },
  {
   "cell_type": "code",
   "execution_count": 37,
   "metadata": {},
   "outputs": [
    {
     "data": {
      "text/plain": [
       "0.32499999999999984"
      ]
     },
     "execution_count": 37,
     "metadata": {},
     "output_type": "execute_result"
    }
   ],
   "source": [
    "p_adic(gc,3)"
   ]
  },
  {
   "cell_type": "code",
   "execution_count": 106,
   "metadata": {
    "scrolled": false
   },
   "outputs": [
    {
     "data": {
      "text/latex": [
       "$\\displaystyle x - 2$"
      ],
      "text/plain": [
       "x - 2"
      ]
     },
     "metadata": {},
     "output_type": "display_data"
    },
    {
     "name": "stdout",
     "output_type": "stream",
     "text": [
      "eigenvalue: 2.00000000000000\n",
      "coefficients: 2.59807621135332, \n",
      "\n"
     ]
    },
    {
     "data": {
      "text/latex": [
       "$\\displaystyle x - 1$"
      ],
      "text/plain": [
       "x - 1"
      ]
     },
     "metadata": {},
     "output_type": "display_data"
    },
    {
     "name": "stdout",
     "output_type": "stream",
     "text": [
      "eigenvalue: 1.00000000000000\n",
      "coefficients: 0.816496580927726, \n",
      "\n"
     ]
    },
    {
     "data": {
      "text/latex": [
       "$\\displaystyle x + 1$"
      ],
      "text/plain": [
       "x + 1"
      ]
     },
     "metadata": {},
     "output_type": "display_data"
    },
    {
     "name": "stdout",
     "output_type": "stream",
     "text": [
      "eigenvalue: -1.00000000000000\n",
      "coefficients: 0, \n",
      "\n"
     ]
    },
    {
     "data": {
      "text/latex": [
       "$\\displaystyle x + 2$"
      ],
      "text/plain": [
       "x + 2"
      ]
     },
     "metadata": {},
     "output_type": "display_data"
    },
    {
     "name": "stdout",
     "output_type": "stream",
     "text": [
      "eigenvalue: -2.00000000000000\n",
      "coefficients: 0.288675134594813, \n",
      "\n"
     ]
    },
    {
     "data": {
      "text/latex": [
       "$\\displaystyle x$"
      ],
      "text/plain": [
       "x"
      ]
     },
     "metadata": {},
     "output_type": "display_data"
    },
    {
     "name": "stdout",
     "output_type": "stream",
     "text": [
      "eigenvalue: 0\n",
      "coefficients: 0.577350269189626, 0, \n",
      "\n"
     ]
    },
    {
     "data": {
      "text/latex": [
       "$\\displaystyle x^{2} - 2$"
      ],
      "text/plain": [
       "x**2 - 2"
      ]
     },
     "metadata": {},
     "output_type": "display_data"
    },
    {
     "name": "stdout",
     "output_type": "stream",
     "text": [
      "eigenvalue: -1.41421356237310\n",
      "coefficients: 0, \n",
      "\n",
      "eigenvalue: 1.41421356237310\n",
      "coefficients: 0, \n",
      "\n",
      "3.18198051533946\n"
     ]
    }
   ],
   "source": [
    "evs = g.eigenvects()\n",
    "facs = sp.factor_list(g.charpoly(x).as_expr())[1]\n",
    "collection = []\n",
    "count = 0\n",
    "for fac in facs:\n",
    "    count += 1\n",
    "    display(fac[0])\n",
    "    roots = sp.solve(fac[0].evalf())\n",
    "    for r in roots:\n",
    "        vects = [vec[2] for vec in evs if abs(vec[0].evalf()-r) < 10**(-5)][0]\n",
    "        print(\"eigenvalue:\", sp.re(r.evalf()))\n",
    "        st = \"\"\n",
    "        coeffs = []\n",
    "        for v in vects:\n",
    "            v_ = v.evalf()\n",
    "            v_ /= sp.sqrt((v_.T * v_)[0,0])\n",
    "            c = abs(sp.re((v_.T * sp.ones(n,1))[0,0]))\n",
    "            st += str(c)\n",
    "            st += \", \"\n",
    "            coeffs.append(c)\n",
    "        max_c = max(coeffs)\n",
    "        if max_c > 10**(-5):\n",
    "            collection.append((sp.re(r), max_c, count))\n",
    "        print(\"coefficients:\", st)\n",
    "        print()\n",
    "collection.sort(key = lambda x: x[1], reverse=True)\n",
    "print(collection[0][1] / collection[1][1])"
   ]
  }
 ],
 "metadata": {
  "kernelspec": {
   "display_name": "Python 3 (ipykernel)",
   "language": "python",
   "name": "python3"
  },
  "language_info": {
   "codemirror_mode": {
    "name": "ipython",
    "version": 3
   },
   "file_extension": ".py",
   "mimetype": "text/x-python",
   "name": "python",
   "nbconvert_exporter": "python",
   "pygments_lexer": "ipython3",
   "version": "3.9.7"
  }
 },
 "nbformat": 4,
 "nbformat_minor": 2
}
