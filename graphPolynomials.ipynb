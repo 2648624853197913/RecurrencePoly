{
 "cells": [
  {
   "cell_type": "code",
   "execution_count": 13,
   "metadata": {},
   "outputs": [],
   "source": [
    "import IPython.display as disp\n",
    "import numpy as np\n",
    "import sympy as sp\n",
    "import networkx as nx\n",
    "import networkx.algorithms.isomorphism as iso\n",
    "import random\n",
    "import itertools\n",
    "import matplotlib.pyplot as plt\n",
    "import timeit\n",
    "import math"
   ]
  },
  {
   "cell_type": "code",
   "execution_count": 14,
   "metadata": {},
   "outputs": [],
   "source": [
    "# functions to calculate graph polynomials\n",
    "\n",
    "# walk count sequence until length n\n",
    "def generate_walk_count(matrix, n, v=None, w=None):\n",
    "    if len(matrix.shape) != 2 or matrix.shape[0] != matrix.shape[1]:\n",
    "        print(\"not a square matrix\")\n",
    "        return\n",
    "    if v == None:\n",
    "        v = sp.ones(matrix.shape[0],1)\n",
    "    if w == None:\n",
    "        w = sp.ones(matrix.shape[0],1)\n",
    "    walk_count = []\n",
    "    walks = sp.eye(matrix.shape[0])\n",
    "    # the walk count r equals the sum over all elements in the adjacency matrix to the power r\n",
    "    walk_count.append((v.T*walks*w)[0,0])\n",
    "    for i in range(1,n+1):\n",
    "        walks = walks * matrix\n",
    "        walk_count.append((v.T*walks*w)[0,0])\n",
    "    return walk_count\n",
    "\n",
    "# calculates how many walks the node v produces relative to the total walk count\n",
    "# importance is equal to the number of walks of length n-1 ending in v multiplied with the degree of v\n",
    "def relative_importance(g, v, n, part=None, weighted=True):\n",
    "    if part == None:\n",
    "        part = [[i] for i in range(g.shape[0])]\n",
    "    complete_partition(g, part)\n",
    "    size = g.shape[0]\n",
    "    g = partition(g, part)\n",
    "    card = sp.Matrix([len(p) for p in part]).T\n",
    "    #card = sp.Matrix([1 for p in part]).T\n",
    "    d = 1\n",
    "    if weighted:\n",
    "        d = sum(g[v, :])\n",
    "    rel_imp = [(d * card[v]) / sum(card)]\n",
    "    walks = g\n",
    "    for i in range(n-1):\n",
    "        imp = sum((card * walks)[:, v]) * d\n",
    "        rel_imp.append(imp / sum(card * walks))\n",
    "        walks = walks * g\n",
    "    return rel_imp\n",
    "\n",
    "# calculates the minimal polynomial of a graph\n",
    "def minimal_poly(matrix,x=sp.symbols(\"x\"), v=None, w=None):\n",
    "    if len(matrix.shape) != 2 or matrix.shape[0] != matrix.shape[1]:\n",
    "        print(\"not a square matrix\")\n",
    "        return\n",
    "    # calculate characteristic poly\n",
    "    charPoly = matrix.charpoly(x)\n",
    "    factors = sp.factor_list(charPoly.as_expr())\n",
    "    minPoly = 1\n",
    "    # multiply all factors of the characteristic polynomial\n",
    "    # sp.factor_list only returns irreducible factors without multiplicity\n",
    "    for i in range(len(factors[1])):\n",
    "        minPoly *= factors[1][i][0]\n",
    "    min_resid = residual(matrix, minPoly, v=v, w=w)\n",
    "    return minPoly.expand(), min_resid\n",
    "\n",
    "# returns the residual of a sequence relative to the given polynomial\n",
    "# in other words, the image of the given sequence under the mapping Z^\\infty \\to Z[x]/(f)\n",
    "def residual_seq(sequence, poly, x=sp.symbols(\"x\")):\n",
    "    d = sp.degree(poly)\n",
    "    if len(sequence) < d:\n",
    "        print(\"sequence is too short\")\n",
    "        return\n",
    "    coeffs = poly.as_poly().all_coeffs()\n",
    "    res = 0\n",
    "    for i in range(d):\n",
    "        coeff = sequence[i]\n",
    "        for j in range(1,i+1):\n",
    "            coeff += coeffs[j]*sequence[i-j]\n",
    "        res += coeff*x**(d-i-1)\n",
    "    return res\n",
    "\n",
    "# wrapper around the residual for matrices instead of sequences\n",
    "def residual(matrix, poly, x = sp.symbols(\"x\"), v=None, w=None):\n",
    "    walk_count = generate_walk_count(matrix, sp.degree(poly), v=v, w=w)\n",
    "    return residual_seq(walk_count, poly, x)\n",
    "\n",
    "# computes the recurrence polynomial of the given graph\n",
    "# the recurrence polynomial consists of all factors of the characteristic polynomial\n",
    "# which are not contained in the residual of the graphs walk count relative to its characteristic polynomial\n",
    "def recurrence_poly(matrix, x=sp.symbols(\"x\"), v=None, w=None):\n",
    "    char_poly = matrix.charpoly(x).as_expr()\n",
    "    char_resid = residual(matrix, char_poly, x=x, v=v, w=w)\n",
    "    if char_resid == 0:\n",
    "        return x ** 0, 0 * x\n",
    "    d = sp.degree(char_poly)\n",
    "    resid_factors = sp.factor_list(char_resid)\n",
    "    rec_poly = char_poly\n",
    "    rec_resid = char_resid\n",
    "    for fac in resid_factors[1]:\n",
    "        if sp.rem(char_poly, fac[0]) == 0:\n",
    "            quotient = sp.gcd(char_poly, fac[0]**fac[1])\n",
    "            rec_poly = sp.quo(rec_poly, quotient)\n",
    "            rec_resid = sp.quo(rec_resid, quotient)\n",
    "    return rec_poly, rec_resid\n",
    "\n",
    "# does what its name says...\n",
    "# produces latex code\n",
    "def pretty_poly_print(poly, name=None):\n",
    "    if name != None:\n",
    "        prefix = \"\\\\text{\" + name + \": }\"\n",
    "    else:\n",
    "        prefix = \"\"\n",
    "    string = prefix + sp.latex(poly.expand())\n",
    "    if not (poly.is_constant() or poly.as_poly().is_irreducible) or (not poly.is_constant() and sp.factor_list(poly.as_expr())[0] > 1):\n",
    "        string += \" = \" + sp.latex(poly.factor())\n",
    "    disp.display(disp.Math(string))\n",
    "\n",
    "# displays the characteristic polynomial, minimal polynomial, minimal residual,\n",
    "# recurrence polynomial, residual relative to recurrence polynomial\n",
    "# can show roots of the polynomials, can draw the graph\n",
    "def analyze(matrix,x=sp.symbols(\"x\"), show_graph=True, show_roots=False, draw_method=nx.draw, v=None, w=None):\n",
    "    if show_graph:\n",
    "        G = nx.from_numpy_matrix(np.matrix(matrix).astype(int))\n",
    "        draw_method(G)\n",
    "    char_poly = matrix.charpoly(x).as_expr()\n",
    "    char_resid = residual(matrix, char_poly, x=x, v=v, w=w)\n",
    "    min_poly, min_resid = minimal_poly(matrix, x, v=v, w=w)\n",
    "    rec_poly, rec_resid = recurrence_poly(matrix, x, v=v, w=w)\n",
    "    walk_count = generate_walk_count(matrix, sp.degree(min_poly), v=v, w=w)\n",
    "    walk_count_str = \"\\\\text{walk count sequence: \" + str(walk_count[0])\n",
    "    for i in range(1,len(walk_count)):\n",
    "        walk_count_str += \", \" + str(walk_count[i])\n",
    "    walk_count_str += \"}, \\\\ldots\"\n",
    "    disp.display(disp.Math(walk_count_str))\n",
    "    n = matrix.shape[0]\n",
    "    avg_deg = round(float(1 / n * sum([sum(matrix[i,:]) for i in range(n)])),6)\n",
    "    disp.display(disp.Math(\"\\\\text{average degree: }\" + str(avg_deg)))\n",
    "    pretty_poly_print(char_poly, \"characteristic polynomial\")\n",
    "    prefix = \"\" if v == None and w == None else \"local \"\n",
    "    pretty_poly_print(char_resid, prefix + \"characteristic residual\")\n",
    "    #pretty_poly_print(min_poly, \"minimal polynomial\")\n",
    "    pretty_poly_print(rec_poly, prefix + \"recurrence polynomial\")\n",
    "    if show_roots:\n",
    "        disp.display(disp.Math(\"\\\\text{recurrence roots: }\"\n",
    "                               + sp.latex(sp.roots(rec_poly))))\n",
    "    #prefix = \"graph\" if v == None and w == None else \"local\"\n",
    "    #pretty_poly_print(rec_resid, prefix + \" residual\")\n",
    "    if show_roots:\n",
    "        disp.display(disp.Math(\"\\\\text{residual roots: }\"\n",
    "                               + sp.latex(sp.roots(rec_resid))))\n",
    "\n",
    "#i-th unit vector of length n\n",
    "def e_(n,i):\n",
    "    e_i = sp.zeros(n,1)\n",
    "    e_i[i,0] = 1\n",
    "    return e_i\n",
    "\n",
    "def deg(g, i):\n",
    "    return (e_(g.shape[0],i).T*g*sp.ones(g.shape[0],1))[0,0]\n",
    "        \n",
    "def analyze_uv(matrix, u, v, x=sp.symbols(\"x\"), show_graph=True, show_roots=False, draw_method=nx.draw):\n",
    "    e_u = e_(matrix.shape[0],u)\n",
    "    e_v = e_(matrix.shape[0],v)\n",
    "    analyze(matrix, x=x, show_graph=show_graph, show_roots=show_roots, draw_method=draw_method, v=e_u, w=e_v)"
   ]
  },
  {
   "cell_type": "code",
   "execution_count": 15,
   "metadata": {
    "scrolled": true
   },
   "outputs": [],
   "source": [
    "# graph sandbox\n",
    "\n",
    "# empty graph with n vertices\n",
    "def empty(n):\n",
    "    if n < 1:\n",
    "        return\n",
    "    return sp.zeros(n)\n",
    "\n",
    "# path\n",
    "def path(n):\n",
    "    if n < 2:\n",
    "        return\n",
    "    p_n = sp.zeros(n)\n",
    "    for i in range(n-1):\n",
    "        p_n[i,i+1] = 1\n",
    "        p_n[i+1,i] = 1\n",
    "    return p_n\n",
    "\n",
    "# circle\n",
    "# alternatively circulant(n,1)\n",
    "def circle(n):\n",
    "    if n < 2:\n",
    "        return\n",
    "    p_n = sp.zeros(n)\n",
    "    for i in range(n):\n",
    "        p_n[i,(i+1)%n] = 1\n",
    "        p_n[(i+1)%n,i] = 1\n",
    "    return p_n\n",
    "\n",
    "# circulant graph\n",
    "def circulant(n, neighbors):\n",
    "    if n < 2:\n",
    "        return\n",
    "    cg = sp.zeros(n)\n",
    "    for i in range(n):\n",
    "        for j in neighbors:\n",
    "            cg[i, (i + j) % n] = 1\n",
    "            cg[(i + j) % n, i] = 1\n",
    "            cg[i, (i - j) % n] = 1\n",
    "            cg[(i - j) % n, i] = 1\n",
    "    return cg\n",
    "\n",
    "# complete graph\n",
    "def complete(n):\n",
    "    if n < 2:\n",
    "        return\n",
    "    k_n = sp.ones(n) - sp.eye(n)\n",
    "    return k_n\n",
    "\n",
    "# star graph with n nodes\n",
    "# equivalently gen_star(n-1,1)\n",
    "def star(n):\n",
    "    if n < 2:\n",
    "        return\n",
    "    s_n = sp.zeros(n)\n",
    "    for i in range(n-1):\n",
    "        s_n[i,n-1] = 1\n",
    "        s_n[n-1,i] = 1\n",
    "    return s_n\n",
    "\n",
    "# more general star, each star arm has length k\n",
    "# graph consists of one center node with n arms of length k\n",
    "def gen_star(n, k):\n",
    "    if n < 1 or k < 1:\n",
    "        return\n",
    "    m = n * k + 1\n",
    "    g_nk = sp.zeros(m)\n",
    "    for i in range(n):\n",
    "        g_nk[i * k, m - 1] = 1\n",
    "        g_nk[m - 1, i * k] = 1\n",
    "        for j in range(1, k):\n",
    "            g_nk[i * k + j, i * k + j - 1] = 1\n",
    "            g_nk[i * k + j - 1, i * k + j] = 1\n",
    "    return g_nk\n",
    "\n",
    "# a customized star graph where the length of each arm is given explicitely\n",
    "def custom_star(arm_lengths):\n",
    "    arm_lengths = [l for l in arm_lengths if l > 0]\n",
    "    n = sum(arm_lengths) + 1\n",
    "    csg = sp.zeros(n)\n",
    "    start = 0\n",
    "    for l in arm_lengths:\n",
    "        csg[n - 1, start] = 1\n",
    "        csg[start, n - 1] = 1\n",
    "        for i in range(l - 1):\n",
    "            csg[start + i, start + i + 1] = 1\n",
    "            csg[start + i + 1, start + i] = 1\n",
    "        start += l\n",
    "    return csg\n",
    "\n",
    "# wheel with n nodes\n",
    "# a star graph where the outer vertices are connected toa cycle\n",
    "def wheel(n):\n",
    "    if n < 2:\n",
    "        return\n",
    "    w_n = star(n)\n",
    "    for i in range(n-1):\n",
    "        w_n[i, (i + 1) % (n - 1)] = 1\n",
    "        w_n[(i + 1) % (n - 1), i] = 1\n",
    "    return w_n\n",
    "\n",
    "# grid with n * m nodes\n",
    "# could be product(path(n),path(m))\n",
    "def grid(n,m):\n",
    "    if n < 2 or m < 2: # else use a path...\n",
    "        return\n",
    "    g_nm = sp.zeros(n*m)\n",
    "    for i in range(n):\n",
    "        for j in range(m):\n",
    "            if i < n-1:\n",
    "                g_nm[j * n + i, j * n + i + 1] = 1\n",
    "                g_nm[j * n + i + 1, j * n + i] = 1\n",
    "            if j < m-1:\n",
    "                g_nm[j * n + i, (j + 1) * n + i] = 1\n",
    "                g_nm[(j + 1) * n + i, j * n + i] = 1\n",
    "    return g_nm\n",
    "\n",
    "# complete bipartite graph\n",
    "def complete_bipartite(n, m):\n",
    "    bg = sp.zeros(n + m)\n",
    "    for i in range (n):\n",
    "        for j in range(m):\n",
    "            bg[i, n + j] = 1\n",
    "            bg[n + j, i] = 1\n",
    "    return bg\n",
    "\n",
    "# complete binary trees of height h\n",
    "def complete_binary_tree(h):\n",
    "    n = 2**h - 1\n",
    "    cb = sp.zeros(n)\n",
    "    for i in range(h - 1):\n",
    "        for j in range(2**i):\n",
    "            current_node = 2**i + j\n",
    "            cb[current_node - 1, 2 * current_node - 1] = 1\n",
    "            cb[2 * current_node - 1, current_node - 1] = 1\n",
    "            cb[current_node - 1, 2 * current_node] = 1\n",
    "            cb[2 * current_node, current_node - 1] = 1\n",
    "    return cb\n",
    "\n",
    "# hypercube of dimension d\n",
    "def hypercube(d):\n",
    "    hc = empty(1)\n",
    "    while d > 0:\n",
    "        hc = product(hc, path(2))\n",
    "        d -= 1\n",
    "    return hc\n",
    "\n",
    "# a graph with 6n nodes that has exactly the cyclic group Z/n as automorphisms for n > 1\n",
    "def cyclic_group_graph(n):\n",
    "    if n < 2:\n",
    "        return\n",
    "    cg_n = sp.zeros(6 * n)\n",
    "    for i in range(n):\n",
    "        node = 6 * i\n",
    "        cg_n[node, node + 1] = 1\n",
    "        cg_n[node + 1, node] = 1\n",
    "        cg_n[node + 1, node + 2] = 1\n",
    "        cg_n[node + 2, node + 1] = 1\n",
    "        cg_n[node + 1, node + 3] = 1\n",
    "        cg_n[node + 3, node + 1] = 1\n",
    "        cg_n[node + 3, node + 4] = 1\n",
    "        cg_n[node + 4, node + 3] = 1\n",
    "        cg_n[node + 4, node + 5] = 1\n",
    "        cg_n[node + 5, node + 4] = 1\n",
    "        cg_n[node + 3, (node + 6) % (6 * n)] = 1\n",
    "        cg_n[(node + 6) % (6 * n), node + 3] = 1\n",
    "    return cg_n\n",
    "\n",
    "# smallest graph with automorphism group Z/3\n",
    "def smallest_cyclic_group_graph():\n",
    "    return sp.Matrix([\n",
    "        [0,1,1,1,0,0,1,0,1],\n",
    "        [1,0,1,0,0,0,0,0,0],\n",
    "        [1,1,0,1,0,0,0,0,0],\n",
    "        [1,0,1,0,1,1,1,0,0],\n",
    "        [0,0,0,1,0,1,0,0,0],\n",
    "        [0,0,0,1,1,0,1,0,0],\n",
    "        [1,0,0,1,0,1,0,1,1],\n",
    "        [0,0,0,0,0,0,1,0,1],\n",
    "        [1,0,0,0,0,0,1,1,0]\n",
    "    ])\n",
    "    \n",
    "\n",
    "# disjoint union of two graphs\n",
    "def union(g1, g2):\n",
    "    n1 = sp.shape(g1)[0]\n",
    "    n2 = sp.shape(g2)[0]\n",
    "    n = n1 + n2\n",
    "    du = sp.zeros(n)\n",
    "    for i in range(n1):\n",
    "        for j in range(n1):\n",
    "            du[i,j] = g1[i,j]\n",
    "    for i in range(n2):\n",
    "        for j in range(n2):\n",
    "            du[n1 + i, n1 + j] = g2[i,j]\n",
    "    return du\n",
    "\n",
    "# cartesian product of two graphs\n",
    "def product(g1, g2):\n",
    "    n1 = sp.shape(g1)[0]\n",
    "    n2 = sp.shape(g2)[0]\n",
    "    n = n1 * n2\n",
    "    cp = sp.zeros(n)\n",
    "    for i in range(n1):\n",
    "        for j in range(n2):\n",
    "            for k in range(i + 1, n1):\n",
    "                if g1[i,k] == 1:\n",
    "                    cp[j * n1 + i, j * n1 + k] = 1\n",
    "                    cp[j * n1 + k, j * n1 + i] = 1\n",
    "            for k in range(j + 1, n2):\n",
    "                if g2[j,k] == 1:\n",
    "                    cp[j * n1 + i, k * n1 + i] = 1\n",
    "                    cp[k * n1 + i, j * n1 + i] = 1\n",
    "    return cp\n",
    "\n",
    "# collapse two vertices of one graph\n",
    "def collapse(g, v1, v2):\n",
    "    if v1 == v2:\n",
    "        return\n",
    "    if v1 > v2:\n",
    "        tmp = v1\n",
    "        v1 = v2\n",
    "        v2 = tmp\n",
    "    n = sp.shape(g)[0]\n",
    "    jg = sp.zeros(n - 1)\n",
    "    for i in range (n - 1):\n",
    "        if i == v1: continue\n",
    "        real_i = i if i < v2 else i + 1\n",
    "        for j in range (i + 1, n - 1):\n",
    "            if j == v1:\n",
    "                continue\n",
    "            real_j = j if j < v2 else j + 1\n",
    "            jg[i, j] = g[real_i, real_j]\n",
    "            jg[j, i] = g[real_i, real_j]\n",
    "        if (g[real_i, v1] == 1 or g[real_i, v2] == 1):\n",
    "            jg[i, v1] = 1\n",
    "            jg[v1, i] = 1\n",
    "    return jg\n",
    "\n",
    "# more convenient collapse: collapse a list of tuples\n",
    "def collapse_list(g, join_nodes):\n",
    "    join_nodes = [tuple(sorted(t)) for t in join_nodes] # sort every single tuple ascending\n",
    "    join_nodes.sort(key = lambda t : -t[1]) # sort descending by second join node\n",
    "    for i in range (1, len(join_nodes)):\n",
    "        if join_nodes[i][1] == join_nodes[i - 1][1]:\n",
    "            join_nodes[i][1] = join_nodes[i - 1][0]\n",
    "    join_nodes.sort(key = lambda t : -t[1])\n",
    "    for t in join_nodes:\n",
    "        g = collapse(g, t[0], t[1])\n",
    "    return g\n",
    "\n",
    "# join two graphs\n",
    "# connect each vertex of g1 with each vertex of g2\n",
    "def join(g1, g2):\n",
    "    g = union(g1, g2)\n",
    "    n1 = g1.shape[0]\n",
    "    n2 = g2.shape[0]\n",
    "    for i in range (n1):\n",
    "        for j in range (n1, n1 + n2):\n",
    "            g[i, j] = 1\n",
    "            g[j, i] = 1\n",
    "    return g\n",
    "\n",
    "# graph with a cut edge\n",
    "# i.e. disjoint union of g1 and g2 adding an edge from u in g1 to v in g2\n",
    "def cut_edge(g1, g2, u, v):\n",
    "    g = union(g1, g2)\n",
    "    n1 = g1.shape[0]\n",
    "    g[u, n1 + v] = 1\n",
    "    g[n1 + v, u] = 1\n",
    "    return g\n",
    "\n",
    "# repeat a graph n times by transitively joining the vertices v1 of the next graph with v2 of the previous graph\n",
    "def repeat(g, n, v1, v2):\n",
    "    rg = g\n",
    "    m = sp.shape(g)[0]\n",
    "    for i in range (n - 1):\n",
    "        rg = union(rg, g)\n",
    "    join_nodes = [(v2 + i * m, v1 + ((i + 1) * m % (n * m))) for i in range (n)]\n",
    "    rg = collapse_list(rg, join_nodes)\n",
    "    return rg\n",
    "\n",
    "# complement of a graph\n",
    "def complement(g):\n",
    "    n = g.shape[0]\n",
    "    c = sp.zeros(n)\n",
    "    for i in range (n):\n",
    "        for j in range(i + 1, n):\n",
    "            c[i, j] = 1 - g[i, j]\n",
    "            c[j, i] = 1 - g[j, i]\n",
    "    return c\n",
    "\n",
    "# complement which complements also self-loops\n",
    "def full_complement(g):\n",
    "    n = g.shape[0]\n",
    "    return sp.ones(n) - g\n",
    "\n",
    "# tensor product oft two graphs, similar to usual product\n",
    "def tensor_product(g1, g2):\n",
    "    n1 = g1.shape[0]\n",
    "    n2 = g2.shape[0]\n",
    "    n = n1 * n2\n",
    "    g = sp.zeros(n)\n",
    "    for i in range(n1):\n",
    "        for j in range(n2):\n",
    "            for k in range(n1):\n",
    "                for l in range(n2):\n",
    "                    if g1[i, k] * g2[j, l] == 1:\n",
    "                        g[j * n1 + i, l * n1 + k] = 1\n",
    "                        g[l * n1 + k, j * n1 + i] = 1\n",
    "    return g\n",
    "\n",
    "# double cover of a graph\n",
    "def double_cover(g):\n",
    "    return tensor_product(g, path(2))\n",
    "\n",
    "def complete_partition(g, part):\n",
    "    n = g.shape[0]\n",
    "    if len(part) == 0:\n",
    "        return [[i] for i in range(n)]\n",
    "    part = [set(l) for l in part if len(l) > 0]\n",
    "    if max([max(l) for l in part]) >= n or min([min(l) for l in part]) < 0:\n",
    "        return\n",
    "    for i in range(len(part)):\n",
    "        for j in range(i + 1, len(part)):\n",
    "            if len(part[i].intersection(part[j])) > 0:\n",
    "                return\n",
    "    \n",
    "    part_numbers = set.union(*part)\n",
    "    non_part_numbers = [[i] for i in range(n) if i not in part_numbers]\n",
    "    return part + non_part_numbers\n",
    "\n",
    "# computes the given equitable partition of the graph\n",
    "def partition(g, part):\n",
    "    complete_part = complete_partition(g, part)\n",
    "    n_p = len(complete_part)\n",
    "    g_p = sp.zeros(n_p)\n",
    "    \n",
    "    for (i, j) in itertools.product(range(n_p),range(n_p)):\n",
    "        p1 = complete_part[i]\n",
    "        p2 = complete_part[j]\n",
    "        edges = [sum([g[v, w] for w in p2]) for v in p1]\n",
    "        if len(set(edges)) > 1:\n",
    "            return\n",
    "        g_p[i, j] = edges[0]\n",
    "    return g_p\n",
    "\n",
    "# coarsest equitable partition\n",
    "def coarsest_partition(g):\n",
    "    n = g.shape[0]\n",
    "    parts = [list(range(n))]\n",
    "    changed = True\n",
    "    deg_vects = sp.zeros(n, len(parts))\n",
    "    while changed:\n",
    "        changed = False\n",
    "        deg_vects = sp.zeros(n, len(parts))\n",
    "        new_parts = []\n",
    "        for i in range(len(parts)):\n",
    "            for k in parts[i]:\n",
    "                for j in range(len(parts)):\n",
    "                    for l in parts[j]:\n",
    "                        deg_vects[k, j] += g[k, l]\n",
    "        \n",
    "        for i in range(len(parts)):\n",
    "            while len(parts[i]) > 0:\n",
    "                new_part = [parts[i][j] \n",
    "                            for j in range(len(parts[i])) \n",
    "                            if deg_vects.row(parts[i][j]) == deg_vects.row(parts[i][0])]\n",
    "                if len(new_part) < len(parts[i]):\n",
    "                    changed = True\n",
    "                new_parts.append(new_part.copy())\n",
    "                new_part.sort(key = lambda x: -x)\n",
    "                for j in new_part:\n",
    "                    parts[i].remove(j)\n",
    "        parts = new_parts\n",
    "    return parts\n",
    "\n",
    "#resolves simple loops by copying the graph and connecting all vertices with self loops\n",
    "def resolve_simple_loops(g):\n",
    "    n = g.shape[0]\n",
    "    g_res = sp.zeros(2 * n)\n",
    "    for i in range(n):\n",
    "        for j in range(i + 1, n):\n",
    "            g_res[i, j] = g[i, j]\n",
    "            g_res[j, i] = g[j, i]\n",
    "            g_res[n + i, n + j] = g[i, j]\n",
    "            g_res[n + j, n + i] = g[j, i]\n",
    "        g_res[i, n + i] = g[i, i]\n",
    "        g_res[n + i, i] = g[i, i]\n",
    "    return g_res\n",
    "\n",
    "# intersection of two partitions (not equitable in general!)\n",
    "def partition_intersect(part1, part2):\n",
    "    part = []\n",
    "    for p1 in part1:\n",
    "        for p2 in part2:\n",
    "            p = list(set(p1).intersection(set(p2)))\n",
    "            if len(p) > 0:\n",
    "                part.append(p)\n",
    "    return part\n",
    "\n",
    "# union of two partitions (equitable?)\n",
    "def partition_union(part1, part2):\n",
    "    part = part1 + part2\n",
    "    changed = True\n",
    "    while changed:\n",
    "        changed = False\n",
    "        for i in range(len(part)):\n",
    "            for j in range(i + 1, len(part)):\n",
    "                if (len(set(part[i]).intersection(part[j])) > 0):\n",
    "                    part[i] = list(set(part[i]).union(part[j]))\n",
    "                    del part[j]\n",
    "                    changed = True\n",
    "                    break\n",
    "            if changed:\n",
    "                break\n",
    "    return part\n",
    "            \n",
    "def partition_geq(g, p1, p2):\n",
    "    n = g.shape[0]\n",
    "    complete_p1 = complete_partition(g, p1)\n",
    "    complete_p2 = complete_partition(g, p2)\n",
    "    for part2 in p2:\n",
    "        for part1 in p1:\n",
    "            intersect_num = len(set(part1).intersection(set(part2)))\n",
    "            if not intersect_num in [0, len(part2)]:\n",
    "                return False\n",
    "    return True\n",
    "    \n",
    "def partition_cmp(g, p1, p2):\n",
    "    cmp1 = partition_geq(g, p1, p2)\n",
    "    cmp2 = partition_geq(g, p2, p1)\n",
    "    if cmp1 and cmp2:\n",
    "        return 0\n",
    "    elif cmp1:\n",
    "        return 1\n",
    "    elif cmp2:\n",
    "        return -1\n",
    "    else:\n",
    "        return None\n",
    "\n",
    "def remove_isolated(g):\n",
    "    g2 = g.copy()\n",
    "    done = False\n",
    "    while not done:\n",
    "        done = True\n",
    "        for i in range(g2.shape[0]):\n",
    "            if sum(g2[i,:]) == 0:\n",
    "                g2.row_del(i)\n",
    "                g2.col_del(i)\n",
    "                done = False\n",
    "                break\n",
    "    return g2\n",
    "\n",
    "def remove_node(g, node):\n",
    "    g2 = g.copy()\n",
    "    g2.row_del(node)\n",
    "    g2.col_del(node)\n",
    "    return g2\n",
    "\n",
    "def remove_nodes(g, nodes):\n",
    "    g2 = g.copy()\n",
    "    nodes.sort(key=lambda x: -x)\n",
    "    for node in nodes:\n",
    "        g2 = remove_node(g2, node)\n",
    "    return g2\n",
    "\n",
    "def add_edge(g, u, v):\n",
    "    g2 = g.copy()\n",
    "    g2[u,v] = 1\n",
    "    g2[v,u] = 1\n",
    "    return g2\n",
    "\n",
    "# frucht graph\n",
    "def frucht():\n",
    "    return sp.Matrix([[0,1,1,0,0,0,0,0,0,0,0,1],\n",
    "                      [1,0,1,0,0,0,0,0,0,1,0,0],\n",
    "                      [1,1,0,1,0,0,0,0,0,0,0,0],\n",
    "                      [0,0,1,0,1,1,0,0,0,0,0,0],\n",
    "                      [0,0,0,1,0,1,0,0,0,0,0,1],\n",
    "                      [0,0,0,1,1,0,1,0,0,0,0,0],\n",
    "                      [0,0,0,0,0,1,0,1,1,0,0,0],\n",
    "                      [0,0,0,0,0,0,1,0,1,0,1,0],\n",
    "                      [0,0,0,0,0,0,1,1,0,1,0,0],\n",
    "                      [0,1,0,0,0,0,0,0,1,0,1,0],\n",
    "                      [0,0,0,0,0,0,0,1,0,1,0,1],\n",
    "                      [1,0,0,0,1,0,0,0,0,0,1,0]])\n",
    "\n",
    "# petersen graph\n",
    "def petersen():\n",
    "    return sp.Matrix([[0,1,0,0,1,1,0,0,0,0],\n",
    "                      [1,0,1,0,0,0,1,0,0,0],\n",
    "                      [0,1,0,1,0,0,0,1,0,0],\n",
    "                      [0,0,1,0,1,0,0,0,1,0],\n",
    "                      [1,0,0,1,0,0,0,0,0,1],\n",
    "                      [1,0,0,0,0,0,0,1,1,0],\n",
    "                      [0,1,0,0,0,0,0,0,1,1],\n",
    "                      [0,0,1,0,0,1,0,0,0,1],\n",
    "                      [0,0,0,1,0,1,1,0,0,0],\n",
    "                      [0,0,0,0,1,0,1,1,0,0]])\n",
    "\n",
    "# mckay graph, graph with orbits \\neq equitable partition\n",
    "def mckay():\n",
    "    return cut_edge(cut_edge(complete(3),path(2),0,0),complete(3),4,0)\n",
    "\n",
    "# random graph with n vertices\n",
    "def random_graph(n, density = 0.5):\n",
    "    if n < 2:\n",
    "        return\n",
    "    rg = sp.zeros(n)\n",
    "    for i in range(n):\n",
    "        for j in range(i + 1, n):\n",
    "            if random.random() < density:\n",
    "                rg[i,j] = 1\n",
    "                rg[j,i] = 1\n",
    "    return rg"
   ]
  },
  {
   "cell_type": "code",
   "execution_count": 16,
   "metadata": {},
   "outputs": [],
   "source": [
    "# Knuth algorithm to list all m-partitions of list ns\n",
    "# not my implementation\n",
    "\n",
    "def algorithm_u(ns, m):\n",
    "    def visit(n, a):\n",
    "        ps = [[] for i in range(m)]\n",
    "        for j in range(n):\n",
    "            ps[a[j + 1]].append(ns[j])\n",
    "        return ps\n",
    "\n",
    "    def f(mu, nu, sigma, n, a):\n",
    "        if mu == 2:\n",
    "            yield visit(n, a)\n",
    "        else:\n",
    "            for v in f(mu - 1, nu - 1, (mu + sigma) % 2, n, a):\n",
    "                yield v\n",
    "        if nu == mu + 1:\n",
    "            a[mu] = mu - 1\n",
    "            yield visit(n, a)\n",
    "            while a[nu] > 0:\n",
    "                a[nu] = a[nu] - 1\n",
    "                yield visit(n, a)\n",
    "        elif nu > mu + 1:\n",
    "            if (mu + sigma) % 2 == 1:\n",
    "                a[nu - 1] = mu - 1\n",
    "            else:\n",
    "                a[mu] = mu - 1\n",
    "            if (a[nu] + sigma) % 2 == 1:\n",
    "                for v in b(mu, nu - 1, 0, n, a):\n",
    "                    yield v\n",
    "            else:\n",
    "                for v in f(mu, nu - 1, 0, n, a):\n",
    "                    yield v\n",
    "            while a[nu] > 0:\n",
    "                a[nu] = a[nu] - 1\n",
    "                if (a[nu] + sigma) % 2 == 1:\n",
    "                    for v in b(mu, nu - 1, 0, n, a):\n",
    "                        yield v\n",
    "                else:\n",
    "                    for v in f(mu, nu - 1, 0, n, a):\n",
    "                        yield v\n",
    "\n",
    "    def b(mu, nu, sigma, n, a):\n",
    "        if nu == mu + 1:\n",
    "            while a[nu] < mu - 1:\n",
    "                yield visit(n, a)\n",
    "                a[nu] = a[nu] + 1\n",
    "            yield visit(n, a)\n",
    "            a[mu] = 0\n",
    "        elif nu > mu + 1:\n",
    "            if (a[nu] + sigma) % 2 == 1:\n",
    "                for v in f(mu, nu - 1, 0, n, a):\n",
    "                    yield v\n",
    "            else:\n",
    "                for v in b(mu\n",
    "                           , nu - 1, 0, n, a):\n",
    "                    yield v\n",
    "            while a[nu] < mu - 1:\n",
    "                a[nu] = a[nu] + 1\n",
    "                if (a[nu] + sigma) % 2 == 1:\n",
    "                    for v in f(mu, nu - 1, 0, n, a):\n",
    "                        yield v\n",
    "                else:\n",
    "                    for v in b(mu, nu - 1, 0, n, a):\n",
    "                        yield v\n",
    "            if (mu + sigma) % 2 == 1:\n",
    "                a[nu - 1] = 0\n",
    "            else:\n",
    "                a[mu] = 0\n",
    "        if mu == 2:\n",
    "            yield visit(n, a)\n",
    "        else:\n",
    "            for v in b(mu - 1, nu - 1, (mu + sigma) % 2, n, a):\n",
    "                yield v\n",
    "\n",
    "    n = len(ns)\n",
    "    a = [0] * (n + 1)\n",
    "    for j in range(1, m + 1):\n",
    "        a[n - m + j] = j - 1\n",
    "    return f(m, n, 0, n, a)"
   ]
  },
  {
   "cell_type": "code",
   "execution_count": 17,
   "metadata": {},
   "outputs": [],
   "source": [
    "def equitable_partitions(g, k):\n",
    "    n = g.shape[0]\n",
    "    if k == 1:\n",
    "        partitions = [[list(range(n))]]\n",
    "    else:\n",
    "        partitions = list(algorithm_u(list(range(n)), k))\n",
    "    for part in partitions:\n",
    "        g_div = partition(g, part)\n",
    "        if not g_div == None:\n",
    "            yield part\n",
    "\n",
    "def equitable_partitions_iso(g, k):\n",
    "    partitions = list(equitable_partitions(g, k))\n",
    "    em = iso.numerical_edge_match(\"weight\", 1)\n",
    "    while len(partitions) > 0:\n",
    "        iso_class = [partitions[0]]\n",
    "        delete_idx = [0]\n",
    "        a1 = np.array(partition(g, partitions[0])).astype(int)\n",
    "        g1 = nx.from_numpy_array(a1, create_using=nx.DiGraph)\n",
    "        for i in range(1, len(partitions)):\n",
    "            part = partitions[i]\n",
    "            a2 = np.array(partition(g, part)).astype(int)\n",
    "            g2 = nx.from_numpy_array(a2, create_using=nx.DiGraph)\n",
    "            if nx.is_isomorphic(g1,g2, edge_match=em):\n",
    "                iso_class.append(part)\n",
    "                delete_idx.append(i)\n",
    "        yield iso_class\n",
    "        delete_idx.reverse()\n",
    "        for i in delete_idx:\n",
    "            del partitions[i]\n",
    "    \n",
    "def all_equitable_partitions(g):\n",
    "    n = g.shape[0]\n",
    "    min_k = len(coarsest_partition(g))\n",
    "    for k in range(min_k, n + 1):\n",
    "        for part in equitable_partitions(g, k):\n",
    "            yield part\n",
    "    \n",
    "def all_equitable_partitions_iso(g):\n",
    "    n = g.shape[0]\n",
    "    min_k = len(coarsest_partition(g))\n",
    "    for k in range(min_k, n + 1):\n",
    "        for part in equitable_partitions_iso(g, k):\n",
    "            yield part\n",
    "    "
   ]
  },
  {
   "cell_type": "code",
   "execution_count": 18,
   "metadata": {},
   "outputs": [
    {
     "ename": "NameError",
     "evalue": "name 'g' is not defined",
     "output_type": "error",
     "traceback": [
      "\u001b[0;31m---------------------------------------------------------------------------\u001b[0m",
      "\u001b[0;31mNameError\u001b[0m                                 Traceback (most recent call last)",
      "\u001b[0;32m/tmp/ipykernel_12587/2752467882.py\u001b[0m in \u001b[0;36m<module>\u001b[0;34m\u001b[0m\n\u001b[1;32m     17\u001b[0m \u001b[0;31m#g = custom_star([2,2,2])\u001b[0m\u001b[0;34m\u001b[0m\u001b[0;34m\u001b[0m\u001b[0m\n\u001b[1;32m     18\u001b[0m \u001b[0;34m\u001b[0m\u001b[0m\n\u001b[0;32m---> 19\u001b[0;31m \u001b[0mall_eigenvects\u001b[0m \u001b[0;34m=\u001b[0m \u001b[0mg\u001b[0m\u001b[0;34m.\u001b[0m\u001b[0meigenvects\u001b[0m\u001b[0;34m(\u001b[0m\u001b[0;34m)\u001b[0m\u001b[0;34m\u001b[0m\u001b[0;34m\u001b[0m\u001b[0m\n\u001b[0m\u001b[1;32m     20\u001b[0m \u001b[0mall_eigenvects\u001b[0m\u001b[0;34m.\u001b[0m\u001b[0msort\u001b[0m\u001b[0;34m(\u001b[0m\u001b[0mkey\u001b[0m \u001b[0;34m=\u001b[0m \u001b[0;32mlambda\u001b[0m \u001b[0mx\u001b[0m \u001b[0;34m:\u001b[0m \u001b[0msp\u001b[0m\u001b[0;34m.\u001b[0m\u001b[0mre\u001b[0m\u001b[0;34m(\u001b[0m\u001b[0mx\u001b[0m\u001b[0;34m[\u001b[0m\u001b[0;36m0\u001b[0m\u001b[0;34m]\u001b[0m\u001b[0;34m.\u001b[0m\u001b[0mevalf\u001b[0m\u001b[0;34m(\u001b[0m\u001b[0;34m)\u001b[0m\u001b[0;34m)\u001b[0m\u001b[0;34m)\u001b[0m\u001b[0;34m\u001b[0m\u001b[0;34m\u001b[0m\u001b[0m\n\u001b[1;32m     21\u001b[0m \u001b[0mnon_main_eigenvects\u001b[0m \u001b[0;34m=\u001b[0m \u001b[0;34m[\u001b[0m\u001b[0mv\u001b[0m \u001b[0;32mfor\u001b[0m \u001b[0mv\u001b[0m \u001b[0;32min\u001b[0m \u001b[0mall_eigenvects\u001b[0m \u001b[0;32mif\u001b[0m \u001b[0mlen\u001b[0m\u001b[0;34m(\u001b[0m\u001b[0;34m[\u001b[0m\u001b[0mw\u001b[0m \u001b[0;32mfor\u001b[0m \u001b[0mw\u001b[0m \u001b[0;32min\u001b[0m \u001b[0mv\u001b[0m\u001b[0;34m[\u001b[0m\u001b[0;36m2\u001b[0m\u001b[0;34m]\u001b[0m \u001b[0;32mif\u001b[0m \u001b[0msum\u001b[0m\u001b[0;34m(\u001b[0m\u001b[0mw\u001b[0m\u001b[0;34m)\u001b[0m \u001b[0;34m!=\u001b[0m \u001b[0;36m0\u001b[0m\u001b[0;34m]\u001b[0m\u001b[0;34m)\u001b[0m \u001b[0;34m==\u001b[0m \u001b[0;36m0\u001b[0m\u001b[0;34m]\u001b[0m\u001b[0;34m\u001b[0m\u001b[0;34m\u001b[0m\u001b[0m\n",
      "\u001b[0;31mNameError\u001b[0m: name 'g' is not defined"
     ]
    }
   ],
   "source": [
    "def partitions_from_eigenvect(v):\n",
    "    for w in v[2]:\n",
    "        part = []\n",
    "        for i in range(len(w)):\n",
    "            found = False\n",
    "            for j in range(len(part)):\n",
    "                #if (abs(w[i]) == abs(w[part[j][0]])):\n",
    "                if (w[i] == w[part[j][0]]):\n",
    "                    found = True\n",
    "                    part[j].append(i)\n",
    "                    break\n",
    "            if not found:\n",
    "                part.append([i])\n",
    "        yield part\n",
    "\n",
    "\n",
    "#g = custom_star([2,2,2])\n",
    "\n",
    "all_eigenvects = g.eigenvects()\n",
    "all_eigenvects.sort(key = lambda x : sp.re(x[0].evalf()))\n",
    "non_main_eigenvects = [v for v in all_eigenvects if len([w for w in v[2] if sum(w) != 0]) == 0]\n",
    "main_eigenvects = [v for v in all_eigenvects[:-1] if len([w for w in v[2] if sum(w) != 0]) != 0]\n",
    "print(\"nonmain:\")\n",
    "print(non_main_eigenvects)\n",
    "print(\"main:\")\n",
    "print(main_eigenvects)\n",
    "print(\"largest:\")\n",
    "print(all_eigenvects[-1])\n",
    "partitions_nonmain = []\n",
    "partitions_main = []\n",
    "partition_largest = []\n",
    "\n",
    "for v in non_main_eigenvects:\n",
    "    for part in partitions_from_eigenvect(v):\n",
    "        partitions_nonmain.append(part)\n",
    "\n",
    "for v in main_eigenvects:\n",
    "    for part in partitions_from_eigenvect(v):\n",
    "        partitions_main.append(part)\n",
    "\n",
    "for part in partitions_from_eigenvect(all_eigenvects[-1]):\n",
    "    partition_largest.append(part)\n",
    "\n",
    "print()\n",
    "#print(\"nonmain:\", partitions_nonmain)\n",
    "print(\"main:\", partitions_main)\n",
    "print(\"largest:\", partition_largest)\n",
    "\n",
    "#analyze(partition(g, partitions_largest[0]))"
   ]
  },
  {
   "cell_type": "code",
   "execution_count": 19,
   "metadata": {},
   "outputs": [
    {
     "ename": "NameError",
     "evalue": "name 'g' is not defined",
     "output_type": "error",
     "traceback": [
      "\u001b[0;31m---------------------------------------------------------------------------\u001b[0m",
      "\u001b[0;31mNameError\u001b[0m                                 Traceback (most recent call last)",
      "\u001b[0;32m/tmp/ipykernel_12587/1241688723.py\u001b[0m in \u001b[0;36m<module>\u001b[0;34m\u001b[0m\n\u001b[1;32m     52\u001b[0m \u001b[0;31m#g = complete_binary_tree(3)\u001b[0m\u001b[0;34m\u001b[0m\u001b[0;34m\u001b[0m\u001b[0m\n\u001b[1;32m     53\u001b[0m \u001b[0;31m#apply_rho(partition(g, coarsest_partition(g)))\u001b[0m\u001b[0;34m\u001b[0m\u001b[0;34m\u001b[0m\u001b[0m\n\u001b[0;32m---> 54\u001b[0;31m \u001b[0mapply_rho\u001b[0m\u001b[0;34m(\u001b[0m\u001b[0mg\u001b[0m\u001b[0;34m)\u001b[0m\u001b[0;34m\u001b[0m\u001b[0;34m\u001b[0m\u001b[0m\n\u001b[0m",
      "\u001b[0;31mNameError\u001b[0m: name 'g' is not defined"
     ]
    }
   ],
   "source": [
    "def apply_rho(g, showKernel=False):\n",
    "    n = g.shape[0]\n",
    "    x = sp.symbols(\"x\")\n",
    "    rho_g = recurrence_poly(g,x)[0]\n",
    "    c = rho_g.subs(x,0)\n",
    "    rho_g = rho_g - c\n",
    "    mat = rho_g.subs(x, g) + c * sp.eye(n)\n",
    "    display(mat)\n",
    "    if showKernel:\n",
    "        print(\"kernel basis:\")\n",
    "        ns = mat.nullspace()\n",
    "        for v in ns:\n",
    "            display(v)\n",
    "        \n",
    "def card_matrix(g):\n",
    "    n = g.shape[0]\n",
    "    mat = sp.eye(n)\n",
    "    v = 0\n",
    "    stack = [v]\n",
    "    visited = [False] * n\n",
    "    parents = [-1] * n\n",
    "    while len(stack) > 0:\n",
    "        curr_node = stack.pop()\n",
    "        if visited[curr_node]:\n",
    "            continue\n",
    "        visited[curr_node] = True\n",
    "        p = curr_node\n",
    "        fac = 1\n",
    "        while parents[p] != -1:\n",
    "            fac *= g[parents[p], p] / g[p, parents[p]]\n",
    "            p = parents[p]\n",
    "        mat[v, curr_node] = fac\n",
    "        for i in range(n):\n",
    "            if (not visited[i]) and (g[curr_node, i] != 0):\n",
    "                parents[i] = curr_node\n",
    "                stack.append(i)\n",
    "    for v in range(1, n):\n",
    "        mat[v,:] = 1 / mat[0, v] * mat[0, :]\n",
    "    return mat\n",
    "\n",
    "def partition_matrix(g, part):\n",
    "    part = complete_partition(g, part)\n",
    "    n = g.shape[0]\n",
    "    k = len(part)\n",
    "    p_mat = sp.zeros(n, k)\n",
    "    for i in range(k):\n",
    "        for v in part[i]:\n",
    "            p_mat[v, i] = 1\n",
    "    return p_mat\n",
    "        \n",
    "\n",
    "#g = complete_binary_tree(3)\n",
    "#apply_rho(partition(g, coarsest_partition(g)))\n",
    "apply_rho(g)"
   ]
  },
  {
   "cell_type": "code",
   "execution_count": 86,
   "metadata": {
    "scrolled": false
   },
   "outputs": [
    {
     "data": {
      "text/plain": [
       "[Matrix([\n",
       " [ 1],\n",
       " [-1],\n",
       " [-1],\n",
       " [ 0],\n",
       " [ 1],\n",
       " [ 0],\n",
       " [ 0]]),\n",
       " Matrix([\n",
       " [-1],\n",
       " [ 0],\n",
       " [ 1],\n",
       " [-1],\n",
       " [ 0],\n",
       " [ 1],\n",
       " [ 0]]),\n",
       " Matrix([\n",
       " [-3],\n",
       " [ 1],\n",
       " [ 2],\n",
       " [-1],\n",
       " [ 0],\n",
       " [ 0],\n",
       " [ 1]])]"
      ]
     },
     "metadata": {},
     "output_type": "display_data"
    },
    {
     "data": {
      "text/latex": [
       "$\\displaystyle \\left[\\begin{matrix}0 & -1 & 1 & 1 & 0 & 0 & 0\\\\1 & 1 & 1 & 0 & 1 & 0 & 0\\\\-1 & 1 & -2 & 0 & 0 & 1 & 0\\\\1 & 0 & 1 & 0 & 0 & 0 & 1\\end{matrix}\\right]$"
      ],
      "text/plain": [
       "Matrix([\n",
       "[ 0, -1,  1, 1, 0, 0, 0],\n",
       "[ 1,  1,  1, 0, 1, 0, 0],\n",
       "[-1,  1, -2, 0, 0, 1, 0],\n",
       "[ 1,  0,  1, 0, 0, 0, 1]])"
      ]
     },
     "metadata": {},
     "output_type": "display_data"
    },
    {
     "data": {
      "text/plain": [
       "[6, 5, 4, 3, 3, 3, 3]"
      ]
     },
     "metadata": {},
     "output_type": "display_data"
    },
    {
     "name": "stdout",
     "output_type": "stream",
     "text": [
      "----------------------------------------base0----------------------------------------\n"
     ]
    },
    {
     "data": {
      "image/png": "[encoded data removed]",
      "text/plain": [
       "<Figure size 864x576 with 1 Axes>"
      ]
     },
     "metadata": {
      "needs_background": "light"
     },
     "output_type": "display_data"
    },
    {
     "name": "stdout",
     "output_type": "stream",
     "text": [
      "----------------------------------------base1----------------------------------------\n"
     ]
    },
    {
     "data": {
      "image/png": "[encoded data removed]",
      "text/plain": [
       "<Figure size 864x576 with 1 Axes>"
      ]
     },
     "metadata": {
      "needs_background": "light"
     },
     "output_type": "display_data"
    },
    {
     "name": "stdout",
     "output_type": "stream",
     "text": [
      "----------------------------------------base2----------------------------------------\n"
     ]
    },
    {
     "data": {
      "image/png": "[encoded data removed]",
      "text/plain": [
       "<Figure size 864x576 with 1 Axes>"
      ]
     },
     "metadata": {
      "needs_background": "light"
     },
     "output_type": "display_data"
    },
    {
     "name": "stdout",
     "output_type": "stream",
     "text": [
      "----------------------------------------base3----------------------------------------\n"
     ]
    },
    {
     "data": {
      "image/png": "[encoded data removed]",
      "text/plain": [
       "<Figure size 864x576 with 1 Axes>"
      ]
     },
     "metadata": {
      "needs_background": "light"
     },
     "output_type": "display_data"
    }
   ],
   "source": [
    "def discrete_base_alt(mat, bound=10):\n",
    "    n, k = mat.shape\n",
    "    base = sp.zeros(n, k)\n",
    "    for i in range(3, n):\n",
    "        for j in range(k):\n",
    "            nom = mat[i - 2, j] - mat[i - 1, j]\n",
    "            if nom == 0:\n",
    "                base[i, j] = mat[i, j] - mat[i - 1, j]\n",
    "            else:\n",
    "                if abs(mat[i, j] - mat[i - 1, j]) > abs(bound * nom):\n",
    "                    val = -bound if (mat[i, j] - mat[i - 1, j]) * nom < 0 else bound\n",
    "                else:\n",
    "                    val = (mat[i, j] - mat[i - 1, j]) / nom\n",
    "                base[i, j] = val\n",
    "    return base\n",
    "\n",
    "def plot_sp_mat(mat, size=(12,8)):\n",
    "    fig, ax = plt.subplots(figsize=size)\n",
    "    lines = ax.plot(mat)\n",
    "    ax.legend(iter(lines), list(range(mat.shape[1])))\n",
    "    plt.show()\n",
    "    \n",
    "def show_discrete_bases(mat, n, show_values=True, bound=10, precision=10):\n",
    "    bases = [mat]\n",
    "    if show_values:\n",
    "        print(f\"----------------------------------------base0----------------------------------------\")\n",
    "        display(bases[-1].evalf(precision))\n",
    "    for i in range(n):\n",
    "        bases.append(discrete_base_alt(bases[-1], bound=bound))\n",
    "        if show_values:\n",
    "            print(f\"----------------------------------------base{i+1}----------------------------------------\")\n",
    "            display(bases[-1].evalf(precision))\n",
    "    for i in range(n+1):\n",
    "        print(f\"----------------------------------------base{i}----------------------------------------\")\n",
    "        plot_sp_mat(bases[i])\n",
    "    return bases\n",
    "\n",
    "def kernel_dims(g, part=None, weighted=False, show_kernels=False):\n",
    "    if part == None:\n",
    "        part = [[i] for i in range(g.shape[0])]\n",
    "    dims = []\n",
    "    for i in range(1, len(part)+1):\n",
    "        mat = sp.Matrix([relative_importance(g, v, i, part, weighted=weighted) for v in range(n_parts)]).T\n",
    "        if show_kernels:\n",
    "            display(mat.nullspace())\n",
    "        dims.append(len(mat.nullspace()))\n",
    "    return dims\n",
    "        \n",
    "n = 500\n",
    "\n",
    "gcs = g\n",
    "weighted=False\n",
    "part = coarsest_partition(gcs)\n",
    "part = [[i] for i in range(gcs.shape[0])]\n",
    "n_parts = len(part)\n",
    "mat = sp.Matrix([relative_importance(gcs, v, n, part, weighted=weighted) for v in range(n_parts)]).T\n",
    "ker = mat.nullspace()\n",
    "display(ker)\n",
    "partition_ = sp.Matrix([[v[i,0] for i in range(v.shape[0])] for v in ker]).nullspace()\n",
    "partition_ = sp.Matrix([[v[i,0] for i in range(v.shape[0])] for v in partition_])\n",
    "display(partition_)\n",
    "display(kernel_dims(gcs, part=part, weighted=weighted))\n",
    "\n",
    "bases = show_discrete_bases(mat, 3, show_values=False)\n"
   ]
  },
  {
   "cell_type": "code",
   "execution_count": 21,
   "metadata": {},
   "outputs": [
    {
     "ename": "NameError",
     "evalue": "name 'bases' is not defined",
     "output_type": "error",
     "traceback": [
      "\u001b[0;31m---------------------------------------------------------------------------\u001b[0m",
      "\u001b[0;31mNameError\u001b[0m                                 Traceback (most recent call last)",
      "\u001b[0;32m/tmp/ipykernel_12587/1317851989.py\u001b[0m in \u001b[0;36m<module>\u001b[0;34m\u001b[0m\n\u001b[0;32m----> 1\u001b[0;31m \u001b[0mbases\u001b[0m\u001b[0;34m[\u001b[0m\u001b[0;36m0\u001b[0m\u001b[0;34m]\u001b[0m\u001b[0;34m[\u001b[0m\u001b[0;34m-\u001b[0m\u001b[0;36m1\u001b[0m\u001b[0;34m,\u001b[0m\u001b[0;34m:\u001b[0m\u001b[0;34m]\u001b[0m\u001b[0;34m.\u001b[0m\u001b[0mevalf\u001b[0m\u001b[0;34m(\u001b[0m\u001b[0;36m30\u001b[0m\u001b[0;34m)\u001b[0m\u001b[0;34m\u001b[0m\u001b[0;34m\u001b[0m\u001b[0m\n\u001b[0m",
      "\u001b[0;31mNameError\u001b[0m: name 'bases' is not defined"
     ]
    }
   ],
   "source": [
    "bases[0][-1,:].evalf(30)"
   ]
  },
  {
   "cell_type": "code",
   "execution_count": 22,
   "metadata": {},
   "outputs": [
    {
     "ename": "NameError",
     "evalue": "name 'g' is not defined",
     "output_type": "error",
     "traceback": [
      "\u001b[0;31m---------------------------------------------------------------------------\u001b[0m",
      "\u001b[0;31mNameError\u001b[0m                                 Traceback (most recent call last)",
      "\u001b[0;32m/tmp/ipykernel_12587/316520979.py\u001b[0m in \u001b[0;36m<module>\u001b[0;34m\u001b[0m\n\u001b[0;32m----> 1\u001b[0;31m \u001b[0mlargest_eigvec\u001b[0m \u001b[0;34m=\u001b[0m \u001b[0msp\u001b[0m\u001b[0;34m.\u001b[0m\u001b[0mre\u001b[0m\u001b[0;34m(\u001b[0m\u001b[0mg\u001b[0m\u001b[0;34m.\u001b[0m\u001b[0meigenvects\u001b[0m\u001b[0;34m(\u001b[0m\u001b[0;34m)\u001b[0m\u001b[0;34m[\u001b[0m\u001b[0;34m-\u001b[0m\u001b[0;36m1\u001b[0m\u001b[0;34m]\u001b[0m\u001b[0;34m[\u001b[0m\u001b[0;36m2\u001b[0m\u001b[0;34m]\u001b[0m\u001b[0;34m[\u001b[0m\u001b[0;36m0\u001b[0m\u001b[0;34m]\u001b[0m\u001b[0;34m.\u001b[0m\u001b[0mevalf\u001b[0m\u001b[0;34m(\u001b[0m\u001b[0;36m25\u001b[0m\u001b[0;34m)\u001b[0m\u001b[0;34m)\u001b[0m\u001b[0;34m\u001b[0m\u001b[0;34m\u001b[0m\u001b[0m\n\u001b[0m\u001b[1;32m      2\u001b[0m \u001b[0mlargest_eigvec\u001b[0m \u001b[0;34m/=\u001b[0m \u001b[0msum\u001b[0m\u001b[0;34m(\u001b[0m\u001b[0mlargest_eigvec\u001b[0m\u001b[0;34m)\u001b[0m\u001b[0;34m\u001b[0m\u001b[0;34m\u001b[0m\u001b[0m\n\u001b[1;32m      3\u001b[0m \u001b[0mlargest_eigenval\u001b[0m \u001b[0;34m=\u001b[0m \u001b[0msp\u001b[0m\u001b[0;34m.\u001b[0m\u001b[0mre\u001b[0m\u001b[0;34m(\u001b[0m\u001b[0mg\u001b[0m\u001b[0;34m.\u001b[0m\u001b[0meigenvects\u001b[0m\u001b[0;34m(\u001b[0m\u001b[0;34m)\u001b[0m\u001b[0;34m[\u001b[0m\u001b[0;34m-\u001b[0m\u001b[0;36m1\u001b[0m\u001b[0;34m]\u001b[0m\u001b[0;34m[\u001b[0m\u001b[0;36m0\u001b[0m\u001b[0;34m]\u001b[0m\u001b[0;34m.\u001b[0m\u001b[0mevalf\u001b[0m\u001b[0;34m(\u001b[0m\u001b[0;36m25\u001b[0m\u001b[0;34m)\u001b[0m\u001b[0;34m)\u001b[0m\u001b[0;34m\u001b[0m\u001b[0;34m\u001b[0m\u001b[0m\n\u001b[1;32m      4\u001b[0m \u001b[0mlargest_eigvec\u001b[0m\u001b[0;34m\u001b[0m\u001b[0;34m\u001b[0m\u001b[0m\n",
      "\u001b[0;31mNameError\u001b[0m: name 'g' is not defined"
     ]
    }
   ],
   "source": [
    "largest_eigvec = sp.re(g.eigenvects()[-1][2][0].evalf(25))\n",
    "largest_eigvec /= sum(largest_eigvec)\n",
    "largest_eigenval = sp.re(g.eigenvects()[-1][0].evalf(25))\n",
    "largest_eigvec"
   ]
  },
  {
   "cell_type": "code",
   "execution_count": 11,
   "metadata": {},
   "outputs": [
    {
     "ename": "NameError",
     "evalue": "name 'largest_eigvec' is not defined",
     "output_type": "error",
     "traceback": [
      "\u001b[0;31m---------------------------------------------------------------------------\u001b[0m",
      "\u001b[0;31mNameError\u001b[0m                                 Traceback (most recent call last)",
      "\u001b[0;32m/tmp/ipykernel_3939/2167429416.py\u001b[0m in \u001b[0;36m<module>\u001b[0;34m\u001b[0m\n\u001b[0;32m----> 1\u001b[0;31m \u001b[0mlargest_eigvec\u001b[0m\u001b[0;34m.\u001b[0m\u001b[0mT\u001b[0m\u001b[0;34m.\u001b[0m\u001b[0mnullspace\u001b[0m\u001b[0;34m(\u001b[0m\u001b[0;34m)\u001b[0m\u001b[0;34m\u001b[0m\u001b[0;34m\u001b[0m\u001b[0m\n\u001b[0m",
      "\u001b[0;31mNameError\u001b[0m: name 'largest_eigvec' is not defined"
     ]
    }
   ],
   "source": [
    "largest_eigvec.T.nullspace()"
   ]
  },
  {
   "cell_type": "code",
   "execution_count": 10,
   "metadata": {},
   "outputs": [
    {
     "ename": "NameError",
     "evalue": "name 'sp' is not defined",
     "output_type": "error",
     "traceback": [
      "\u001b[0;31m---------------------------------------------------------------------------\u001b[0m",
      "\u001b[0;31mNameError\u001b[0m                                 Traceback (most recent call last)",
      "\u001b[0;32m/tmp/ipykernel_12587/3242034289.py\u001b[0m in \u001b[0;36m<module>\u001b[0;34m\u001b[0m\n\u001b[0;32m----> 1\u001b[0;31m \u001b[0;32mdef\u001b[0m \u001b[0minv_subspace_poly\u001b[0m\u001b[0;34m(\u001b[0m\u001b[0mA\u001b[0m\u001b[0;34m,\u001b[0m \u001b[0mv\u001b[0m\u001b[0;34m=\u001b[0m\u001b[0;32mNone\u001b[0m\u001b[0;34m,\u001b[0m \u001b[0mx\u001b[0m\u001b[0;34m=\u001b[0m\u001b[0msp\u001b[0m\u001b[0;34m.\u001b[0m\u001b[0msymbols\u001b[0m\u001b[0;34m(\u001b[0m\u001b[0;34m\"x\"\u001b[0m\u001b[0;34m)\u001b[0m\u001b[0;34m)\u001b[0m\u001b[0;34m:\u001b[0m\u001b[0;34m\u001b[0m\u001b[0;34m\u001b[0m\u001b[0m\n\u001b[0m\u001b[1;32m      2\u001b[0m     \u001b[0;32mif\u001b[0m \u001b[0mv\u001b[0m \u001b[0;34m==\u001b[0m \u001b[0;32mNone\u001b[0m\u001b[0;34m:\u001b[0m\u001b[0;34m\u001b[0m\u001b[0;34m\u001b[0m\u001b[0m\n\u001b[1;32m      3\u001b[0m         \u001b[0mv\u001b[0m \u001b[0;34m=\u001b[0m \u001b[0msp\u001b[0m\u001b[0;34m.\u001b[0m\u001b[0mMatrix\u001b[0m\u001b[0;34m(\u001b[0m\u001b[0;34m[\u001b[0m\u001b[0;36m1\u001b[0m\u001b[0;34m]\u001b[0m\u001b[0;34m*\u001b[0m\u001b[0mg\u001b[0m\u001b[0;34m.\u001b[0m\u001b[0mshape\u001b[0m\u001b[0;34m[\u001b[0m\u001b[0;36m0\u001b[0m\u001b[0;34m]\u001b[0m\u001b[0;34m)\u001b[0m\u001b[0;34m\u001b[0m\u001b[0;34m\u001b[0m\u001b[0m\n\u001b[1;32m      4\u001b[0m     \u001b[0mn\u001b[0m \u001b[0;34m=\u001b[0m \u001b[0mA\u001b[0m\u001b[0;34m.\u001b[0m\u001b[0mshape\u001b[0m\u001b[0;34m[\u001b[0m\u001b[0;36m0\u001b[0m\u001b[0;34m]\u001b[0m\u001b[0;34m\u001b[0m\u001b[0;34m\u001b[0m\u001b[0m\n\u001b[1;32m      5\u001b[0m     \u001b[0msubspace\u001b[0m \u001b[0;34m=\u001b[0m \u001b[0mv\u001b[0m\u001b[0;34m\u001b[0m\u001b[0;34m\u001b[0m\u001b[0m\n",
      "\u001b[0;31mNameError\u001b[0m: name 'sp' is not defined"
     ]
    }
   ],
   "source": [
    "def inv_subspace_poly(A, v=None, x=sp.symbols(\"x\")):\n",
    "    if v == None:\n",
    "        v = sp.Matrix([1]*g.shape[0])\n",
    "    n = A.shape[0]\n",
    "    subspace = v\n",
    "    for i in range(n):\n",
    "        kernel = subspace.nullspace()\n",
    "        if len(kernel) > 0:\n",
    "            ker = list(kernel[0])\n",
    "            p = 0\n",
    "            for j in range(len(ker)-1, -1, -1):\n",
    "                c = ker[-1-j]\n",
    "                p += c / ker[0] * x**j\n",
    "            return p\n",
    "        v = A * v\n",
    "        subspace = subspace.col_insert(0,v)\n",
    "    return g.charpoly(x).as_expr()\n",
    "\n",
    "def recurrence_degree(A):\n",
    "    A = np.array(A)\n",
    "    n = np.shape(A)[0]\n",
    "    k = n\n",
    "    v = np.ones(n, dtype=object)\n",
    "    B = np.eye(n, dtype=object)\n",
    "    \n",
    "    while k > 0:\n",
    "        w = np.zeros(k, dtype=object)\n",
    "        non_zero = -1\n",
    "        for i in range(k):\n",
    "            w_i = B[i].dot(v)\n",
    "            if w_i != 0:\n",
    "                if non_zero == -1:\n",
    "                    non_zero = i\n",
    "                w[i] = w_i\n",
    "        #print(B, v, w)\n",
    "        if non_zero == -1:\n",
    "            #print(B)\n",
    "            return n - k\n",
    "        v_nz = np.array(B[non_zero], dtype=object)\n",
    "        for i in range(k-1):\n",
    "            real_i = i\n",
    "            if i >= non_zero:\n",
    "                real_i += 1\n",
    "            #gcd = sp.igcd(w[non_zero], w[real_i])\n",
    "            #B[i] = w[non_zero] // gcd * B[real_i] - w[real_i] // gcd * v_nz\n",
    "            B[i] = B[real_i] - w[real_i] / w[non_zero] * v_nz\n",
    "        k -= 1\n",
    "        v = A.dot(v)\n",
    "        B = B[:-1]\n",
    "    return n"
   ]
  },
  {
   "cell_type": "code",
   "execution_count": 11,
   "metadata": {},
   "outputs": [],
   "source": [
    "def delta_rec(g, ind, v=None):\n",
    "    if v == None:\n",
    "        v = sp.ones(g.shape[0],1)\n",
    "    if len(ind) == 1:\n",
    "        return int((v.T*(g**ind[0])*v)[0,0])\n",
    "    ind = np.array(ind).astype(np.int32)\n",
    "    for i in range(len(ind)-1):\n",
    "        if ind[i] + 1 == ind[i+1]:\n",
    "            return 0\n",
    "    k=ind[-1]\n",
    "    ind = ind[:-1]\n",
    "    res = 0\n",
    "    for i in range(2**len(ind)):\n",
    "        index = np.array(list(np.binary_repr(i).zfill(len(ind)))).astype(np.int32)\n",
    "        l = np.sum(index)\n",
    "        #print(l,ind,index)\n",
    "        res += (-1)**l * delta(g,[k-l])*delta(g,ind+index)\n",
    "    return res\n",
    "    \n",
    "def delta(g, ind, already_computed = None):\n",
    "    if already_computed == None:\n",
    "        already_computed = {}\n",
    "    if tuple(ind) in already_computed:\n",
    "        return already_computed[tuple(ind)]\n",
    "    if len(ind) == 1:\n",
    "        v = sp.ones(g.shape[0],1)\n",
    "        v_i = int((v.T*(g**ind[0])*v)[0,0])\n",
    "        already_computed[tuple(ind)] = v_i\n",
    "        return v_i\n",
    "    ind = np.array(ind, dtype=object)\n",
    "    for i in range(len(ind)-1):\n",
    "        if ind[i] + 1 == ind[i+1]:\n",
    "            return 0\n",
    "    k=ind[-1]\n",
    "    ind = ind[:-1]\n",
    "    res = 0\n",
    "    for i in range(2**len(ind)):\n",
    "        index = np.array(list(np.binary_repr(i).zfill(len(ind)))).astype(np.int32).astype(object)\n",
    "        l = np.sum(index)\n",
    "        #print(l,ind,index)\n",
    "        res += (-1)**l * delta(g,[k-l],already_computed=already_computed) // 2 * delta(g,ind+index,already_computed=already_computed)\n",
    "    already_computed[tuple(np.append(ind,k))] = res\n",
    "    return res\n",
    "\n",
    "def delta_indices(k):\n",
    "    ind = [2*i for i in range(k)]\n",
    "    for i in range(k-1, -1, -1):\n",
    "        yield ind.copy()\n",
    "        ind[i] += 1\n",
    "    yield ind.copy()\n",
    "        \n",
    "def delta_coeffs(g, k, already_computed=None):\n",
    "    if already_computed == None:\n",
    "        already_computed = {}\n",
    "    for ind in delta_indices(k):\n",
    "        yield (-1)**sum(ind) * delta(g, ind, already_computed=already_computed)"
   ]
  },
  {
   "cell_type": "code",
   "execution_count": 138,
   "metadata": {
    "scrolled": false
   },
   "outputs": [
    {
     "data": {
      "text/latex": [
       "$\\displaystyle \\text{walk count sequence: 7, 20, 62, 188, 578, 1766, 5418, 16584}, \\ldots$"
      ],
      "text/plain": [
       "<IPython.core.display.Math object>"
      ]
     },
     "metadata": {},
     "output_type": "display_data"
    },
    {
     "data": {
      "text/latex": [
       "$\\displaystyle \\text{average degree: }2.857143$"
      ],
      "text/plain": [
       "<IPython.core.display.Math object>"
      ]
     },
     "metadata": {},
     "output_type": "display_data"
    },
    {
     "data": {
      "text/latex": [
       "$\\displaystyle \\text{characteristic polynomial: }x^{7} - 10 x^{5} - 4 x^{4} + 18 x^{3} + 2 x^{2} - 6 x = x \\left(x^{6} - 10 x^{4} - 4 x^{3} + 18 x^{2} + 2 x - 6\\right)$"
      ],
      "text/plain": [
       "<IPython.core.display.Math object>"
      ]
     },
     "metadata": {},
     "output_type": "display_data"
    },
    {
     "data": {
      "text/latex": [
       "$\\displaystyle \\text{characteristic residual: }7 x^{6} + 20 x^{5} - 8 x^{4} - 40 x^{3} + 4 x^{2} + 12 x = x \\left(7 x^{5} + 20 x^{4} - 8 x^{3} - 40 x^{2} + 4 x + 12\\right)$"
      ],
      "text/plain": [
       "<IPython.core.display.Math object>"
      ]
     },
     "metadata": {},
     "output_type": "display_data"
    },
    {
     "data": {
      "text/latex": [
       "$\\displaystyle \\text{recurrence polynomial: }x^{6} - 10 x^{4} - 4 x^{3} + 18 x^{2} + 2 x - 6$"
      ],
      "text/plain": [
       "<IPython.core.display.Math object>"
      ]
     },
     "metadata": {},
     "output_type": "display_data"
    },
    {
     "data": {
      "image/png": "[encoded data removed]",
      "text/plain": [
       "<Figure size 432x288 with 1 Axes>"
      ]
     },
     "metadata": {},
     "output_type": "display_data"
    }
   ],
   "source": [
    "g = remove_isolated(random_graph(7,0.6))\n",
    "#g = union(circle(4),circle(3))\n",
    "x=sp.symbols(\"x\")\n",
    "cp = g.charpoly(x=x).as_expr()\n",
    "residuals = sp.Matrix([[residual(g, cp, x=x, v=e_(g.shape[0],i), w=e_(g.shape[0],j)).factor() for i in range(g.shape[0])] for j in range(g.shape[0])])\n",
    "residuals_expand = sp.Matrix([[residual(g, cp, x=x, v=e_(g.shape[0],i), w=e_(g.shape[0],j)).expand() for i in range(g.shape[0])] for j in range(g.shape[0])])\n",
    "analyze(g, draw_method=nx.draw_networkx)"
   ]
  },
  {
   "cell_type": "code",
   "execution_count": 81,
   "metadata": {},
   "outputs": [
    {
     "data": {
      "text/plain": [
       "[[0], [1], [5], [2], [3], [4], [6]]"
      ]
     },
     "execution_count": 81,
     "metadata": {},
     "output_type": "execute_result"
    }
   ],
   "source": [
    "coarsest_partition(g)"
   ]
  },
  {
   "cell_type": "code",
   "execution_count": 139,
   "metadata": {},
   "outputs": [
    {
     "data": {
      "text/latex": [
       "$\\displaystyle \\frac{6175475 x^{6}}{96364953} + \\frac{1401301 x^{5}}{128486604} - \\frac{119310649 x^{4}}{192729906} - \\frac{70433953 x^{3}}{192729906} + \\frac{29517479 x^{2}}{32121651} + \\frac{41015165 x}{192729906} - \\frac{1}{6}$"
      ],
      "text/plain": [
       "6175475*x**6/96364953 + 1401301*x**5/128486604 - 119310649*x**4/192729906 - 70433953*x**3/192729906 + 29517479*x**2/32121651 + 41015165*x/192729906 - 1/6"
      ]
     },
     "execution_count": 139,
     "metadata": {},
     "output_type": "execute_result"
    }
   ],
   "source": [
    "diff_inv = sp.half_gcdex(cp.diff(), cp)[0]\n",
    "diff_inv"
   ]
  },
  {
   "cell_type": "code",
   "execution_count": 143,
   "metadata": {},
   "outputs": [
    {
     "data": {
      "text/plain": [
       "6.0"
      ]
     },
     "execution_count": 143,
     "metadata": {},
     "output_type": "execute_result"
    }
   ],
   "source": [
    "192729906/32121651"
   ]
  },
  {
   "cell_type": "code",
   "execution_count": 127,
   "metadata": {},
   "outputs": [
    {
     "data": {
      "text/latex": [
       "$\\displaystyle \\left[\\begin{matrix}- \\frac{8357}{229428} & - \\frac{263}{57357} & - \\frac{16643}{458856} & \\frac{9469}{458856} & \\frac{36205}{458856} & \\frac{4699}{229428} & - \\frac{587}{50984}\\\\- \\frac{263}{57357} & \\frac{43187}{458856} & \\frac{7}{114714} & - \\frac{29915}{458856} & \\frac{7081}{458856} & \\frac{6191}{458856} & - \\frac{499}{76476}\\\\- \\frac{16643}{458856} & \\frac{7}{114714} & \\frac{16469}{458856} & \\frac{24845}{458856} & - \\frac{2549}{229428} & - \\frac{8267}{458856} & - \\frac{1651}{38238}\\\\\\frac{9469}{458856} & - \\frac{29915}{458856} & \\frac{24845}{458856} & - \\frac{3527}{57357} & - \\frac{14539}{458856} & - \\frac{2677}{229428} & \\frac{3109}{76476}\\\\\\frac{36205}{458856} & \\frac{7081}{458856} & - \\frac{2549}{229428} & - \\frac{14539}{458856} & \\frac{502}{57357} & - \\frac{5737}{229428} & - \\frac{1947}{50984}\\\\\\frac{4699}{229428} & \\frac{6191}{458856} & - \\frac{8267}{458856} & - \\frac{2677}{229428} & - \\frac{5737}{229428} & - \\frac{25927}{458856} & \\frac{3687}{50984}\\\\- \\frac{587}{50984} & - \\frac{499}{76476} & - \\frac{1651}{38238} & \\frac{3109}{76476} & - \\frac{1947}{50984} & \\frac{3687}{50984} & \\frac{2395}{152952}\\end{matrix}\\right]$"
      ],
      "text/plain": [
       "Matrix([\n",
       "[ -8357/229428,    -263/57357, -16643/458856,   9469/458856,  36205/458856,   4699/229428,  -587/50984],\n",
       "[   -263/57357,  43187/458856,      7/114714, -29915/458856,   7081/458856,   6191/458856,  -499/76476],\n",
       "[-16643/458856,      7/114714,  16469/458856,  24845/458856,  -2549/229428,  -8267/458856, -1651/38238],\n",
       "[  9469/458856, -29915/458856,  24845/458856,   -3527/57357, -14539/458856,  -2677/229428,  3109/76476],\n",
       "[ 36205/458856,   7081/458856,  -2549/229428, -14539/458856,     502/57357,  -5737/229428, -1947/50984],\n",
       "[  4699/229428,   6191/458856,  -8267/458856,  -2677/229428,  -5737/229428, -25927/458856,  3687/50984],\n",
       "[   -587/50984,    -499/76476,   -1651/38238,    3109/76476,   -1947/50984,    3687/50984, 2395/152952]])"
      ]
     },
     "execution_count": 127,
     "metadata": {},
     "output_type": "execute_result"
    }
   ],
   "source": [
    "apply_poly(diff_inv,g)"
   ]
  },
  {
   "cell_type": "code",
   "execution_count": 45,
   "metadata": {
    "scrolled": false
   },
   "outputs": [
    {
     "data": {
      "text/latex": [
       "$\\displaystyle 6 x^{5} - 44 x^{3} - 36 x^{2} + 6 x + 4 = 2 \\left(x + 1\\right) \\left(3 x^{4} - 3 x^{3} - 19 x^{2} + x + 2\\right)$"
      ],
      "text/plain": [
       "<IPython.core.display.Math object>"
      ]
     },
     "metadata": {},
     "output_type": "display_data"
    },
    {
     "data": {
      "text/latex": [
       "$\\displaystyle 22 x^{4} + 36 x^{3} - 12 x^{2} - 20 x + 6 = 2 \\left(x + 1\\right) \\left(11 x^{3} + 7 x^{2} - 13 x + 3\\right)$"
      ],
      "text/plain": [
       "<IPython.core.display.Math object>"
      ]
     },
     "metadata": {},
     "output_type": "display_data"
    },
    {
     "data": {
      "text/latex": [
       "$\\displaystyle - 44 x^{5} + 36 x^{4} + 472 x^{3} + 376 x^{2} - 60 x - 44 = - 4 \\left(x + 1\\right) \\left(11 x^{4} - 20 x^{3} - 98 x^{2} + 4 x + 11\\right)$"
      ],
      "text/plain": [
       "<IPython.core.display.Math object>"
      ]
     },
     "metadata": {},
     "output_type": "display_data"
    },
    {
     "data": {
      "text/latex": [
       "$\\displaystyle - 36 x^{5} - 12 x^{4} + 376 x^{3} + 504 x^{2} + 60 x - 92 = - 4 \\left(x + 1\\right) \\left(9 x^{4} - 6 x^{3} - 88 x^{2} - 38 x + 23\\right)$"
      ],
      "text/plain": [
       "<IPython.core.display.Math object>"
      ]
     },
     "metadata": {},
     "output_type": "display_data"
    },
    {
     "data": {
      "text/latex": [
       "$\\displaystyle 6 x^{5} - 20 x^{4} - 60 x^{3} + 60 x^{2} + 70 x - 24 = 2 \\left(x + 1\\right) \\left(3 x^{4} - 13 x^{3} - 17 x^{2} + 47 x - 12\\right)$"
      ],
      "text/plain": [
       "<IPython.core.display.Math object>"
      ]
     },
     "metadata": {},
     "output_type": "display_data"
    },
    {
     "data": {
      "text/latex": [
       "$\\displaystyle 4 x^{5} + 6 x^{4} - 44 x^{3} - 92 x^{2} - 24 x + 22 = 2 \\left(x + 1\\right) \\left(2 x^{4} + x^{3} - 23 x^{2} - 23 x + 11\\right)$"
      ],
      "text/plain": [
       "<IPython.core.display.Math object>"
      ]
     },
     "metadata": {},
     "output_type": "display_data"
    },
    {
     "data": {
      "text/latex": [
       "$\\displaystyle \\left[\\begin{matrix}6 & 0 & -44 & -36 & 6 & 4\\\\0 & 22 & 36 & -12 & -20 & 6\\\\-44 & 36 & 472 & 376 & -60 & -44\\\\-36 & -12 & 376 & 504 & 60 & -92\\\\6 & -20 & -60 & 60 & 70 & -24\\\\4 & 6 & -44 & -92 & -24 & 22\\end{matrix}\\right]$"
      ],
      "text/plain": [
       "Matrix([\n",
       "[  6,   0, -44, -36,   6,   4],\n",
       "[  0,  22,  36, -12, -20,   6],\n",
       "[-44,  36, 472, 376, -60, -44],\n",
       "[-36, -12, 376, 504,  60, -92],\n",
       "[  6, -20, -60,  60,  70, -24],\n",
       "[  4,   6, -44, -92, -24,  22]])"
      ]
     },
     "metadata": {},
     "output_type": "display_data"
    }
   ],
   "source": [
    "def row_poly(cmat, row):\n",
    "    poly = 0*x**0\n",
    "    for i in range(cmat.shape[1]):\n",
    "        poly += x**i * cmat[row, i]\n",
    "    return poly\n",
    "\n",
    "cpmat = sp.zeros(g.shape[0],g.shape[0])\n",
    "for k in range(1, g.shape[0] + 1):\n",
    "    for i in range(k):\n",
    "        if i < g.shape[0]:\n",
    "            cpmat[k - 1, k - 1 - i] = cp.coeff(x**(g.shape[0] - i))\n",
    "        else:\n",
    "            cpmat[k - 1, k - 1 - i] = xp.subs(x, 0)\n",
    "\n",
    "coeff_mat = cpmat\n",
    "mat = sp.zeros(g.shape[0],g.shape[0])\n",
    "for k in range(g.shape[0]):\n",
    "    poly = row_poly(coeff_mat, k)\n",
    "    q,r = sp.div(poly*cp.diff(),cp)\n",
    "    for j in range(g.shape[0]-1):\n",
    "        mat[k, j] = r.coeff(x**(g.shape[0]-1-j))\n",
    "    mat[k, g.shape[0]-1] = r.subs(x,0)\n",
    "    pretty_poly_print(r)\n",
    "display(mat)"
   ]
  },
  {
   "cell_type": "code",
   "execution_count": 46,
   "metadata": {},
   "outputs": [
    {
     "data": {
      "text/latex": [
       "$\\displaystyle \\left[\\begin{matrix}984 & 984 & 1344 & 1344 & 1344 & 1344\\\\984 & 984 & 1344 & 1344 & 1344 & 1344\\\\1344 & 1344 & 1836 & 1836 & 1836 & 1836\\\\1344 & 1344 & 1836 & 1836 & 1836 & 1836\\\\1344 & 1344 & 1836 & 1836 & 1836 & 1836\\\\1344 & 1344 & 1836 & 1836 & 1836 & 1836\\end{matrix}\\right]$"
      ],
      "text/plain": [
       "Matrix([\n",
       "[ 984,  984, 1344, 1344, 1344, 1344],\n",
       "[ 984,  984, 1344, 1344, 1344, 1344],\n",
       "[1344, 1344, 1836, 1836, 1836, 1836],\n",
       "[1344, 1344, 1836, 1836, 1836, 1836],\n",
       "[1344, 1344, 1836, 1836, 1836, 1836],\n",
       "[1344, 1344, 1836, 1836, 1836, 1836]])"
      ]
     },
     "metadata": {},
     "output_type": "display_data"
    },
    {
     "data": {
      "text/latex": [
       "$\\displaystyle \\left[\\begin{matrix}144 & 192 & 244 & 244 & 212 & 212\\\\192 & 144 & 212 & 212 & 244 & 244\\\\244 & 212 & 300 & 300 & 324 & 324\\\\244 & 212 & 300 & 300 & 324 & 324\\\\212 & 244 & 324 & 324 & 300 & 300\\\\212 & 244 & 324 & 324 & 300 & 300\\end{matrix}\\right]$"
      ],
      "text/plain": [
       "Matrix([\n",
       "[144, 192, 244, 244, 212, 212],\n",
       "[192, 144, 212, 212, 244, 244],\n",
       "[244, 212, 300, 300, 324, 324],\n",
       "[244, 212, 300, 300, 324, 324],\n",
       "[212, 244, 324, 324, 300, 300],\n",
       "[212, 244, 324, 324, 300, 300]])"
      ]
     },
     "metadata": {},
     "output_type": "display_data"
    }
   ],
   "source": [
    "def apply_poly(poly, pmat):\n",
    "    constant = poly.subs(x,0)\n",
    "    if poly - constant != 0:\n",
    "        res = (poly-constant).subs(x,g)\n",
    "    else:\n",
    "        res = sp.zeros(g.shape[0], g.shape[0])\n",
    "    if constant != 0:\n",
    "        res += constant * sp.eye(g.shape[0])\n",
    "    return res\n",
    "display(apply_poly(residual(g,cp),g))\n",
    "display(apply_poly(cp.diff(),g))"
   ]
  },
  {
   "cell_type": "code",
   "execution_count": 82,
   "metadata": {
    "scrolled": true
   },
   "outputs": [
    {
     "data": {
      "text/latex": [
       "$\\displaystyle \\left[\\begin{matrix}x^{6} - 7 x^{4} - 4 x^{3} + 6 x^{2} + 2 x - 1 & \\left(x - 1\\right) \\left(x^{4} + x^{3} - 4 x^{2} - 4 x + 1\\right) & \\left(x - 1\\right) \\left(x + 1\\right)^{2} \\left(x^{2} + x - 1\\right) & \\left(x - 1\\right) \\left(x + 2\\right) \\left(x^{3} - x + 1\\right) & \\left(x^{2} + x - 1\\right) \\left(2 x^{2} + 2 x - 1\\right) & \\left(x + 2\\right) \\left(x^{4} - x^{3} - 3 x^{2} + x + 1\\right) & x \\left(x + 2\\right) \\left(2 x^{2} + x - 2\\right)\\\\\\left(x - 1\\right) \\left(x^{4} + x^{3} - 4 x^{2} - 4 x + 1\\right) & \\left(x - 1\\right) \\left(x + 1\\right) \\left(x^{4} - 8 x^{2} - 8 x + 1\\right) & \\left(x - 1\\right) \\left(x + 1\\right) \\left(2 x^{2} + 3 x - 1\\right) & \\left(x - 1\\right) \\left(x + 1\\right)^{2} \\left(x + 2\\right) & \\left(x - 1\\right) \\left(x^{4} + x^{3} - 5 x^{2} - 7 x - 1\\right) & \\left(x - 1\\right) \\left(x + 2\\right) \\left(x^{2} + x - 1\\right) & x \\left(x - 1\\right) \\left(x + 2\\right)^{2}\\\\\\left(x - 1\\right) \\left(x + 1\\right)^{2} \\left(x^{2} + x - 1\\right) & \\left(x - 1\\right) \\left(x + 1\\right) \\left(2 x^{2} + 3 x - 1\\right) & \\left(x - 1\\right) \\left(x^{2} + x - 1\\right) \\left(x^{3} - 4 x - 1\\right) & \\left(x - 1\\right)^{2} \\left(x + 1\\right)^{2} \\left(x + 2\\right) & \\left(x - 1\\right) \\left(x + 1\\right) \\left(x^{3} + x^{2} - x + 1\\right) & \\left(x - 1\\right)^{2} \\left(x + 2\\right) \\left(x^{2} + x - 1\\right) & x \\left(x - 1\\right)^{2} \\left(x + 2\\right)^{2}\\\\\\left(x - 1\\right) \\left(x + 2\\right) \\left(x^{3} - x + 1\\right) & \\left(x - 1\\right) \\left(x + 1\\right)^{2} \\left(x + 2\\right) & \\left(x - 1\\right)^{2} \\left(x + 1\\right)^{2} \\left(x + 2\\right) & \\left(x - 1\\right) \\left(x + 1\\right) \\left(x + 2\\right) \\left(x^{3} - 2 x^{2} - 3 x + 2\\right) & \\left(x - 1\\right) \\left(x + 2\\right) \\left(2 x^{2} + 2 x - 1\\right) & \\left(x - 1\\right) \\left(x + 2\\right) \\left(2 x^{2} + x - 2\\right) & x \\left(x - 1\\right) \\left(x + 2\\right) \\left(x^{2} - 2\\right)\\\\\\left(x^{2} + x - 1\\right) \\left(2 x^{2} + 2 x - 1\\right) & \\left(x - 1\\right) \\left(x^{4} + x^{3} - 5 x^{2} - 7 x - 1\\right) & \\left(x - 1\\right) \\left(x + 1\\right) \\left(x^{3} + x^{2} - x + 1\\right) & \\left(x - 1\\right) \\left(x + 2\\right) \\left(2 x^{2} + 2 x - 1\\right) & x^{6} - 8 x^{4} - 6 x^{3} + 7 x^{2} + 4 x - 1 & \\left(x + 2\\right) \\left(x^{3} + x^{2} - 1\\right) & x \\left(x - 2\\right) \\left(x + 2\\right) \\left(x^{2} + x - 1\\right)\\\\\\left(x + 2\\right) \\left(x^{4} - x^{3} - 3 x^{2} + x + 1\\right) & \\left(x - 1\\right) \\left(x + 2\\right) \\left(x^{2} + x - 1\\right) & \\left(x - 1\\right)^{2} \\left(x + 2\\right) \\left(x^{2} + x - 1\\right) & \\left(x - 1\\right) \\left(x + 2\\right) \\left(2 x^{2} + x - 2\\right) & \\left(x + 2\\right) \\left(x^{3} + x^{2} - 1\\right) & \\left(x + 2\\right) \\left(x^{2} + x - 1\\right) \\left(x^{3} - 3 x^{2} - x + 2\\right) & x \\left(x + 2\\right) \\left(x^{2} + 2 x - 2\\right)\\\\x \\left(x + 2\\right) \\left(2 x^{2} + x - 2\\right) & x \\left(x - 1\\right) \\left(x + 2\\right)^{2} & x \\left(x - 1\\right)^{2} \\left(x + 2\\right)^{2} & x \\left(x - 1\\right) \\left(x + 2\\right) \\left(x^{2} - 2\\right) & x \\left(x - 2\\right) \\left(x + 2\\right) \\left(x^{2} + x - 1\\right) & x \\left(x + 2\\right) \\left(x^{2} + 2 x - 2\\right) & x^{2} \\left(x + 2\\right) \\left(x^{3} - 2 x^{2} - 4 x + 4\\right)\\end{matrix}\\right]$"
      ],
      "text/plain": [
       "Matrix([\n",
       "[x**6 - 7*x**4 - 4*x**3 + 6*x**2 + 2*x - 1,  (x - 1)*(x**4 + x**3 - 4*x**2 - 4*x + 1),       (x - 1)*(x + 1)**2*(x**2 + x - 1),                    (x - 1)*(x + 2)*(x**3 - x + 1),         (x**2 + x - 1)*(2*x**2 + 2*x - 1),         (x + 2)*(x**4 - x**3 - 3*x**2 + x + 1),             x*(x + 2)*(2*x**2 + x - 2)],\n",
       "[ (x - 1)*(x**4 + x**3 - 4*x**2 - 4*x + 1), (x - 1)*(x + 1)*(x**4 - 8*x**2 - 8*x + 1),      (x - 1)*(x + 1)*(2*x**2 + 3*x - 1),                        (x - 1)*(x + 1)**2*(x + 2),  (x - 1)*(x**4 + x**3 - 5*x**2 - 7*x - 1),                 (x - 1)*(x + 2)*(x**2 + x - 1),                   x*(x - 1)*(x + 2)**2],\n",
       "[        (x - 1)*(x + 1)**2*(x**2 + x - 1),        (x - 1)*(x + 1)*(2*x**2 + 3*x - 1), (x - 1)*(x**2 + x - 1)*(x**3 - 4*x - 1),                     (x - 1)**2*(x + 1)**2*(x + 2),     (x - 1)*(x + 1)*(x**3 + x**2 - x + 1),              (x - 1)**2*(x + 2)*(x**2 + x - 1),                x*(x - 1)**2*(x + 2)**2],\n",
       "[           (x - 1)*(x + 2)*(x**3 - x + 1),                (x - 1)*(x + 1)**2*(x + 2),           (x - 1)**2*(x + 1)**2*(x + 2), (x - 1)*(x + 1)*(x + 2)*(x**3 - 2*x**2 - 3*x + 2),        (x - 1)*(x + 2)*(2*x**2 + 2*x - 1),               (x - 1)*(x + 2)*(2*x**2 + x - 2),           x*(x - 1)*(x + 2)*(x**2 - 2)],\n",
       "[        (x**2 + x - 1)*(2*x**2 + 2*x - 1),  (x - 1)*(x**4 + x**3 - 5*x**2 - 7*x - 1),   (x - 1)*(x + 1)*(x**3 + x**2 - x + 1),                (x - 1)*(x + 2)*(2*x**2 + 2*x - 1), x**6 - 8*x**4 - 6*x**3 + 7*x**2 + 4*x - 1,                      (x + 2)*(x**3 + x**2 - 1),       x*(x - 2)*(x + 2)*(x**2 + x - 1)],\n",
       "[   (x + 2)*(x**4 - x**3 - 3*x**2 + x + 1),            (x - 1)*(x + 2)*(x**2 + x - 1),       (x - 1)**2*(x + 2)*(x**2 + x - 1),                  (x - 1)*(x + 2)*(2*x**2 + x - 2),                 (x + 2)*(x**3 + x**2 - 1), (x + 2)*(x**2 + x - 1)*(x**3 - 3*x**2 - x + 2),             x*(x + 2)*(x**2 + 2*x - 2)],\n",
       "[               x*(x + 2)*(2*x**2 + x - 2),                      x*(x - 1)*(x + 2)**2,                 x*(x - 1)**2*(x + 2)**2,                      x*(x - 1)*(x + 2)*(x**2 - 2),          x*(x - 2)*(x + 2)*(x**2 + x - 1),                     x*(x + 2)*(x**2 + 2*x - 2), x**2*(x + 2)*(x**3 - 2*x**2 - 4*x + 4)]])"
      ]
     },
     "execution_count": 82,
     "metadata": {},
     "output_type": "execute_result"
    }
   ],
   "source": [
    "residuals"
   ]
  },
  {
   "cell_type": "code",
   "execution_count": 83,
   "metadata": {},
   "outputs": [
    {
     "data": {
      "text/latex": [
       "$\\displaystyle x \\left(x - 1\\right) \\left(x + 2\\right) \\left(x^{3} + 3 x^{2} - 3\\right)$"
      ],
      "text/plain": [
       "x*(x - 1)*(x + 2)*(x**3 + 3*x**2 - 3)"
      ]
     },
     "metadata": {},
     "output_type": "display_data"
    },
    {
     "data": {
      "text/latex": [
       "$\\displaystyle x \\left(x - 1\\right) \\left(x + 1\\right) \\left(x + 2\\right) \\left(x^{2} - 3\\right)$"
      ],
      "text/plain": [
       "x*(x - 1)*(x + 1)*(x + 2)*(x**2 - 3)"
      ]
     },
     "metadata": {},
     "output_type": "display_data"
    },
    {
     "data": {
      "text/latex": [
       "$\\displaystyle x \\left(x - 1\\right) \\left(x + 2\\right) \\left(x + 3\\right) \\left(x^{2} + x - 1\\right)$"
      ],
      "text/plain": [
       "x*(x - 1)*(x + 2)*(x + 3)*(x**2 + x - 1)"
      ]
     },
     "metadata": {},
     "output_type": "display_data"
    },
    {
     "data": {
      "text/latex": [
       "$\\displaystyle x^{2} \\left(x - 1\\right) \\left(x + 1\\right)^{2} \\left(x + 2\\right)$"
      ],
      "text/plain": [
       "x**2*(x - 1)*(x + 1)**2*(x + 2)"
      ]
     },
     "metadata": {},
     "output_type": "display_data"
    },
    {
     "data": {
      "text/latex": [
       "$\\displaystyle x \\left(x - 1\\right) \\left(x + 2\\right) \\left(x^{3} + 2 x^{2} - x - 3\\right)$"
      ],
      "text/plain": [
       "x*(x - 1)*(x + 2)*(x**3 + 2*x**2 - x - 3)"
      ]
     },
     "metadata": {},
     "output_type": "display_data"
    },
    {
     "data": {
      "text/latex": [
       "$\\displaystyle x^{2} \\left(x - 1\\right) \\left(x + 2\\right) \\left(x^{2} + x - 1\\right)$"
      ],
      "text/plain": [
       "x**2*(x - 1)*(x + 2)*(x**2 + x - 1)"
      ]
     },
     "metadata": {},
     "output_type": "display_data"
    },
    {
     "data": {
      "text/latex": [
       "$\\displaystyle x^{3} \\left(x - 1\\right) \\left(x + 2\\right)^{2}$"
      ],
      "text/plain": [
       "x**3*(x - 1)*(x + 2)**2"
      ]
     },
     "metadata": {},
     "output_type": "display_data"
    }
   ],
   "source": [
    "for i in range(g.shape[0]):\n",
    "    display(sum(residuals[:,i]).factor())"
   ]
  },
  {
   "cell_type": "code",
   "execution_count": 37,
   "metadata": {
    "scrolled": true
   },
   "outputs": [
    {
     "data": {
      "text/latex": [
       "$\\displaystyle \\left[\\begin{matrix}x^{5} - 10 x^{3} - 20 x^{2} - 15 x - 4 & x^{4} + 3 x^{3} + 3 x^{2} + x & x^{4} + 3 x^{3} + 3 x^{2} + x & x^{4} + 3 x^{3} + 3 x^{2} + x & 4 x^{3} + 12 x^{2} + 12 x + 4 & x^{4} + 3 x^{3} + 3 x^{2} + x\\\\x^{4} + 3 x^{3} + 3 x^{2} + x & x^{5} - 9 x^{3} - 14 x^{2} - 6 x & x^{4} + 4 x^{3} + 5 x^{2} + 2 x & x^{4} + 4 x^{3} + 5 x^{2} + 2 x & x^{4} + 3 x^{3} + 3 x^{2} + x & x^{4} + 4 x^{3} + 5 x^{2} + 2 x\\\\x^{4} + 3 x^{3} + 3 x^{2} + x & x^{4} + 4 x^{3} + 5 x^{2} + 2 x & x^{5} - 9 x^{3} - 14 x^{2} - 6 x & x^{4} + 4 x^{3} + 5 x^{2} + 2 x & x^{4} + 3 x^{3} + 3 x^{2} + x & x^{4} + 4 x^{3} + 5 x^{2} + 2 x\\\\x^{4} + 3 x^{3} + 3 x^{2} + x & x^{4} + 4 x^{3} + 5 x^{2} + 2 x & x^{4} + 4 x^{3} + 5 x^{2} + 2 x & x^{5} - 9 x^{3} - 14 x^{2} - 6 x & x^{4} + 3 x^{3} + 3 x^{2} + x & x^{4} + 4 x^{3} + 5 x^{2} + 2 x\\\\4 x^{3} + 12 x^{2} + 12 x + 4 & x^{4} + 3 x^{3} + 3 x^{2} + x & x^{4} + 3 x^{3} + 3 x^{2} + x & x^{4} + 3 x^{3} + 3 x^{2} + x & x^{5} - 10 x^{3} - 20 x^{2} - 15 x - 4 & x^{4} + 3 x^{3} + 3 x^{2} + x\\\\x^{4} + 3 x^{3} + 3 x^{2} + x & x^{4} + 4 x^{3} + 5 x^{2} + 2 x & x^{4} + 4 x^{3} + 5 x^{2} + 2 x & x^{4} + 4 x^{3} + 5 x^{2} + 2 x & x^{4} + 3 x^{3} + 3 x^{2} + x & x^{5} - 9 x^{3} - 14 x^{2} - 6 x\\end{matrix}\\right]$"
      ],
      "text/plain": [
       "Matrix([\n",
       "[x**5 - 10*x**3 - 20*x**2 - 15*x - 4,    x**4 + 3*x**3 + 3*x**2 + x,    x**4 + 3*x**3 + 3*x**2 + x,    x**4 + 3*x**3 + 3*x**2 + x,         4*x**3 + 12*x**2 + 12*x + 4,    x**4 + 3*x**3 + 3*x**2 + x],\n",
       "[         x**4 + 3*x**3 + 3*x**2 + x, x**5 - 9*x**3 - 14*x**2 - 6*x,  x**4 + 4*x**3 + 5*x**2 + 2*x,  x**4 + 4*x**3 + 5*x**2 + 2*x,          x**4 + 3*x**3 + 3*x**2 + x,  x**4 + 4*x**3 + 5*x**2 + 2*x],\n",
       "[         x**4 + 3*x**3 + 3*x**2 + x,  x**4 + 4*x**3 + 5*x**2 + 2*x, x**5 - 9*x**3 - 14*x**2 - 6*x,  x**4 + 4*x**3 + 5*x**2 + 2*x,          x**4 + 3*x**3 + 3*x**2 + x,  x**4 + 4*x**3 + 5*x**2 + 2*x],\n",
       "[         x**4 + 3*x**3 + 3*x**2 + x,  x**4 + 4*x**3 + 5*x**2 + 2*x,  x**4 + 4*x**3 + 5*x**2 + 2*x, x**5 - 9*x**3 - 14*x**2 - 6*x,          x**4 + 3*x**3 + 3*x**2 + x,  x**4 + 4*x**3 + 5*x**2 + 2*x],\n",
       "[        4*x**3 + 12*x**2 + 12*x + 4,    x**4 + 3*x**3 + 3*x**2 + x,    x**4 + 3*x**3 + 3*x**2 + x,    x**4 + 3*x**3 + 3*x**2 + x, x**5 - 10*x**3 - 20*x**2 - 15*x - 4,    x**4 + 3*x**3 + 3*x**2 + x],\n",
       "[         x**4 + 3*x**3 + 3*x**2 + x,  x**4 + 4*x**3 + 5*x**2 + 2*x,  x**4 + 4*x**3 + 5*x**2 + 2*x,  x**4 + 4*x**3 + 5*x**2 + 2*x,          x**4 + 3*x**3 + 3*x**2 + x, x**5 - 9*x**3 - 14*x**2 - 6*x]])"
      ]
     },
     "execution_count": 37,
     "metadata": {},
     "output_type": "execute_result"
    }
   ],
   "source": [
    "residuals_expand"
   ]
  },
  {
   "cell_type": "code",
   "execution_count": 30,
   "metadata": {},
   "outputs": [
    {
     "ename": "NameError",
     "evalue": "name 'partition_' is not defined",
     "output_type": "error",
     "traceback": [
      "\u001b[0;31m---------------------------------------------------------------------------\u001b[0m",
      "\u001b[0;31mNameError\u001b[0m                                 Traceback (most recent call last)",
      "\u001b[0;32m/tmp/ipykernel_12587/827919437.py\u001b[0m in \u001b[0;36m<module>\u001b[0;34m\u001b[0m\n\u001b[0;32m----> 1\u001b[0;31m \u001b[0mpartition_\u001b[0m\u001b[0;34m\u001b[0m\u001b[0;34m\u001b[0m\u001b[0m\n\u001b[0m",
      "\u001b[0;31mNameError\u001b[0m: name 'partition_' is not defined"
     ]
    }
   ],
   "source": [
    "partition_"
   ]
  },
  {
   "cell_type": "code",
   "execution_count": 87,
   "metadata": {},
   "outputs": [
    {
     "data": {
      "text/latex": [
       "$\\displaystyle \\left[\\begin{matrix}- \\frac{1}{6} & \\frac{1}{12} & - \\frac{1}{12} & \\frac{1}{4}\\\\- \\frac{1}{6} & \\frac{1}{3} & \\frac{1}{6} & 0\\\\\\frac{1}{6} & \\frac{1}{6} & - \\frac{1}{6} & 0\\\\\\frac{2}{3} & \\frac{1}{6} & \\frac{1}{3} & 0\\\\\\frac{1}{6} & \\frac{5}{12} & \\frac{1}{12} & - \\frac{1}{4}\\\\\\frac{1}{3} & \\frac{1}{12} & \\frac{5}{12} & \\frac{1}{4}\\\\0 & - \\frac{1}{4} & \\frac{1}{4} & \\frac{3}{4}\\end{matrix}\\right]$"
      ],
      "text/plain": [
       "Matrix([\n",
       "[-1/6, 1/12, -1/12,  1/4],\n",
       "[-1/6,  1/3,   1/6,    0],\n",
       "[ 1/6,  1/6,  -1/6,    0],\n",
       "[ 2/3,  1/6,   1/3,    0],\n",
       "[ 1/6, 5/12,  1/12, -1/4],\n",
       "[ 1/3, 1/12,  5/12,  1/4],\n",
       "[   0, -1/4,   1/4,  3/4]])"
      ]
     },
     "execution_count": 87,
     "metadata": {},
     "output_type": "execute_result"
    }
   ],
   "source": [
    "partition_.pinv()"
   ]
  },
  {
   "cell_type": "code",
   "execution_count": 224,
   "metadata": {},
   "outputs": [
    {
     "data": {
      "text/latex": [
       "$\\displaystyle 4 x \\left(x - 2\\right) \\left(x + 1\\right) \\left(x + 2\\right) \\left(3 x - 2\\right)$"
      ],
      "text/plain": [
       "4*x*(x - 2)*(x + 1)*(x + 2)*(3*x - 2)"
      ]
     },
     "metadata": {},
     "output_type": "display_data"
    }
   ],
   "source": [
    "s = [(0,1),(1,-1),(2,0),(3,0),(4,1),(5,3)]\n",
    "G = [(i,1) for i in range(g.shape[0])]\n",
    "t = [(0,1),(1,2),(2,0),(3,0),(4,1),(5,0)]\n",
    "t = s\n",
    "poly = 0*x**0\n",
    "for u in s:\n",
    "    for v in t:\n",
    "        poly += u[1]*v[1]*residuals[u[0],v[0]]\n",
    "\n",
    "display(poly.factor())"
   ]
  },
  {
   "cell_type": "code",
   "execution_count": 226,
   "metadata": {},
   "outputs": [
    {
     "data": {
      "text/latex": [
       "$\\displaystyle 4 x^{5} + 2 x^{4} - 26 x^{3} - 28 x^{2} = 2 x^{2} \\left(x + 2\\right) \\left(2 x^{2} - 3 x - 7\\right)$"
      ],
      "text/plain": [
       "<IPython.core.display.Math object>"
      ]
     },
     "metadata": {},
     "output_type": "display_data"
    }
   ],
   "source": [
    "part = coarsest_partition(g)\n",
    "#part = [[0,2],[1],[3,4]]\n",
    "poly = 0*x**0\n",
    "for p in part:\n",
    "    for u in p:\n",
    "        for v in p:\n",
    "            poly += residuals[u,v]/len(p)\n",
    "pretty_poly_print(poly)"
   ]
  },
  {
   "cell_type": "code",
   "execution_count": 31,
   "metadata": {},
   "outputs": [
    {
     "name": "stdout",
     "output_type": "stream",
     "text": [
      "[0, 2]\n"
     ]
    },
    {
     "data": {
      "text/latex": [
       "$\\displaystyle \\left(x - 2\\right) \\left(x + 1\\right)^{2}$"
      ],
      "text/plain": [
       "(x - 2)*(x + 1)**2"
      ]
     },
     "metadata": {},
     "output_type": "display_data"
    },
    {
     "name": "stdout",
     "output_type": "stream",
     "text": [
      "[1]\n"
     ]
    },
    {
     "data": {
      "text/latex": [
       "$\\displaystyle \\left(x - 3\\right) \\left(x + 1\\right)^{3}$"
      ],
      "text/plain": [
       "(x - 3)*(x + 1)**3"
      ]
     },
     "metadata": {},
     "output_type": "display_data"
    },
    {
     "name": "stdout",
     "output_type": "stream",
     "text": [
      "[3, 4]\n"
     ]
    },
    {
     "data": {
      "text/latex": [
       "$\\displaystyle x \\left(x - 1\\right) \\left(x + 1\\right)$"
      ],
      "text/plain": [
       "x*(x - 1)*(x + 1)"
      ]
     },
     "metadata": {},
     "output_type": "display_data"
    },
    {
     "data": {
      "text/latex": [
       "$\\displaystyle \\left(x + 1\\right) \\left(x^{3} + x^{2} - 7 x - 5\\right)$"
      ],
      "text/plain": [
       "(x + 1)*(x**3 + x**2 - 7*x - 5)"
      ]
     },
     "metadata": {},
     "output_type": "display_data"
    }
   ],
   "source": [
    "poly = 0*x**0\n",
    "recpoly = 0*x**0\n",
    "for p in coarsest_partition(g):\n",
    "    g_p = g\n",
    "    for u in sorted(p, reverse=True):\n",
    "        g_p = remove_node(g_p,u)\n",
    "    print(p)\n",
    "    display(g_p.charpoly(x=x).as_expr().factor())\n",
    "    poly += g_p.charpoly(x=x).as_expr()\n",
    "    recpoly += recurrence_poly(g_p)[0]\n",
    "    \n",
    "display(poly.factor())\n",
    "#display(recpoly.factor())"
   ]
  },
  {
   "cell_type": "code",
   "execution_count": 88,
   "metadata": {
    "scrolled": false
   },
   "outputs": [
    {
     "name": "stdout",
     "output_type": "stream",
     "text": [
      "g\n"
     ]
    },
    {
     "data": {
      "text/latex": [
       "$\\displaystyle \\left[\\begin{matrix}0 & 1 & 1 & 1 & 0 & 1 & 0\\\\1 & 0 & 0 & 0 & 1 & 0 & 0\\\\1 & 0 & 0 & 1 & 1 & 1 & 1\\\\1 & 0 & 1 & 0 & 0 & 0 & 1\\\\0 & 1 & 1 & 0 & 0 & 0 & 1\\\\1 & 0 & 1 & 0 & 0 & 0 & 0\\\\0 & 0 & 1 & 1 & 1 & 0 & 0\\end{matrix}\\right]$"
      ],
      "text/plain": [
       "Matrix([\n",
       "[0, 1, 1, 1, 0, 1, 0],\n",
       "[1, 0, 0, 0, 1, 0, 0],\n",
       "[1, 0, 0, 1, 1, 1, 1],\n",
       "[1, 0, 1, 0, 0, 0, 1],\n",
       "[0, 1, 1, 0, 0, 0, 1],\n",
       "[1, 0, 1, 0, 0, 0, 0],\n",
       "[0, 0, 1, 1, 1, 0, 0]])"
      ]
     },
     "metadata": {},
     "output_type": "display_data"
    },
    {
     "name": "stdout",
     "output_type": "stream",
     "text": [
      "pm\n"
     ]
    },
    {
     "data": {
      "text/latex": [
       "$\\displaystyle \\left[\\begin{matrix}0 & -1 & 1 & 1 & 0 & 0 & 0\\\\1 & 1 & 1 & 0 & 1 & 0 & 0\\\\-1 & 1 & -2 & 0 & 0 & 1 & 0\\\\1 & 0 & 1 & 0 & 0 & 0 & 1\\end{matrix}\\right]$"
      ],
      "text/plain": [
       "Matrix([\n",
       "[ 0, -1,  1, 1, 0, 0, 0],\n",
       "[ 1,  1,  1, 0, 1, 0, 0],\n",
       "[-1,  1, -2, 0, 0, 1, 0],\n",
       "[ 1,  0,  1, 0, 0, 0, 1]])"
      ]
     },
     "metadata": {},
     "output_type": "display_data"
    },
    {
     "name": "stdout",
     "output_type": "stream",
     "text": [
      "pma\n"
     ]
    },
    {
     "data": {
      "text/latex": [
       "$\\displaystyle \\left[\\begin{matrix}- \\frac{1}{6} & \\frac{1}{12} & - \\frac{1}{12} & \\frac{1}{4}\\\\- \\frac{1}{6} & \\frac{1}{3} & \\frac{1}{6} & 0\\\\\\frac{1}{6} & \\frac{1}{6} & - \\frac{1}{6} & 0\\\\\\frac{2}{3} & \\frac{1}{6} & \\frac{1}{3} & 0\\\\\\frac{1}{6} & \\frac{5}{12} & \\frac{1}{12} & - \\frac{1}{4}\\\\\\frac{1}{3} & \\frac{1}{12} & \\frac{5}{12} & \\frac{1}{4}\\\\0 & - \\frac{1}{4} & \\frac{1}{4} & \\frac{3}{4}\\end{matrix}\\right]$"
      ],
      "text/plain": [
       "Matrix([\n",
       "[-1/6, 1/12, -1/12,  1/4],\n",
       "[-1/6,  1/3,   1/6,    0],\n",
       "[ 1/6,  1/6,  -1/6,    0],\n",
       "[ 2/3,  1/6,   1/3,    0],\n",
       "[ 1/6, 5/12,  1/12, -1/4],\n",
       "[ 1/3, 1/12,  5/12,  1/4],\n",
       "[   0, -1/4,   1/4,  3/4]])"
      ]
     },
     "metadata": {},
     "output_type": "display_data"
    },
    {
     "name": "stdout",
     "output_type": "stream",
     "text": [
      "pma*pm\n"
     ]
    },
    {
     "data": {
      "text/latex": [
       "$\\displaystyle \\left[\\begin{matrix}\\frac{5}{12} & \\frac{1}{6} & \\frac{1}{3} & - \\frac{1}{6} & \\frac{1}{12} & - \\frac{1}{12} & \\frac{1}{4}\\\\\\frac{1}{6} & \\frac{2}{3} & - \\frac{1}{6} & - \\frac{1}{6} & \\frac{1}{3} & \\frac{1}{6} & 0\\\\\\frac{1}{3} & - \\frac{1}{6} & \\frac{2}{3} & \\frac{1}{6} & \\frac{1}{6} & - \\frac{1}{6} & 0\\\\- \\frac{1}{6} & - \\frac{1}{6} & \\frac{1}{6} & \\frac{2}{3} & \\frac{1}{6} & \\frac{1}{3} & 0\\\\\\frac{1}{12} & \\frac{1}{3} & \\frac{1}{6} & \\frac{1}{6} & \\frac{5}{12} & \\frac{1}{12} & - \\frac{1}{4}\\\\- \\frac{1}{12} & \\frac{1}{6} & - \\frac{1}{6} & \\frac{1}{3} & \\frac{1}{12} & \\frac{5}{12} & \\frac{1}{4}\\\\\\frac{1}{4} & 0 & 0 & 0 & - \\frac{1}{4} & \\frac{1}{4} & \\frac{3}{4}\\end{matrix}\\right]$"
      ],
      "text/plain": [
       "Matrix([\n",
       "[ 5/12,  1/6,  1/3, -1/6, 1/12, -1/12,  1/4],\n",
       "[  1/6,  2/3, -1/6, -1/6,  1/3,   1/6,    0],\n",
       "[  1/3, -1/6,  2/3,  1/6,  1/6,  -1/6,    0],\n",
       "[ -1/6, -1/6,  1/6,  2/3,  1/6,   1/3,    0],\n",
       "[ 1/12,  1/3,  1/6,  1/6, 5/12,  1/12, -1/4],\n",
       "[-1/12,  1/6, -1/6,  1/3, 1/12,  5/12,  1/4],\n",
       "[  1/4,    0,    0,    0, -1/4,   1/4,  3/4]])"
      ]
     },
     "metadata": {},
     "output_type": "display_data"
    },
    {
     "name": "stdout",
     "output_type": "stream",
     "text": [
      "pm*g*pma\n"
     ]
    },
    {
     "data": {
      "text/latex": [
       "$\\displaystyle \\left[\\begin{matrix}1 & 0 & 1 & 2\\\\2 & 2 & 2 & 2\\\\-3 & -1 & -3 & -2\\\\3 & 2 & 2 & 1\\end{matrix}\\right]$"
      ],
      "text/plain": [
       "Matrix([\n",
       "[ 1,  0,  1,  2],\n",
       "[ 2,  2,  2,  2],\n",
       "[-3, -1, -3, -2],\n",
       "[ 3,  2,  2,  1]])"
      ]
     },
     "metadata": {},
     "output_type": "display_data"
    },
    {
     "data": {
      "text/latex": [
       "$\\displaystyle x^{4} - x^{3} - 8 x^{2} - 2 x + 6$"
      ],
      "text/plain": [
       "x**4 - x**3 - 8*x**2 - 2*x + 6"
      ]
     },
     "execution_count": 88,
     "metadata": {},
     "output_type": "execute_result"
    }
   ],
   "source": [
    "pm = partition_.copy()\n",
    "\n",
    "pma = pm.pinv()\n",
    "print(\"g\")\n",
    "display(g)\n",
    "print(\"pm\")\n",
    "display(pm)\n",
    "print(\"pma\")\n",
    "display(pma)\n",
    "print(\"pma*pm\")\n",
    "display(pma*pm)\n",
    "fiso_ = pma*pm\n",
    "print(\"pm*g*pma\")\n",
    "g_test = pm*g*pma\n",
    "display(g_test)\n",
    "g_test.charpoly(x=x).as_expr()"
   ]
  },
  {
   "cell_type": "code",
   "execution_count": 89,
   "metadata": {},
   "outputs": [
    {
     "data": {
      "text/latex": [
       "$\\displaystyle \\left[\\begin{matrix}\\frac{1}{4} & \\frac{1}{2} & \\frac{1}{2} & 1 & \\frac{3}{4} & \\frac{3}{4} & \\frac{1}{4}\\\\\\frac{1}{2} & \\frac{1}{2} & \\frac{1}{2} & 0 & \\frac{1}{2} & 0 & 0\\\\\\frac{1}{2} & \\frac{1}{2} & \\frac{1}{2} & 1 & \\frac{1}{2} & 1 & 1\\\\1 & 0 & 1 & 0 & 0 & 0 & 1\\\\\\frac{3}{4} & \\frac{1}{2} & \\frac{1}{2} & 0 & \\frac{1}{4} & \\frac{1}{4} & \\frac{3}{4}\\\\\\frac{3}{4} & 0 & 1 & 0 & \\frac{1}{4} & - \\frac{1}{4} & \\frac{1}{4}\\\\\\frac{1}{4} & 0 & 1 & 1 & \\frac{3}{4} & \\frac{1}{4} & - \\frac{1}{4}\\end{matrix}\\right]$"
      ],
      "text/plain": [
       "Matrix([\n",
       "[1/4, 1/2, 1/2, 1, 3/4,  3/4,  1/4],\n",
       "[1/2, 1/2, 1/2, 0, 1/2,    0,    0],\n",
       "[1/2, 1/2, 1/2, 1, 1/2,    1,    1],\n",
       "[  1,   0,   1, 0,   0,    0,    1],\n",
       "[3/4, 1/2, 1/2, 0, 1/4,  1/4,  3/4],\n",
       "[3/4,   0,   1, 0, 1/4, -1/4,  1/4],\n",
       "[1/4,   0,   1, 1, 3/4,  1/4, -1/4]])"
      ]
     },
     "execution_count": 89,
     "metadata": {},
     "output_type": "execute_result"
    }
   ],
   "source": [
    "g*fiso_"
   ]
  },
  {
   "cell_type": "code",
   "execution_count": 211,
   "metadata": {},
   "outputs": [
    {
     "data": {
      "text/latex": [
       "$\\displaystyle x^{3} \\left(x^{3} - 3 x^{2} - 4 x + 4\\right)$"
      ],
      "text/plain": [
       "x**3*(x**3 - 3*x**2 - 4*x + 4)"
      ]
     },
     "execution_count": 211,
     "metadata": {},
     "output_type": "execute_result"
    }
   ],
   "source": [
    "(fiso_*g).charpoly(x=x).as_expr().factor()"
   ]
  },
  {
   "cell_type": "code",
   "execution_count": 842,
   "metadata": {
    "scrolled": true
   },
   "outputs": [
    {
     "data": {
      "text/latex": [
       "$\\displaystyle \\left[\\begin{matrix}26\\\\41\\\\35\\\\26\\\\35\\end{matrix}\\right]$"
      ],
      "text/plain": [
       "Matrix([\n",
       "[26],\n",
       "[41],\n",
       "[35],\n",
       "[26],\n",
       "[35]])"
      ]
     },
     "metadata": {},
     "output_type": "display_data"
    }
   ],
   "source": [
    "\n",
    "u=1\n",
    "v=1\n",
    "if residuals[u,v].subs({x: 0}) == 0:\n",
    "    matrix = residuals[u,v].subs({x: g})\n",
    "else:\n",
    "    r = residuals[u,v].expand()\n",
    "    matrix = r.subs({x: g}) - r.subs({x: 0}) + r.subs({x: 0}) * sp.eye(g.shape[0])\n",
    "\n",
    "res = sp.zeros(g.shape[0],1)\n",
    "for i in range(g.shape[0]):\n",
    "    r = residuals[i,i].expand()\n",
    "    if r.subs({x: 0}) == 0:\n",
    "        matrix = r.subs({x: g})\n",
    "    else:\n",
    "        matrix = r.subs({x: g}) - r.subs({x: 0}) + r.subs({x: 0}) * sp.eye(g.shape[0])\n",
    "    res += matrix * e_(g.shape[0],i)\n",
    "display(res)\n",
    "\n",
    "#matrix*e_(g.shape[0],u)"
   ]
  },
  {
   "cell_type": "code",
   "execution_count": 878,
   "metadata": {},
   "outputs": [
    {
     "data": {
      "text/latex": [
       "$\\displaystyle 4 x^{7} + 4 x^{6} - 2 x^{5} - 2 x^{4} - 6 x^{3} - 6 x^{2}$"
      ],
      "text/plain": [
       "4*x**7 + 4*x**6 - 2*x**5 - 2*x**4 - 6*x**3 - 6*x**2"
      ]
     },
     "metadata": {},
     "output_type": "display_data"
    },
    {
     "data": {
      "text/latex": [
       "$\\displaystyle 4 x^{3} + 4 x^{2} + 10 x + 10$"
      ],
      "text/plain": [
       "4*x**3 + 4*x**2 + 10*x + 10"
      ]
     },
     "metadata": {},
     "output_type": "display_data"
    },
    {
     "data": {
      "text/latex": [
       "$\\displaystyle 20 x^{3} + 20 x^{2} - 10 x - 10$"
      ],
      "text/plain": [
       "20*x**3 + 20*x**2 - 10*x - 10"
      ]
     },
     "metadata": {},
     "output_type": "display_data"
    },
    {
     "data": {
      "text/latex": [
       "$\\displaystyle 10 \\left(x + 1\\right) \\left(2 x^{2} - 1\\right)$"
      ],
      "text/plain": [
       "10*(x + 1)*(2*x**2 - 1)"
      ]
     },
     "metadata": {},
     "output_type": "display_data"
    }
   ],
   "source": [
    "cpd = cp\n",
    "poly = 0*x**0\n",
    "for i in range(g.shape[0]):\n",
    "    cpd = cp.diff()\n",
    "    poly += (x)**(i+1)*cpd\n",
    "display(poly.expand())\n",
    "q, r = sp.div(poly, cp)\n",
    "display(q, r, r.factor())"
   ]
  },
  {
   "cell_type": "code",
   "execution_count": 879,
   "metadata": {},
   "outputs": [
    {
     "data": {
      "text/latex": [
       "$\\displaystyle \\text{charpoly derivative: }4 x^{3} - 6 x = 2 x \\left(2 x^{2} - 3\\right)$"
      ],
      "text/plain": [
       "<IPython.core.display.Math object>"
      ]
     },
     "metadata": {},
     "output_type": "display_data"
    }
   ],
   "source": [
    "pretty_poly_print(cp.diff(), \"charpoly derivative\")"
   ]
  },
  {
   "cell_type": "code",
   "execution_count": 880,
   "metadata": {},
   "outputs": [
    {
     "data": {
      "text/latex": [
       "$\\displaystyle \\text{closed: }4 x^{3} - 6 x = 2 x \\left(2 x^{2} - 3\\right)$"
      ],
      "text/plain": [
       "<IPython.core.display.Math object>"
      ]
     },
     "metadata": {},
     "output_type": "display_data"
    }
   ],
   "source": [
    "pretty_poly_print(sum([residual(g, g.charpoly(), v=e_(g.shape[0],i), w=e_(g.shape[0],i)) for i in range(g.shape[0])]),\"closed\")"
   ]
  },
  {
   "cell_type": "code",
   "execution_count": 239,
   "metadata": {},
   "outputs": [
    {
     "data": {
      "text/latex": [
       "$\\displaystyle \\text{closed degree: }18 x^{5} - 102 x^{3} - 60 x^{2} + 54 x + 20 = 2 \\left(9 x^{5} - 51 x^{3} - 30 x^{2} + 27 x + 10\\right)$"
      ],
      "text/plain": [
       "<IPython.core.display.Math object>"
      ]
     },
     "metadata": {},
     "output_type": "display_data"
    }
   ],
   "source": [
    "pretty_poly_print(sum([deg(g,i)*residual(g, g.charpoly(), v=e_(g.shape[0],i), w=e_(g.shape[0],i)) for i in range(g.shape[0])]),\"closed degree\")"
   ]
  },
  {
   "cell_type": "code",
   "execution_count": 882,
   "metadata": {},
   "outputs": [
    {
     "data": {
      "text/latex": [
       "$\\displaystyle \\text{edges: }6 x^{2} - 4 = 2 \\left(3 x^{2} - 2\\right)$"
      ],
      "text/plain": [
       "<IPython.core.display.Math object>"
      ]
     },
     "metadata": {},
     "output_type": "display_data"
    }
   ],
   "source": [
    "pretty_poly_print(sum([residual(g, g.charpoly(), v=e_(g.shape[0],i), w=e_(g.shape[0],j)) for i in range(g.shape[0]) for j in range(g.shape[0]) if g[i,j] == 1]),\"edges\")"
   ]
  },
  {
   "cell_type": "code",
   "execution_count": 883,
   "metadata": {},
   "outputs": [
    {
     "data": {
      "text/latex": [
       "$\\displaystyle \\text{non-edges: }4 x + 2 = 2 \\left(2 x + 1\\right)$"
      ],
      "text/plain": [
       "<IPython.core.display.Math object>"
      ]
     },
     "metadata": {},
     "output_type": "display_data"
    }
   ],
   "source": [
    "pretty_poly_print(sum([residual(g, g.charpoly(), v=e_(g.shape[0],i), w=e_(g.shape[0],j)) for i in range(g.shape[0]) for j in range(g.shape[0]) if g[i,j] == 0 and i != j]),\"non-edges\")"
   ]
  },
  {
   "cell_type": "code",
   "execution_count": 884,
   "metadata": {},
   "outputs": [
    {
     "data": {
      "text/latex": [
       "$\\displaystyle \\text{diff poly: }4 x^{2} + 4 x - 4 = 4 \\left(x^{2} + x - 1\\right)$"
      ],
      "text/plain": [
       "<IPython.core.display.Math object>"
      ]
     },
     "metadata": {},
     "output_type": "display_data"
    },
    {
     "data": {
      "text/latex": [
       "$\\displaystyle \\text{r_uv: }4 x^{3} + 6 x^{2} - 2 x - 2 = 2 \\left(2 x + 1\\right) \\left(x^{2} + x - 1\\right)$"
      ],
      "text/plain": [
       "<IPython.core.display.Math object>"
      ]
     },
     "metadata": {},
     "output_type": "display_data"
    },
    {
     "data": {
      "text/latex": [
       "$\\displaystyle \\text{deg(u)r_uv: }6 x^{3} + 10 x^{2} - 2 x - 4 = 2 \\left(3 x + 2\\right) \\left(x^{2} + x - 1\\right)$"
      ],
      "text/plain": [
       "<IPython.core.display.Math object>"
      ]
     },
     "metadata": {},
     "output_type": "display_data"
    }
   ],
   "source": [
    "m=sum([deg(g,u) for u in range(g.shape[0])])\n",
    "x=sp.symbols(\"x\")\n",
    "poly=0\n",
    "for u in range(g.shape[0]):\n",
    "    s_u = sum([residual(g, g.charpoly(), x=x, v=e_(g.shape[0],u), w=e_(g.shape[0],v)) for v in range(g.shape[0])])\n",
    "    poly += (g.shape[0]*deg(g,u)-m)*s_u\n",
    "    #poly -= x*residual(g, g.charpoly(), x=x, v=e_(g.shape[0],u), w=e_(g.shape[0],u))\n",
    "pretty_poly_print(poly,\"diff poly\")\n",
    "\n",
    "cp = g.charpoly(x=x).as_expr()\n",
    "#(sum([deg(g,u)*deg(g,v)*residual(g, g.charpoly(), x=x, v=e_(g.shape[0],u), w=e_(g.shape[0],v)) for u in range(g.shape[0]) for v in range(g.shape[0])])+(g.shape[0]*x+sum([deg(g,u) for u in range(g.shape[0])]))*cp).expand()\n",
    "pretty_poly_print((sum([residual(g, g.charpoly(), x=x, v=e_(g.shape[0],u), w=e_(g.shape[0],v)) for u in range(g.shape[0]) for v in range(g.shape[0])])).expand(),\"r_uv\")\n",
    "deg_u = (sum([deg(g,u)*residual(g, g.charpoly(), x=x, v=e_(g.shape[0],u), w=e_(g.shape[0],v)) for u in range(g.shape[0]) for v in range(g.shape[0])])).expand()\n",
    "pretty_poly_print(deg_u,\"deg(u)r_uv\")\n",
    "#pretty_poly_print((sum([deg(g,u)*deg(g,v)*residual(g, g.charpoly(), x=x, v=e_(g.shape[0],u), w=e_(g.shape[0],v)) for u in range(g.shape[0]) for v in range(g.shape[0])])).expand(),\"deg(u)deg(v)r_uv\")"
   ]
  },
  {
   "cell_type": "code",
   "execution_count": 885,
   "metadata": {},
   "outputs": [
    {
     "data": {
      "text/latex": [
       "$\\displaystyle \\text{g edges: }6 x^{2} - 4 = 2 \\left(3 x^{2} - 2\\right)$"
      ],
      "text/plain": [
       "<IPython.core.display.Math object>"
      ]
     },
     "metadata": {},
     "output_type": "display_data"
    },
    {
     "data": {
      "text/latex": [
       "$\\displaystyle \\text{g edges w/ deg: }10 x^{2} - 6 = 2 \\left(5 x^{2} - 3\\right)$"
      ],
      "text/plain": [
       "<IPython.core.display.Math object>"
      ]
     },
     "metadata": {},
     "output_type": "display_data"
    },
    {
     "data": {
      "text/latex": [
       "$\\displaystyle \\text{g non-edges: }4 x + 2 = 2 \\left(2 x + 1\\right)$"
      ],
      "text/plain": [
       "<IPython.core.display.Math object>"
      ]
     },
     "metadata": {},
     "output_type": "display_data"
    },
    {
     "data": {
      "text/latex": [
       "$\\displaystyle \\text{g non-edges w/ deg: }6 x + 2 = 2 \\left(3 x + 1\\right)$"
      ],
      "text/plain": [
       "<IPython.core.display.Math object>"
      ]
     },
     "metadata": {},
     "output_type": "display_data"
    },
    {
     "name": "stdout",
     "output_type": "stream",
     "text": [
      "\n"
     ]
    },
    {
     "data": {
      "text/latex": [
       "$\\displaystyle \\text{to 0: }x^{2} - 1 = \\left(x - 1\\right) \\left(x + 1\\right)$"
      ],
      "text/plain": [
       "<IPython.core.display.Math object>"
      ]
     },
     "metadata": {},
     "output_type": "display_data"
    },
    {
     "name": "stdout",
     "output_type": "stream",
     "text": [
      "\n"
     ]
    },
    {
     "data": {
      "text/latex": [
       "$\\displaystyle \\text{to 1: }x^{2} - 1 = \\left(x - 1\\right) \\left(x + 1\\right)$"
      ],
      "text/plain": [
       "<IPython.core.display.Math object>"
      ]
     },
     "metadata": {},
     "output_type": "display_data"
    },
    {
     "name": "stdout",
     "output_type": "stream",
     "text": [
      "\n"
     ]
    },
    {
     "data": {
      "text/latex": [
       "$\\displaystyle \\text{to 2: }2 x^{2} - 1$"
      ],
      "text/plain": [
       "<IPython.core.display.Math object>"
      ]
     },
     "metadata": {},
     "output_type": "display_data"
    },
    {
     "name": "stdout",
     "output_type": "stream",
     "text": [
      "\n"
     ]
    },
    {
     "data": {
      "text/latex": [
       "$\\displaystyle \\text{to 3: }2 x^{2} - 1$"
      ],
      "text/plain": [
       "<IPython.core.display.Math object>"
      ]
     },
     "metadata": {},
     "output_type": "display_data"
    },
    {
     "name": "stdout",
     "output_type": "stream",
     "text": [
      "\n"
     ]
    }
   ],
   "source": [
    "m=sum([deg(g,u) for u in range(g.shape[0])])\n",
    "x=sp.symbols(\"x\")\n",
    "poly=0\n",
    "for u in range(g.shape[0]):\n",
    "    s_u = sum([residual(g, g.charpoly(), x=x, v=e_(g.shape[0],u), w=e_(g.shape[0],v)) for v in range(g.shape[0])])\n",
    "    poly += (g.shape[0]*deg(g,u)-m)*s_u\n",
    "    #poly -= x*residual(g, g.charpoly(), x=x, v=e_(g.shape[0],u), w=e_(g.shape[0],u))\n",
    "#pretty_poly_print(poly,\"\")\n",
    "\n",
    "cp = g.charpoly(x=x).as_expr()\n",
    "#(sum([deg(g,u)*deg(g,v)*residual(g, g.charpoly(), x=x, v=e_(g.shape[0],u), w=e_(g.shape[0],v)) for u in range(g.shape[0]) for v in range(g.shape[0])])+(g.shape[0]*x+sum([deg(g,u) for u in range(g.shape[0])]))*cp).expand()\n",
    "pretty_poly_print((sum([residual(g, g.charpoly(), x=x, v=e_(g.shape[0],u), w=e_(g.shape[0],v)) for u in range(g.shape[0]) for v in range(g.shape[0]) if g[u,v] == 1])).expand(),\"g edges\")\n",
    "pretty_poly_print((sum([deg(g,u)*residual(g, g.charpoly(), x=x, v=e_(g.shape[0],u), w=e_(g.shape[0],v)) for u in range(g.shape[0]) for v in range(g.shape[0]) if g[u,v] == 1])).expand(),\"g edges w/ deg\")\n",
    "pretty_poly_print((sum([residual(g, g.charpoly(), x=x, v=e_(g.shape[0],u), w=e_(g.shape[0],v)) for u in range(g.shape[0]) for v in range(g.shape[0]) if g[u,v] == 0 and u != v])).expand(),\"g non-edges\")\n",
    "pretty_poly_print((sum([deg(g,u)*residual(g, g.charpoly(), x=x, v=e_(g.shape[0],u), w=e_(g.shape[0],v)) for u in range(g.shape[0]) for v in range(g.shape[0]) if g[u,v] == 0 and u != v])).expand(),\"g non-edges w/ deg\")\n",
    "print()\n",
    "for u in range(g.shape[0]):\n",
    "    p1 = (sum([residual(g, g.charpoly(), x=x, v=e_(g.shape[0],u), w=e_(g.shape[0],v)) for v in range(g.shape[0]) if g[u,v] == 1]))\n",
    "    #p3 = (sum([residual(g, g.charpoly(), x=x, v=e_(g.shape[0],u), w=e_(g.shape[0],v)) for v in range(g.shape[0]) if g[u,v] == 0 and u != v]))\n",
    "    #p2 = (sum([deg(g,v) * residual(g, g.charpoly(), x=x, v=e_(g.shape[0],u), w=e_(g.shape[0],v)) for v in range(g.shape[0]) if g[u,v] == 1]))\n",
    "    #p4 = (sum([deg(g,v) * residual(g, g.charpoly(), x=x, v=e_(g.shape[0],u), w=e_(g.shape[0],v)) for v in range(g.shape[0]) if g[u,v] == 0 and u != v]))\n",
    "    pretty_poly_print(p1*x**0,f\"to {u}\")\n",
    "    #pretty_poly_print(p2*x**0,f\"to {u} edges with deg\")\n",
    "    #pretty_poly_print(p3*x**0,f\"to {u} non-edges\")\n",
    "    #pretty_poly_print(p4*x**0,f\"to {u} non-edges with deg\")\n",
    "    \n",
    "    print()\n"
   ]
  },
  {
   "cell_type": "code",
   "execution_count": 54,
   "metadata": {},
   "outputs": [
    {
     "data": {
      "text/latex": [
       "$\\displaystyle \\text{walk count sequence: 0, 1, 4, 11, 50, 157}, \\ldots$"
      ],
      "text/plain": [
       "<IPython.core.display.Math object>"
      ]
     },
     "metadata": {},
     "output_type": "display_data"
    },
    {
     "data": {
      "text/latex": [
       "$\\displaystyle \\text{average degree: }3.333333$"
      ],
      "text/plain": [
       "<IPython.core.display.Math object>"
      ]
     },
     "metadata": {},
     "output_type": "display_data"
    },
    {
     "data": {
      "text/latex": [
       "$\\displaystyle \\text{characteristic polynomial: }x^{6} - 10 x^{4} - 12 x^{3} + x^{2} + 4 x = x \\left(x + 1\\right)^{2} \\left(x^{3} - 2 x^{2} - 7 x + 4\\right)$"
      ],
      "text/plain": [
       "<IPython.core.display.Math object>"
      ]
     },
     "metadata": {},
     "output_type": "display_data"
    },
    {
     "data": {
      "text/latex": [
       "$\\displaystyle \\text{local characteristic residual: }x^{4} + 4 x^{3} + x^{2} - 2 x = x \\left(x + 1\\right) \\left(x^{2} + 3 x - 2\\right)$"
      ],
      "text/plain": [
       "<IPython.core.display.Math object>"
      ]
     },
     "metadata": {},
     "output_type": "display_data"
    },
    {
     "data": {
      "text/latex": [
       "$\\displaystyle \\text{local recurrence polynomial: }x^{4} - x^{3} - 9 x^{2} - 3 x + 4 = \\left(x + 1\\right) \\left(x^{3} - 2 x^{2} - 7 x + 4\\right)$"
      ],
      "text/plain": [
       "<IPython.core.display.Math object>"
      ]
     },
     "metadata": {},
     "output_type": "display_data"
    },
    {
     "data": {
      "image/png": "[encoded data removed]",
      "text/plain": [
       "<Figure size 432x288 with 1 Axes>"
      ]
     },
     "metadata": {},
     "output_type": "display_data"
    }
   ],
   "source": [
    "analyze_uv(g,0,2,draw_method=nx.draw_networkx)"
   ]
  },
  {
   "cell_type": "code",
   "execution_count": 127,
   "metadata": {},
   "outputs": [
    {
     "name": "stdout",
     "output_type": "stream",
     "text": [
      "[1, 0, 3, 4, 16, 34, 103, 250, 698, 1778, 4811, 12504, 33384, 87538, 232331, 611630, 1618978, 4269722, 11288319, 29794692, 78728608, 207874306, 549146015, 1450199554, 3830598106, 10116701250, 26721200195, 70573709232, 186401812744, 492315756210, 1300308710307]\n"
     ]
    },
    {
     "data": {
      "text/latex": [
       "$\\displaystyle x^{5} - 6 x^{3} - 4 x^{2} + 3 x + 2$"
      ],
      "text/plain": [
       "x**5 - 6*x**3 - 4*x**2 + 3*x + 2"
      ]
     },
     "execution_count": 127,
     "metadata": {},
     "output_type": "execute_result"
    }
   ],
   "source": [
    "walks = generate_walk_count(g, 30, v=e_(g.shape[0],0), w=e_(g.shape[0],0))\n",
    "print(walks)\n",
    "x=sp.symbols(\"x\")\n",
    "k=0\n",
    "q = sum([walks[i]*x**(k-i) for i in range(k+1)])\n",
    "(g.charpoly(x=x)*q).as_expr().expand()"
   ]
  },
  {
   "cell_type": "code",
   "execution_count": 78,
   "metadata": {},
   "outputs": [
    {
     "data": {
      "text/latex": [
       "$\\displaystyle 12676 x^{6} + 32778 x^{5} - 2040 x^{4} - 51682 x^{3} - 29540 x^{2} = 2 x^{2} \\left(x + 1\\right) \\left(6338 x^{3} + 10051 x^{2} - 11071 x - 14770\\right)$"
      ],
      "text/plain": [
       "<IPython.core.display.Math object>"
      ]
     },
     "metadata": {},
     "output_type": "display_data"
    }
   ],
   "source": [
    "poly = 0*x**0\n",
    "n = g.shape[0]\n",
    "for u in range(g.shape[0]):\n",
    "    for v in range(g.shape[0]):\n",
    "        w = generate_walk_count(g, 10, v=e_(n, u), w=e_(n, v))[n+1]\n",
    "        poly += w*residual(g, g.charpoly(x=x), x=x, v=e_(n, u), w=e_(n, v))\n",
    "            \n",
    "pretty_poly_print(poly)"
   ]
  },
  {
   "cell_type": "code",
   "execution_count": 159,
   "metadata": {},
   "outputs": [
    {
     "data": {
      "text/latex": [
       "$\\displaystyle 2 \\left(7 x^{3} + 9 x^{2} - 6 x - 5\\right)$"
      ],
      "text/plain": [
       "2*(7*x**3 + 9*x**2 - 6*x - 5)"
      ]
     },
     "execution_count": 159,
     "metadata": {},
     "output_type": "execute_result"
    }
   ],
   "source": [
    "cp = g.charpoly(x=x).as_expr()\n",
    "(x*cp.diff()-g.shape[0]*cp).factor()"
   ]
  },
  {
   "cell_type": "code",
   "execution_count": null,
   "metadata": {},
   "outputs": [],
   "source": []
  }
 ],
 "metadata": {
  "kernelspec": {
   "display_name": "Python 3 (ipykernel)",
   "language": "python",
   "name": "python3"
  },
  "language_info": {
   "codemirror_mode": {
    "name": "ipython",
    "version": 3
   },
   "file_extension": ".py",
   "mimetype": "text/x-python",
   "name": "python",
   "nbconvert_exporter": "python",
   "pygments_lexer": "ipython3",
   "version": "3.9.7"
  }
 },
 "nbformat": 4,
 "nbformat_minor": 2
}
